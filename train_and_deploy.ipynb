{
 "cells": [
  {
   "cell_type": "markdown",
   "metadata": {},
   "source": [
    "# Project 3: Dog Breed Classifier\n",
    "\n",
    "This project aims to train an image classification model with images of dogs belonging to 133 unique breeds. We will be using a pytorch model for this project."
   ]
  },
  {
   "cell_type": "code",
   "execution_count": 15,
   "metadata": {
    "scrolled": true,
    "tags": []
   },
   "outputs": [
    {
     "name": "stdout",
     "output_type": "stream",
     "text": [
      "\u001b[33mWARNING: The directory '/root/.cache/pip' or its parent directory is not owned or is not writable by the current user. The cache has been disabled. Check the permissions and owner of that directory. If executing pip with sudo, you should use sudo's -H flag.\u001b[0m\u001b[33m\n",
      "\u001b[0mRequirement already satisfied: pip in /opt/conda/lib/python3.7/site-packages (23.0.1)\n",
      "\u001b[33mWARNING: Running pip as the 'root' user can result in broken permissions and conflicting behaviour with the system package manager. It is recommended to use a virtual environment instead: https://pip.pypa.io/warnings/venv\u001b[0m\u001b[33m\n",
      "\u001b[0m\u001b[33mWARNING: The directory '/root/.cache/pip' or its parent directory is not owned or is not writable by the current user. The cache has been disabled. Check the permissions and owner of that directory. If executing pip with sudo, you should use sudo's -H flag.\u001b[0m\u001b[33m\n",
      "\u001b[0mRequirement already satisfied: smdebug in /opt/conda/lib/python3.7/site-packages (1.0.12)\n",
      "Requirement already satisfied: jinja2 in /opt/conda/lib/python3.7/site-packages (3.0.3)\n",
      "Collecting jinja2\n",
      "  Downloading Jinja2-3.1.2-py3-none-any.whl (133 kB)\n",
      "\u001b[2K     \u001b[90m━━━━━━━━━━━━━━━━━━━━━━━━━━━━━━━━━━━━━━━\u001b[0m \u001b[32m133.1/133.1 kB\u001b[0m \u001b[31m7.9 MB/s\u001b[0m eta \u001b[36m0:00:00\u001b[0m\n",
      "\u001b[?25hRequirement already satisfied: packaging in /opt/conda/lib/python3.7/site-packages (from smdebug) (20.1)\n",
      "Requirement already satisfied: pyinstrument==3.4.2 in /opt/conda/lib/python3.7/site-packages (from smdebug) (3.4.2)\n",
      "Requirement already satisfied: numpy>=1.16.0 in /opt/conda/lib/python3.7/site-packages (from smdebug) (1.21.6)\n",
      "Requirement already satisfied: boto3>=1.10.32 in /opt/conda/lib/python3.7/site-packages (from smdebug) (1.26.91)\n",
      "Requirement already satisfied: protobuf>=3.6.0 in /opt/conda/lib/python3.7/site-packages (from smdebug) (3.20.3)\n",
      "Requirement already satisfied: pyinstrument-cext>=0.2.2 in /opt/conda/lib/python3.7/site-packages (from pyinstrument==3.4.2->smdebug) (0.2.4)\n",
      "Requirement already satisfied: MarkupSafe>=2.0 in /opt/conda/lib/python3.7/site-packages (from jinja2) (2.1.2)\n",
      "Requirement already satisfied: s3transfer<0.7.0,>=0.6.0 in /opt/conda/lib/python3.7/site-packages (from boto3>=1.10.32->smdebug) (0.6.0)\n",
      "Requirement already satisfied: jmespath<2.0.0,>=0.7.1 in /opt/conda/lib/python3.7/site-packages (from boto3>=1.10.32->smdebug) (1.0.1)\n",
      "Requirement already satisfied: botocore<1.30.0,>=1.29.91 in /opt/conda/lib/python3.7/site-packages (from boto3>=1.10.32->smdebug) (1.29.91)\n",
      "Requirement already satisfied: pyparsing>=2.0.2 in /opt/conda/lib/python3.7/site-packages (from packaging->smdebug) (2.4.6)\n",
      "Requirement already satisfied: six in /opt/conda/lib/python3.7/site-packages (from packaging->smdebug) (1.14.0)\n",
      "Requirement already satisfied: urllib3<1.27,>=1.25.4 in /opt/conda/lib/python3.7/site-packages (from botocore<1.30.0,>=1.29.91->boto3>=1.10.32->smdebug) (1.26.15)\n",
      "Requirement already satisfied: python-dateutil<3.0.0,>=2.1 in /opt/conda/lib/python3.7/site-packages (from botocore<1.30.0,>=1.29.91->boto3>=1.10.32->smdebug) (2.8.2)\n",
      "Installing collected packages: jinja2\n",
      "  Attempting uninstall: jinja2\n",
      "    Found existing installation: Jinja2 3.0.3\n",
      "    Uninstalling Jinja2-3.0.3:\n",
      "      Successfully uninstalled Jinja2-3.0.3\n",
      "Successfully installed jinja2-3.1.2\n",
      "\u001b[33mWARNING: Running pip as the 'root' user can result in broken permissions and conflicting behaviour with the system package manager. It is recommended to use a virtual environment instead: https://pip.pypa.io/warnings/venv\u001b[0m\u001b[33m\n",
      "\u001b[0m\u001b[33mWARNING: The directory '/root/.cache/pip' or its parent directory is not owned or is not writable by the current user. The cache has been disabled. Check the permissions and owner of that directory. If executing pip with sudo, you should use sudo's -H flag.\u001b[0m\u001b[33m\n",
      "\u001b[0mRequirement already satisfied: torchvision in /opt/conda/lib/python3.7/site-packages (0.14.1)\n",
      "Requirement already satisfied: typing-extensions in /opt/conda/lib/python3.7/site-packages (from torchvision) (4.5.0)\n",
      "Requirement already satisfied: requests in /opt/conda/lib/python3.7/site-packages (from torchvision) (2.28.2)\n",
      "Requirement already satisfied: torch==1.13.1 in /opt/conda/lib/python3.7/site-packages (from torchvision) (1.13.1)\n",
      "Requirement already satisfied: numpy in /opt/conda/lib/python3.7/site-packages (from torchvision) (1.21.6)\n",
      "Requirement already satisfied: pillow!=8.3.*,>=5.3.0 in /opt/conda/lib/python3.7/site-packages (from torchvision) (9.4.0)\n",
      "Requirement already satisfied: nvidia-cublas-cu11==11.10.3.66 in /opt/conda/lib/python3.7/site-packages (from torch==1.13.1->torchvision) (11.10.3.66)\n",
      "Requirement already satisfied: nvidia-cuda-runtime-cu11==11.7.99 in /opt/conda/lib/python3.7/site-packages (from torch==1.13.1->torchvision) (11.7.99)\n",
      "Requirement already satisfied: nvidia-cuda-nvrtc-cu11==11.7.99 in /opt/conda/lib/python3.7/site-packages (from torch==1.13.1->torchvision) (11.7.99)\n",
      "Requirement already satisfied: nvidia-cudnn-cu11==8.5.0.96 in /opt/conda/lib/python3.7/site-packages (from torch==1.13.1->torchvision) (8.5.0.96)\n",
      "Requirement already satisfied: setuptools in /opt/conda/lib/python3.7/site-packages (from nvidia-cublas-cu11==11.10.3.66->torch==1.13.1->torchvision) (65.7.0)\n",
      "Requirement already satisfied: wheel in /opt/conda/lib/python3.7/site-packages (from nvidia-cublas-cu11==11.10.3.66->torch==1.13.1->torchvision) (0.40.0)\n",
      "Requirement already satisfied: idna<4,>=2.5 in /opt/conda/lib/python3.7/site-packages (from requests->torchvision) (2.8)\n",
      "Requirement already satisfied: certifi>=2017.4.17 in /opt/conda/lib/python3.7/site-packages (from requests->torchvision) (2022.12.7)\n",
      "Requirement already satisfied: charset-normalizer<4,>=2 in /opt/conda/lib/python3.7/site-packages (from requests->torchvision) (2.0.4)\n",
      "Requirement already satisfied: urllib3<1.27,>=1.21.1 in /opt/conda/lib/python3.7/site-packages (from requests->torchvision) (1.26.15)\n",
      "\u001b[33mWARNING: Running pip as the 'root' user can result in broken permissions and conflicting behaviour with the system package manager. It is recommended to use a virtual environment instead: https://pip.pypa.io/warnings/venv\u001b[0m\u001b[33m\n",
      "\u001b[0m\u001b[33mWARNING: The directory '/root/.cache/pip' or its parent directory is not owned or is not writable by the current user. The cache has been disabled. Check the permissions and owner of that directory. If executing pip with sudo, you should use sudo's -H flag.\u001b[0m\u001b[33m\n",
      "\u001b[0mCollecting jinja2==3.0.3\n",
      "  Downloading Jinja2-3.0.3-py3-none-any.whl (133 kB)\n",
      "\u001b[2K     \u001b[90m━━━━━━━━━━━━━━━━━━━━━━━━━━━━━━━━━━━━━━\u001b[0m \u001b[32m133.6/133.6 kB\u001b[0m \u001b[31m10.2 MB/s\u001b[0m eta \u001b[36m0:00:00\u001b[0m\n",
      "\u001b[?25hCollecting MarkupSafe>=2.0\n",
      "  Downloading MarkupSafe-2.1.2-cp37-cp37m-manylinux_2_17_x86_64.manylinux2014_x86_64.whl (25 kB)\n",
      "Installing collected packages: MarkupSafe, jinja2\n",
      "  Attempting uninstall: MarkupSafe\n",
      "    Found existing installation: MarkupSafe 2.1.2\n",
      "    Uninstalling MarkupSafe-2.1.2:\n",
      "      Successfully uninstalled MarkupSafe-2.1.2\n",
      "  Attempting uninstall: jinja2\n",
      "    Found existing installation: Jinja2 3.1.2\n",
      "    Uninstalling Jinja2-3.1.2:\n",
      "      Successfully uninstalled Jinja2-3.1.2\n",
      "Successfully installed MarkupSafe-2.1.2 jinja2-3.0.3\n",
      "\u001b[33mWARNING: Running pip as the 'root' user can result in broken permissions and conflicting behaviour with the system package manager. It is recommended to use a virtual environment instead: https://pip.pypa.io/warnings/venv\u001b[0m\u001b[33m\n",
      "\u001b[0m"
     ]
    }
   ],
   "source": [
    "# TODO: Install any packages that you might need\n",
    "# For instance, you will need the smdebug package\n",
    "!pip install --upgrade pip\n",
    "#!pip install smdebug\n",
    "!pip install -U smdebug jinja2\n",
    "!pip install torchvision\n",
    "!pip install jinja2==3.0.3 --force-reinstall"
   ]
  },
  {
   "cell_type": "code",
   "execution_count": 16,
   "metadata": {
    "tags": []
   },
   "outputs": [
    {
     "name": "stdout",
     "output_type": "stream",
     "text": [
      "[2023-03-20 07:11:24.482 datascience-1-0-ml-t3-medium-fbbacbd136ea35c00e5ce9203df8:102 INFO utils.py:27] RULE_JOB_STOP_SIGNAL_FILENAME: None\n"
     ]
    },
    {
     "data": {
      "application/javascript": [
       "\n",
       "(function(root) {\n",
       "  function now() {\n",
       "    return new Date();\n",
       "  }\n",
       "\n",
       "  var force = true;\n",
       "\n",
       "  if (typeof root._bokeh_onload_callbacks === \"undefined\" || force === true) {\n",
       "    root._bokeh_onload_callbacks = [];\n",
       "    root._bokeh_is_loading = undefined;\n",
       "  }\n",
       "\n",
       "  var JS_MIME_TYPE = 'application/javascript';\n",
       "  var HTML_MIME_TYPE = 'text/html';\n",
       "  var EXEC_MIME_TYPE = 'application/vnd.bokehjs_exec.v0+json';\n",
       "  var CLASS_NAME = 'output_bokeh rendered_html';\n",
       "\n",
       "  /**\n",
       "   * Render data to the DOM node\n",
       "   */\n",
       "  function render(props, node) {\n",
       "    var script = document.createElement(\"script\");\n",
       "    node.appendChild(script);\n",
       "  }\n",
       "\n",
       "  /**\n",
       "   * Handle when an output is cleared or removed\n",
       "   */\n",
       "  function handleClearOutput(event, handle) {\n",
       "    var cell = handle.cell;\n",
       "\n",
       "    var id = cell.output_area._bokeh_element_id;\n",
       "    var server_id = cell.output_area._bokeh_server_id;\n",
       "    // Clean up Bokeh references\n",
       "    if (id != null && id in Bokeh.index) {\n",
       "      Bokeh.index[id].model.document.clear();\n",
       "      delete Bokeh.index[id];\n",
       "    }\n",
       "\n",
       "    if (server_id !== undefined) {\n",
       "      // Clean up Bokeh references\n",
       "      var cmd = \"from bokeh.io.state import curstate; print(curstate().uuid_to_server['\" + server_id + \"'].get_sessions()[0].document.roots[0]._id)\";\n",
       "      cell.notebook.kernel.execute(cmd, {\n",
       "        iopub: {\n",
       "          output: function(msg) {\n",
       "            var id = msg.content.text.trim();\n",
       "            if (id in Bokeh.index) {\n",
       "              Bokeh.index[id].model.document.clear();\n",
       "              delete Bokeh.index[id];\n",
       "            }\n",
       "          }\n",
       "        }\n",
       "      });\n",
       "      // Destroy server and session\n",
       "      var cmd = \"import bokeh.io.notebook as ion; ion.destroy_server('\" + server_id + \"')\";\n",
       "      cell.notebook.kernel.execute(cmd);\n",
       "    }\n",
       "  }\n",
       "\n",
       "  /**\n",
       "   * Handle when a new output is added\n",
       "   */\n",
       "  function handleAddOutput(event, handle) {\n",
       "    var output_area = handle.output_area;\n",
       "    var output = handle.output;\n",
       "\n",
       "    // limit handleAddOutput to display_data with EXEC_MIME_TYPE content only\n",
       "    if ((output.output_type != \"display_data\") || (!output.data.hasOwnProperty(EXEC_MIME_TYPE))) {\n",
       "      return\n",
       "    }\n",
       "\n",
       "    var toinsert = output_area.element.find(\".\" + CLASS_NAME.split(' ')[0]);\n",
       "\n",
       "    if (output.metadata[EXEC_MIME_TYPE][\"id\"] !== undefined) {\n",
       "      toinsert[toinsert.length - 1].firstChild.textContent = output.data[JS_MIME_TYPE];\n",
       "      // store reference to embed id on output_area\n",
       "      output_area._bokeh_element_id = output.metadata[EXEC_MIME_TYPE][\"id\"];\n",
       "    }\n",
       "    if (output.metadata[EXEC_MIME_TYPE][\"server_id\"] !== undefined) {\n",
       "      var bk_div = document.createElement(\"div\");\n",
       "      bk_div.innerHTML = output.data[HTML_MIME_TYPE];\n",
       "      var script_attrs = bk_div.children[0].attributes;\n",
       "      for (var i = 0; i < script_attrs.length; i++) {\n",
       "        toinsert[toinsert.length - 1].firstChild.setAttribute(script_attrs[i].name, script_attrs[i].value);\n",
       "      }\n",
       "      // store reference to server id on output_area\n",
       "      output_area._bokeh_server_id = output.metadata[EXEC_MIME_TYPE][\"server_id\"];\n",
       "    }\n",
       "  }\n",
       "\n",
       "  function register_renderer(events, OutputArea) {\n",
       "\n",
       "    function append_mime(data, metadata, element) {\n",
       "      // create a DOM node to render to\n",
       "      var toinsert = this.create_output_subarea(\n",
       "        metadata,\n",
       "        CLASS_NAME,\n",
       "        EXEC_MIME_TYPE\n",
       "      );\n",
       "      this.keyboard_manager.register_events(toinsert);\n",
       "      // Render to node\n",
       "      var props = {data: data, metadata: metadata[EXEC_MIME_TYPE]};\n",
       "      render(props, toinsert[toinsert.length - 1]);\n",
       "      element.append(toinsert);\n",
       "      return toinsert\n",
       "    }\n",
       "\n",
       "    /* Handle when an output is cleared or removed */\n",
       "    events.on('clear_output.CodeCell', handleClearOutput);\n",
       "    events.on('delete.Cell', handleClearOutput);\n",
       "\n",
       "    /* Handle when a new output is added */\n",
       "    events.on('output_added.OutputArea', handleAddOutput);\n",
       "\n",
       "    /**\n",
       "     * Register the mime type and append_mime function with output_area\n",
       "     */\n",
       "    OutputArea.prototype.register_mime_type(EXEC_MIME_TYPE, append_mime, {\n",
       "      /* Is output safe? */\n",
       "      safe: true,\n",
       "      /* Index of renderer in `output_area.display_order` */\n",
       "      index: 0\n",
       "    });\n",
       "  }\n",
       "\n",
       "  // register the mime type if in Jupyter Notebook environment and previously unregistered\n",
       "  if (root.Jupyter !== undefined) {\n",
       "    var events = require('base/js/events');\n",
       "    var OutputArea = require('notebook/js/outputarea').OutputArea;\n",
       "\n",
       "    if (OutputArea.prototype.mime_types().indexOf(EXEC_MIME_TYPE) == -1) {\n",
       "      register_renderer(events, OutputArea);\n",
       "    }\n",
       "  }\n",
       "\n",
       "  \n",
       "  if (typeof (root._bokeh_timeout) === \"undefined\" || force === true) {\n",
       "    root._bokeh_timeout = Date.now() + 5000;\n",
       "    root._bokeh_failed_load = false;\n",
       "  }\n",
       "\n",
       "  var NB_LOAD_WARNING = {'data': {'text/html':\n",
       "     \"<div style='background-color: #fdd'>\\n\"+\n",
       "     \"<p>\\n\"+\n",
       "     \"BokehJS does not appear to have successfully loaded. If loading BokehJS from CDN, this \\n\"+\n",
       "     \"may be due to a slow or bad network connection. Possible fixes:\\n\"+\n",
       "     \"</p>\\n\"+\n",
       "     \"<ul>\\n\"+\n",
       "     \"<li>re-rerun `output_notebook()` to attempt to load from CDN again, or</li>\\n\"+\n",
       "     \"<li>use INLINE resources instead, as so:</li>\\n\"+\n",
       "     \"</ul>\\n\"+\n",
       "     \"<code>\\n\"+\n",
       "     \"from bokeh.resources import INLINE\\n\"+\n",
       "     \"output_notebook(resources=INLINE)\\n\"+\n",
       "     \"</code>\\n\"+\n",
       "     \"</div>\"}};\n",
       "\n",
       "  function display_loaded() {\n",
       "    var el = document.getElementById(null);\n",
       "    if (el != null) {\n",
       "      el.textContent = \"BokehJS is loading...\";\n",
       "    }\n",
       "    if (root.Bokeh !== undefined) {\n",
       "      if (el != null) {\n",
       "        el.textContent = \"BokehJS \" + root.Bokeh.version + \" successfully loaded.\";\n",
       "      }\n",
       "    } else if (Date.now() < root._bokeh_timeout) {\n",
       "      setTimeout(display_loaded, 100)\n",
       "    }\n",
       "  }\n",
       "\n",
       "\n",
       "  function run_callbacks() {\n",
       "    try {\n",
       "      root._bokeh_onload_callbacks.forEach(function(callback) {\n",
       "        if (callback != null)\n",
       "          callback();\n",
       "      });\n",
       "    } finally {\n",
       "      delete root._bokeh_onload_callbacks\n",
       "    }\n",
       "    console.debug(\"Bokeh: all callbacks have finished\");\n",
       "  }\n",
       "\n",
       "  function load_libs(css_urls, js_urls, callback) {\n",
       "    if (css_urls == null) css_urls = [];\n",
       "    if (js_urls == null) js_urls = [];\n",
       "\n",
       "    root._bokeh_onload_callbacks.push(callback);\n",
       "    if (root._bokeh_is_loading > 0) {\n",
       "      console.debug(\"Bokeh: BokehJS is being loaded, scheduling callback at\", now());\n",
       "      return null;\n",
       "    }\n",
       "    if (js_urls == null || js_urls.length === 0) {\n",
       "      run_callbacks();\n",
       "      return null;\n",
       "    }\n",
       "    console.debug(\"Bokeh: BokehJS not loaded, scheduling load and callback at\", now());\n",
       "    root._bokeh_is_loading = css_urls.length + js_urls.length;\n",
       "\n",
       "    function on_load() {\n",
       "      root._bokeh_is_loading--;\n",
       "      if (root._bokeh_is_loading === 0) {\n",
       "        console.debug(\"Bokeh: all BokehJS libraries/stylesheets loaded\");\n",
       "        run_callbacks()\n",
       "      }\n",
       "    }\n",
       "\n",
       "    function on_error() {\n",
       "      console.error(\"failed to load \" + url);\n",
       "    }\n",
       "\n",
       "    for (var i = 0; i < css_urls.length; i++) {\n",
       "      var url = css_urls[i];\n",
       "      const element = document.createElement(\"link\");\n",
       "      element.onload = on_load;\n",
       "      element.onerror = on_error;\n",
       "      element.rel = \"stylesheet\";\n",
       "      element.type = \"text/css\";\n",
       "      element.href = url;\n",
       "      console.debug(\"Bokeh: injecting link tag for BokehJS stylesheet: \", url);\n",
       "      document.body.appendChild(element);\n",
       "    }\n",
       "\n",
       "    for (var i = 0; i < js_urls.length; i++) {\n",
       "      var url = js_urls[i];\n",
       "      var element = document.createElement('script');\n",
       "      element.onload = on_load;\n",
       "      element.onerror = on_error;\n",
       "      element.async = false;\n",
       "      element.src = url;\n",
       "      console.debug(\"Bokeh: injecting script tag for BokehJS library: \", url);\n",
       "      document.head.appendChild(element);\n",
       "    }\n",
       "  };\n",
       "\n",
       "  function inject_raw_css(css) {\n",
       "    const element = document.createElement(\"style\");\n",
       "    element.appendChild(document.createTextNode(css));\n",
       "    document.body.appendChild(element);\n",
       "  }\n",
       "\n",
       "  \n",
       "  var js_urls = [\"https://cdn.pydata.org/bokeh/release/bokeh-1.4.0.min.js\", \"https://cdn.pydata.org/bokeh/release/bokeh-widgets-1.4.0.min.js\", \"https://cdn.pydata.org/bokeh/release/bokeh-tables-1.4.0.min.js\", \"https://cdn.pydata.org/bokeh/release/bokeh-gl-1.4.0.min.js\"];\n",
       "  var css_urls = [];\n",
       "  \n",
       "\n",
       "  var inline_js = [\n",
       "    function(Bokeh) {\n",
       "      Bokeh.set_log_level(\"info\");\n",
       "    },\n",
       "    function(Bokeh) {\n",
       "    \n",
       "    \n",
       "    }\n",
       "  ];\n",
       "\n",
       "  function run_inline_js() {\n",
       "    \n",
       "    if (root.Bokeh !== undefined || force === true) {\n",
       "      \n",
       "    for (var i = 0; i < inline_js.length; i++) {\n",
       "      inline_js[i].call(root, root.Bokeh);\n",
       "    }\n",
       "    } else if (Date.now() < root._bokeh_timeout) {\n",
       "      setTimeout(run_inline_js, 100);\n",
       "    } else if (!root._bokeh_failed_load) {\n",
       "      console.log(\"Bokeh: BokehJS failed to load within specified timeout.\");\n",
       "      root._bokeh_failed_load = true;\n",
       "    } else if (force !== true) {\n",
       "      var cell = $(document.getElementById(null)).parents('.cell').data().cell;\n",
       "      cell.output_area.append_execute_result(NB_LOAD_WARNING)\n",
       "    }\n",
       "\n",
       "  }\n",
       "\n",
       "  if (root._bokeh_is_loading === 0) {\n",
       "    console.debug(\"Bokeh: BokehJS loaded, going straight to plotting\");\n",
       "    run_inline_js();\n",
       "  } else {\n",
       "    load_libs(css_urls, js_urls, function() {\n",
       "      console.debug(\"Bokeh: BokehJS plotting callback run at\", now());\n",
       "      run_inline_js();\n",
       "    });\n",
       "  }\n",
       "}(window));"
      ],
      "application/vnd.bokehjs_load.v0+json": "\n(function(root) {\n  function now() {\n    return new Date();\n  }\n\n  var force = true;\n\n  if (typeof root._bokeh_onload_callbacks === \"undefined\" || force === true) {\n    root._bokeh_onload_callbacks = [];\n    root._bokeh_is_loading = undefined;\n  }\n\n  \n\n  \n  if (typeof (root._bokeh_timeout) === \"undefined\" || force === true) {\n    root._bokeh_timeout = Date.now() + 5000;\n    root._bokeh_failed_load = false;\n  }\n\n  var NB_LOAD_WARNING = {'data': {'text/html':\n     \"<div style='background-color: #fdd'>\\n\"+\n     \"<p>\\n\"+\n     \"BokehJS does not appear to have successfully loaded. If loading BokehJS from CDN, this \\n\"+\n     \"may be due to a slow or bad network connection. Possible fixes:\\n\"+\n     \"</p>\\n\"+\n     \"<ul>\\n\"+\n     \"<li>re-rerun `output_notebook()` to attempt to load from CDN again, or</li>\\n\"+\n     \"<li>use INLINE resources instead, as so:</li>\\n\"+\n     \"</ul>\\n\"+\n     \"<code>\\n\"+\n     \"from bokeh.resources import INLINE\\n\"+\n     \"output_notebook(resources=INLINE)\\n\"+\n     \"</code>\\n\"+\n     \"</div>\"}};\n\n  function display_loaded() {\n    var el = document.getElementById(null);\n    if (el != null) {\n      el.textContent = \"BokehJS is loading...\";\n    }\n    if (root.Bokeh !== undefined) {\n      if (el != null) {\n        el.textContent = \"BokehJS \" + root.Bokeh.version + \" successfully loaded.\";\n      }\n    } else if (Date.now() < root._bokeh_timeout) {\n      setTimeout(display_loaded, 100)\n    }\n  }\n\n\n  function run_callbacks() {\n    try {\n      root._bokeh_onload_callbacks.forEach(function(callback) {\n        if (callback != null)\n          callback();\n      });\n    } finally {\n      delete root._bokeh_onload_callbacks\n    }\n    console.debug(\"Bokeh: all callbacks have finished\");\n  }\n\n  function load_libs(css_urls, js_urls, callback) {\n    if (css_urls == null) css_urls = [];\n    if (js_urls == null) js_urls = [];\n\n    root._bokeh_onload_callbacks.push(callback);\n    if (root._bokeh_is_loading > 0) {\n      console.debug(\"Bokeh: BokehJS is being loaded, scheduling callback at\", now());\n      return null;\n    }\n    if (js_urls == null || js_urls.length === 0) {\n      run_callbacks();\n      return null;\n    }\n    console.debug(\"Bokeh: BokehJS not loaded, scheduling load and callback at\", now());\n    root._bokeh_is_loading = css_urls.length + js_urls.length;\n\n    function on_load() {\n      root._bokeh_is_loading--;\n      if (root._bokeh_is_loading === 0) {\n        console.debug(\"Bokeh: all BokehJS libraries/stylesheets loaded\");\n        run_callbacks()\n      }\n    }\n\n    function on_error() {\n      console.error(\"failed to load \" + url);\n    }\n\n    for (var i = 0; i < css_urls.length; i++) {\n      var url = css_urls[i];\n      const element = document.createElement(\"link\");\n      element.onload = on_load;\n      element.onerror = on_error;\n      element.rel = \"stylesheet\";\n      element.type = \"text/css\";\n      element.href = url;\n      console.debug(\"Bokeh: injecting link tag for BokehJS stylesheet: \", url);\n      document.body.appendChild(element);\n    }\n\n    for (var i = 0; i < js_urls.length; i++) {\n      var url = js_urls[i];\n      var element = document.createElement('script');\n      element.onload = on_load;\n      element.onerror = on_error;\n      element.async = false;\n      element.src = url;\n      console.debug(\"Bokeh: injecting script tag for BokehJS library: \", url);\n      document.head.appendChild(element);\n    }\n  };\n\n  function inject_raw_css(css) {\n    const element = document.createElement(\"style\");\n    element.appendChild(document.createTextNode(css));\n    document.body.appendChild(element);\n  }\n\n  \n  var js_urls = [\"https://cdn.pydata.org/bokeh/release/bokeh-1.4.0.min.js\", \"https://cdn.pydata.org/bokeh/release/bokeh-widgets-1.4.0.min.js\", \"https://cdn.pydata.org/bokeh/release/bokeh-tables-1.4.0.min.js\", \"https://cdn.pydata.org/bokeh/release/bokeh-gl-1.4.0.min.js\"];\n  var css_urls = [];\n  \n\n  var inline_js = [\n    function(Bokeh) {\n      Bokeh.set_log_level(\"info\");\n    },\n    function(Bokeh) {\n    \n    \n    }\n  ];\n\n  function run_inline_js() {\n    \n    if (root.Bokeh !== undefined || force === true) {\n      \n    for (var i = 0; i < inline_js.length; i++) {\n      inline_js[i].call(root, root.Bokeh);\n    }\n    } else if (Date.now() < root._bokeh_timeout) {\n      setTimeout(run_inline_js, 100);\n    } else if (!root._bokeh_failed_load) {\n      console.log(\"Bokeh: BokehJS failed to load within specified timeout.\");\n      root._bokeh_failed_load = true;\n    } else if (force !== true) {\n      var cell = $(document.getElementById(null)).parents('.cell').data().cell;\n      cell.output_area.append_execute_result(NB_LOAD_WARNING)\n    }\n\n  }\n\n  if (root._bokeh_is_loading === 0) {\n    console.debug(\"Bokeh: BokehJS loaded, going straight to plotting\");\n    run_inline_js();\n  } else {\n    load_libs(css_urls, js_urls, function() {\n      console.debug(\"Bokeh: BokehJS plotting callback run at\", now());\n      run_inline_js();\n    });\n  }\n}(window));"
     },
     "metadata": {},
     "output_type": "display_data"
    },
    {
     "data": {
      "application/javascript": [
       "\n",
       "(function(root) {\n",
       "  function now() {\n",
       "    return new Date();\n",
       "  }\n",
       "\n",
       "  var force = true;\n",
       "\n",
       "  if (typeof root._bokeh_onload_callbacks === \"undefined\" || force === true) {\n",
       "    root._bokeh_onload_callbacks = [];\n",
       "    root._bokeh_is_loading = undefined;\n",
       "  }\n",
       "\n",
       "  var JS_MIME_TYPE = 'application/javascript';\n",
       "  var HTML_MIME_TYPE = 'text/html';\n",
       "  var EXEC_MIME_TYPE = 'application/vnd.bokehjs_exec.v0+json';\n",
       "  var CLASS_NAME = 'output_bokeh rendered_html';\n",
       "\n",
       "  /**\n",
       "   * Render data to the DOM node\n",
       "   */\n",
       "  function render(props, node) {\n",
       "    var script = document.createElement(\"script\");\n",
       "    node.appendChild(script);\n",
       "  }\n",
       "\n",
       "  /**\n",
       "   * Handle when an output is cleared or removed\n",
       "   */\n",
       "  function handleClearOutput(event, handle) {\n",
       "    var cell = handle.cell;\n",
       "\n",
       "    var id = cell.output_area._bokeh_element_id;\n",
       "    var server_id = cell.output_area._bokeh_server_id;\n",
       "    // Clean up Bokeh references\n",
       "    if (id != null && id in Bokeh.index) {\n",
       "      Bokeh.index[id].model.document.clear();\n",
       "      delete Bokeh.index[id];\n",
       "    }\n",
       "\n",
       "    if (server_id !== undefined) {\n",
       "      // Clean up Bokeh references\n",
       "      var cmd = \"from bokeh.io.state import curstate; print(curstate().uuid_to_server['\" + server_id + \"'].get_sessions()[0].document.roots[0]._id)\";\n",
       "      cell.notebook.kernel.execute(cmd, {\n",
       "        iopub: {\n",
       "          output: function(msg) {\n",
       "            var id = msg.content.text.trim();\n",
       "            if (id in Bokeh.index) {\n",
       "              Bokeh.index[id].model.document.clear();\n",
       "              delete Bokeh.index[id];\n",
       "            }\n",
       "          }\n",
       "        }\n",
       "      });\n",
       "      // Destroy server and session\n",
       "      var cmd = \"import bokeh.io.notebook as ion; ion.destroy_server('\" + server_id + \"')\";\n",
       "      cell.notebook.kernel.execute(cmd);\n",
       "    }\n",
       "  }\n",
       "\n",
       "  /**\n",
       "   * Handle when a new output is added\n",
       "   */\n",
       "  function handleAddOutput(event, handle) {\n",
       "    var output_area = handle.output_area;\n",
       "    var output = handle.output;\n",
       "\n",
       "    // limit handleAddOutput to display_data with EXEC_MIME_TYPE content only\n",
       "    if ((output.output_type != \"display_data\") || (!output.data.hasOwnProperty(EXEC_MIME_TYPE))) {\n",
       "      return\n",
       "    }\n",
       "\n",
       "    var toinsert = output_area.element.find(\".\" + CLASS_NAME.split(' ')[0]);\n",
       "\n",
       "    if (output.metadata[EXEC_MIME_TYPE][\"id\"] !== undefined) {\n",
       "      toinsert[toinsert.length - 1].firstChild.textContent = output.data[JS_MIME_TYPE];\n",
       "      // store reference to embed id on output_area\n",
       "      output_area._bokeh_element_id = output.metadata[EXEC_MIME_TYPE][\"id\"];\n",
       "    }\n",
       "    if (output.metadata[EXEC_MIME_TYPE][\"server_id\"] !== undefined) {\n",
       "      var bk_div = document.createElement(\"div\");\n",
       "      bk_div.innerHTML = output.data[HTML_MIME_TYPE];\n",
       "      var script_attrs = bk_div.children[0].attributes;\n",
       "      for (var i = 0; i < script_attrs.length; i++) {\n",
       "        toinsert[toinsert.length - 1].firstChild.setAttribute(script_attrs[i].name, script_attrs[i].value);\n",
       "      }\n",
       "      // store reference to server id on output_area\n",
       "      output_area._bokeh_server_id = output.metadata[EXEC_MIME_TYPE][\"server_id\"];\n",
       "    }\n",
       "  }\n",
       "\n",
       "  function register_renderer(events, OutputArea) {\n",
       "\n",
       "    function append_mime(data, metadata, element) {\n",
       "      // create a DOM node to render to\n",
       "      var toinsert = this.create_output_subarea(\n",
       "        metadata,\n",
       "        CLASS_NAME,\n",
       "        EXEC_MIME_TYPE\n",
       "      );\n",
       "      this.keyboard_manager.register_events(toinsert);\n",
       "      // Render to node\n",
       "      var props = {data: data, metadata: metadata[EXEC_MIME_TYPE]};\n",
       "      render(props, toinsert[toinsert.length - 1]);\n",
       "      element.append(toinsert);\n",
       "      return toinsert\n",
       "    }\n",
       "\n",
       "    /* Handle when an output is cleared or removed */\n",
       "    events.on('clear_output.CodeCell', handleClearOutput);\n",
       "    events.on('delete.Cell', handleClearOutput);\n",
       "\n",
       "    /* Handle when a new output is added */\n",
       "    events.on('output_added.OutputArea', handleAddOutput);\n",
       "\n",
       "    /**\n",
       "     * Register the mime type and append_mime function with output_area\n",
       "     */\n",
       "    OutputArea.prototype.register_mime_type(EXEC_MIME_TYPE, append_mime, {\n",
       "      /* Is output safe? */\n",
       "      safe: true,\n",
       "      /* Index of renderer in `output_area.display_order` */\n",
       "      index: 0\n",
       "    });\n",
       "  }\n",
       "\n",
       "  // register the mime type if in Jupyter Notebook environment and previously unregistered\n",
       "  if (root.Jupyter !== undefined) {\n",
       "    var events = require('base/js/events');\n",
       "    var OutputArea = require('notebook/js/outputarea').OutputArea;\n",
       "\n",
       "    if (OutputArea.prototype.mime_types().indexOf(EXEC_MIME_TYPE) == -1) {\n",
       "      register_renderer(events, OutputArea);\n",
       "    }\n",
       "  }\n",
       "\n",
       "  \n",
       "  if (typeof (root._bokeh_timeout) === \"undefined\" || force === true) {\n",
       "    root._bokeh_timeout = Date.now() + 5000;\n",
       "    root._bokeh_failed_load = false;\n",
       "  }\n",
       "\n",
       "  var NB_LOAD_WARNING = {'data': {'text/html':\n",
       "     \"<div style='background-color: #fdd'>\\n\"+\n",
       "     \"<p>\\n\"+\n",
       "     \"BokehJS does not appear to have successfully loaded. If loading BokehJS from CDN, this \\n\"+\n",
       "     \"may be due to a slow or bad network connection. Possible fixes:\\n\"+\n",
       "     \"</p>\\n\"+\n",
       "     \"<ul>\\n\"+\n",
       "     \"<li>re-rerun `output_notebook()` to attempt to load from CDN again, or</li>\\n\"+\n",
       "     \"<li>use INLINE resources instead, as so:</li>\\n\"+\n",
       "     \"</ul>\\n\"+\n",
       "     \"<code>\\n\"+\n",
       "     \"from bokeh.resources import INLINE\\n\"+\n",
       "     \"output_notebook(resources=INLINE)\\n\"+\n",
       "     \"</code>\\n\"+\n",
       "     \"</div>\"}};\n",
       "\n",
       "  function display_loaded() {\n",
       "    var el = document.getElementById(null);\n",
       "    if (el != null) {\n",
       "      el.textContent = \"BokehJS is loading...\";\n",
       "    }\n",
       "    if (root.Bokeh !== undefined) {\n",
       "      if (el != null) {\n",
       "        el.textContent = \"BokehJS \" + root.Bokeh.version + \" successfully loaded.\";\n",
       "      }\n",
       "    } else if (Date.now() < root._bokeh_timeout) {\n",
       "      setTimeout(display_loaded, 100)\n",
       "    }\n",
       "  }\n",
       "\n",
       "\n",
       "  function run_callbacks() {\n",
       "    try {\n",
       "      root._bokeh_onload_callbacks.forEach(function(callback) {\n",
       "        if (callback != null)\n",
       "          callback();\n",
       "      });\n",
       "    } finally {\n",
       "      delete root._bokeh_onload_callbacks\n",
       "    }\n",
       "    console.debug(\"Bokeh: all callbacks have finished\");\n",
       "  }\n",
       "\n",
       "  function load_libs(css_urls, js_urls, callback) {\n",
       "    if (css_urls == null) css_urls = [];\n",
       "    if (js_urls == null) js_urls = [];\n",
       "\n",
       "    root._bokeh_onload_callbacks.push(callback);\n",
       "    if (root._bokeh_is_loading > 0) {\n",
       "      console.debug(\"Bokeh: BokehJS is being loaded, scheduling callback at\", now());\n",
       "      return null;\n",
       "    }\n",
       "    if (js_urls == null || js_urls.length === 0) {\n",
       "      run_callbacks();\n",
       "      return null;\n",
       "    }\n",
       "    console.debug(\"Bokeh: BokehJS not loaded, scheduling load and callback at\", now());\n",
       "    root._bokeh_is_loading = css_urls.length + js_urls.length;\n",
       "\n",
       "    function on_load() {\n",
       "      root._bokeh_is_loading--;\n",
       "      if (root._bokeh_is_loading === 0) {\n",
       "        console.debug(\"Bokeh: all BokehJS libraries/stylesheets loaded\");\n",
       "        run_callbacks()\n",
       "      }\n",
       "    }\n",
       "\n",
       "    function on_error() {\n",
       "      console.error(\"failed to load \" + url);\n",
       "    }\n",
       "\n",
       "    for (var i = 0; i < css_urls.length; i++) {\n",
       "      var url = css_urls[i];\n",
       "      const element = document.createElement(\"link\");\n",
       "      element.onload = on_load;\n",
       "      element.onerror = on_error;\n",
       "      element.rel = \"stylesheet\";\n",
       "      element.type = \"text/css\";\n",
       "      element.href = url;\n",
       "      console.debug(\"Bokeh: injecting link tag for BokehJS stylesheet: \", url);\n",
       "      document.body.appendChild(element);\n",
       "    }\n",
       "\n",
       "    for (var i = 0; i < js_urls.length; i++) {\n",
       "      var url = js_urls[i];\n",
       "      var element = document.createElement('script');\n",
       "      element.onload = on_load;\n",
       "      element.onerror = on_error;\n",
       "      element.async = false;\n",
       "      element.src = url;\n",
       "      console.debug(\"Bokeh: injecting script tag for BokehJS library: \", url);\n",
       "      document.head.appendChild(element);\n",
       "    }\n",
       "  };\n",
       "\n",
       "  function inject_raw_css(css) {\n",
       "    const element = document.createElement(\"style\");\n",
       "    element.appendChild(document.createTextNode(css));\n",
       "    document.body.appendChild(element);\n",
       "  }\n",
       "\n",
       "  \n",
       "  var js_urls = [\"https://cdn.pydata.org/bokeh/release/bokeh-1.4.0.min.js\", \"https://cdn.pydata.org/bokeh/release/bokeh-widgets-1.4.0.min.js\", \"https://cdn.pydata.org/bokeh/release/bokeh-tables-1.4.0.min.js\", \"https://cdn.pydata.org/bokeh/release/bokeh-gl-1.4.0.min.js\"];\n",
       "  var css_urls = [];\n",
       "  \n",
       "\n",
       "  var inline_js = [\n",
       "    function(Bokeh) {\n",
       "      Bokeh.set_log_level(\"info\");\n",
       "    },\n",
       "    function(Bokeh) {\n",
       "    \n",
       "    \n",
       "    }\n",
       "  ];\n",
       "\n",
       "  function run_inline_js() {\n",
       "    \n",
       "    if (root.Bokeh !== undefined || force === true) {\n",
       "      \n",
       "    for (var i = 0; i < inline_js.length; i++) {\n",
       "      inline_js[i].call(root, root.Bokeh);\n",
       "    }\n",
       "    } else if (Date.now() < root._bokeh_timeout) {\n",
       "      setTimeout(run_inline_js, 100);\n",
       "    } else if (!root._bokeh_failed_load) {\n",
       "      console.log(\"Bokeh: BokehJS failed to load within specified timeout.\");\n",
       "      root._bokeh_failed_load = true;\n",
       "    } else if (force !== true) {\n",
       "      var cell = $(document.getElementById(null)).parents('.cell').data().cell;\n",
       "      cell.output_area.append_execute_result(NB_LOAD_WARNING)\n",
       "    }\n",
       "\n",
       "  }\n",
       "\n",
       "  if (root._bokeh_is_loading === 0) {\n",
       "    console.debug(\"Bokeh: BokehJS loaded, going straight to plotting\");\n",
       "    run_inline_js();\n",
       "  } else {\n",
       "    load_libs(css_urls, js_urls, function() {\n",
       "      console.debug(\"Bokeh: BokehJS plotting callback run at\", now());\n",
       "      run_inline_js();\n",
       "    });\n",
       "  }\n",
       "}(window));"
      ],
      "application/vnd.bokehjs_load.v0+json": "\n(function(root) {\n  function now() {\n    return new Date();\n  }\n\n  var force = true;\n\n  if (typeof root._bokeh_onload_callbacks === \"undefined\" || force === true) {\n    root._bokeh_onload_callbacks = [];\n    root._bokeh_is_loading = undefined;\n  }\n\n  \n\n  \n  if (typeof (root._bokeh_timeout) === \"undefined\" || force === true) {\n    root._bokeh_timeout = Date.now() + 5000;\n    root._bokeh_failed_load = false;\n  }\n\n  var NB_LOAD_WARNING = {'data': {'text/html':\n     \"<div style='background-color: #fdd'>\\n\"+\n     \"<p>\\n\"+\n     \"BokehJS does not appear to have successfully loaded. If loading BokehJS from CDN, this \\n\"+\n     \"may be due to a slow or bad network connection. Possible fixes:\\n\"+\n     \"</p>\\n\"+\n     \"<ul>\\n\"+\n     \"<li>re-rerun `output_notebook()` to attempt to load from CDN again, or</li>\\n\"+\n     \"<li>use INLINE resources instead, as so:</li>\\n\"+\n     \"</ul>\\n\"+\n     \"<code>\\n\"+\n     \"from bokeh.resources import INLINE\\n\"+\n     \"output_notebook(resources=INLINE)\\n\"+\n     \"</code>\\n\"+\n     \"</div>\"}};\n\n  function display_loaded() {\n    var el = document.getElementById(null);\n    if (el != null) {\n      el.textContent = \"BokehJS is loading...\";\n    }\n    if (root.Bokeh !== undefined) {\n      if (el != null) {\n        el.textContent = \"BokehJS \" + root.Bokeh.version + \" successfully loaded.\";\n      }\n    } else if (Date.now() < root._bokeh_timeout) {\n      setTimeout(display_loaded, 100)\n    }\n  }\n\n\n  function run_callbacks() {\n    try {\n      root._bokeh_onload_callbacks.forEach(function(callback) {\n        if (callback != null)\n          callback();\n      });\n    } finally {\n      delete root._bokeh_onload_callbacks\n    }\n    console.debug(\"Bokeh: all callbacks have finished\");\n  }\n\n  function load_libs(css_urls, js_urls, callback) {\n    if (css_urls == null) css_urls = [];\n    if (js_urls == null) js_urls = [];\n\n    root._bokeh_onload_callbacks.push(callback);\n    if (root._bokeh_is_loading > 0) {\n      console.debug(\"Bokeh: BokehJS is being loaded, scheduling callback at\", now());\n      return null;\n    }\n    if (js_urls == null || js_urls.length === 0) {\n      run_callbacks();\n      return null;\n    }\n    console.debug(\"Bokeh: BokehJS not loaded, scheduling load and callback at\", now());\n    root._bokeh_is_loading = css_urls.length + js_urls.length;\n\n    function on_load() {\n      root._bokeh_is_loading--;\n      if (root._bokeh_is_loading === 0) {\n        console.debug(\"Bokeh: all BokehJS libraries/stylesheets loaded\");\n        run_callbacks()\n      }\n    }\n\n    function on_error() {\n      console.error(\"failed to load \" + url);\n    }\n\n    for (var i = 0; i < css_urls.length; i++) {\n      var url = css_urls[i];\n      const element = document.createElement(\"link\");\n      element.onload = on_load;\n      element.onerror = on_error;\n      element.rel = \"stylesheet\";\n      element.type = \"text/css\";\n      element.href = url;\n      console.debug(\"Bokeh: injecting link tag for BokehJS stylesheet: \", url);\n      document.body.appendChild(element);\n    }\n\n    for (var i = 0; i < js_urls.length; i++) {\n      var url = js_urls[i];\n      var element = document.createElement('script');\n      element.onload = on_load;\n      element.onerror = on_error;\n      element.async = false;\n      element.src = url;\n      console.debug(\"Bokeh: injecting script tag for BokehJS library: \", url);\n      document.head.appendChild(element);\n    }\n  };\n\n  function inject_raw_css(css) {\n    const element = document.createElement(\"style\");\n    element.appendChild(document.createTextNode(css));\n    document.body.appendChild(element);\n  }\n\n  \n  var js_urls = [\"https://cdn.pydata.org/bokeh/release/bokeh-1.4.0.min.js\", \"https://cdn.pydata.org/bokeh/release/bokeh-widgets-1.4.0.min.js\", \"https://cdn.pydata.org/bokeh/release/bokeh-tables-1.4.0.min.js\", \"https://cdn.pydata.org/bokeh/release/bokeh-gl-1.4.0.min.js\"];\n  var css_urls = [];\n  \n\n  var inline_js = [\n    function(Bokeh) {\n      Bokeh.set_log_level(\"info\");\n    },\n    function(Bokeh) {\n    \n    \n    }\n  ];\n\n  function run_inline_js() {\n    \n    if (root.Bokeh !== undefined || force === true) {\n      \n    for (var i = 0; i < inline_js.length; i++) {\n      inline_js[i].call(root, root.Bokeh);\n    }\n    } else if (Date.now() < root._bokeh_timeout) {\n      setTimeout(run_inline_js, 100);\n    } else if (!root._bokeh_failed_load) {\n      console.log(\"Bokeh: BokehJS failed to load within specified timeout.\");\n      root._bokeh_failed_load = true;\n    } else if (force !== true) {\n      var cell = $(document.getElementById(null)).parents('.cell').data().cell;\n      cell.output_area.append_execute_result(NB_LOAD_WARNING)\n    }\n\n  }\n\n  if (root._bokeh_is_loading === 0) {\n    console.debug(\"Bokeh: BokehJS loaded, going straight to plotting\");\n    run_inline_js();\n  } else {\n    load_libs(css_urls, js_urls, function() {\n      console.debug(\"Bokeh: BokehJS plotting callback run at\", now());\n      run_inline_js();\n    });\n  }\n}(window));"
     },
     "metadata": {},
     "output_type": "display_data"
    },
    {
     "data": {
      "application/javascript": [
       "\n",
       "(function(root) {\n",
       "  function now() {\n",
       "    return new Date();\n",
       "  }\n",
       "\n",
       "  var force = true;\n",
       "\n",
       "  if (typeof root._bokeh_onload_callbacks === \"undefined\" || force === true) {\n",
       "    root._bokeh_onload_callbacks = [];\n",
       "    root._bokeh_is_loading = undefined;\n",
       "  }\n",
       "\n",
       "  var JS_MIME_TYPE = 'application/javascript';\n",
       "  var HTML_MIME_TYPE = 'text/html';\n",
       "  var EXEC_MIME_TYPE = 'application/vnd.bokehjs_exec.v0+json';\n",
       "  var CLASS_NAME = 'output_bokeh rendered_html';\n",
       "\n",
       "  /**\n",
       "   * Render data to the DOM node\n",
       "   */\n",
       "  function render(props, node) {\n",
       "    var script = document.createElement(\"script\");\n",
       "    node.appendChild(script);\n",
       "  }\n",
       "\n",
       "  /**\n",
       "   * Handle when an output is cleared or removed\n",
       "   */\n",
       "  function handleClearOutput(event, handle) {\n",
       "    var cell = handle.cell;\n",
       "\n",
       "    var id = cell.output_area._bokeh_element_id;\n",
       "    var server_id = cell.output_area._bokeh_server_id;\n",
       "    // Clean up Bokeh references\n",
       "    if (id != null && id in Bokeh.index) {\n",
       "      Bokeh.index[id].model.document.clear();\n",
       "      delete Bokeh.index[id];\n",
       "    }\n",
       "\n",
       "    if (server_id !== undefined) {\n",
       "      // Clean up Bokeh references\n",
       "      var cmd = \"from bokeh.io.state import curstate; print(curstate().uuid_to_server['\" + server_id + \"'].get_sessions()[0].document.roots[0]._id)\";\n",
       "      cell.notebook.kernel.execute(cmd, {\n",
       "        iopub: {\n",
       "          output: function(msg) {\n",
       "            var id = msg.content.text.trim();\n",
       "            if (id in Bokeh.index) {\n",
       "              Bokeh.index[id].model.document.clear();\n",
       "              delete Bokeh.index[id];\n",
       "            }\n",
       "          }\n",
       "        }\n",
       "      });\n",
       "      // Destroy server and session\n",
       "      var cmd = \"import bokeh.io.notebook as ion; ion.destroy_server('\" + server_id + \"')\";\n",
       "      cell.notebook.kernel.execute(cmd);\n",
       "    }\n",
       "  }\n",
       "\n",
       "  /**\n",
       "   * Handle when a new output is added\n",
       "   */\n",
       "  function handleAddOutput(event, handle) {\n",
       "    var output_area = handle.output_area;\n",
       "    var output = handle.output;\n",
       "\n",
       "    // limit handleAddOutput to display_data with EXEC_MIME_TYPE content only\n",
       "    if ((output.output_type != \"display_data\") || (!output.data.hasOwnProperty(EXEC_MIME_TYPE))) {\n",
       "      return\n",
       "    }\n",
       "\n",
       "    var toinsert = output_area.element.find(\".\" + CLASS_NAME.split(' ')[0]);\n",
       "\n",
       "    if (output.metadata[EXEC_MIME_TYPE][\"id\"] !== undefined) {\n",
       "      toinsert[toinsert.length - 1].firstChild.textContent = output.data[JS_MIME_TYPE];\n",
       "      // store reference to embed id on output_area\n",
       "      output_area._bokeh_element_id = output.metadata[EXEC_MIME_TYPE][\"id\"];\n",
       "    }\n",
       "    if (output.metadata[EXEC_MIME_TYPE][\"server_id\"] !== undefined) {\n",
       "      var bk_div = document.createElement(\"div\");\n",
       "      bk_div.innerHTML = output.data[HTML_MIME_TYPE];\n",
       "      var script_attrs = bk_div.children[0].attributes;\n",
       "      for (var i = 0; i < script_attrs.length; i++) {\n",
       "        toinsert[toinsert.length - 1].firstChild.setAttribute(script_attrs[i].name, script_attrs[i].value);\n",
       "      }\n",
       "      // store reference to server id on output_area\n",
       "      output_area._bokeh_server_id = output.metadata[EXEC_MIME_TYPE][\"server_id\"];\n",
       "    }\n",
       "  }\n",
       "\n",
       "  function register_renderer(events, OutputArea) {\n",
       "\n",
       "    function append_mime(data, metadata, element) {\n",
       "      // create a DOM node to render to\n",
       "      var toinsert = this.create_output_subarea(\n",
       "        metadata,\n",
       "        CLASS_NAME,\n",
       "        EXEC_MIME_TYPE\n",
       "      );\n",
       "      this.keyboard_manager.register_events(toinsert);\n",
       "      // Render to node\n",
       "      var props = {data: data, metadata: metadata[EXEC_MIME_TYPE]};\n",
       "      render(props, toinsert[toinsert.length - 1]);\n",
       "      element.append(toinsert);\n",
       "      return toinsert\n",
       "    }\n",
       "\n",
       "    /* Handle when an output is cleared or removed */\n",
       "    events.on('clear_output.CodeCell', handleClearOutput);\n",
       "    events.on('delete.Cell', handleClearOutput);\n",
       "\n",
       "    /* Handle when a new output is added */\n",
       "    events.on('output_added.OutputArea', handleAddOutput);\n",
       "\n",
       "    /**\n",
       "     * Register the mime type and append_mime function with output_area\n",
       "     */\n",
       "    OutputArea.prototype.register_mime_type(EXEC_MIME_TYPE, append_mime, {\n",
       "      /* Is output safe? */\n",
       "      safe: true,\n",
       "      /* Index of renderer in `output_area.display_order` */\n",
       "      index: 0\n",
       "    });\n",
       "  }\n",
       "\n",
       "  // register the mime type if in Jupyter Notebook environment and previously unregistered\n",
       "  if (root.Jupyter !== undefined) {\n",
       "    var events = require('base/js/events');\n",
       "    var OutputArea = require('notebook/js/outputarea').OutputArea;\n",
       "\n",
       "    if (OutputArea.prototype.mime_types().indexOf(EXEC_MIME_TYPE) == -1) {\n",
       "      register_renderer(events, OutputArea);\n",
       "    }\n",
       "  }\n",
       "\n",
       "  \n",
       "  if (typeof (root._bokeh_timeout) === \"undefined\" || force === true) {\n",
       "    root._bokeh_timeout = Date.now() + 5000;\n",
       "    root._bokeh_failed_load = false;\n",
       "  }\n",
       "\n",
       "  var NB_LOAD_WARNING = {'data': {'text/html':\n",
       "     \"<div style='background-color: #fdd'>\\n\"+\n",
       "     \"<p>\\n\"+\n",
       "     \"BokehJS does not appear to have successfully loaded. If loading BokehJS from CDN, this \\n\"+\n",
       "     \"may be due to a slow or bad network connection. Possible fixes:\\n\"+\n",
       "     \"</p>\\n\"+\n",
       "     \"<ul>\\n\"+\n",
       "     \"<li>re-rerun `output_notebook()` to attempt to load from CDN again, or</li>\\n\"+\n",
       "     \"<li>use INLINE resources instead, as so:</li>\\n\"+\n",
       "     \"</ul>\\n\"+\n",
       "     \"<code>\\n\"+\n",
       "     \"from bokeh.resources import INLINE\\n\"+\n",
       "     \"output_notebook(resources=INLINE)\\n\"+\n",
       "     \"</code>\\n\"+\n",
       "     \"</div>\"}};\n",
       "\n",
       "  function display_loaded() {\n",
       "    var el = document.getElementById(null);\n",
       "    if (el != null) {\n",
       "      el.textContent = \"BokehJS is loading...\";\n",
       "    }\n",
       "    if (root.Bokeh !== undefined) {\n",
       "      if (el != null) {\n",
       "        el.textContent = \"BokehJS \" + root.Bokeh.version + \" successfully loaded.\";\n",
       "      }\n",
       "    } else if (Date.now() < root._bokeh_timeout) {\n",
       "      setTimeout(display_loaded, 100)\n",
       "    }\n",
       "  }\n",
       "\n",
       "\n",
       "  function run_callbacks() {\n",
       "    try {\n",
       "      root._bokeh_onload_callbacks.forEach(function(callback) {\n",
       "        if (callback != null)\n",
       "          callback();\n",
       "      });\n",
       "    } finally {\n",
       "      delete root._bokeh_onload_callbacks\n",
       "    }\n",
       "    console.debug(\"Bokeh: all callbacks have finished\");\n",
       "  }\n",
       "\n",
       "  function load_libs(css_urls, js_urls, callback) {\n",
       "    if (css_urls == null) css_urls = [];\n",
       "    if (js_urls == null) js_urls = [];\n",
       "\n",
       "    root._bokeh_onload_callbacks.push(callback);\n",
       "    if (root._bokeh_is_loading > 0) {\n",
       "      console.debug(\"Bokeh: BokehJS is being loaded, scheduling callback at\", now());\n",
       "      return null;\n",
       "    }\n",
       "    if (js_urls == null || js_urls.length === 0) {\n",
       "      run_callbacks();\n",
       "      return null;\n",
       "    }\n",
       "    console.debug(\"Bokeh: BokehJS not loaded, scheduling load and callback at\", now());\n",
       "    root._bokeh_is_loading = css_urls.length + js_urls.length;\n",
       "\n",
       "    function on_load() {\n",
       "      root._bokeh_is_loading--;\n",
       "      if (root._bokeh_is_loading === 0) {\n",
       "        console.debug(\"Bokeh: all BokehJS libraries/stylesheets loaded\");\n",
       "        run_callbacks()\n",
       "      }\n",
       "    }\n",
       "\n",
       "    function on_error() {\n",
       "      console.error(\"failed to load \" + url);\n",
       "    }\n",
       "\n",
       "    for (var i = 0; i < css_urls.length; i++) {\n",
       "      var url = css_urls[i];\n",
       "      const element = document.createElement(\"link\");\n",
       "      element.onload = on_load;\n",
       "      element.onerror = on_error;\n",
       "      element.rel = \"stylesheet\";\n",
       "      element.type = \"text/css\";\n",
       "      element.href = url;\n",
       "      console.debug(\"Bokeh: injecting link tag for BokehJS stylesheet: \", url);\n",
       "      document.body.appendChild(element);\n",
       "    }\n",
       "\n",
       "    for (var i = 0; i < js_urls.length; i++) {\n",
       "      var url = js_urls[i];\n",
       "      var element = document.createElement('script');\n",
       "      element.onload = on_load;\n",
       "      element.onerror = on_error;\n",
       "      element.async = false;\n",
       "      element.src = url;\n",
       "      console.debug(\"Bokeh: injecting script tag for BokehJS library: \", url);\n",
       "      document.head.appendChild(element);\n",
       "    }\n",
       "  };\n",
       "\n",
       "  function inject_raw_css(css) {\n",
       "    const element = document.createElement(\"style\");\n",
       "    element.appendChild(document.createTextNode(css));\n",
       "    document.body.appendChild(element);\n",
       "  }\n",
       "\n",
       "  \n",
       "  var js_urls = [\"https://cdn.pydata.org/bokeh/release/bokeh-1.4.0.min.js\", \"https://cdn.pydata.org/bokeh/release/bokeh-widgets-1.4.0.min.js\", \"https://cdn.pydata.org/bokeh/release/bokeh-tables-1.4.0.min.js\", \"https://cdn.pydata.org/bokeh/release/bokeh-gl-1.4.0.min.js\"];\n",
       "  var css_urls = [];\n",
       "  \n",
       "\n",
       "  var inline_js = [\n",
       "    function(Bokeh) {\n",
       "      Bokeh.set_log_level(\"info\");\n",
       "    },\n",
       "    function(Bokeh) {\n",
       "    \n",
       "    \n",
       "    }\n",
       "  ];\n",
       "\n",
       "  function run_inline_js() {\n",
       "    \n",
       "    if (root.Bokeh !== undefined || force === true) {\n",
       "      \n",
       "    for (var i = 0; i < inline_js.length; i++) {\n",
       "      inline_js[i].call(root, root.Bokeh);\n",
       "    }\n",
       "    } else if (Date.now() < root._bokeh_timeout) {\n",
       "      setTimeout(run_inline_js, 100);\n",
       "    } else if (!root._bokeh_failed_load) {\n",
       "      console.log(\"Bokeh: BokehJS failed to load within specified timeout.\");\n",
       "      root._bokeh_failed_load = true;\n",
       "    } else if (force !== true) {\n",
       "      var cell = $(document.getElementById(null)).parents('.cell').data().cell;\n",
       "      cell.output_area.append_execute_result(NB_LOAD_WARNING)\n",
       "    }\n",
       "\n",
       "  }\n",
       "\n",
       "  if (root._bokeh_is_loading === 0) {\n",
       "    console.debug(\"Bokeh: BokehJS loaded, going straight to plotting\");\n",
       "    run_inline_js();\n",
       "  } else {\n",
       "    load_libs(css_urls, js_urls, function() {\n",
       "      console.debug(\"Bokeh: BokehJS plotting callback run at\", now());\n",
       "      run_inline_js();\n",
       "    });\n",
       "  }\n",
       "}(window));"
      ],
      "application/vnd.bokehjs_load.v0+json": "\n(function(root) {\n  function now() {\n    return new Date();\n  }\n\n  var force = true;\n\n  if (typeof root._bokeh_onload_callbacks === \"undefined\" || force === true) {\n    root._bokeh_onload_callbacks = [];\n    root._bokeh_is_loading = undefined;\n  }\n\n  \n\n  \n  if (typeof (root._bokeh_timeout) === \"undefined\" || force === true) {\n    root._bokeh_timeout = Date.now() + 5000;\n    root._bokeh_failed_load = false;\n  }\n\n  var NB_LOAD_WARNING = {'data': {'text/html':\n     \"<div style='background-color: #fdd'>\\n\"+\n     \"<p>\\n\"+\n     \"BokehJS does not appear to have successfully loaded. If loading BokehJS from CDN, this \\n\"+\n     \"may be due to a slow or bad network connection. Possible fixes:\\n\"+\n     \"</p>\\n\"+\n     \"<ul>\\n\"+\n     \"<li>re-rerun `output_notebook()` to attempt to load from CDN again, or</li>\\n\"+\n     \"<li>use INLINE resources instead, as so:</li>\\n\"+\n     \"</ul>\\n\"+\n     \"<code>\\n\"+\n     \"from bokeh.resources import INLINE\\n\"+\n     \"output_notebook(resources=INLINE)\\n\"+\n     \"</code>\\n\"+\n     \"</div>\"}};\n\n  function display_loaded() {\n    var el = document.getElementById(null);\n    if (el != null) {\n      el.textContent = \"BokehJS is loading...\";\n    }\n    if (root.Bokeh !== undefined) {\n      if (el != null) {\n        el.textContent = \"BokehJS \" + root.Bokeh.version + \" successfully loaded.\";\n      }\n    } else if (Date.now() < root._bokeh_timeout) {\n      setTimeout(display_loaded, 100)\n    }\n  }\n\n\n  function run_callbacks() {\n    try {\n      root._bokeh_onload_callbacks.forEach(function(callback) {\n        if (callback != null)\n          callback();\n      });\n    } finally {\n      delete root._bokeh_onload_callbacks\n    }\n    console.debug(\"Bokeh: all callbacks have finished\");\n  }\n\n  function load_libs(css_urls, js_urls, callback) {\n    if (css_urls == null) css_urls = [];\n    if (js_urls == null) js_urls = [];\n\n    root._bokeh_onload_callbacks.push(callback);\n    if (root._bokeh_is_loading > 0) {\n      console.debug(\"Bokeh: BokehJS is being loaded, scheduling callback at\", now());\n      return null;\n    }\n    if (js_urls == null || js_urls.length === 0) {\n      run_callbacks();\n      return null;\n    }\n    console.debug(\"Bokeh: BokehJS not loaded, scheduling load and callback at\", now());\n    root._bokeh_is_loading = css_urls.length + js_urls.length;\n\n    function on_load() {\n      root._bokeh_is_loading--;\n      if (root._bokeh_is_loading === 0) {\n        console.debug(\"Bokeh: all BokehJS libraries/stylesheets loaded\");\n        run_callbacks()\n      }\n    }\n\n    function on_error() {\n      console.error(\"failed to load \" + url);\n    }\n\n    for (var i = 0; i < css_urls.length; i++) {\n      var url = css_urls[i];\n      const element = document.createElement(\"link\");\n      element.onload = on_load;\n      element.onerror = on_error;\n      element.rel = \"stylesheet\";\n      element.type = \"text/css\";\n      element.href = url;\n      console.debug(\"Bokeh: injecting link tag for BokehJS stylesheet: \", url);\n      document.body.appendChild(element);\n    }\n\n    for (var i = 0; i < js_urls.length; i++) {\n      var url = js_urls[i];\n      var element = document.createElement('script');\n      element.onload = on_load;\n      element.onerror = on_error;\n      element.async = false;\n      element.src = url;\n      console.debug(\"Bokeh: injecting script tag for BokehJS library: \", url);\n      document.head.appendChild(element);\n    }\n  };\n\n  function inject_raw_css(css) {\n    const element = document.createElement(\"style\");\n    element.appendChild(document.createTextNode(css));\n    document.body.appendChild(element);\n  }\n\n  \n  var js_urls = [\"https://cdn.pydata.org/bokeh/release/bokeh-1.4.0.min.js\", \"https://cdn.pydata.org/bokeh/release/bokeh-widgets-1.4.0.min.js\", \"https://cdn.pydata.org/bokeh/release/bokeh-tables-1.4.0.min.js\", \"https://cdn.pydata.org/bokeh/release/bokeh-gl-1.4.0.min.js\"];\n  var css_urls = [];\n  \n\n  var inline_js = [\n    function(Bokeh) {\n      Bokeh.set_log_level(\"info\");\n    },\n    function(Bokeh) {\n    \n    \n    }\n  ];\n\n  function run_inline_js() {\n    \n    if (root.Bokeh !== undefined || force === true) {\n      \n    for (var i = 0; i < inline_js.length; i++) {\n      inline_js[i].call(root, root.Bokeh);\n    }\n    } else if (Date.now() < root._bokeh_timeout) {\n      setTimeout(run_inline_js, 100);\n    } else if (!root._bokeh_failed_load) {\n      console.log(\"Bokeh: BokehJS failed to load within specified timeout.\");\n      root._bokeh_failed_load = true;\n    } else if (force !== true) {\n      var cell = $(document.getElementById(null)).parents('.cell').data().cell;\n      cell.output_area.append_execute_result(NB_LOAD_WARNING)\n    }\n\n  }\n\n  if (root._bokeh_is_loading === 0) {\n    console.debug(\"Bokeh: BokehJS loaded, going straight to plotting\");\n    run_inline_js();\n  } else {\n    load_libs(css_urls, js_urls, function() {\n      console.debug(\"Bokeh: BokehJS plotting callback run at\", now());\n      run_inline_js();\n    });\n  }\n}(window));"
     },
     "metadata": {},
     "output_type": "display_data"
    }
   ],
   "source": [
    "from smdebug.profiler.analysis.notebook_utils.training_job import TrainingJob\n",
    "from smdebug.profiler.analysis.notebook_utils.timeline_charts import TimelineCharts"
   ]
  },
  {
   "cell_type": "code",
   "execution_count": 3,
   "metadata": {
    "tags": []
   },
   "outputs": [],
   "source": [
    "# TODO: Import any packages that you might need\n",
    "# For instance you will need Boto3 and Sagemaker\n",
    "import sagemaker\n",
    "import boto3\n",
    "import numpy as np\n",
    "import pandas as pd"
   ]
  },
  {
   "cell_type": "markdown",
   "metadata": {},
   "source": [
    "## Dataset\n",
    "TODO: Explain what dataset you are using for this project. Maybe even give a small overview of the classes, class distributions etc that can help anyone not familiar with the dataset get a better understand of it."
   ]
  },
  {
   "cell_type": "code",
   "execution_count": 4,
   "metadata": {
    "tags": []
   },
   "outputs": [],
   "source": [
    "#TODO: Fetch and upload the data to AWS S3\n",
    "\n",
    "# Command to download and unzip data\n",
    "#!wget https://s3-us-west-1.amazonaws.com/udacity-aind/dog-project/dogImages.zip\n",
    "#!unzip dogImages.zip"
   ]
  },
  {
   "cell_type": "code",
   "execution_count": 5,
   "metadata": {
    "tags": []
   },
   "outputs": [],
   "source": [
    "import torchvision.transforms as transforms\n",
    "import torchvision.datasets as datasets\n",
    "from torch.utils.data import DataLoader\n",
    "# batch size\n",
    "BATCH_SIZE = 32"
   ]
  },
  {
   "cell_type": "code",
   "execution_count": 6,
   "metadata": {
    "tags": []
   },
   "outputs": [],
   "source": [
    "import sagemaker\n",
    "from sagemaker.pytorch import PyTorch, PyTorchModel\n",
    "from sagemaker.debugger import DebuggerHookConfig, TensorBoardOutputConfig\n",
    "from sagemaker.tuner import HyperparameterTuner, IntegerParameter, CategoricalParameter\n",
    "\n",
    "# set up SageMaker session and role\n",
    "sagemaker_session = sagemaker.Session()\n",
    "role = sagemaker.get_execution_role()"
   ]
  },
  {
   "cell_type": "code",
   "execution_count": 7,
   "metadata": {
    "tags": []
   },
   "outputs": [
    {
     "name": "stdout",
     "output_type": "stream",
     "text": [
      "make_bucket failed: s3://sumeet-proj3 An error occurred (BucketAlreadyOwnedByYou) when calling the CreateBucket operation: Your previous request to create the named bucket succeeded and you already own it.\n"
     ]
    }
   ],
   "source": [
    "BUCKET = \"sumeet-proj3\"\n",
    "!aws s3 mb s3://{BUCKET}"
   ]
  },
  {
   "cell_type": "code",
   "execution_count": 8,
   "metadata": {
    "tags": []
   },
   "outputs": [],
   "source": [
    "#! aws s3 cp ./dogImages/ s3://{BUCKET}/ --recursive"
   ]
  },
  {
   "cell_type": "code",
   "execution_count": 9,
   "metadata": {
    "tags": []
   },
   "outputs": [],
   "source": [
    "data_channels = {\n",
    "                    \"train\": f\"s3://{BUCKET}/train\",\n",
    "                    \"valid\": f\"s3://{BUCKET}/valid\",\n",
    "                    \"test\": f\"s3://{BUCKET}/test\"\n",
    "\n",
    "                }"
   ]
  },
  {
   "cell_type": "code",
   "execution_count": 10,
   "metadata": {
    "tags": []
   },
   "outputs": [],
   "source": [
    "from PIL import ImageFile\n",
    "ImageFile.LOAD_TRUNCATED_IMAGES = True \n",
    "#disable image truncated error"
   ]
  },
  {
   "cell_type": "code",
   "execution_count": null,
   "metadata": {
    "tags": []
   },
   "outputs": [],
   "source": []
  },
  {
   "cell_type": "markdown",
   "metadata": {},
   "source": [
    "## Hyperparameter Tuning\n",
    "**TODO:** This is the part where you will finetune a pretrained model with hyperparameter tuning. Remember that you have to tune a minimum of two hyperparameters. However you are encouraged to tune more. You are also encouraged to explain why you chose to tune those particular hyperparameters and the ranges.\n",
    "\n",
    "**Note:** You will need to use the `hpo.py` script to perform hyperparameter tuning."
   ]
  },
  {
   "cell_type": "code",
   "execution_count": 11,
   "metadata": {
    "tags": []
   },
   "outputs": [],
   "source": [
    "#TODO: Declare your HP ranges, metrics etc.\n",
    "from sagemaker.tuner import (\n",
    "    IntegerParameter,\n",
    "    CategoricalParameter,\n",
    "    ContinuousParameter,\n",
    "    HyperparameterTuner,\n",
    ")\n",
    "\n",
    "\n",
    "hyperparameter_ranges = {\n",
    "    \"lr\": ContinuousParameter(0.001, 0.1),\n",
    "    \"batch-size\": CategoricalParameter([16, 32])\n",
    "    #\"test-batch-size\": CategoricalParameter([100,1000]),\n",
    "    #\"epochs\": IntegerParameter(4, 8)\n",
    "}\n",
    "\n",
    "objective_metric_name = \"average test loss\"\n",
    "objective_type = \"Minimize\"\n",
    "metric_definitions = [{\"Name\": \"average test loss\", \"Regex\": \"Test set: Average loss: ([0-9\\\\.]+)\"}]"
   ]
  },
  {
   "cell_type": "code",
   "execution_count": 12,
   "metadata": {
    "tags": []
   },
   "outputs": [],
   "source": [
    "#TODO: Create estimators for your HPs\n",
    "\n",
    "\n",
    "from torchvision import transforms\n",
    "from sagemaker.pytorch import PyTorch\n",
    "import gzip \n",
    "import numpy as np\n",
    "import random\n",
    "import os\n",
    "\n",
    "sagemaker_session = sagemaker.Session()\n",
    "\n",
    "bucket = sagemaker_session.default_bucket()\n",
    "prefix = \"sagemaker/p3\"\n",
    "\n",
    "role = sagemaker.get_execution_role()\n",
    "\n",
    "local_dir = 'dogImages'"
   ]
  },
  {
   "cell_type": "code",
   "execution_count": 13,
   "metadata": {
    "tags": []
   },
   "outputs": [
    {
     "name": "stdout",
     "output_type": "stream",
     "text": [
      "Running on Device cpu\n"
     ]
    }
   ],
   "source": [
    "\n",
    "import torch\n",
    "device = torch.device(\"cuda:0\" if torch.cuda.is_available() else \"cpu\")\n",
    "print(f\"Running on Device {device}\")\n"
   ]
  },
  {
   "cell_type": "code",
   "execution_count": 14,
   "metadata": {
    "tags": []
   },
   "outputs": [],
   "source": [
    "#inputs = sagemaker_session.upload_data(path=\"local_dir\", bucket=bucket, key_prefix=prefix)\n",
    "#print(\"input spec (in this case, just an S3 path): {}\".format(inputs))\n",
    "\n",
    "#estimator = # TODO: Your estimator here\n",
    "\n",
    "estimator = PyTorch(\n",
    "    entry_point=\"hpo.py\",\n",
    "    role=role,\n",
    "    py_version='py36',\n",
    "    framework_version=\"1.8\",\n",
    "    instance_count=1,\n",
    "    instance_type=\"ml.p2.xlarge\"\n",
    ")"
   ]
  },
  {
   "cell_type": "code",
   "execution_count": 17,
   "metadata": {
    "tags": []
   },
   "outputs": [],
   "source": [
    "#tuner = # TODO: Your HP tuner here\n",
    "\n",
    "tuner = HyperparameterTuner(\n",
    "    estimator,\n",
    "    objective_metric_name,\n",
    "    hyperparameter_ranges,\n",
    "    metric_definitions,\n",
    "    max_jobs=4,\n",
    "    max_parallel_jobs=1,\n",
    "    objective_type=objective_type,\n",
    ")"
   ]
  },
  {
   "cell_type": "markdown",
   "metadata": {
    "tags": []
   },
   "source": [
    "# NO NEED TO RUN ESTIMATOR.FIT() AND TUNER.FIT() CELLS BELOW"
   ]
  },
  {
   "cell_type": "code",
   "execution_count": 19,
   "metadata": {
    "tags": []
   },
   "outputs": [],
   "source": [
    "#testing out by just running the estimator before running the tuner\n",
    "\n",
    "#estimator.fit(data_channels, wait=True)"
   ]
  },
  {
   "cell_type": "code",
   "execution_count": 20,
   "metadata": {
    "tags": []
   },
   "outputs": [
    {
     "name": "stderr",
     "output_type": "stream",
     "text": [
      "No finished training job found associated with this estimator. Please make sure this estimator is only used for building workflow config\n",
      "No finished training job found associated with this estimator. Please make sure this estimator is only used for building workflow config\n"
     ]
    },
    {
     "name": "stdout",
     "output_type": "stream",
     "text": [
      ".........................................................................................................................................................................................................................................................................................................................................................................................................................................................................................................................................................................................................................................................!\n"
     ]
    }
   ],
   "source": [
    "# TODO: Fit your HP Tuner\n",
    "#tuner.fit() # TODO: Remember to include your data channels\n",
    "\n",
    "tuner.fit(data_channels, wait=True)\n"
   ]
  },
  {
   "cell_type": "code",
   "execution_count": null,
   "metadata": {
    "tags": []
   },
   "outputs": [],
   "source": []
  },
  {
   "cell_type": "code",
   "execution_count": 24,
   "metadata": {},
   "outputs": [
    {
     "data": {
      "text/plain": [
       "'pytorch-training-230317-1710-001-1cbba54d'"
      ]
     },
     "execution_count": 24,
     "metadata": {},
     "output_type": "execute_result"
    }
   ],
   "source": [
    "#best training job, best estimator, and the best HPs\n",
    "best_training_job = tuner.best_training_job()\n",
    "best_training_job"
   ]
  },
  {
   "cell_type": "markdown",
   "metadata": {},
   "source": [
    "# 'pytorch-training-230317-1710-001-1cbba54d'"
   ]
  },
  {
   "cell_type": "code",
   "execution_count": 25,
   "metadata": {},
   "outputs": [
    {
     "name": "stdout",
     "output_type": "stream",
     "text": [
      "\n",
      "2023-03-17 17:27:45 Starting - Preparing the instances for training\n",
      "2023-03-17 17:27:45 Downloading - Downloading input data\n",
      "2023-03-17 17:27:45 Training - Training image download completed. Training in progress.\n",
      "2023-03-17 17:27:45 Uploading - Uploading generated training model\n",
      "2023-03-17 17:27:45 Completed - Resource reused by training job: pytorch-training-230317-1710-002-8639fed8\n"
     ]
    },
    {
     "data": {
      "text/plain": [
       "<sagemaker.pytorch.estimator.PyTorch at 0x7f0e4d478ed0>"
      ]
     },
     "execution_count": 25,
     "metadata": {},
     "output_type": "execute_result"
    }
   ],
   "source": [
    "best_estimator = tuner.best_estimator()\n",
    "best_estimator"
   ]
  },
  {
   "cell_type": "markdown",
   "metadata": {
    "tags": []
   },
   "source": [
    "# <sagemaker.pytorch.estimator.PyTorch at 0x7f0e4d478ed0>"
   ]
  },
  {
   "cell_type": "code",
   "execution_count": 26,
   "metadata": {},
   "outputs": [
    {
     "data": {
      "text/plain": [
       "{'_tuning_objective_metric': '\"average test loss\"',\n",
       " 'batch-size': '\"32\"',\n",
       " 'lr': '0.0036613232228599303',\n",
       " 'sagemaker_container_log_level': '20',\n",
       " 'sagemaker_estimator_class_name': '\"PyTorch\"',\n",
       " 'sagemaker_estimator_module': '\"sagemaker.pytorch.estimator\"',\n",
       " 'sagemaker_job_name': '\"pytorch-training-2023-03-17-17-10-18-137\"',\n",
       " 'sagemaker_program': '\"train_model.py\"',\n",
       " 'sagemaker_region': '\"us-west-2\"',\n",
       " 'sagemaker_submit_directory': '\"s3://sagemaker-us-west-2-981173689685/pytorch-training-2023-03-17-17-10-18-137/source/sourcedir.tar.gz\"'}"
      ]
     },
     "execution_count": 26,
     "metadata": {},
     "output_type": "execute_result"
    }
   ],
   "source": [
    "#Get the hyperparameters of the best trained model\n",
    "best_estimator.hyperparameters()"
   ]
  },
  {
   "cell_type": "markdown",
   "metadata": {},
   "source": [
    "# \n",
    "{'_tuning_objective_metric': '\"average test loss\"',\n",
    " 'batch-size': '\"32\"',\n",
    " 'lr': '0.0036613232228599303',\n",
    " 'sagemaker_container_log_level': '20',\n",
    " 'sagemaker_estimator_class_name': '\"PyTorch\"',\n",
    " 'sagemaker_estimator_module': '\"sagemaker.pytorch.estimator\"',\n",
    " 'sagemaker_job_name': '\"pytorch-training-2023-03-17-17-10-18-137\"',\n",
    " 'sagemaker_program': '\"train_model.py\"',\n",
    " 'sagemaker_region': '\"us-west-2\"',\n",
    " 'sagemaker_submit_directory': '\"s3://sagemaker-us-west-2-981173689685/pytorch-training-2023-03-17-17-10-18-137/source/sourcedir.tar.gz\"'}\n",
    " #"
   ]
  },
  {
   "cell_type": "markdown",
   "metadata": {},
   "source": [
    "# NO NEED TO RUN ESTIMATOR.FIT() AND TUNER.FIT() CELLS ABOVE\n",
    "# JUST RUN THE CELLS BELOW"
   ]
  },
  {
   "cell_type": "markdown",
   "metadata": {},
   "source": [
    "# saved training job name"
   ]
  },
  {
   "cell_type": "code",
   "execution_count": 27,
   "metadata": {
    "tags": []
   },
   "outputs": [],
   "source": [
    "training_job_name = 'pytorch-training-230317-1710-001-1cbba54d'"
   ]
  },
  {
   "cell_type": "markdown",
   "metadata": {},
   "source": [
    "# saved estimator"
   ]
  },
  {
   "cell_type": "code",
   "execution_count": 28,
   "metadata": {
    "tags": []
   },
   "outputs": [
    {
     "name": "stdout",
     "output_type": "stream",
     "text": [
      "\n",
      "2023-03-17 17:27:45 Starting - Preparing the instances for training\n",
      "2023-03-17 17:27:45 Downloading - Downloading input data\n",
      "2023-03-17 17:27:45 Training - Training image download completed. Training in progress.\n",
      "2023-03-17 17:27:45 Uploading - Uploading generated training model\n",
      "2023-03-17 17:27:45 Completed - Resource reused by training job: pytorch-training-230317-1710-002-8639fed8\n"
     ]
    }
   ],
   "source": [
    "#For training jobs, use this code to attach a complted training job:\n",
    "from sagemaker.pytorch import PyTorch\n",
    "estimator = PyTorch.attach('pytorch-training-230317-1710-001-1cbba54d')"
   ]
  },
  {
   "cell_type": "code",
   "execution_count": 29,
   "metadata": {
    "tags": []
   },
   "outputs": [
    {
     "data": {
      "text/plain": [
       "{'_tuning_objective_metric': '\"average test loss\"',\n",
       " 'batch-size': '\"32\"',\n",
       " 'lr': '0.0036613232228599303',\n",
       " 'sagemaker_container_log_level': '20',\n",
       " 'sagemaker_estimator_class_name': '\"PyTorch\"',\n",
       " 'sagemaker_estimator_module': '\"sagemaker.pytorch.estimator\"',\n",
       " 'sagemaker_job_name': '\"pytorch-training-2023-03-17-17-10-18-137\"',\n",
       " 'sagemaker_program': '\"train_model.py\"',\n",
       " 'sagemaker_region': '\"us-west-2\"',\n",
       " 'sagemaker_submit_directory': '\"s3://sagemaker-us-west-2-981173689685/pytorch-training-2023-03-17-17-10-18-137/source/sourcedir.tar.gz\"'}"
      ]
     },
     "execution_count": 29,
     "metadata": {},
     "output_type": "execute_result"
    }
   ],
   "source": [
    "best_estimator = estimator\n",
    "best_estimator.hyperparameters()"
   ]
  },
  {
   "cell_type": "code",
   "execution_count": 32,
   "metadata": {
    "tags": []
   },
   "outputs": [
    {
     "data": {
      "text/plain": [
       "'\\n{\\'_tuning_objective_metric\\': \\'\"average test loss\"\\',\\n \\'batch-size\\': \\'\"32\"\\',\\n \\'lr\\': \\'0.0036613232228599303\\',\\n \\'sagemaker_container_log_level\\': \\'20\\',\\n \\'sagemaker_estimator_class_name\\': \\'\"PyTorch\"\\',\\n \\'sagemaker_estimator_module\\': \\'\"sagemaker.pytorch.estimator\"\\',\\n \\'sagemaker_job_name\\': \\'\"pytorch-training-2023-03-17-17-10-18-137\"\\',\\n \\'sagemaker_program\\': \\'\"train_model.py\"\\',\\n \\'sagemaker_region\\': \\'\"us-west-2\"\\',\\n \\'sagemaker_submit_directory\\': \\'\"s3://sagemaker-us-west-2-981173689685/pytorch-training-2023-03-17-17-10-18-137/source/sourcedir.tar.gz\"\\'}\\n '"
      ]
     },
     "execution_count": 32,
     "metadata": {},
     "output_type": "execute_result"
    }
   ],
   "source": [
    "# best hyperparameters found\n",
    "\"\"\"\n",
    "{'_tuning_objective_metric': '\"average test loss\"',\n",
    " 'batch-size': '\"32\"',\n",
    " 'lr': '0.0036613232228599303',\n",
    " 'sagemaker_container_log_level': '20',\n",
    " 'sagemaker_estimator_class_name': '\"PyTorch\"',\n",
    " 'sagemaker_estimator_module': '\"sagemaker.pytorch.estimator\"',\n",
    " 'sagemaker_job_name': '\"pytorch-training-2023-03-17-17-10-18-137\"',\n",
    " 'sagemaker_program': '\"train_model.py\"',\n",
    " 'sagemaker_region': '\"us-west-2\"',\n",
    " 'sagemaker_submit_directory': '\"s3://sagemaker-us-west-2-981173689685/pytorch-training-2023-03-17-17-10-18-137/source/sourcedir.tar.gz\"'}\n",
    " \"\"\""
   ]
  },
  {
   "cell_type": "markdown",
   "metadata": {},
   "source": [
    "# saved tuner"
   ]
  },
  {
   "cell_type": "code",
   "execution_count": 33,
   "metadata": {
    "tags": []
   },
   "outputs": [],
   "source": [
    "#For hyperparameter tuning jobs:\n",
    "from sagemaker.tuner import HyperparameterTuner\n",
    "tuner = HyperparameterTuner.attach('pytorch-training-230317-1710')"
   ]
  },
  {
   "cell_type": "markdown",
   "metadata": {},
   "source": [
    "## Model Profiling and Debugging\n",
    "TODO: Using the best hyperparameters, create and finetune a new model\n",
    "\n",
    "**Note:** You will need to use the `train_model.py` script to perform model profiling and debugging."
   ]
  },
  {
   "cell_type": "code",
   "execution_count": 18,
   "metadata": {
    "tags": []
   },
   "outputs": [],
   "source": [
    "# Set up debugging and profiling rules and hooks\n",
    "from sagemaker.debugger import Rule, ProfilerRule, rule_configs, CollectionConfig\n",
    "from sagemaker.debugger import DebuggerHookConfig, ProfilerConfig, FrameworkProfile\n",
    "\n",
    "rules = [\n",
    "    Rule.sagemaker(rule_configs.loss_not_decreasing()),\n",
    "    ProfilerRule.sagemaker(rule_configs.LowGPUUtilization()),\n",
    "    ProfilerRule.sagemaker(rule_configs.ProfilerReport()),\n",
    "    Rule.sagemaker(rule_configs.vanishing_gradient()),\n",
    "    Rule.sagemaker(rule_configs.overfit()),\n",
    "    Rule.sagemaker(rule_configs.overtraining()),\n",
    "    Rule.sagemaker(rule_configs.poor_weight_initialization()),\n",
    "]"
   ]
  },
  {
   "cell_type": "code",
   "execution_count": 19,
   "metadata": {
    "tags": []
   },
   "outputs": [],
   "source": [
    "# Set up debugging hook\n",
    "debugger_config = DebuggerHookConfig(\n",
    "                    s3_output_path = f\"s3://{BUCKET}/output/\",\n",
    "                    hook_parameters={\"train.save_interval\": \"8\", \"eval.save_interval\": \"1\"},\n",
    "                    collection_configs = [\n",
    "                                    CollectionConfig(\n",
    "                                        name=\"CrossEntopyLoss_output\",\n",
    "                                        parameters={\n",
    "                                            \"include_regex\": \"CrossEntropyLoss_output.*\",\n",
    "                                            \"train.save_interval\": \"1\",\n",
    "                                            \"eval.save_interval\": \"1\",\n",
    "                                            \"predict.save_interval\": \"1\"\n",
    "                                                    },\n",
    "                                                    )\n",
    "                                        ]\n",
    "                                    )"
   ]
  },
  {
   "cell_type": "code",
   "execution_count": 20,
   "metadata": {
    "tags": []
   },
   "outputs": [],
   "source": [
    "# Set up profiling hook\n",
    "profiler_config = ProfilerConfig(\n",
    "                        system_monitor_interval_millis=500,\n",
    "                        framework_profile_params=FrameworkProfile(num_steps=10)\n",
    "                                )"
   ]
  },
  {
   "cell_type": "code",
   "execution_count": 21,
   "metadata": {
    "tags": []
   },
   "outputs": [],
   "source": [
    "# best hyperparameters based on tuning results above in best_estimator.hyperparameters()\n",
    "\n",
    "best_hyperparameters = {\"batch-size\": \"32\", \"lr\": \"0.0036613232228599303\"}"
   ]
  },
  {
   "cell_type": "code",
   "execution_count": null,
   "metadata": {
    "tags": []
   },
   "outputs": [],
   "source": []
  },
  {
   "cell_type": "code",
   "execution_count": 22,
   "metadata": {},
   "outputs": [],
   "source": [
    "# TODO: Create and fit an estimator\n",
    "\n",
    "# estimator = # TODO: Your estimator here\n",
    "\n",
    "estimator = PyTorch(\n",
    "    role=sagemaker.get_execution_role(),\n",
    "    instance_count=1,\n",
    "    instance_type=\"ml.p2.xlarge\",\n",
    "    entry_point=\"train_model.py\", \n",
    "    framework_version=\"1.8\",\n",
    "    py_version=\"py36\",\n",
    "    hyperparameters=best_hyperparameters,\n",
    "    profiler_config=profiler_config,\n",
    "    debugger_hook_config=debugger_config,\n",
    "    rules=rules,\n",
    ")"
   ]
  },
  {
   "cell_type": "markdown",
   "metadata": {},
   "source": [
    "# NO NEED TO RUN THE ESTIMATOR.FIT() CELL BELOW AGAIN"
   ]
  },
  {
   "cell_type": "code",
   "execution_count": 23,
   "metadata": {
    "tags": []
   },
   "outputs": [
    {
     "name": "stderr",
     "output_type": "stream",
     "text": [
      "INFO:sagemaker.image_uris:image_uri is not presented, retrieving image_uri based on instance_type, framework etc.\n",
      "INFO:sagemaker:Creating training-job with name: pytorch-training-2023-03-20-07-13-15-618\n"
     ]
    },
    {
     "name": "stdout",
     "output_type": "stream",
     "text": [
      "2023-03-20 07:13:17 Starting - Starting the training job...\n",
      "2023-03-20 07:13:47 Starting - Preparing the instances for trainingLossNotDecreasing: InProgress\n",
      "VanishingGradient: InProgress\n",
      "Overfit: InProgress\n",
      "Overtraining: InProgress\n",
      "PoorWeightInitialization: InProgress\n",
      "LowGPUUtilization: InProgress\n",
      "ProfilerReport: InProgress\n",
      "......\n",
      "2023-03-20 07:14:48 Downloading - Downloading input data......\n",
      "2023-03-20 07:15:56 Training - Downloading the training image........................\n",
      "2023-03-20 07:19:50 Training - Training image download completed. Training in progress...\u001b[34mbash: cannot set terminal process group (-1): Inappropriate ioctl for device\u001b[0m\n",
      "\u001b[34mbash: no job control in this shell\u001b[0m\n",
      "\u001b[34m2023-03-20 07:20:06,698 sagemaker-training-toolkit INFO     Imported framework sagemaker_pytorch_container.training\u001b[0m\n",
      "\u001b[34m2023-03-20 07:20:06,721 sagemaker_pytorch_container.training INFO     Block until all host DNS lookups succeed.\u001b[0m\n",
      "\u001b[34m2023-03-20 07:20:06,724 sagemaker_pytorch_container.training INFO     Invoking user training script.\u001b[0m\n",
      "\u001b[34m2023-03-20 07:20:06,986 sagemaker-training-toolkit INFO     Invoking user script\u001b[0m\n",
      "\u001b[34mTraining Env:\u001b[0m\n",
      "\u001b[34m{\n",
      "    \"additional_framework_parameters\": {},\n",
      "    \"channel_input_dirs\": {\n",
      "        \"test\": \"/opt/ml/input/data/test\",\n",
      "        \"train\": \"/opt/ml/input/data/train\",\n",
      "        \"valid\": \"/opt/ml/input/data/valid\"\n",
      "    },\n",
      "    \"current_host\": \"algo-1\",\n",
      "    \"framework_module\": \"sagemaker_pytorch_container.training:main\",\n",
      "    \"hosts\": [\n",
      "        \"algo-1\"\n",
      "    ],\n",
      "    \"hyperparameters\": {\n",
      "        \"batch-size\": \"32\",\n",
      "        \"lr\": \"0.0036613232228599303\"\n",
      "    },\n",
      "    \"input_config_dir\": \"/opt/ml/input/config\",\n",
      "    \"input_data_config\": {\n",
      "        \"test\": {\n",
      "            \"TrainingInputMode\": \"File\",\n",
      "            \"S3DistributionType\": \"FullyReplicated\",\n",
      "            \"RecordWrapperType\": \"None\"\n",
      "        },\n",
      "        \"train\": {\n",
      "            \"TrainingInputMode\": \"File\",\n",
      "            \"S3DistributionType\": \"FullyReplicated\",\n",
      "            \"RecordWrapperType\": \"None\"\n",
      "        },\n",
      "        \"valid\": {\n",
      "            \"TrainingInputMode\": \"File\",\n",
      "            \"S3DistributionType\": \"FullyReplicated\",\n",
      "            \"RecordWrapperType\": \"None\"\n",
      "        }\n",
      "    },\n",
      "    \"input_dir\": \"/opt/ml/input\",\n",
      "    \"is_master\": true,\n",
      "    \"job_name\": \"pytorch-training-2023-03-20-07-13-15-618\",\n",
      "    \"log_level\": 20,\n",
      "    \"master_hostname\": \"algo-1\",\n",
      "    \"model_dir\": \"/opt/ml/model\",\n",
      "    \"module_dir\": \"s3://sagemaker-us-west-2-981173689685/pytorch-training-2023-03-20-07-13-15-618/source/sourcedir.tar.gz\",\n",
      "    \"module_name\": \"train_model\",\n",
      "    \"network_interface_name\": \"eth0\",\n",
      "    \"num_cpus\": 4,\n",
      "    \"num_gpus\": 1,\n",
      "    \"output_data_dir\": \"/opt/ml/output/data\",\n",
      "    \"output_dir\": \"/opt/ml/output\",\n",
      "    \"output_intermediate_dir\": \"/opt/ml/output/intermediate\",\n",
      "    \"resource_config\": {\n",
      "        \"current_host\": \"algo-1\",\n",
      "        \"current_instance_type\": \"ml.p2.xlarge\",\n",
      "        \"current_group_name\": \"homogeneousCluster\",\n",
      "        \"hosts\": [\n",
      "            \"algo-1\"\n",
      "        ],\n",
      "        \"instance_groups\": [\n",
      "            {\n",
      "                \"instance_group_name\": \"homogeneousCluster\",\n",
      "                \"instance_type\": \"ml.p2.xlarge\",\n",
      "                \"hosts\": [\n",
      "                    \"algo-1\"\n",
      "                ]\n",
      "            }\n",
      "        ],\n",
      "        \"network_interface_name\": \"eth0\"\n",
      "    },\n",
      "    \"user_entry_point\": \"train_model.py\"\u001b[0m\n",
      "\u001b[34m}\u001b[0m\n",
      "\u001b[34mEnvironment variables:\u001b[0m\n",
      "\u001b[34mSM_HOSTS=[\"algo-1\"]\u001b[0m\n",
      "\u001b[34mSM_NETWORK_INTERFACE_NAME=eth0\u001b[0m\n",
      "\u001b[34mSM_HPS={\"batch-size\":\"32\",\"lr\":\"0.0036613232228599303\"}\u001b[0m\n",
      "\u001b[34mSM_USER_ENTRY_POINT=train_model.py\u001b[0m\n",
      "\u001b[34mSM_FRAMEWORK_PARAMS={}\u001b[0m\n",
      "\u001b[34mSM_RESOURCE_CONFIG={\"current_group_name\":\"homogeneousCluster\",\"current_host\":\"algo-1\",\"current_instance_type\":\"ml.p2.xlarge\",\"hosts\":[\"algo-1\"],\"instance_groups\":[{\"hosts\":[\"algo-1\"],\"instance_group_name\":\"homogeneousCluster\",\"instance_type\":\"ml.p2.xlarge\"}],\"network_interface_name\":\"eth0\"}\u001b[0m\n",
      "\u001b[34mSM_INPUT_DATA_CONFIG={\"test\":{\"RecordWrapperType\":\"None\",\"S3DistributionType\":\"FullyReplicated\",\"TrainingInputMode\":\"File\"},\"train\":{\"RecordWrapperType\":\"None\",\"S3DistributionType\":\"FullyReplicated\",\"TrainingInputMode\":\"File\"},\"valid\":{\"RecordWrapperType\":\"None\",\"S3DistributionType\":\"FullyReplicated\",\"TrainingInputMode\":\"File\"}}\u001b[0m\n",
      "\u001b[34mSM_OUTPUT_DATA_DIR=/opt/ml/output/data\u001b[0m\n",
      "\u001b[34mSM_CHANNELS=[\"test\",\"train\",\"valid\"]\u001b[0m\n",
      "\u001b[34mSM_CURRENT_HOST=algo-1\u001b[0m\n",
      "\u001b[34mSM_MODULE_NAME=train_model\u001b[0m\n",
      "\u001b[34mSM_LOG_LEVEL=20\u001b[0m\n",
      "\u001b[34mSM_FRAMEWORK_MODULE=sagemaker_pytorch_container.training:main\u001b[0m\n",
      "\u001b[34mSM_INPUT_DIR=/opt/ml/input\u001b[0m\n",
      "\u001b[34mSM_INPUT_CONFIG_DIR=/opt/ml/input/config\u001b[0m\n",
      "\u001b[34mSM_OUTPUT_DIR=/opt/ml/output\u001b[0m\n",
      "\u001b[34mSM_NUM_CPUS=4\u001b[0m\n",
      "\u001b[34mSM_NUM_GPUS=1\u001b[0m\n",
      "\u001b[34mSM_MODEL_DIR=/opt/ml/model\u001b[0m\n",
      "\u001b[34mSM_MODULE_DIR=s3://sagemaker-us-west-2-981173689685/pytorch-training-2023-03-20-07-13-15-618/source/sourcedir.tar.gz\u001b[0m\n",
      "\u001b[34mSM_TRAINING_ENV={\"additional_framework_parameters\":{},\"channel_input_dirs\":{\"test\":\"/opt/ml/input/data/test\",\"train\":\"/opt/ml/input/data/train\",\"valid\":\"/opt/ml/input/data/valid\"},\"current_host\":\"algo-1\",\"framework_module\":\"sagemaker_pytorch_container.training:main\",\"hosts\":[\"algo-1\"],\"hyperparameters\":{\"batch-size\":\"32\",\"lr\":\"0.0036613232228599303\"},\"input_config_dir\":\"/opt/ml/input/config\",\"input_data_config\":{\"test\":{\"RecordWrapperType\":\"None\",\"S3DistributionType\":\"FullyReplicated\",\"TrainingInputMode\":\"File\"},\"train\":{\"RecordWrapperType\":\"None\",\"S3DistributionType\":\"FullyReplicated\",\"TrainingInputMode\":\"File\"},\"valid\":{\"RecordWrapperType\":\"None\",\"S3DistributionType\":\"FullyReplicated\",\"TrainingInputMode\":\"File\"}},\"input_dir\":\"/opt/ml/input\",\"is_master\":true,\"job_name\":\"pytorch-training-2023-03-20-07-13-15-618\",\"log_level\":20,\"master_hostname\":\"algo-1\",\"model_dir\":\"/opt/ml/model\",\"module_dir\":\"s3://sagemaker-us-west-2-981173689685/pytorch-training-2023-03-20-07-13-15-618/source/sourcedir.tar.gz\",\"module_name\":\"train_model\",\"network_interface_name\":\"eth0\",\"num_cpus\":4,\"num_gpus\":1,\"output_data_dir\":\"/opt/ml/output/data\",\"output_dir\":\"/opt/ml/output\",\"output_intermediate_dir\":\"/opt/ml/output/intermediate\",\"resource_config\":{\"current_group_name\":\"homogeneousCluster\",\"current_host\":\"algo-1\",\"current_instance_type\":\"ml.p2.xlarge\",\"hosts\":[\"algo-1\"],\"instance_groups\":[{\"hosts\":[\"algo-1\"],\"instance_group_name\":\"homogeneousCluster\",\"instance_type\":\"ml.p2.xlarge\"}],\"network_interface_name\":\"eth0\"},\"user_entry_point\":\"train_model.py\"}\u001b[0m\n",
      "\u001b[34mSM_USER_ARGS=[\"--batch-size\",\"32\",\"--lr\",\"0.0036613232228599303\"]\u001b[0m\n",
      "\u001b[34mSM_OUTPUT_INTERMEDIATE_DIR=/opt/ml/output/intermediate\u001b[0m\n",
      "\u001b[34mSM_CHANNEL_TEST=/opt/ml/input/data/test\u001b[0m\n",
      "\u001b[34mSM_CHANNEL_TRAIN=/opt/ml/input/data/train\u001b[0m\n",
      "\u001b[34mSM_CHANNEL_VALID=/opt/ml/input/data/valid\u001b[0m\n",
      "\u001b[34mSM_HP_BATCH-SIZE=32\u001b[0m\n",
      "\u001b[34mSM_HP_LR=0.0036613232228599303\u001b[0m\n",
      "\u001b[34mPYTHONPATH=/opt/ml/code:/opt/conda/bin:/opt/conda/lib/python36.zip:/opt/conda/lib/python3.6:/opt/conda/lib/python3.6/lib-dynload:/opt/conda/lib/python3.6/site-packages\u001b[0m\n",
      "\u001b[34mInvoking script with the following command:\u001b[0m\n",
      "\u001b[34m/opt/conda/bin/python3.6 train_model.py --batch-size 32 --lr 0.0036613232228599303\u001b[0m\n",
      "\u001b[34mRequirement already satisfied: smdebug in /opt/conda/lib/python3.6/site-packages (1.0.9)\u001b[0m\n",
      "\u001b[34mRequirement already satisfied: numpy>=1.16.0 in /opt/conda/lib/python3.6/site-packages (from smdebug) (1.19.1)\u001b[0m\n",
      "\u001b[34mRequirement already satisfied: pyinstrument>=3.1.3 in /opt/conda/lib/python3.6/site-packages (from smdebug) (3.4.2)\u001b[0m\n",
      "\u001b[34mRequirement already satisfied: boto3>=1.10.32 in /opt/conda/lib/python3.6/site-packages (from smdebug) (1.20.24)\u001b[0m\n",
      "\u001b[34mRequirement already satisfied: packaging in /opt/conda/lib/python3.6/site-packages (from smdebug) (21.3)\u001b[0m\n",
      "\u001b[34mRequirement already satisfied: protobuf>=3.6.0 in /opt/conda/lib/python3.6/site-packages (from smdebug) (3.19.1)\u001b[0m\n",
      "\u001b[34mRequirement already satisfied: jmespath<1.0.0,>=0.7.1 in /opt/conda/lib/python3.6/site-packages (from boto3>=1.10.32->smdebug) (0.10.0)\u001b[0m\n",
      "\u001b[34mRequirement already satisfied: botocore<1.24.0,>=1.23.24 in /opt/conda/lib/python3.6/site-packages (from boto3>=1.10.32->smdebug) (1.23.24)\u001b[0m\n",
      "\u001b[34mRequirement already satisfied: s3transfer<0.6.0,>=0.5.0 in /opt/conda/lib/python3.6/site-packages (from boto3>=1.10.32->smdebug) (0.5.0)\u001b[0m\n",
      "\u001b[34mRequirement already satisfied: pyinstrument-cext>=0.2.2 in /opt/conda/lib/python3.6/site-packages (from pyinstrument>=3.1.3->smdebug) (0.2.4)\u001b[0m\n",
      "\u001b[34mRequirement already satisfied: pyparsing!=3.0.5,>=2.0.2 in /opt/conda/lib/python3.6/site-packages (from packaging->smdebug) (3.0.6)\u001b[0m\n",
      "\u001b[34mRequirement already satisfied: urllib3<1.27,>=1.25.4 in /opt/conda/lib/python3.6/site-packages (from botocore<1.24.0,>=1.23.24->boto3>=1.10.32->smdebug) (1.26.6)\u001b[0m\n",
      "\u001b[34mRequirement already satisfied: python-dateutil<3.0.0,>=2.1 in /opt/conda/lib/python3.6/site-packages (from botocore<1.24.0,>=1.23.24->boto3>=1.10.32->smdebug) (2.8.2)\u001b[0m\n",
      "\u001b[34mRequirement already satisfied: six>=1.5 in /opt/conda/lib/python3.6/site-packages (from python-dateutil<3.0.0,>=2.1->botocore<1.24.0,>=1.23.24->boto3>=1.10.32->smdebug) (1.16.0)\u001b[0m\n",
      "\u001b[34m[2023-03-20 07:20:10.952 algo-1:27 INFO utils.py:27] RULE_JOB_STOP_SIGNAL_FILENAME: None\u001b[0m\n",
      "\u001b[34m[2023-03-20 07:20:10.996 algo-1:27 INFO profiler_config_parser.py:102] Using config at /opt/ml/input/config/profilerconfig.json.\u001b[0m\n",
      "\u001b[34mRunning on Device cuda:0\u001b[0m\n",
      "\u001b[34m[2023-03-20 07:20:16.579 algo-1:27 INFO json_config.py:91] Creating hook from json_config at /opt/ml/input/config/debughookconfig.json.\u001b[0m\n",
      "\u001b[34m[2023-03-20 07:20:16.581 algo-1:27 INFO hook.py:201] tensorboard_dir has not been set for the hook. SMDebug will not be exporting tensorboard summaries.\u001b[0m\n",
      "\u001b[34m[2023-03-20 07:20:16.582 algo-1:27 INFO hook.py:255] Saving to /opt/ml/output/tensors\u001b[0m\n",
      "\u001b[34m[2023-03-20 07:20:16.583 algo-1:27 INFO state_store.py:77] The checkpoint config file /opt/ml/input/config/checkpointconfig.json does not exist.\u001b[0m\n",
      "\u001b[34m[2023-03-20 07:20:16.615 algo-1:27 INFO hook.py:591] name:fc.0.weight count_params:272384\u001b[0m\n",
      "\u001b[34m[2023-03-20 07:20:16.615 algo-1:27 INFO hook.py:591] name:fc.0.bias count_params:133\u001b[0m\n",
      "\u001b[34m[2023-03-20 07:20:16.616 algo-1:27 INFO hook.py:593] Total Trainable Params: 272517\u001b[0m\n",
      "\u001b[34mEpoch 0, Phase train\u001b[0m\n",
      "\u001b[34mSTART TRAINING\u001b[0m\n",
      "\u001b[34m[2023-03-20 07:20:16.948 algo-1:27 INFO hook.py:425] Monitoring the collections: relu_input, gradients, CrossEntopyLoss_output, losses\u001b[0m\n",
      "\u001b[34m[2023-03-20 07:20:16.950 algo-1:27 INFO python_profiler.py:182] Dumping cProfile stats to /opt/ml/output/profiler/framework/pytorch/cprofile/27-algo-1/prestepzero-*-start-1679296810997165.2_train-0-stepstart-1679296816950254.5/python_stats.\u001b[0m\n",
      "\u001b[34m[2023-03-20 07:20:17.026 algo-1:27 INFO hook.py:488] Hook is writing from the hook with pid: 27\u001b[0m\n",
      "\u001b[34m[2023-03-20 07:20:22.960 algo-1:27 INFO python_profiler.py:182] Dumping cProfile stats to /opt/ml/output/profiler/framework/pytorch/cprofile/27-algo-1/train-0-stepstart-1679296817022043.2_train-0-forwardpassend-1679296822959646.2/python_stats.\u001b[0m\n",
      "\u001b[34m[2023-03-20 07:20:23.370 algo-1:27 INFO python_profiler.py:182] Dumping cProfile stats to /opt/ml/output/profiler/framework/pytorch/cprofile/27-algo-1/train-0-forwardpassend-1679296822963652.5_train-1-stepstart-1679296823367905.8/python_stats.\u001b[0m\n",
      "\u001b[34m[2023-03-20 07:20:24.806 algo-1:27 INFO python_profiler.py:182] Dumping cProfile stats to /opt/ml/output/profiler/framework/pytorch/cprofile/27-algo-1/train-1-stepstart-1679296823377350.0_train-1-forwardpassend-1679296824806078.8/python_stats.\u001b[0m\n",
      "\u001b[34m[2023-03-20 07:20:25.427 algo-1:27 INFO python_profiler.py:182] Dumping cProfile stats to /opt/ml/output/profiler/framework/pytorch/cprofile/27-algo-1/train-1-forwardpassend-1679296824809346.0_train-2-stepstart-1679296825426142.5/python_stats.\u001b[0m\n",
      "\u001b[34m[2023-03-20 07:20:26.708 algo-1:27 INFO python_profiler.py:182] Dumping cProfile stats to /opt/ml/output/profiler/framework/pytorch/cprofile/27-algo-1/train-2-stepstart-1679296825433638.0_train-2-forwardpassend-1679296826707930.0/python_stats.\u001b[0m\n",
      "\u001b[34m[2023-03-20 07:20:27.314 algo-1:27 INFO python_profiler.py:182] Dumping cProfile stats to /opt/ml/output/profiler/framework/pytorch/cprofile/27-algo-1/train-2-forwardpassend-1679296826711412.2_train-3-stepstart-1679296827313068.8/python_stats.\u001b[0m\n",
      "\u001b[34m[2023-03-20 07:20:28.742 algo-1:27 INFO python_profiler.py:182] Dumping cProfile stats to /opt/ml/output/profiler/framework/pytorch/cprofile/27-algo-1/train-3-stepstart-1679296827322129.2_train-3-forwardpassend-1679296828742040.0/python_stats.\u001b[0m\n",
      "\u001b[34m[2023-03-20 07:20:29.367 algo-1:27 INFO python_profiler.py:182] Dumping cProfile stats to /opt/ml/output/profiler/framework/pytorch/cprofile/27-algo-1/train-3-forwardpassend-1679296828745533.0_train-4-stepstart-1679296829365576.5/python_stats.\u001b[0m\n",
      "\u001b[34m[2023-03-20 07:20:30.862 algo-1:27 INFO python_profiler.py:182] Dumping cProfile stats to /opt/ml/output/profiler/framework/pytorch/cprofile/27-algo-1/train-4-stepstart-1679296829373912.8_train-4-forwardpassend-1679296830862248.8/python_stats.\u001b[0m\n",
      "\u001b[34m[2023-03-20 07:20:31.576 algo-1:27 INFO python_profiler.py:182] Dumping cProfile stats to /opt/ml/output/profiler/framework/pytorch/cprofile/27-algo-1/train-4-forwardpassend-1679296830865183.0_train-5-stepstart-1679296831574416.5/python_stats.\u001b[0m\n",
      "\u001b[34m[2023-03-20 07:20:32.927 algo-1:27 INFO python_profiler.py:182] Dumping cProfile stats to /opt/ml/output/profiler/framework/pytorch/cprofile/27-algo-1/train-5-stepstart-1679296831582059.2_train-5-forwardpassend-1679296832927267.5/python_stats.\u001b[0m\n",
      "\u001b[34m[2023-03-20 07:20:33.399 algo-1:27 INFO python_profiler.py:182] Dumping cProfile stats to /opt/ml/output/profiler/framework/pytorch/cprofile/27-algo-1/train-5-forwardpassend-1679296832930114.8_train-6-stepstart-1679296833398594.5/python_stats.\u001b[0m\n",
      "\u001b[34m[2023-03-20 07:20:34.431 algo-1:27 INFO python_profiler.py:182] Dumping cProfile stats to /opt/ml/output/profiler/framework/pytorch/cprofile/27-algo-1/train-6-stepstart-1679296833404663.8_train-6-forwardpassend-1679296834431453.2/python_stats.\u001b[0m\n",
      "\u001b[34m[2023-03-20 07:20:34.900 algo-1:27 INFO python_profiler.py:182] Dumping cProfile stats to /opt/ml/output/profiler/framework/pytorch/cprofile/27-algo-1/train-6-forwardpassend-1679296834434337.5_train-7-stepstart-1679296834899311.0/python_stats.\u001b[0m\n",
      "\u001b[34m[2023-03-20 07:20:35.968 algo-1:27 INFO python_profiler.py:182] Dumping cProfile stats to /opt/ml/output/profiler/framework/pytorch/cprofile/27-algo-1/train-7-stepstart-1679296834905124.8_train-7-forwardpassend-1679296835967613.8/python_stats.\u001b[0m\n",
      "\u001b[34m[2023-03-20 07:20:36.417 algo-1:27 INFO python_profiler.py:182] Dumping cProfile stats to /opt/ml/output/profiler/framework/pytorch/cprofile/27-algo-1/train-7-forwardpassend-1679296835970443.8_train-8-stepstart-1679296836416041.2/python_stats.\u001b[0m\n",
      "\u001b[34m[2023-03-20 07:20:37.430 algo-1:27 INFO python_profiler.py:182] Dumping cProfile stats to /opt/ml/output/profiler/framework/pytorch/cprofile/27-algo-1/train-8-stepstart-1679296836423696.0_train-8-forwardpassend-1679296837429650.0/python_stats.\u001b[0m\n",
      "\u001b[34m[2023-03-20 07:20:38.057 algo-1:27 INFO python_profiler.py:182] Dumping cProfile stats to /opt/ml/output/profiler/framework/pytorch/cprofile/27-algo-1/train-8-forwardpassend-1679296837432259.8_train-9-stepstart-1679296838056763.5/python_stats.\u001b[0m\n",
      "\u001b[34m[2023-03-20 07:20:39.147 algo-1:27 INFO python_profiler.py:182] Dumping cProfile stats to /opt/ml/output/profiler/framework/pytorch/cprofile/27-algo-1/train-9-stepstart-1679296838062861.2_train-9-forwardpassend-1679296839146988.8/python_stats.\u001b[0m\n",
      "\u001b[34m[2023-03-20 07:20:39.756 algo-1:27 INFO python_profiler.py:182] Dumping cProfile stats to /opt/ml/output/profiler/framework/pytorch/cprofile/27-algo-1/train-9-forwardpassend-1679296839149958.0_train-10-stepstart-1679296839755741.5/python_stats.\u001b[0m\n",
      "\u001b[34mImages [800/6680 (12%)] Loss: 3.86 Accuracy: 98/800 (12.25%)\u001b[0m\n",
      "\u001b[34mImages [1600/6680 (24%)] Loss: 2.17 Accuracy: 441/1600 (27.56%)\u001b[0m\n",
      "\u001b[34mImages [2400/6680 (36%)] Loss: 1.71 Accuracy: 881/2400 (36.71%)\u001b[0m\n",
      "\u001b[34mImages [3200/6680 (48%)] Loss: 0.59 Accuracy: 1370/3200 (42.81%)\u001b[0m\n",
      "\u001b[34mImages [4000/6680 (60%)] Loss: 1.60 Accuracy: 1879/4000 (46.98%)\u001b[0m\n",
      "\u001b[34mImages [4800/6680 (72%)] Loss: 1.20 Accuracy: 2427/4800 (50.56%)\u001b[0m\n",
      "\u001b[34mImages [5600/6680 (84%)] Loss: 1.77 Accuracy: 2973/5600 (53.09%)\u001b[0m\n",
      "\u001b[34mImages [6400/6680 (96%)] Loss: 0.96 Accuracy: 3525/6400 (55.08%)\u001b[0m\n",
      "\u001b[34mEpoch 0, Phase valid\u001b[0m\n",
      "\u001b[34mSTART VALIDATING\u001b[0m\n",
      "LossNotDecreasing: InProgress\n",
      "VanishingGradient: InProgress\n",
      "Overfit: Error\n",
      "Overtraining: InProgress\n",
      "PoorWeightInitialization: InProgress\n",
      "\u001b[34mImages [800/835 (96%)] Loss: 1.24 Accuracy: 583/800 (72.88%)\u001b[0m\n",
      "\u001b[34mEpoch 1, Phase train\u001b[0m\n",
      "\u001b[34mSTART TRAINING\u001b[0m\n",
      "\u001b[34mImages [800/6680 (12%)] Loss: 0.74 Accuracy: 640/800 (80.00%)\u001b[0m\n",
      "\u001b[34mImages [1600/6680 (24%)] Loss: 0.32 Accuracy: 1305/1600 (81.56%)\u001b[0m\n",
      "\u001b[34mImages [2400/6680 (36%)] Loss: 0.29 Accuracy: 1918/2400 (79.92%)\u001b[0m\n",
      "\u001b[34mImages [3200/6680 (48%)] Loss: 0.80 Accuracy: 2549/3200 (79.66%)\u001b[0m\n",
      "LossNotDecreasing: InProgress\n",
      "VanishingGradient: InProgress\n",
      "Overfit: Error\n",
      "Overtraining: InProgress\n",
      "PoorWeightInitialization: IssuesFound\n",
      "\u001b[34mImages [4000/6680 (60%)] Loss: 0.92 Accuracy: 3161/4000 (79.03%)\u001b[0m\n",
      "\u001b[34mImages [4800/6680 (72%)] Loss: 1.74 Accuracy: 3790/4800 (78.96%)\u001b[0m\n",
      "\u001b[34mImages [5600/6680 (84%)] Loss: 1.99 Accuracy: 4372/5600 (78.07%)\u001b[0m\n",
      "\u001b[34mImages [6400/6680 (96%)] Loss: 1.04 Accuracy: 4971/6400 (77.67%)\u001b[0m\n",
      "LowGPUUtilization: IssuesFound\n",
      "ProfilerReport: InProgress\n",
      "\u001b[34mEpoch 1, Phase valid\u001b[0m\n",
      "\u001b[34mSTART VALIDATING\u001b[0m\n",
      "\u001b[34mImages [800/835 (96%)] Loss: 1.51 Accuracy: 593/800 (74.12%)\u001b[0m\n",
      "\u001b[34mTesting Model on Whole Testing Dataset\u001b[0m\n",
      "\u001b[34mSTART TESTING\u001b[0m\n",
      "\u001b[34mTesting Accuracy: 71.88995215311004, Testing Loss: 1.107504160495466\u001b[0m\n",
      "\u001b[34mTest set: Average loss: 1.107504160495466\u001b[0m\n",
      "\u001b[34mEpoch 0, Phase train\u001b[0m\n",
      "\u001b[34mSTART TRAINING\u001b[0m\n",
      "\u001b[34mImages [800/6680 (12%)] Loss: 0.79 Accuracy: 677/800 (84.62%)\u001b[0m\n",
      "\u001b[34mImages [1600/6680 (24%)] Loss: 0.29 Accuracy: 1349/1600 (84.31%)\u001b[0m\n",
      "\u001b[34mImages [2400/6680 (36%)] Loss: 0.67 Accuracy: 2002/2400 (83.42%)\u001b[0m\n",
      "\u001b[34mImages [3200/6680 (48%)] Loss: 0.90 Accuracy: 2639/3200 (82.47%)\u001b[0m\n",
      "\u001b[34mImages [4000/6680 (60%)] Loss: 0.31 Accuracy: 3301/4000 (82.53%)\u001b[0m\n",
      "\u001b[34mImages [4800/6680 (72%)] Loss: 0.92 Accuracy: 3934/4800 (81.96%)\u001b[0m\n",
      "\u001b[34mImages [5600/6680 (84%)] Loss: 0.52 Accuracy: 4593/5600 (82.02%)\u001b[0m\n",
      "\u001b[34mImages [6400/6680 (96%)] Loss: 0.72 Accuracy: 5238/6400 (81.84%)\u001b[0m\n",
      "\u001b[34mEpoch 0, Phase valid\u001b[0m\n",
      "\u001b[34mSTART VALIDATING\u001b[0m\n",
      "\u001b[34mImages [800/835 (96%)] Loss: 0.90 Accuracy: 608/800 (76.00%)\u001b[0m\n",
      "\u001b[34mEpoch 1, Phase train\u001b[0m\n",
      "\u001b[34mSTART TRAINING\u001b[0m\n",
      "LossNotDecreasing: InProgress\n",
      "VanishingGradient: InProgress\n",
      "Overfit: Error\n",
      "Overtraining: IssuesFound\n",
      "PoorWeightInitialization: IssuesFound\n",
      "\u001b[34mImages [800/6680 (12%)] Loss: 0.28 Accuracy: 702/800 (87.75%)\u001b[0m\n",
      "\u001b[34mImages [1600/6680 (24%)] Loss: 0.20 Accuracy: 1406/1600 (87.88%)\u001b[0m\n",
      "\u001b[34mImages [2400/6680 (36%)] Loss: 0.74 Accuracy: 2104/2400 (87.67%)\u001b[0m\n",
      "\u001b[34mImages [3200/6680 (48%)] Loss: 0.31 Accuracy: 2809/3200 (87.78%)\u001b[0m\n",
      "\u001b[34mImages [4000/6680 (60%)] Loss: 0.67 Accuracy: 3491/4000 (87.28%)\u001b[0m\n",
      "\u001b[34mImages [4800/6680 (72%)] Loss: 0.78 Accuracy: 4148/4800 (86.42%)\u001b[0m\n",
      "\u001b[34mImages [5600/6680 (84%)] Loss: 0.80 Accuracy: 4813/5600 (85.95%)\u001b[0m\n",
      "\u001b[34mImages [6400/6680 (96%)] Loss: 0.53 Accuracy: 5484/6400 (85.69%)\u001b[0m\n",
      "\u001b[34mEpoch 1, Phase valid\u001b[0m\n",
      "\u001b[34mSTART VALIDATING\u001b[0m\n",
      "\u001b[34mImages [800/835 (96%)] Loss: 2.33 Accuracy: 607/800 (75.88%)\u001b[0m\n",
      "\u001b[34mTesting Model on Whole Testing Dataset\u001b[0m\n",
      "\u001b[34mSTART TESTING\u001b[0m\n",
      "\u001b[34mTesting Accuracy: 74.64114832535886, Testing Loss: 1.312840457167922\u001b[0m\n",
      "\u001b[34mTest set: Average loss: 1.312840457167922\u001b[0m\n",
      "\u001b[34mEpoch 0, Phase train\u001b[0m\n",
      "\u001b[34mSTART TRAINING\u001b[0m\n",
      "\u001b[34mImages [800/6680 (12%)] Loss: 0.34 Accuracy: 696/800 (87.00%)\u001b[0m\n",
      "\u001b[34mImages [1600/6680 (24%)] Loss: 0.40 Accuracy: 1400/1600 (87.50%)\u001b[0m\n",
      "\u001b[34mImages [2400/6680 (36%)] Loss: 0.77 Accuracy: 2110/2400 (87.92%)\u001b[0m\n",
      "\u001b[34mImages [3200/6680 (48%)] Loss: 0.22 Accuracy: 2802/3200 (87.56%)\u001b[0m\n",
      "\u001b[34mImages [4000/6680 (60%)] Loss: 0.66 Accuracy: 3486/4000 (87.15%)\u001b[0m\n",
      "\u001b[34mImages [4800/6680 (72%)] Loss: 0.58 Accuracy: 4186/4800 (87.21%)\u001b[0m\n",
      "\u001b[34mImages [5600/6680 (84%)] Loss: 0.84 Accuracy: 4882/5600 (87.18%)\u001b[0m\n",
      "\u001b[34mImages [6400/6680 (96%)] Loss: 0.25 Accuracy: 5590/6400 (87.34%)\u001b[0m\n",
      "\u001b[34mEpoch 0, Phase valid\u001b[0m\n",
      "\u001b[34mSTART VALIDATING\u001b[0m\n",
      "\u001b[34mImages [800/835 (96%)] Loss: 1.17 Accuracy: 627/800 (78.38%)\u001b[0m\n",
      "\u001b[34mEpoch 1, Phase train\u001b[0m\n",
      "\u001b[34mSTART TRAINING\u001b[0m\n",
      "\u001b[34mImages [800/6680 (12%)] Loss: 0.15 Accuracy: 699/800 (87.38%)\u001b[0m\n",
      "\u001b[34mImages [1600/6680 (24%)] Loss: 0.49 Accuracy: 1408/1600 (88.00%)\u001b[0m\n",
      "\u001b[34mImages [2400/6680 (36%)] Loss: 0.31 Accuracy: 2133/2400 (88.88%)\u001b[0m\n",
      "\u001b[34mImages [3200/6680 (48%)] Loss: 0.88 Accuracy: 2845/3200 (88.91%)\u001b[0m\n",
      "\u001b[34mImages [4000/6680 (60%)] Loss: 0.79 Accuracy: 3551/4000 (88.78%)\u001b[0m\n",
      "\u001b[34mImages [4800/6680 (72%)] Loss: 0.16 Accuracy: 4251/4800 (88.56%)\u001b[0m\n",
      "\u001b[34mImages [5600/6680 (84%)] Loss: 0.55 Accuracy: 4926/5600 (87.96%)\u001b[0m\n",
      "\u001b[34mImages [6400/6680 (96%)] Loss: 0.63 Accuracy: 5612/6400 (87.69%)\u001b[0m\n",
      "\u001b[34mEpoch 1, Phase valid\u001b[0m\n",
      "\u001b[34mSTART VALIDATING\u001b[0m\n",
      "\u001b[34mImages [800/835 (96%)] Loss: 1.72 Accuracy: 608/800 (76.00%)\u001b[0m\n",
      "\u001b[34mTesting Model on Whole Testing Dataset\u001b[0m\n",
      "\u001b[34mSTART TESTING\u001b[0m\n",
      "\u001b[34mTesting Accuracy: 75.11961722488039, Testing Loss: 1.433330522556054\u001b[0m\n",
      "\u001b[34mTest set: Average loss: 1.433330522556054\u001b[0m\n",
      "\u001b[34mEpoch 0, Phase train\u001b[0m\n",
      "\u001b[34mSTART TRAINING\u001b[0m\n",
      "\u001b[34mImages [800/6680 (12%)] Loss: 0.10 Accuracy: 727/800 (90.88%)\u001b[0m\n",
      "\u001b[34mImages [1600/6680 (24%)] Loss: 0.19 Accuracy: 1452/1600 (90.75%)\u001b[0m\n",
      "\u001b[34mImages [2400/6680 (36%)] Loss: 0.36 Accuracy: 2160/2400 (90.00%)\u001b[0m\n",
      "\u001b[34mImages [3200/6680 (48%)] Loss: 0.56 Accuracy: 2878/3200 (89.94%)\u001b[0m\n",
      "\u001b[34mImages [4000/6680 (60%)] Loss: 0.25 Accuracy: 3589/4000 (89.72%)\u001b[0m\n",
      "\u001b[34mImages [4800/6680 (72%)] Loss: 0.78 Accuracy: 4315/4800 (89.90%)\u001b[0m\n",
      "\u001b[34mImages [5600/6680 (84%)] Loss: 0.90 Accuracy: 5012/5600 (89.50%)\u001b[0m\n",
      "\u001b[34mImages [6400/6680 (96%)] Loss: 1.22 Accuracy: 5685/6400 (88.83%)\u001b[0m\n",
      "\u001b[34mEpoch 0, Phase valid\u001b[0m\n",
      "\u001b[34mSTART VALIDATING\u001b[0m\n",
      "\u001b[34mImages [800/835 (96%)] Loss: 1.10 Accuracy: 626/800 (78.25%)\u001b[0m\n",
      "\u001b[34mEpoch 1, Phase train\u001b[0m\n",
      "\u001b[34mSTART TRAINING\u001b[0m\n",
      "\u001b[34mImages [800/6680 (12%)] Loss: 0.32 Accuracy: 724/800 (90.50%)\u001b[0m\n",
      "\u001b[34mImages [1600/6680 (24%)] Loss: 0.27 Accuracy: 1458/1600 (91.12%)\u001b[0m\n",
      "\u001b[34mImages [2400/6680 (36%)] Loss: 0.18 Accuracy: 2181/2400 (90.88%)\u001b[0m\n",
      "\u001b[34mImages [3200/6680 (48%)] Loss: 0.20 Accuracy: 2910/3200 (90.94%)\u001b[0m\n",
      "\u001b[34mImages [4000/6680 (60%)] Loss: 0.34 Accuracy: 3636/4000 (90.90%)\u001b[0m\n",
      "\u001b[34mImages [4800/6680 (72%)] Loss: 0.47 Accuracy: 4357/4800 (90.77%)\u001b[0m\n",
      "\u001b[34mImages [5600/6680 (84%)] Loss: 0.60 Accuracy: 5070/5600 (90.54%)\u001b[0m\n",
      "\u001b[34mImages [6400/6680 (96%)] Loss: 0.33 Accuracy: 5793/6400 (90.52%)\u001b[0m\n",
      "\u001b[34mEpoch 1, Phase valid\u001b[0m\n",
      "\u001b[34mSTART VALIDATING\u001b[0m\n",
      "\u001b[34mImages [800/835 (96%)] Loss: 1.99 Accuracy: 617/800 (77.12%)\u001b[0m\n",
      "\u001b[34mTesting Model on Whole Testing Dataset\u001b[0m\n",
      "\u001b[34mSTART TESTING\u001b[0m\n",
      "\u001b[34mTesting Accuracy: 75.47846889952153, Testing Loss: 1.5240631422928075\u001b[0m\n",
      "\u001b[34mTest set: Average loss: 1.5240631422928075\u001b[0m\n",
      "\u001b[34mEpoch 0, Phase train\u001b[0m\n",
      "\u001b[34mSTART TRAINING\u001b[0m\n",
      "\u001b[34mImages [800/6680 (12%)] Loss: 0.23 Accuracy: 731/800 (91.38%)\u001b[0m\n",
      "\u001b[34mImages [1600/6680 (24%)] Loss: 1.25 Accuracy: 1456/1600 (91.00%)\u001b[0m\n",
      "\u001b[34mImages [2400/6680 (36%)] Loss: 0.04 Accuracy: 2189/2400 (91.21%)\u001b[0m\n",
      "\u001b[34mImages [3200/6680 (48%)] Loss: 0.44 Accuracy: 2925/3200 (91.41%)\u001b[0m\n",
      "\u001b[34mImages [4000/6680 (60%)] Loss: 0.19 Accuracy: 3650/4000 (91.25%)\u001b[0m\n",
      "\u001b[34mImages [4800/6680 (72%)] Loss: 0.65 Accuracy: 4358/4800 (90.79%)\u001b[0m\n",
      "\u001b[34mImages [5600/6680 (84%)] Loss: 0.39 Accuracy: 5075/5600 (90.62%)\u001b[0m\n",
      "\u001b[34mImages [6400/6680 (96%)] Loss: 0.56 Accuracy: 5791/6400 (90.48%)\u001b[0m\n",
      "\u001b[34mEpoch 0, Phase valid\u001b[0m\n",
      "\u001b[34mSTART VALIDATING\u001b[0m\n",
      "\u001b[34mImages [800/835 (96%)] Loss: 0.24 Accuracy: 639/800 (79.88%)\u001b[0m\n",
      "\u001b[34mEpoch 1, Phase train\u001b[0m\n",
      "\u001b[34mSTART TRAINING\u001b[0m\n",
      "\u001b[34mImages [800/6680 (12%)] Loss: 0.12 Accuracy: 740/800 (92.50%)\u001b[0m\n",
      "\u001b[34mImages [1600/6680 (24%)] Loss: 0.29 Accuracy: 1477/1600 (92.31%)\u001b[0m\n",
      "\u001b[34mImages [2400/6680 (36%)] Loss: 0.35 Accuracy: 2210/2400 (92.08%)\u001b[0m\n",
      "\u001b[34mImages [3200/6680 (48%)] Loss: 0.35 Accuracy: 2938/3200 (91.81%)\u001b[0m\n",
      "\u001b[34mImages [4000/6680 (60%)] Loss: 0.48 Accuracy: 3665/4000 (91.62%)\u001b[0m\n",
      "\u001b[34mImages [4800/6680 (72%)] Loss: 0.50 Accuracy: 4395/4800 (91.56%)\u001b[0m\n",
      "\u001b[34mImages [5600/6680 (84%)] Loss: 0.21 Accuracy: 5107/5600 (91.20%)\u001b[0m\n",
      "\u001b[34mImages [6400/6680 (96%)] Loss: 0.73 Accuracy: 5824/6400 (91.00%)\u001b[0m\n",
      "\u001b[34mEpoch 1, Phase valid\u001b[0m\n",
      "\u001b[34mSTART VALIDATING\u001b[0m\n",
      "\u001b[34mImages [800/835 (96%)] Loss: 0.90 Accuracy: 619/800 (77.38%)\u001b[0m\n",
      "\u001b[34mTesting Model on Whole Testing Dataset\u001b[0m\n",
      "\u001b[34mSTART TESTING\u001b[0m\n",
      "\u001b[34mTesting Accuracy: 78.58851674641149, Testing Loss: 1.5077302004555997\u001b[0m\n",
      "\u001b[34mTest set: Average loss: 1.5077302004555997\u001b[0m\n",
      "\u001b[34mEpoch 0, Phase train\u001b[0m\n",
      "\u001b[34mSTART TRAINING\u001b[0m\n",
      "\u001b[34mImages [800/6680 (12%)] Loss: 0.52 Accuracy: 717/800 (89.62%)\u001b[0m\n",
      "\u001b[34mImages [1600/6680 (24%)] Loss: 1.07 Accuracy: 1448/1600 (90.50%)\u001b[0m\n",
      "\u001b[34mImages [2400/6680 (36%)] Loss: 0.52 Accuracy: 2192/2400 (91.33%)\u001b[0m\n",
      "\u001b[34mImages [3200/6680 (48%)] Loss: 0.24 Accuracy: 2932/3200 (91.62%)\u001b[0m\n",
      "\u001b[34mImages [4000/6680 (60%)] Loss: 0.74 Accuracy: 3670/4000 (91.75%)\u001b[0m\n",
      "\u001b[34mImages [4800/6680 (72%)] Loss: 0.23 Accuracy: 4400/4800 (91.67%)\u001b[0m\n",
      "\u001b[34mImages [5600/6680 (84%)] Loss: 0.29 Accuracy: 5141/5600 (91.80%)\u001b[0m\n",
      "\u001b[34mImages [6400/6680 (96%)] Loss: 0.39 Accuracy: 5885/6400 (91.95%)\u001b[0m\n",
      "\u001b[34mEpoch 0, Phase valid\u001b[0m\n",
      "\u001b[34mSTART VALIDATING\u001b[0m\n",
      "\u001b[34mImages [800/835 (96%)] Loss: 0.77 Accuracy: 669/800 (83.62%)\u001b[0m\n",
      "\u001b[34mEpoch 1, Phase train\u001b[0m\n",
      "\u001b[34mSTART TRAINING\u001b[0m\n",
      "\u001b[34mImages [800/6680 (12%)] Loss: 0.06 Accuracy: 755/800 (94.38%)\u001b[0m\n",
      "\u001b[34mImages [1600/6680 (24%)] Loss: 0.22 Accuracy: 1513/1600 (94.56%)\u001b[0m\n",
      "\u001b[34mImages [2400/6680 (36%)] Loss: 0.01 Accuracy: 2267/2400 (94.46%)\u001b[0m\n",
      "\u001b[34mImages [3200/6680 (48%)] Loss: 0.35 Accuracy: 3022/3200 (94.44%)\u001b[0m\n",
      "\u001b[34mImages [4000/6680 (60%)] Loss: 0.32 Accuracy: 3760/4000 (94.00%)\u001b[0m\n",
      "\u001b[34mImages [4800/6680 (72%)] Loss: 0.03 Accuracy: 4498/4800 (93.71%)\u001b[0m\n",
      "\u001b[34mImages [5600/6680 (84%)] Loss: 0.44 Accuracy: 5224/5600 (93.29%)\u001b[0m\n",
      "\u001b[34mImages [6400/6680 (96%)] Loss: 0.43 Accuracy: 5961/6400 (93.14%)\u001b[0m\n",
      "\u001b[34mEpoch 1, Phase valid\u001b[0m\n",
      "\u001b[34mSTART VALIDATING\u001b[0m\n",
      "\u001b[34mImages [800/835 (96%)] Loss: 1.07 Accuracy: 615/800 (76.88%)\u001b[0m\n",
      "\u001b[34mTesting Model on Whole Testing Dataset\u001b[0m\n",
      "\u001b[34mSTART TESTING\u001b[0m\n",
      "\u001b[34mTesting Accuracy: 76.91387559808612, Testing Loss: 1.5204909532264088\u001b[0m\n",
      "\u001b[34mTest set: Average loss: 1.5204909532264088\u001b[0m\n",
      "\u001b[34mEpoch 0, Phase train\u001b[0m\n",
      "\u001b[34mSTART TRAINING\u001b[0m\n",
      "\u001b[34mImages [800/6680 (12%)] Loss: 0.13 Accuracy: 746/800 (93.25%)\u001b[0m\n",
      "\u001b[34mImages [1600/6680 (24%)] Loss: 0.39 Accuracy: 1500/1600 (93.75%)\u001b[0m\n",
      "\u001b[34mImages [2400/6680 (36%)] Loss: 0.38 Accuracy: 2236/2400 (93.17%)\u001b[0m\n",
      "\u001b[34mImages [3200/6680 (48%)] Loss: 0.07 Accuracy: 2971/3200 (92.84%)\u001b[0m\n",
      "\u001b[34mImages [4000/6680 (60%)] Loss: 0.08 Accuracy: 3720/4000 (93.00%)\u001b[0m\n",
      "\u001b[34mImages [4800/6680 (72%)] Loss: 0.62 Accuracy: 4460/4800 (92.92%)\u001b[0m\n",
      "\u001b[34mImages [5600/6680 (84%)] Loss: 0.46 Accuracy: 5200/5600 (92.86%)\u001b[0m\n",
      "\u001b[34mImages [6400/6680 (96%)] Loss: 0.19 Accuracy: 5925/6400 (92.58%)\u001b[0m\n",
      "\u001b[34mEpoch 0, Phase valid\u001b[0m\n",
      "\u001b[34mSTART VALIDATING\u001b[0m\n",
      "\u001b[34mImages [800/835 (96%)] Loss: 1.32 Accuracy: 640/800 (80.00%)\u001b[0m\n",
      "\u001b[34mEpoch 1, Phase train\u001b[0m\n",
      "\u001b[34mSTART TRAINING\u001b[0m\n",
      "\u001b[34mImages [800/6680 (12%)] Loss: 0.02 Accuracy: 748/800 (93.50%)\u001b[0m\n",
      "\u001b[34mImages [1600/6680 (24%)] Loss: 0.03 Accuracy: 1502/1600 (93.88%)\u001b[0m\n",
      "\u001b[34mImages [2400/6680 (36%)] Loss: 0.33 Accuracy: 2262/2400 (94.25%)\u001b[0m\n",
      "\u001b[34mImages [3200/6680 (48%)] Loss: 0.24 Accuracy: 3007/3200 (93.97%)\u001b[0m\n",
      "\u001b[34mImages [4000/6680 (60%)] Loss: 0.42 Accuracy: 3745/4000 (93.62%)\u001b[0m\n",
      "\u001b[34mImages [4800/6680 (72%)] Loss: 0.84 Accuracy: 4482/4800 (93.38%)\u001b[0m\n",
      "\u001b[34mImages [5600/6680 (84%)] Loss: 1.05 Accuracy: 5203/5600 (92.91%)\u001b[0m\n",
      "\u001b[34mImages [6400/6680 (96%)] Loss: 0.72 Accuracy: 5919/6400 (92.48%)\u001b[0m\n",
      "\u001b[34mEpoch 1, Phase valid\u001b[0m\n",
      "\u001b[34mSTART VALIDATING\u001b[0m\n",
      "\u001b[34mImages [800/835 (96%)] Loss: 0.42 Accuracy: 630/800 (78.75%)\u001b[0m\n",
      "\u001b[34mEpoch 2, Phase train\u001b[0m\n",
      "\u001b[34mSTART TRAINING\u001b[0m\n",
      "\u001b[34mImages [800/6680 (12%)] Loss: 0.42 Accuracy: 754/800 (94.25%)\u001b[0m\n",
      "\u001b[34mImages [1600/6680 (24%)] Loss: 0.50 Accuracy: 1490/1600 (93.12%)\u001b[0m\n",
      "\u001b[34mImages [2400/6680 (36%)] Loss: 0.23 Accuracy: 2244/2400 (93.50%)\u001b[0m\n",
      "\u001b[34mImages [3200/6680 (48%)] Loss: 0.64 Accuracy: 2992/3200 (93.50%)\u001b[0m\n",
      "\u001b[34mImages [4000/6680 (60%)] Loss: 1.03 Accuracy: 3738/4000 (93.45%)\u001b[0m\n",
      "\u001b[34mImages [4800/6680 (72%)] Loss: 0.25 Accuracy: 4480/4800 (93.33%)\u001b[0m\n",
      "\u001b[34mImages [5600/6680 (84%)] Loss: 0.56 Accuracy: 5224/5600 (93.29%)\u001b[0m\n",
      "\u001b[34mImages [6400/6680 (96%)] Loss: 0.95 Accuracy: 5945/6400 (92.89%)\u001b[0m\n",
      "\u001b[34mEpoch 2, Phase valid\u001b[0m\n",
      "\u001b[34mSTART VALIDATING\u001b[0m\n",
      "\u001b[34mImages [800/835 (96%)] Loss: 2.13 Accuracy: 618/800 (77.25%)\u001b[0m\n",
      "\u001b[34mTesting Model on Whole Testing Dataset\u001b[0m\n",
      "\u001b[34mSTART TESTING\u001b[0m\n",
      "\u001b[34mTesting Accuracy: 78.22966507177034, Testing Loss: 1.7299158287960947\u001b[0m\n",
      "\u001b[34mTest set: Average loss: 1.7299158287960947\u001b[0m\n",
      "\u001b[34mEpoch 0, Phase train\u001b[0m\n",
      "\u001b[34mSTART TRAINING\u001b[0m\n",
      "\u001b[34mImages [800/6680 (12%)] Loss: 0.56 Accuracy: 740/800 (92.50%)\u001b[0m\n",
      "\u001b[34mImages [1600/6680 (24%)] Loss: 0.26 Accuracy: 1488/1600 (93.00%)\u001b[0m\n",
      "\u001b[34mImages [2400/6680 (36%)] Loss: 0.01 Accuracy: 2235/2400 (93.12%)\u001b[0m\n",
      "\u001b[34mImages [3200/6680 (48%)] Loss: 0.39 Accuracy: 2969/3200 (92.78%)\u001b[0m\n",
      "\u001b[34mImages [4000/6680 (60%)] Loss: 0.47 Accuracy: 3719/4000 (92.97%)\u001b[0m\n",
      "\u001b[34mImages [4800/6680 (72%)] Loss: 1.27 Accuracy: 4459/4800 (92.90%)\u001b[0m\n",
      "\u001b[34mImages [5600/6680 (84%)] Loss: 0.02 Accuracy: 5225/5600 (93.30%)\u001b[0m\n",
      "\u001b[34mImages [6400/6680 (96%)] Loss: 0.42 Accuracy: 5960/6400 (93.12%)\u001b[0m\n",
      "\u001b[34mEpoch 0, Phase valid\u001b[0m\n",
      "\u001b[34mSTART VALIDATING\u001b[0m\n",
      "\u001b[34mImages [800/835 (96%)] Loss: 1.28 Accuracy: 618/800 (77.25%)\u001b[0m\n",
      "\u001b[34mEpoch 1, Phase train\u001b[0m\n",
      "\u001b[34mSTART TRAINING\u001b[0m\n",
      "\u001b[34mImages [800/6680 (12%)] Loss: 0.14 Accuracy: 750/800 (93.75%)\u001b[0m\n",
      "\u001b[34mImages [1600/6680 (24%)] Loss: 0.21 Accuracy: 1514/1600 (94.62%)\u001b[0m\n",
      "\u001b[34mImages [2400/6680 (36%)] Loss: 0.02 Accuracy: 2274/2400 (94.75%)\u001b[0m\n",
      "\u001b[34mImages [3200/6680 (48%)] Loss: 1.17 Accuracy: 3026/3200 (94.56%)\u001b[0m\n",
      "\u001b[34mImages [4000/6680 (60%)] Loss: 0.13 Accuracy: 3775/4000 (94.38%)\u001b[0m\n",
      "\u001b[34mImages [4800/6680 (72%)] Loss: 0.42 Accuracy: 4528/4800 (94.33%)\u001b[0m\n",
      "\u001b[34mImages [5600/6680 (84%)] Loss: 0.04 Accuracy: 5275/5600 (94.20%)\u001b[0m\n",
      "\u001b[34mImages [6400/6680 (96%)] Loss: 0.44 Accuracy: 6022/6400 (94.09%)\u001b[0m\n",
      "\u001b[34mEpoch 1, Phase valid\u001b[0m\n",
      "\u001b[34mSTART VALIDATING\u001b[0m\n",
      "\u001b[34mImages [800/835 (96%)] Loss: 1.31 Accuracy: 640/800 (80.00%)\u001b[0m\n",
      "\u001b[34mEpoch 2, Phase train\u001b[0m\n",
      "\u001b[34mSTART TRAINING\u001b[0m\n",
      "\u001b[34mImages [800/6680 (12%)] Loss: 0.30 Accuracy: 761/800 (95.12%)\u001b[0m\n",
      "\u001b[34mImages [1600/6680 (24%)] Loss: 0.08 Accuracy: 1521/1600 (95.06%)\u001b[0m\n",
      "\u001b[34mImages [2400/6680 (36%)] Loss: 0.00 Accuracy: 2280/2400 (95.00%)\u001b[0m\n",
      "\u001b[34mImages [3200/6680 (48%)] Loss: 0.31 Accuracy: 3033/3200 (94.78%)\u001b[0m\n",
      "\u001b[34mImages [4000/6680 (60%)] Loss: 0.09 Accuracy: 3780/4000 (94.50%)\u001b[0m\n",
      "\u001b[34mImages [4800/6680 (72%)] Loss: 0.06 Accuracy: 4526/4800 (94.29%)\u001b[0m\n",
      "\u001b[34mImages [5600/6680 (84%)] Loss: 0.01 Accuracy: 5284/5600 (94.36%)\u001b[0m\n",
      "\u001b[34mImages [6400/6680 (96%)] Loss: 0.33 Accuracy: 6038/6400 (94.34%)\u001b[0m\n",
      "\u001b[34mEpoch 2, Phase valid\u001b[0m\n",
      "\u001b[34mSTART VALIDATING\u001b[0m\n",
      "\u001b[34mImages [800/835 (96%)] Loss: 0.67 Accuracy: 648/800 (81.00%)\u001b[0m\n",
      "\u001b[34mEpoch 3, Phase train\u001b[0m\n",
      "\u001b[34mSTART TRAINING\u001b[0m\n",
      "\u001b[34mImages [800/6680 (12%)] Loss: 0.30 Accuracy: 759/800 (94.88%)\u001b[0m\n",
      "\u001b[34mImages [1600/6680 (24%)] Loss: 0.18 Accuracy: 1503/1600 (93.94%)\u001b[0m\n",
      "\u001b[34mImages [2400/6680 (36%)] Loss: 0.01 Accuracy: 2248/2400 (93.67%)\u001b[0m\n",
      "\u001b[34mImages [3200/6680 (48%)] Loss: 0.18 Accuracy: 2986/3200 (93.31%)\u001b[0m\n",
      "\u001b[34mImages [4000/6680 (60%)] Loss: 0.12 Accuracy: 3728/4000 (93.20%)\u001b[0m\n",
      "\u001b[34mImages [4800/6680 (72%)] Loss: 0.04 Accuracy: 4472/4800 (93.17%)\u001b[0m\n",
      "\u001b[34mImages [5600/6680 (84%)] Loss: 0.32 Accuracy: 5222/5600 (93.25%)\u001b[0m\n",
      "\u001b[34mImages [6400/6680 (96%)] Loss: 0.03 Accuracy: 5970/6400 (93.28%)\u001b[0m\n",
      "\u001b[34mEpoch 3, Phase valid\u001b[0m\n",
      "\u001b[34mSTART VALIDATING\u001b[0m\n",
      "\u001b[34mImages [800/835 (96%)] Loss: 2.28 Accuracy: 625/800 (78.12%)\u001b[0m\n",
      "\u001b[34mTesting Model on Whole Testing Dataset\u001b[0m\n",
      "\u001b[34mSTART TESTING\u001b[0m\n",
      "\u001b[34mTesting Accuracy: 79.06698564593302, Testing Loss: 1.83171893706162\u001b[0m\n",
      "\u001b[34mTest set: Average loss: 1.83171893706162\u001b[0m\n",
      "\u001b[34mEpoch 0, Phase train\u001b[0m\n",
      "\u001b[34mSTART TRAINING\u001b[0m\n",
      "\u001b[34mImages [800/6680 (12%)] Loss: 0.46 Accuracy: 741/800 (92.62%)\u001b[0m\n",
      "\u001b[34mImages [1600/6680 (24%)] Loss: 0.02 Accuracy: 1486/1600 (92.88%)\u001b[0m\n",
      "\u001b[34mImages [2400/6680 (36%)] Loss: 0.22 Accuracy: 2240/2400 (93.33%)\u001b[0m\n",
      "\u001b[34mImages [3200/6680 (48%)] Loss: 0.05 Accuracy: 2999/3200 (93.72%)\u001b[0m\n",
      "\u001b[34mImages [4000/6680 (60%)] Loss: 0.46 Accuracy: 3744/4000 (93.60%)\u001b[0m\n",
      "\u001b[34mImages [4800/6680 (72%)] Loss: 0.11 Accuracy: 4483/4800 (93.40%)\u001b[0m\n",
      "\u001b[34mImages [5600/6680 (84%)] Loss: 0.35 Accuracy: 5214/5600 (93.11%)\u001b[0m\n",
      "\u001b[34mImages [6400/6680 (96%)] Loss: 0.48 Accuracy: 5970/6400 (93.28%)\u001b[0m\n",
      "\u001b[34mEpoch 0, Phase valid\u001b[0m\n",
      "\u001b[34mSTART VALIDATING\u001b[0m\n",
      "\u001b[34mImages [800/835 (96%)] Loss: 1.15 Accuracy: 622/800 (77.75%)\u001b[0m\n",
      "\u001b[34mEpoch 1, Phase train\u001b[0m\n",
      "\u001b[34mSTART TRAINING\u001b[0m\n",
      "\u001b[34mImages [800/6680 (12%)] Loss: 0.06 Accuracy: 762/800 (95.25%)\u001b[0m\n",
      "\u001b[34mImages [1600/6680 (24%)] Loss: 0.17 Accuracy: 1518/1600 (94.88%)\u001b[0m\n",
      "\u001b[34mImages [2400/6680 (36%)] Loss: 0.03 Accuracy: 2287/2400 (95.29%)\u001b[0m\n",
      "\u001b[34mImages [3200/6680 (48%)] Loss: 0.27 Accuracy: 3053/3200 (95.41%)\u001b[0m\n",
      "\u001b[34mImages [4000/6680 (60%)] Loss: 0.60 Accuracy: 3818/4000 (95.45%)\u001b[0m\n",
      "\u001b[34mImages [4800/6680 (72%)] Loss: 0.09 Accuracy: 4571/4800 (95.23%)\u001b[0m\n",
      "\u001b[34mImages [5600/6680 (84%)] Loss: 0.46 Accuracy: 5321/5600 (95.02%)\u001b[0m\n",
      "\u001b[34mImages [6400/6680 (96%)] Loss: 1.07 Accuracy: 6066/6400 (94.78%)\u001b[0m\n",
      "\u001b[34mEpoch 1, Phase valid\u001b[0m\n",
      "\u001b[34mSTART VALIDATING\u001b[0m\n",
      "\u001b[34mImages [800/835 (96%)] Loss: 1.70 Accuracy: 646/800 (80.75%)\u001b[0m\n",
      "\u001b[34mEpoch 2, Phase train\u001b[0m\n",
      "\u001b[34mSTART TRAINING\u001b[0m\n",
      "\u001b[34mImages [800/6680 (12%)] Loss: 0.47 Accuracy: 746/800 (93.25%)\u001b[0m\n",
      "\u001b[34mImages [1600/6680 (24%)] Loss: 0.01 Accuracy: 1504/1600 (94.00%)\u001b[0m\n",
      "\u001b[34mImages [2400/6680 (36%)] Loss: 0.77 Accuracy: 2258/2400 (94.08%)\u001b[0m\n",
      "\u001b[34mImages [3200/6680 (48%)] Loss: 1.08 Accuracy: 3013/3200 (94.16%)\u001b[0m\n",
      "\u001b[34mImages [4000/6680 (60%)] Loss: 0.52 Accuracy: 3773/4000 (94.33%)\u001b[0m\n",
      "\u001b[34mImages [4800/6680 (72%)] Loss: 0.19 Accuracy: 4523/4800 (94.23%)\u001b[0m\n",
      "\u001b[34mImages [5600/6680 (84%)] Loss: 0.14 Accuracy: 5276/5600 (94.21%)\u001b[0m\n",
      "\u001b[34mImages [6400/6680 (96%)] Loss: 0.29 Accuracy: 6024/6400 (94.12%)\u001b[0m\n",
      "\u001b[34mEpoch 2, Phase valid\u001b[0m\n",
      "\u001b[34mSTART VALIDATING\u001b[0m\n",
      "\u001b[34mImages [800/835 (96%)] Loss: 4.23 Accuracy: 649/800 (81.12%)\u001b[0m\n",
      "\u001b[34mTesting Model on Whole Testing Dataset\u001b[0m\n",
      "\u001b[34mSTART TESTING\u001b[0m\n",
      "\u001b[34mTesting Accuracy: 78.70813397129187, Testing Loss: 2.0427939543883764\u001b[0m\n",
      "\u001b[34mTest set: Average loss: 2.0427939543883764\u001b[0m\n",
      "\u001b[34mEpoch 0, Phase train\u001b[0m\n",
      "\u001b[34mSTART TRAINING\u001b[0m\n",
      "\u001b[34mImages [800/6680 (12%)] Loss: 0.31 Accuracy: 760/800 (95.00%)\u001b[0m\n",
      "\u001b[34mImages [1600/6680 (24%)] Loss: 0.03 Accuracy: 1534/1600 (95.88%)\u001b[0m\n",
      "\u001b[34mImages [2400/6680 (36%)] Loss: 0.03 Accuracy: 2308/2400 (96.17%)\u001b[0m\n",
      "\u001b[34mImages [3200/6680 (48%)] Loss: 0.31 Accuracy: 3080/3200 (96.25%)\u001b[0m\n",
      "\u001b[34mImages [4000/6680 (60%)] Loss: 0.18 Accuracy: 3851/4000 (96.28%)\u001b[0m\n",
      "\u001b[34mImages [4800/6680 (72%)] Loss: 0.13 Accuracy: 4615/4800 (96.15%)\u001b[0m\n",
      "\u001b[34mImages [5600/6680 (84%)] Loss: 0.16 Accuracy: 5379/5600 (96.05%)\u001b[0m\n",
      "\u001b[34mImages [6400/6680 (96%)] Loss: 0.00 Accuracy: 6139/6400 (95.92%)\u001b[0m\n",
      "\u001b[34mEpoch 0, Phase valid\u001b[0m\n",
      "\u001b[34mSTART VALIDATING\u001b[0m\n",
      "\u001b[34mImages [800/835 (96%)] Loss: 0.90 Accuracy: 639/800 (79.88%)\u001b[0m\n",
      "\u001b[34mEpoch 1, Phase train\u001b[0m\n",
      "\u001b[34mSTART TRAINING\u001b[0m\n",
      "\u001b[34mImages [800/6680 (12%)] Loss: 0.00 Accuracy: 764/800 (95.50%)\u001b[0m\n",
      "\u001b[34mImages [1600/6680 (24%)] Loss: 0.50 Accuracy: 1527/1600 (95.44%)\u001b[0m\n",
      "\u001b[34mImages [2400/6680 (36%)] Loss: 0.41 Accuracy: 2278/2400 (94.92%)\u001b[0m\n",
      "\u001b[34mImages [3200/6680 (48%)] Loss: 0.24 Accuracy: 3031/3200 (94.72%)\u001b[0m\n",
      "\u001b[34mImages [4000/6680 (60%)] Loss: 0.03 Accuracy: 3798/4000 (94.95%)\u001b[0m\n",
      "\u001b[34mImages [4800/6680 (72%)] Loss: 0.62 Accuracy: 4552/4800 (94.83%)\u001b[0m\n",
      "\u001b[34mImages [5600/6680 (84%)] Loss: 0.18 Accuracy: 5310/5600 (94.82%)\u001b[0m\n",
      "\u001b[34mImages [6400/6680 (96%)] Loss: 0.15 Accuracy: 6070/6400 (94.84%)\u001b[0m\n",
      "\u001b[34mEpoch 1, Phase valid\u001b[0m\n",
      "\u001b[34mSTART VALIDATING\u001b[0m\n",
      "\u001b[34mImages [800/835 (96%)] Loss: 2.32 Accuracy: 645/800 (80.62%)\u001b[0m\n",
      "\u001b[34mEpoch 2, Phase train\u001b[0m\n",
      "\u001b[34mSTART TRAINING\u001b[0m\n",
      "\u001b[34mImages [800/6680 (12%)] Loss: 0.27 Accuracy: 772/800 (96.50%)\u001b[0m\n",
      "\u001b[34mImages [1600/6680 (24%)] Loss: 0.02 Accuracy: 1547/1600 (96.69%)\u001b[0m\n",
      "\u001b[34mImages [2400/6680 (36%)] Loss: 0.21 Accuracy: 2315/2400 (96.46%)\u001b[0m\n",
      "\u001b[34mImages [3200/6680 (48%)] Loss: 0.08 Accuracy: 3072/3200 (96.00%)\u001b[0m\n",
      "\u001b[34mImages [4000/6680 (60%)] Loss: 0.02 Accuracy: 3846/4000 (96.15%)\u001b[0m\n",
      "\u001b[34mImages [4800/6680 (72%)] Loss: 0.88 Accuracy: 4606/4800 (95.96%)\u001b[0m\n",
      "\u001b[34mImages [5600/6680 (84%)] Loss: 0.10 Accuracy: 5366/5600 (95.82%)\u001b[0m\n",
      "\u001b[34mImages [6400/6680 (96%)] Loss: 0.61 Accuracy: 6134/6400 (95.84%)\u001b[0m\n",
      "\u001b[34mEpoch 2, Phase valid\u001b[0m\n",
      "\u001b[34mSTART VALIDATING\u001b[0m\n",
      "\u001b[34mImages [800/835 (96%)] Loss: 2.41 Accuracy: 642/800 (80.25%)\u001b[0m\n",
      "\u001b[34mTesting Model on Whole Testing Dataset\u001b[0m\n",
      "\u001b[34mSTART TESTING\u001b[0m\n",
      "\u001b[34mTesting Accuracy: 78.94736842105263, Testing Loss: 1.9071477195292568\u001b[0m\n",
      "\u001b[34mTest set: Average loss: 1.9071477195292568\u001b[0m\n",
      "\u001b[34mSaving the model to path /opt/ml/model/model.pth\u001b[0m\n",
      "\u001b[34mWARNING: pip is being invoked by an old script wrapper. This will fail in a future version of pip.\u001b[0m\n",
      "\u001b[34mPlease see https://github.com/pypa/pip/issues/5599 for advice on fixing the underlying issue.\u001b[0m\n",
      "\u001b[34mTo avoid this problem you can invoke Python with '-m pip' instead of running pip directly.\u001b[0m\n",
      "\u001b[34mWARNING: Running pip as the 'root' user can result in broken permissions and conflicting behaviour with the system package manager. It is recommended to use a virtual environment instead: https://pip.pypa.io/warnings/venv\u001b[0m\n",
      "\u001b[34mDownloading: \"https://download.pytorch.org/models/resnet50-19c8e357.pth\" to /root/.cache/torch/hub/checkpoints/resnet50-19c8e357.pth\u001b[0m\n",
      "\u001b[34m#015  0%|          | 0.00/97.8M [00:00<?, ?B/s]#015  5%|▍         | 4.70M/97.8M [00:00<00:01, 49.2MB/s]#015 11%|█         | 10.3M/97.8M [00:00<00:01, 54.8MB/s]#015 17%|█▋        | 16.2M/97.8M [00:00<00:01, 57.9MB/s]#015 23%|██▎       | 22.8M/97.8M [00:00<00:01, 62.2MB/s]#015 30%|██▉       | 29.3M/97.8M [00:00<00:01, 64.4MB/s]#015 37%|███▋      | 35.8M/97.8M [00:00<00:00, 65.7MB/s]#015 43%|████▎     | 42.3M/97.8M [00:00<00:00, 66.6MB/s]#015 50%|████▉     | 48.7M/97.8M [00:00<00:00, 66.9MB/s]#015 56%|█████▋    | 55.1M/97.8M [00:00<00:00, 64.5MB/s]#015 63%|██████▎   | 61.6M/97.8M [00:01<00:00, 65.6MB/s]#015 70%|██████▉   | 68.2M/97.8M [00:01<00:00, 66.7MB/s]#015 77%|███████▋  | 74.8M/97.8M [00:01<00:00, 67.3MB/s]#015 83%|████████▎ | 81.4M/97.8M [00:01<00:00, 67.7MB/s]#015 90%|█████████ | 88.0M/97.8M [00:01<00:00, 68.3MB/s]#015 97%|█████████▋| 94.7M/97.8M [00:01<00:00, 68.8MB/s]#015100%|██████████| 97.8M/97.8M [00:01<00:00, 65.8MB/s]\u001b[0m\n",
      "\u001b[34m2023-03-20 08:24:07,983 sagemaker-training-toolkit INFO     Reporting training SUCCESS\u001b[0m\n",
      "\n",
      "2023-03-20 08:24:19 Uploading - Uploading generated training model\n",
      "2023-03-20 08:24:48 Completed - Training job completed\n",
      "LowGPUUtilization: IssuesFound\n",
      "ProfilerReport: IssuesFound\n",
      "Training seconds: 4189\n",
      "Billable seconds: 4189\n"
     ]
    }
   ],
   "source": [
    "estimator.fit(data_channels, wait=True)\n",
    "#running on 10 epochs with best hyperparameters"
   ]
  },
  {
   "cell_type": "code",
   "execution_count": 24,
   "metadata": {
    "tags": []
   },
   "outputs": [
    {
     "data": {
      "text/plain": [
       "<sagemaker.pytorch.estimator.PyTorch at 0x7f7ab07dea10>"
      ]
     },
     "execution_count": 24,
     "metadata": {},
     "output_type": "execute_result"
    }
   ],
   "source": [
    "estimator"
   ]
  },
  {
   "cell_type": "code",
   "execution_count": 25,
   "metadata": {
    "tags": []
   },
   "outputs": [
    {
     "data": {
      "text/plain": [
       "['metadata']"
      ]
     },
     "execution_count": 25,
     "metadata": {},
     "output_type": "execute_result"
    }
   ],
   "source": [
    "os.listdir(path='/opt/ml')"
   ]
  },
  {
   "cell_type": "markdown",
   "metadata": {},
   "source": [
    "# Estimator using best hyperparameters \n",
    "# <sagemaker.pytorch.estimator.PyTorch at 0x7f7ab07dea10>"
   ]
  },
  {
   "cell_type": "code",
   "execution_count": 26,
   "metadata": {
    "tags": []
   },
   "outputs": [
    {
     "data": {
      "text/plain": [
       "{'batch-size': '\"32\"',\n",
       " 'lr': '\"0.0036613232228599303\"',\n",
       " 'sagemaker_submit_directory': '\"s3://sagemaker-us-west-2-981173689685/pytorch-training-2023-03-20-07-13-15-618/source/sourcedir.tar.gz\"',\n",
       " 'sagemaker_program': '\"train_model.py\"',\n",
       " 'sagemaker_container_log_level': '20',\n",
       " 'sagemaker_job_name': '\"pytorch-training-2023-03-20-07-13-15-618\"',\n",
       " 'sagemaker_region': '\"us-west-2\"'}"
      ]
     },
     "execution_count": 26,
     "metadata": {},
     "output_type": "execute_result"
    }
   ],
   "source": [
    "estimator.hyperparameters()"
   ]
  },
  {
   "cell_type": "markdown",
   "metadata": {},
   "source": [
    "\"\"\"\n",
    "{'batch-size': '\"32\"',\n",
    " 'lr': '\"0.0036613232228599303\"',\n",
    " 'sagemaker_submit_directory': '\"s3://sagemaker-us-west-2-981173689685/pytorch-training-2023-03-20-07-13-15-618/source/sourcedir.tar.gz\"',\n",
    " 'sagemaker_program': '\"train_model.py\"',\n",
    " 'sagemaker_container_log_level': '20',\n",
    " 'sagemaker_job_name': '\"pytorch-training-2023-03-20-07-13-15-618\"',\n",
    " 'sagemaker_region': '\"us-west-2\"'}\n",
    " \"\"\""
   ]
  },
  {
   "cell_type": "code",
   "execution_count": 28,
   "metadata": {
    "tags": []
   },
   "outputs": [],
   "source": [
    "estimator_besthp_training_job_name = 'pytorch-training-2023-03-20-07-13-15-618'"
   ]
  },
  {
   "cell_type": "markdown",
   "metadata": {},
   "source": [
    "# Save the new estimator with best HPs"
   ]
  },
  {
   "cell_type": "code",
   "execution_count": 29,
   "metadata": {
    "tags": []
   },
   "outputs": [
    {
     "name": "stdout",
     "output_type": "stream",
     "text": [
      "\n",
      "2023-03-20 08:24:59 Starting - Preparing the instances for training\n",
      "2023-03-20 08:24:59 Downloading - Downloading input data\n",
      "2023-03-20 08:24:59 Training - Training image download completed. Training in progress.\n",
      "2023-03-20 08:24:59 Uploading - Uploading generated training model\n",
      "2023-03-20 08:24:59 Completed - Training job completed\n"
     ]
    }
   ],
   "source": [
    "#For training jobs, use this code to attach a complted training job:\n",
    "from sagemaker.pytorch import PyTorch\n",
    "estimator_new = PyTorch.attach('pytorch-training-2023-03-20-07-13-15-618')\n"
   ]
  },
  {
   "cell_type": "code",
   "execution_count": 30,
   "metadata": {
    "tags": []
   },
   "outputs": [
    {
     "data": {
      "text/plain": [
       "<sagemaker.pytorch.estimator.PyTorch at 0x7f7aae293150>"
      ]
     },
     "execution_count": 30,
     "metadata": {},
     "output_type": "execute_result"
    }
   ],
   "source": [
    "estimator_new"
   ]
  },
  {
   "cell_type": "code",
   "execution_count": 31,
   "metadata": {
    "tags": []
   },
   "outputs": [
    {
     "data": {
      "text/plain": [
       "<sagemaker.pytorch.estimator.PyTorch at 0x7f7aae293150>"
      ]
     },
     "execution_count": 31,
     "metadata": {},
     "output_type": "execute_result"
    }
   ],
   "source": [
    "estimator = estimator_new\n",
    "estimator"
   ]
  },
  {
   "cell_type": "code",
   "execution_count": null,
   "metadata": {
    "tags": []
   },
   "outputs": [],
   "source": []
  },
  {
   "cell_type": "code",
   "execution_count": 32,
   "metadata": {},
   "outputs": [],
   "source": [
    "# TODO: Plot a debugging output.\n",
    "from smdebug.trials import create_trial\n",
    "from smdebug.core.modes import ModeKeys"
   ]
  },
  {
   "cell_type": "code",
   "execution_count": 33,
   "metadata": {
    "tags": []
   },
   "outputs": [],
   "source": [
    "session = boto3.session.Session()\n",
    "region = session.region_name"
   ]
  },
  {
   "cell_type": "code",
   "execution_count": 34,
   "metadata": {
    "tags": []
   },
   "outputs": [
    {
     "name": "stdout",
     "output_type": "stream",
     "text": [
      "Training jobname: pytorch-training-2023-03-20-07-13-15-618\n",
      "Region: us-west-2\n"
     ]
    }
   ],
   "source": [
    "training_job_name = estimator.latest_training_job.name\n",
    "print(f\"Training jobname: {training_job_name}\")\n",
    "print(f\"Region: {region}\")\n"
   ]
  },
  {
   "cell_type": "code",
   "execution_count": 35,
   "metadata": {
    "tags": []
   },
   "outputs": [],
   "source": [
    "debut_output_path_generated = estimator.latest_job_debugger_artifacts_path()\n"
   ]
  },
  {
   "cell_type": "code",
   "execution_count": 36,
   "metadata": {
    "tags": []
   },
   "outputs": [
    {
     "name": "stdout",
     "output_type": "stream",
     "text": [
      "None\n"
     ]
    }
   ],
   "source": [
    "print(debut_output_path_generated)\n",
    "\n",
    "#if NONE, then hardcode the path below"
   ]
  },
  {
   "cell_type": "code",
   "execution_count": 37,
   "metadata": {},
   "outputs": [
    {
     "name": "stdout",
     "output_type": "stream",
     "text": [
      "s3://sumeet-proj3/output/pytorch-training-2023-03-20-07-13-15-618/debug-output/\n"
     ]
    }
   ],
   "source": [
    "#hardcoded debug output path\n",
    "debug_output_path = \"s3://sumeet-proj3/output/pytorch-training-2023-03-20-07-13-15-618/debug-output/\"\n",
    "print(debug_output_path)"
   ]
  },
  {
   "cell_type": "markdown",
   "metadata": {},
   "source": []
  },
  {
   "cell_type": "code",
   "execution_count": 38,
   "metadata": {},
   "outputs": [
    {
     "name": "stdout",
     "output_type": "stream",
     "text": [
      "[2023-03-20 08:31:55.519 datascience-1-0-ml-t3-medium-fbbacbd136ea35c00e5ce9203df8:102 INFO s3_trial.py:42] Loading trial  at path s3://sumeet-proj3/output/pytorch-training-2023-03-20-07-13-15-618/debug-output/\n",
      "[2023-03-20 08:31:57.528 datascience-1-0-ml-t3-medium-fbbacbd136ea35c00e5ce9203df8:102 WARNING s3handler.py:183] Encountered the exception An error occurred while reading from response stream: ('Connection broken: IncompleteRead(0 bytes read, 4574 more expected)', IncompleteRead(0 bytes read, 4574 more expected)) while reading s3://sumeet-proj3/output/pytorch-training-2023-03-20-07-13-15-618/debug-output/index/000000000/000000000000_worker_0.json . Will retry now\n"
     ]
    }
   ],
   "source": [
    "trial = create_trial(debug_output_path)\n"
   ]
  },
  {
   "cell_type": "code",
   "execution_count": 54,
   "metadata": {
    "tags": []
   },
   "outputs": [],
   "source": []
  },
  {
   "cell_type": "code",
   "execution_count": 39,
   "metadata": {
    "tags": []
   },
   "outputs": [
    {
     "name": "stdout",
     "output_type": "stream",
     "text": [
      "[2023-03-20 08:33:40.426 datascience-1-0-ml-t3-medium-fbbacbd136ea35c00e5ce9203df8:102 INFO trial.py:198] Training has ended, will refresh one final time in 1 sec.\n",
      "[2023-03-20 08:33:41.446 datascience-1-0-ml-t3-medium-fbbacbd136ea35c00e5ce9203df8:102 INFO trial.py:210] Loaded all steps\n",
      "['CrossEntropyLoss_output_0', 'gradient/ResNet_fc.0.bias', 'gradient/ResNet_fc.0.weight', 'layer1.0.relu_input_0', 'layer1.0.relu_input_1', 'layer1.0.relu_input_2', 'layer1.1.relu_input_0', 'layer1.1.relu_input_1', 'layer1.1.relu_input_2', 'layer1.2.relu_input_0', 'layer1.2.relu_input_1', 'layer1.2.relu_input_2', 'layer2.0.relu_input_0', 'layer2.0.relu_input_1', 'layer2.0.relu_input_2', 'layer2.1.relu_input_0', 'layer2.1.relu_input_1', 'layer2.1.relu_input_2', 'layer2.2.relu_input_0', 'layer2.2.relu_input_1', 'layer2.2.relu_input_2', 'layer2.3.relu_input_0', 'layer2.3.relu_input_1', 'layer2.3.relu_input_2', 'layer3.0.relu_input_0', 'layer3.0.relu_input_1', 'layer3.0.relu_input_2', 'layer3.1.relu_input_0', 'layer3.1.relu_input_1', 'layer3.1.relu_input_2', 'layer3.2.relu_input_0', 'layer3.2.relu_input_1', 'layer3.2.relu_input_2', 'layer3.3.relu_input_0', 'layer3.3.relu_input_1', 'layer3.3.relu_input_2', 'layer3.4.relu_input_0', 'layer3.4.relu_input_1', 'layer3.4.relu_input_2', 'layer3.5.relu_input_0', 'layer3.5.relu_input_1', 'layer3.5.relu_input_2', 'layer4.0.relu_input_0', 'layer4.0.relu_input_1', 'layer4.0.relu_input_2', 'layer4.1.relu_input_0', 'layer4.1.relu_input_1', 'layer4.1.relu_input_2', 'layer4.2.relu_input_0', 'layer4.2.relu_input_1', 'layer4.2.relu_input_2', 'relu_input_0']\n"
     ]
    }
   ],
   "source": [
    "print(trial.tensor_names())"
   ]
  },
  {
   "cell_type": "markdown",
   "metadata": {},
   "source": [
    "#"
   ]
  },
  {
   "cell_type": "code",
   "execution_count": 40,
   "metadata": {
    "tags": []
   },
   "outputs": [
    {
     "name": "stdout",
     "output_type": "stream",
     "text": [
      "5225\n",
      "675\n"
     ]
    }
   ],
   "source": [
    "print(len(trial.tensor(\"CrossEntropyLoss_output_0\").steps(mode=ModeKeys.TRAIN)))\n",
    "print(len(trial.tensor(\"CrossEntropyLoss_output_0\").steps(mode=ModeKeys.EVAL)))"
   ]
  },
  {
   "cell_type": "code",
   "execution_count": 57,
   "metadata": {
    "tags": []
   },
   "outputs": [],
   "source": []
  },
  {
   "cell_type": "code",
   "execution_count": 43,
   "metadata": {
    "tags": []
   },
   "outputs": [
    {
     "name": "stdout",
     "output_type": "stream",
     "text": [
      "ProfilerConfig:{'S3OutputPath': 's3://sagemaker-us-west-2-981173689685/', 'ProfilingIntervalInMilliseconds': 500, 'ProfilingParameters': {'DataloaderProfilingConfig': '{\"StartStep\": 0, \"NumSteps\": 10, \"MetricsRegex\": \".*\", }', 'DetailedProfilingConfig': '{\"StartStep\": 0, \"NumSteps\": 10, }', 'FileOpenFailThreshold': '50', 'HorovodProfilingConfig': '{\"StartStep\": 0, \"NumSteps\": 10, }', 'LocalPath': '/opt/ml/output/profiler', 'PythonProfilingConfig': '{\"StartStep\": 0, \"NumSteps\": 10, \"ProfilerName\": \"cprofile\", \"cProfileTimer\": \"total_time\", }', 'RotateFileCloseIntervalInSeconds': '60', 'RotateMaxFileSizeInBytes': '10485760', 'SMDataParallelProfilingConfig': '{\"StartStep\": 0, \"NumSteps\": 10, }'}, 'DisableProfiler': False}\n",
      "s3 path:s3://sagemaker-us-west-2-981173689685/pytorch-training-2023-03-20-07-13-15-618/profiler-output\n",
      "\n",
      "\n",
      "Profiler data from system is available\n"
     ]
    }
   ],
   "source": [
    "from smdebug.profiler.analysis.notebook_utils.training_job import TrainingJob\n",
    "from smdebug.profiler.analysis.notebook_utils.timeline_charts import TimelineCharts\n",
    "\n",
    "\n",
    "\n",
    "tj = TrainingJob(training_job_name, region)\n",
    "tj.wait_for_sys_profiling_data_to_be_available()"
   ]
  },
  {
   "cell_type": "code",
   "execution_count": 44,
   "metadata": {
    "tags": []
   },
   "outputs": [],
   "source": [
    "system_metrics_reader = tj.get_systems_metrics_reader()\n",
    "system_metrics_reader.refresh_event_file_list()"
   ]
  },
  {
   "cell_type": "code",
   "execution_count": 45,
   "metadata": {
    "tags": []
   },
   "outputs": [
    {
     "name": "stdout",
     "output_type": "stream",
     "text": [
      "[2023-03-20 08:45:10.454 datascience-1-0-ml-t3-medium-fbbacbd136ea35c00e5ce9203df8:102 INFO metrics_reader_base.py:134] Getting 71 event files\n",
      "select events:['total']\n",
      "select dimensions:['CPU', 'GPU']\n",
      "filtered_events:{'total'}\n",
      "filtered_dimensions:{'GPUMemoryUtilization-nodeid:algo-1', 'CPUUtilization-nodeid:algo-1', 'GPUUtilization-nodeid:algo-1'}\n"
     ]
    },
    {
     "data": {
      "text/html": [
       "\n",
       "\n",
       "\n",
       "\n",
       "\n",
       "\n",
       "  <div class=\"bk-root\" id=\"0bca885e-17bf-4709-b176-e72710ee609f\" data-root-id=\"1127\"></div>\n"
      ]
     },
     "metadata": {},
     "output_type": "display_data"
    },
    {
     "data": {
      "application/javascript": [
       "(function(root) {\n",
       "  function embed_document(root) {\n",
       "    \n",
       "  var docs_json = {\"5eee8378-4b1c-4db5-be45-98527d27d7a2\":{\"roots\":{\"references\":[{\"attributes\":{\"children\":[{\"id\":\"1126\",\"type\":\"Column\"},{\"id\":\"1001\",\"type\":\"Div\"}]},\"id\":\"1127\",\"type\":\"Row\"},{\"attributes\":{\"fill_alpha\":{\"value\":0},\"line_width\":{\"value\":0},\"x\":{\"field\":\"x\"},\"y\":{\"field\":\"y\"}},\"id\":\"1078\",\"type\":\"Circle\"},{\"attributes\":{\"line_color\":\"blue\",\"x\":{\"field\":\"x\"},\"y\":{\"field\":\"y\"}},\"id\":\"1077\",\"type\":\"Line\"},{\"attributes\":{},\"id\":\"1012\",\"type\":\"BasicTicker\"},{\"attributes\":{\"args\":{\"div\":{\"id\":\"1001\",\"type\":\"Div\"},\"s1\":{\"id\":\"1075\",\"type\":\"ColumnDataSource\"}},\"code\":\"\\n                            console.log('Running CustomJS callback now.');\\n                            var inds = s1.selected.indices;\\n                            console.log(inds);\\n                            var line = \\\"<span style=float:left;clear:left;font_size=13px><b> Selected index range: [\\\" + Math.min.apply(Math,inds) + \\\",\\\" + Math.max.apply(Math,inds) + \\\"]</b></span>\\\\n\\\";\\n                            console.log(line)\\n                            var text = div.text.concat(line);\\n                            var lines = text.split(\\\"\\\\n\\\")\\n                            if (lines.length > 35)\\n                                lines.shift();\\n                            div.text = lines.join(\\\"\\\\n\\\");\"},\"id\":\"1076\",\"type\":\"CustomJS\"},{\"attributes\":{\"active_drag\":\"auto\",\"active_inspect\":\"auto\",\"active_multi\":null,\"active_scroll\":\"auto\",\"active_tap\":\"auto\",\"tools\":[{\"id\":\"1062\",\"type\":\"CrosshairTool\"},{\"id\":\"1063\",\"type\":\"BoxSelectTool\"},{\"id\":\"1064\",\"type\":\"PanTool\"},{\"id\":\"1065\",\"type\":\"ResetTool\"},{\"id\":\"1066\",\"type\":\"SaveTool\"},{\"id\":\"1067\",\"type\":\"WheelZoomTool\"},{\"id\":\"1083\",\"type\":\"HoverTool\"}]},\"id\":\"1068\",\"type\":\"Toolbar\"},{\"attributes\":{\"below\":[{\"id\":\"1093\",\"type\":\"LinearAxis\"}],\"center\":[{\"id\":\"1097\",\"type\":\"Grid\"},{\"id\":\"1102\",\"type\":\"Grid\"}],\"js_event_callbacks\":{\"selectiongeometry\":[{\"id\":\"1117\",\"type\":\"CustomJS\"}]},\"left\":[{\"id\":\"1098\",\"type\":\"LinearAxis\"}],\"plot_height\":200,\"plot_width\":1000,\"renderers\":[{\"id\":\"1120\",\"type\":\"GlyphRenderer\"},{\"id\":\"1122\",\"type\":\"GlyphRenderer\"}],\"title\":{\"id\":\"1133\",\"type\":\"Title\"},\"toolbar\":{\"id\":\"1109\",\"type\":\"Toolbar\"},\"x_range\":{\"id\":\"1003\",\"type\":\"Range1d\"},\"x_scale\":{\"id\":\"1089\",\"type\":\"LinearScale\"},\"y_range\":{\"id\":\"1087\",\"type\":\"Range1d\"},\"y_scale\":{\"id\":\"1091\",\"type\":\"LinearScale\"}},\"id\":\"1085\",\"subtype\":\"Figure\",\"type\":\"Plot\"},{\"attributes\":{\"ticker\":{\"id\":\"1012\",\"type\":\"BasicTicker\"},\"visible\":false},\"id\":\"1015\",\"type\":\"Grid\"},{\"attributes\":{},\"id\":\"1062\",\"type\":\"CrosshairTool\"},{\"attributes\":{\"callback\":null,\"dimensions\":\"width\",\"overlay\":{\"id\":\"1149\",\"type\":\"BoxAnnotation\"}},\"id\":\"1063\",\"type\":\"BoxSelectTool\"},{\"attributes\":{},\"id\":\"1064\",\"type\":\"PanTool\"},{\"attributes\":{},\"id\":\"1066\",\"type\":\"SaveTool\"},{\"attributes\":{},\"id\":\"1065\",\"type\":\"ResetTool\"},{\"attributes\":{\"dimensions\":\"width\"},\"id\":\"1067\",\"type\":\"WheelZoomTool\"},{\"attributes\":{},\"id\":\"1009\",\"type\":\"LinearScale\"},{\"attributes\":{\"data_source\":{\"id\":\"1075\",\"type\":\"ColumnDataSource\"},\"glyph\":{\"id\":\"1078\",\"type\":\"Circle\"},\"hover_glyph\":null,\"muted_glyph\":null,\"view\":{\"id\":\"1082\",\"type\":\"CDSView\"}},\"id\":\"1081\",\"type\":\"GlyphRenderer\"},{\"attributes\":{\"axis_label\":\"GPUMemoryUtilization-nodeid:algo-1_total\",\"formatter\":{\"id\":\"1136\",\"type\":\"BasicTickFormatter\"},\"ticker\":{\"id\":\"1017\",\"type\":\"BasicTicker\"}},\"id\":\"1016\",\"type\":\"LinearAxis\"},{\"attributes\":{\"dimension\":1,\"ticker\":{\"id\":\"1017\",\"type\":\"BasicTicker\"},\"visible\":false},\"id\":\"1020\",\"type\":\"Grid\"},{\"attributes\":{\"source\":{\"id\":\"1075\",\"type\":\"ColumnDataSource\"}},\"id\":\"1082\",\"type\":\"CDSView\"},{\"attributes\":{\"source\":{\"id\":\"1075\",\"type\":\"ColumnDataSource\"}},\"id\":\"1080\",\"type\":\"CDSView\"},{\"attributes\":{\"data_source\":{\"id\":\"1075\",\"type\":\"ColumnDataSource\"},\"glyph\":{\"id\":\"1077\",\"type\":\"Line\"},\"hover_glyph\":null,\"muted_glyph\":null,\"view\":{\"id\":\"1080\",\"type\":\"CDSView\"}},\"id\":\"1079\",\"type\":\"GlyphRenderer\"},{\"attributes\":{},\"id\":\"1007\",\"type\":\"LinearScale\"},{\"attributes\":{\"callback\":null,\"renderers\":[{\"id\":\"1081\",\"type\":\"GlyphRenderer\"}],\"tooltips\":[[\"index\",\"$index\"],[\"(x,y)\",\"($x, $y)\"]]},\"id\":\"1083\",\"type\":\"HoverTool\"},{\"attributes\":{\"data_source\":{\"id\":\"1034\",\"type\":\"ColumnDataSource\"},\"glyph\":{\"id\":\"1036\",\"type\":\"Line\"},\"hover_glyph\":null,\"muted_glyph\":null,\"view\":{\"id\":\"1039\",\"type\":\"CDSView\"}},\"id\":\"1038\",\"type\":\"GlyphRenderer\"},{\"attributes\":{\"callback\":null,\"end\":102},\"id\":\"1087\",\"type\":\"Range1d\"},{\"attributes\":{\"line_color\":\"blue\",\"x\":{\"field\":\"x\"},\"y\":{\"field\":\"y\"}},\"id\":\"1036\",\"type\":\"Line\"},{\"attributes\":{\"source\":{\"id\":\"1034\",\"type\":\"ColumnDataSource\"}},\"id\":\"1039\",\"type\":\"CDSView\"},{\"attributes\":{},\"id\":\"1024\",\"type\":\"ResetTool\"},{\"attributes\":{\"axis_label\":\"Time in ms\",\"formatter\":{\"id\":\"1134\",\"type\":\"BasicTickFormatter\"},\"ticker\":{\"id\":\"1012\",\"type\":\"BasicTicker\"}},\"id\":\"1011\",\"type\":\"LinearAxis\"},{\"attributes\":{},\"id\":\"1091\",\"type\":\"LinearScale\"},{\"attributes\":{\"data_source\":{\"id\":\"1034\",\"type\":\"ColumnDataSource\"},\"glyph\":{\"id\":\"1037\",\"type\":\"Circle\"},\"hover_glyph\":null,\"muted_glyph\":null,\"view\":{\"id\":\"1041\",\"type\":\"CDSView\"}},\"id\":\"1040\",\"type\":\"GlyphRenderer\"},{\"attributes\":{},\"id\":\"1089\",\"type\":\"LinearScale\"},{\"attributes\":{\"dimensions\":\"width\"},\"id\":\"1026\",\"type\":\"WheelZoomTool\"},{\"attributes\":{},\"id\":\"1048\",\"type\":\"LinearScale\"},{\"attributes\":{\"below\":[{\"id\":\"1052\",\"type\":\"LinearAxis\"}],\"center\":[{\"id\":\"1056\",\"type\":\"Grid\"},{\"id\":\"1061\",\"type\":\"Grid\"}],\"js_event_callbacks\":{\"selectiongeometry\":[{\"id\":\"1076\",\"type\":\"CustomJS\"}]},\"left\":[{\"id\":\"1057\",\"type\":\"LinearAxis\"}],\"plot_height\":200,\"plot_width\":1000,\"renderers\":[{\"id\":\"1079\",\"type\":\"GlyphRenderer\"},{\"id\":\"1081\",\"type\":\"GlyphRenderer\"}],\"title\":{\"id\":\"1131\",\"type\":\"Title\"},\"toolbar\":{\"id\":\"1068\",\"type\":\"Toolbar\"},\"x_range\":{\"id\":\"1003\",\"type\":\"Range1d\"},\"x_scale\":{\"id\":\"1048\",\"type\":\"LinearScale\"},\"y_range\":{\"id\":\"1046\",\"type\":\"Range1d\"},\"y_scale\":{\"id\":\"1050\",\"type\":\"LinearScale\"}},\"id\":\"1044\",\"subtype\":\"Figure\",\"type\":\"Plot\"},{\"attributes\":{\"callback\":null,\"end\":102},\"id\":\"1046\",\"type\":\"Range1d\"},{\"attributes\":{\"active_drag\":\"auto\",\"active_inspect\":\"auto\",\"active_multi\":null,\"active_scroll\":\"auto\",\"active_tap\":\"auto\",\"tools\":[{\"id\":\"1021\",\"type\":\"CrosshairTool\"},{\"id\":\"1022\",\"type\":\"BoxSelectTool\"},{\"id\":\"1023\",\"type\":\"PanTool\"},{\"id\":\"1024\",\"type\":\"ResetTool\"},{\"id\":\"1025\",\"type\":\"SaveTool\"},{\"id\":\"1026\",\"type\":\"WheelZoomTool\"},{\"id\":\"1042\",\"type\":\"HoverTool\"}]},\"id\":\"1027\",\"type\":\"Toolbar\"},{\"attributes\":{\"callback\":null,\"data\":{\"x\":{\"__ndarray__\":\"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\",\"dtype\":\"float64\",\"shape\":[8290]},\"y\":{\"__ndarray__\":\"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\",\"dtype\":\"float64\",\"shape\":[8290]}},\"selected\":{\"id\":\"1151\",\"type\":\"Selection\"},\"selection_policy\":{\"id\":\"1150\",\"type\":\"UnionRenderers\"}},\"id\":\"1075\",\"type\":\"ColumnDataSource\"},{\"attributes\":{\"axis_label\":\"Time in ms\",\"formatter\":{\"id\":\"1142\",\"type\":\"BasicTickFormatter\"},\"ticker\":{\"id\":\"1094\",\"type\":\"BasicTicker\"}},\"id\":\"1093\",\"type\":\"LinearAxis\"},{\"attributes\":{},\"id\":\"1099\",\"type\":\"BasicTicker\"},{\"attributes\":{},\"id\":\"1025\",\"type\":\"SaveTool\"},{\"attributes\":{},\"id\":\"1094\",\"type\":\"BasicTicker\"},{\"attributes\":{},\"id\":\"1017\",\"type\":\"BasicTicker\"},{\"attributes\":{\"callback\":null,\"end\":102},\"id\":\"1005\",\"type\":\"Range1d\"},{\"attributes\":{\"callback\":null,\"end\":1679300639.501723,\"start\":1679300140.001606},\"id\":\"1003\",\"type\":\"Range1d\"},{\"attributes\":{\"ticker\":{\"id\":\"1094\",\"type\":\"BasicTicker\"},\"visible\":false},\"id\":\"1097\",\"type\":\"Grid\"},{\"attributes\":{\"args\":{\"div\":{\"id\":\"1001\",\"type\":\"Div\"},\"s1\":{\"id\":\"1116\",\"type\":\"ColumnDataSource\"}},\"code\":\"\\n                            console.log('Running CustomJS callback now.');\\n                            var inds = s1.selected.indices;\\n                            console.log(inds);\\n                            var line = \\\"<span style=float:left;clear:left;font_size=13px><b> Selected index range: [\\\" + Math.min.apply(Math,inds) + \\\",\\\" + Math.max.apply(Math,inds) + \\\"]</b></span>\\\\n\\\";\\n                            console.log(line)\\n                            var text = div.text.concat(line);\\n                            var lines = text.split(\\\"\\\\n\\\")\\n                            if (lines.length > 35)\\n                                lines.shift();\\n                            div.text = lines.join(\\\"\\\\n\\\");\"},\"id\":\"1117\",\"type\":\"CustomJS\"},{\"attributes\":{\"source\":{\"id\":\"1034\",\"type\":\"ColumnDataSource\"}},\"id\":\"1041\",\"type\":\"CDSView\"},{\"attributes\":{\"height\":100,\"height_policy\":\"fixed\",\"width\":250},\"id\":\"1001\",\"type\":\"Div\"},{\"attributes\":{\"dimension\":1,\"ticker\":{\"id\":\"1099\",\"type\":\"BasicTicker\"},\"visible\":false},\"id\":\"1102\",\"type\":\"Grid\"},{\"attributes\":{\"axis_label\":\"GPUUtilization-nodeid:algo-1_total\",\"formatter\":{\"id\":\"1144\",\"type\":\"BasicTickFormatter\"},\"ticker\":{\"id\":\"1099\",\"type\":\"BasicTicker\"}},\"id\":\"1098\",\"type\":\"LinearAxis\"},{\"attributes\":{\"callback\":null,\"dimensions\":\"width\",\"overlay\":{\"id\":\"1146\",\"type\":\"BoxAnnotation\"}},\"id\":\"1022\",\"type\":\"BoxSelectTool\"},{\"attributes\":{\"axis_label\":\"CPUUtilization-nodeid:algo-1_total\",\"formatter\":{\"id\":\"1140\",\"type\":\"BasicTickFormatter\"},\"ticker\":{\"id\":\"1058\",\"type\":\"BasicTicker\"}},\"id\":\"1057\",\"type\":\"LinearAxis\"},{\"attributes\":{\"line_color\":\"blue\",\"x\":{\"field\":\"x\"},\"y\":{\"field\":\"y\"}},\"id\":\"1118\",\"type\":\"Line\"},{\"attributes\":{\"fill_alpha\":{\"value\":0},\"line_width\":{\"value\":0},\"x\":{\"field\":\"x\"},\"y\":{\"field\":\"y\"}},\"id\":\"1119\",\"type\":\"Circle\"},{\"attributes\":{},\"id\":\"1021\",\"type\":\"CrosshairTool\"},{\"attributes\":{\"callback\":null,\"data\":{\"x\":{\"__ndarray__\":\"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\",\"dtype\":\"float64\",\"shape\":[8291]},\"y\":{\"__ndarray__\":\"AAAAAAAAAAAAAAAAAAAAAAAAAAAAAAAAAAAAAAAAAAAAAAAAAAAAAAAAAAAAAAAAAAAAAAAAAAAAAAAAAAAAAAAAAAAAAAAAAAAAAAAAAAAAAAAAAAAAAAAAAAAAAAAAAAAAAAAAAAAAAAAAAAAAAAAAAAAAAAAAAAAAAAAAAAAAAAAAAAAAAAAAAAAAAAAAAAAAAAAAAAAAAAAAAAAAAAAAAAAAAAAAAAAAAAAAAAAAAAAAAAAAAAAAAAAAAAAAAAAAAAAAAAAAAAAAAAAAAAAAAAAAAAAAAAAAAAAAAAAAAAAAAAAAAAAAAAAAAAAAAAAAAAAAAAAAAAAAAAAAAAAAAAAAAAAAAAAAAAAAAAAAAAAAAAAAAAAAAAAAAAAAAAAAAAAAAAAAAAAAAAAAAAAAAAAAAAAAAAAAAAAAAAAAAAAAAAAAAAAAAAAAAAAAAAAAAAAAAAAAAAAAAAAAAAAAAAAAAAAAAAAAAAAAAAAAAAAAAAAAAAAAAAAAAAAAAAAAAAAAAAAAAAAAAAAAAAAAAAAAAAAAAAAAAAAAAAAAAAAAAAAAAAAAAAAAAAAAAAAAAAAAAAAAAAAAAAAAAAAAAAAAAAAAAAAAAAAAAAAAAAAAAAAAAAAAAAAAAAAAAAAAAAAAAAAAAAAAAAAAAAAAAAAAAAAAAAAAAAAAAAAAAAAAAAAAAAAAAAAAAAAAAAAAAAAAAAAAAAAAAAAAAAAAAAAAAAAAAAAAAAAAAAAAAAAAAAAAAAAAAAAAAAAAAAAAAAAAAAAAAAAAAAAAAAAAAAAAAAAAAAAAAAAAAAAAAAAAAAAAAAAAAAAAAAAAAAAAAAAAAAAAAAAAAAAAAAAAAAAAAAAAAAAAAAAAAAAAAAAAAAAAAAAAAAAAAAAAAAAAAAAAAAAAAAAAAAAAAAAAAAAAAAAAAAAAAAAAAAAAAAAAAAAAAAAAAAAAAAAAAAAAAAAAAAAAAAAAAAAAAAAAAAAAAAAAAAAAAAAAAAAAAAAAAAAAAAAAAAAAAAAAAAAAAAAAAAAAAAAAAAAAAAAAAAAAAAAAAAAAAAAAAAAAAAAAAAAAAAAAAAAAAAAAAAAAAAAAAAAAAAAAAAAAAAAAAAAAAAAAAAAAAAAAAAAAAAAAAAAAAAAAAAAAAAAAAAAAAAAAAAAAAAAAAAAAAAAAAAAAAAAAAAAAAAAAAAAAAAAAAAAAAAAAAAAAAAAAAAAAAAAAAAAAAAAAAAAAAAAAAAAAAAAAAAAAAAAAAAAAAAAAAAAAAAAAAAAAAAAAAAAAAAAAAAAAAAAAAAAAAAAAAAAAAAAAAAAAAAAAAAAAAAAAAAAAAAAAAAAAAAAAAAAAAAAAAAAAAAAAAAAAAAAAAAAAAAAAAAAAAAAAAAAAAAAAAAAAAAAAAAAAAAAAAAAAAAAAAAAAAAAAAAAAAAAAAAAAAAAAAAAAAAAAAAAAAAAAAAAAAAAAAAAAAAAAAAAAAAAAAAAAAAAAAAAAAAAAAAAAAAAAAAAAAAAAAAAAAAAAAAAAAAAAAAAAAAAAAAAAAAAAAAAAAAAAAAAAAAAAAAAAAAAAAAAAAAAAAAAAAAAAAAAAAAAAAAAAAAAAAAAAAAAAAAAAAAAAAAAAAAAAAAAAAAAAAAAAAAAAAAAAAAAAAAAAAAAAAAAAAAAAAAAAAAAAAAAAAAAAAAAAAAAAAAAAAAAAAAAAAAAAAAAAAAAAAAAAAAAAAAAAAAAAAAAAAAAAAAAAAAAAAAAAAAAAAAAAAAAAAAAAAAAAAAAAAAAAAAAAAAAAAAAAAAAAAAAAAAAAAAAAAAAAAAAAAAAAAAAAAAAAAAAAAAAAAAAAAAAAAAAAAAAAAAAAAAAAAAAAAAAAAAAAAAAAAAAAAAAAAAAAAAAAAAAAAAAAAAAAAAAAAAAAAAAAAAAAAAAAAAAAAAAAAAAAAAAAAAAAAAAAAAAAAAAAAAAAAAAAAAAAAAAAAAAAAAAAAAAAAAAAAAAAAAAAAAAAAAAAAAAAAAAAAAAAAAAAAAAAAAAAAAAAAAAAAAAAAAAAAAAAAAAAAAAAAAAAAAAAAAAAAAAAAAAAAAAAAAAAAAAAAAAAAAAAAAAAAAAAAAAAAAAAAAAAAAAAAAAAAAAAAAAAAAAAAAAAAAAAAAAAAAAAAAAAAAAAAAAAAAAAAAAAAAAAAAAAAAAAAAAAAAAAAAAAAAAAAAAAAAAAAAAAAAAAAAAAAAAAAAAAAAAAAAAAAAAAAAAAAAAAAAAAAAAAAAAAAAAAAAAAAAAAAAAAAAAAAAAAAAAAAAAAAAAAAAAAAAAAAAAAAAAAAAAAAAAAAAAAAAAAAAAAAAAAAAAAAAAAAAAAAAAAAAAAAAAAAAAAAAAAAAAAAAAAAAAAAAAAAAAAAAAAAAAAAAAAAAAAAAAAAAAAAAAAAAAAAAAAAAAAAAAAAAAAAAAAAAAAAAAAAAAAAAAAAAAAAAAAAAAAAAAAAAAAAAAAAAAAAAAAAAAAAAAAAAAAAAAAAAAAAAAAAAAAAAAAAAAAAAAAAAAAAAAAAAAAAAAAAAAAAAAAAAAAAAAAAAAAAAAAAAAAAAAAAAAAAAAAAAAAAAAAAAAAAAAAAAAAAAAAAAAAAAAAAAAAAAAAAAAAAAAAAAAAAAAAAAAAAAAAAAAAAAAAAAAAAAAAAAAAAAAAAAAAAAAAAAAAAAAAAAAAAAAAAAAAAAAAAAAAAAAAAAAAAAAAAAAAAAAAAAAAAAAAAAAAAAAAAAAAAAAAAAAAAAAAAAAAAAAAAAAAAAAAAAAAAAAAAAAAAAAAAAAAAAAAAAAAAAAAAAAAAAAAAAAAAAAAAAAAAAAAAAAAAAAAAAAAAAAAAAAAAAAAAAAAAAAAAAAAAAAAAAAAAAAAAAAAAAAAAAAAAAAAAAAAAAAAAAAAAAAAAAAAAAAAAAAAAAAAAAAAAAAAAAAAAAAAAAAAAAAAAAAAAAAAAAAAAAAAAAAAAAAAAAAAAAAAAAAAAAAAAAAAAAAAAAAAAAAAAAAAAAAAAAAAAAAAAAAAAAAAAAAAAAAAAAAAAAAAAAAAAAAAAAAAAAAAAAAAAAAAAAAAAAAAAAAAAAAAAAAAAAAAAAAAAAAAAAAAAAAAAAAAAAAAAAAAAAAAAAAAAAAAAAAAAAAAAAAAAAAAAAAAAAAAAAAAAAAAAAAAAAAAAAAAAAAAAAAAAAAAAAAAAAAAAAAAAAAAAAAAAAAAAAAAAAAAAAAAAAAAAAAAAAAAAAAAAAAAAAAAAAAAAAAAAAAAAAAAAAAAAAAAAAAAAAAAAAAAAAAAAAAAAAAAAAAAAAAAAAAAAAAAAAAAAAAAAAAAAAAAAAAAAAAAAAAAAAAAAAAAAAAAAAAAAAAAAAAAAAAAAAAAAAAAAAAAAAAAAAAAAAAAAAAAAAAAAAAAAAAAAAAAAAAAAAAAAAAAAAAAAAAAAAAAAAAAAAAAAAAAAAAAAAAAAAAAAAAAAAAAAAAAAAAAAAAAAAAAAAAAAAAAAAAAAAAAAAAAAAAAAAAAAAAAAAAAAAAAAAAAAAAAAAAAAAAAAAAAAAAAAAAAAAAAAAAAAAAAAAAAAAAAAAAAAAAAAAAAAAAAAAAAAAAAAAAAAAAAAAAAAAAAAAAAAAAAAAAAAAAAAAAAAAAAAAAAAAAAAAAAAAAAAAAAAAAAAAAAAAAAAAAAAAAAAAAAAAAAAAAAAAAAAAAAAAAAAAAAAAAAAAAAAAAAAAAAAAAAAAAAAAAAAAAAAAAAAAAAAAAAAAAAAAAAAAAAAAAAAAAAAAAAAAAAAAAAAAAAAAAAAAAAAAAAAAAAAAAAAAAAAAAAAAAAAAAAAAAAAAAAAAAAAAAAAAAAAAAAAAAAAAAAAAAAAAAAAAAAAAAAAAAAAAAAAAAAAAAAAAAAAAAAAAAAAAAAAAAAAAAAAAAAAAAAAAAAAAAAAAAAAAAAAAAAAAAAAAAAAAAAAAAAAAAAAAAAAAAAAAAAAAAAAAAAAAAAAAAAAAAAAAAAAAAAAAAAAAAAAAAAAAAAAAAAAAAAAAAAAAAAAAAAAAAAAAAAAAAAAAAAAAAAAAAAAAAAAAAAAAAAAAAAAAAAAAAAAAAAAAAAAAAAAAAAAAAAAAAAAAAAAAAAAAAAAAAAAAAAAAAAAAAAAAAAAAAAAAAAAAAAAAAAAAAAAAAAAAAAAAAAAAAAAAAAAAAAAAAAAAAAAAAAAAAAAAAAAAAAAAAAAAAAAAAAAAAAAAAAAAAAAAAAAAAAAAAAAAAAAAAAAAAAAAAAAAAAAAAAAAAAAAAAAAAAAAAAAAAAAAAAAAAAAAAAAAAAAAAAAAAAAAAAAAAAAAAAAAAAAAAAAAAAAAAAAAAAAAAAAAAAAAAAAAAAAAAAAAAAAAAAAAAAAAAAAAAAAAAAAAAAAAAAAAAAAAAAAAAAAAAAAAAAAAAAAAAAAAAAAAAAAAAAAAAAAAAAAAAAAAAAAAAAAAAAAAAAAAAAAAAAAAAAAAAAAAAAAAAAAAAAAAAAAAAAAAAAAAAAAAAAAAAAAAAAAAAAAAAAAAAAAAAAAAAAAAAAAAAAAAAAAAAAAAAAAAAAAAAAAAAAAAAAAAAAAAAAAAAAAAAAAAAAAAAAAAAAAAAAAAAAAAAAAAAAAAAAAAAAAAAAAAAAAAAAAAAAAAAAAAAAAAAAAAAAAAAAAAAAAAAAAAAAAAAAAAAAAAAAAAAAAAAAAAAAAAAAAAAAAAAAAAAAAAAAAAAAAAAAAAAAAAAAAAAAAAAAAAAAAAAAAAAAAAAAAAAAAAAAAAAAAAAAAAAAAAAAAAAAAAAAAAAAAAAAAAAAAAAAAAAAAAAAAAAAAAAAAAAAAAAAAAAAAAAAAAAAAAAAAAAAAAAAAAAAAAAAAAAAAAAAAAAAAAAAAAAAAAAAAAAAAAAAAAAAAAAAAAAAAAAAAAAAAAAAAAAAAAAAAAAAAAAAAAAAAAAAAAAAAAAAAAAAAAAAAAAAAAAAAAAAAAAAAAAAAAAAAAAAAAAAAAAAAAAAAAAAAAAAAAAAAAAAAAAAAAAAAAAAAAAAAAAAAAAAAAAAAAAAAAAAAAAAAAAAAAAAAAAAAAAAAAAAAAAAAAAAAAAAAAAAAAAAAAAAAAAAAAAAAAAAAAAAAAAAAAAAAAAAAAAAAAAAAAAAAAAAAAAAAAAAAAAAAAAAAAAAAAAAAAAAAAAAAAAAAAAAAAAAAAAAAAAAAAAAAAAAAAAAAAAAAAAAAAAAAAAAAAAAAAAAAAAAAAAAAAAAAAAAAAAAAAAAAAAAAAAAAAAAAAAAAAAAAAAAAAAAAAAAAAAAAAAAAAAAAAAAAAAAAAAAAAAAAAAAAAAAAAAAAAAAAAAAAAAAAAAAAAAAAAAAAAAAAAAAAAAAAAAAAAAAAAAAAAAAAAAAAAAAAAAAAAAAAAAAAAAAAAAAAAAAAAAAAAAAAAAAAAAAAAAAAAAAAAAAAAAAAAAAAAAAAAAAAAAAAAAAAAAAAAAAAAAAAAAAAAAAAAAAAAAAAAAAAAAAAAAAAAAAAAAAAAAAAAAAAAAAAAAAAAAAAAAAAAAAAAAAAAAAAAAAAAAAAAAAAAAAAAAAAAAAAAAAAAAAAAAAAAAAAAAAAAAAAAAAAAAAAAAAAAAAAAAAAAAAAAAAAAAAAAAAAAAAAAAAAAAAAAAAAAAAAAAAAAAAAAAAAAAAAAAAAAAAAAAAAAAAAAAAAAAAAAAAAAAAAAAAAAAAAAAAAAAAAAAAAAAAAAAAAAAAAAAAAAAAAAAAAAAAAAAAAAAAAAAAAAAAAAAAAAAAAAAAAAAAAAAAAAAAAAAAAAAAAAAAAAAAAAAAAAAAAAAAAAAAAAAAAAAAAAAAAAAAAAAAAAAAAAAAAAAAAAAAAAAAAAAAAAAAAAAAAAAAAAAAAAAAAAAAAAAAAAAAAAAAAAAAAAAAAAAAAAAAAAAAAAAAAAAAAAAAAAAAAAAAAAAAAAAAAAAAAAAAAAAAAAAAAAAAAAAAAAAAAAAAAAAAAAAAAAAAAAAAAAAAAAAAAAAAAAAAAAAAAAAAAAAAAAAAAAAAAAAAAAAAAAAAAAAAAAAAAAAAAAAAAAAAAAAAAAAAAAAAAAAAAAAAAAAAAAAAAAAAAAAAAAAAAAAAAAAAAAAAAAAAAAAAAAAAAAAAAAAAAAAAAAAAAAAAAAAAAAAAAAAAAAAAAAAAAAAAAAAAAAAAAAAAAAAAAAAAAAAAAAAAAAAAAAAAAAAAAAAAAAAAAAAAAAAAAAAAAAAAAAAAAAAAAAAAAAAAAAAAAAAAAAAAAAAAAAAAAAAAAAAAAAAAAAAAAAAAAAAAAAAAAAAAAAAAAAAAAAAAAAAAAAAAAAAAAAAAAAAAAAAAAAAAAAAAAAAAAAAAAAAAAAAAAAAAAAAAAAAAAAAAAAAAAAAAAAAAAAAAAAAAAAAAAAAAAAAAAAAAAAAAAAAAAAAAAAAAAAAAAAAAAAAAAAAAAAAAAAAAAAAAAAAAAAAAAAAAAAAAAAAAAAAAAAAAAAAAAAAAAAAAAAAAAAAAAAAAAAAAAAAAAAAAAAAAAAAAAAAAAAAAAAAAAAAAAAAAAAAAAAAAAAAAAAAAAAAAAAAAAAAAAAAAAAAAAAAAAAAAAAAAAAAAAAAAAAAAAAAAAAAAAAAAAAAAAAAAAAAAAAAAAAAAAAAAAAAAAAAAAAAAAAAAAAAAAAAAAAAAAAAAAAAAAAAAAAAAAAAAAAAAAAAAAAAAAAAAAAAAAAAAAAAAAAAAAAAAAAAAAAAAAAAAAAAAAAAAAAAAAAAAAAAAAAAAAAAAAAAAAAAAAAAAAAAAAAAAAAAAAAAAAAAAAAAAAAAAAAAAAAAAAAAAAAAAAAAAAAAAAAAAAAAAAAAAAAAAAAAAAAAAAAAAAAAAAAAAAAAAAAAAAAAAAAAAAAAAAAAAAAAAAAAAAAAAAAAAAPA/AAAAAAAAAAAAAAAAAAAAAAAAAAAAABxAAAAAAAAA8D8AAAAAAAAAQAAAAAAAABRAAAAAAAAAEEAAAAAAAADwPwAAAAAAABBAAAAAAAAA8D8AAAAAAAAAAAAAAAAAAAAAAAAAAAAAAAAAAAAAAIBNQAAAAAAAAAAAAAAAAAAAAAAAAAAAAAAAAAAAAAAAADBAAAAAAAAAAAAAAAAAAAAAAAAAAAAAAAAAAAAAAAAAM0AAAAAAAAAAAAAAAAAAAAAAAAAAAAAAAAAAAAAAAIBPQAAAAAAAAAAAAAAAAAAAAAAAAAAAAAAAAAAAAAAAAElAAAAAAAAAAAAAAAAAAAAAAAAAAAAAgElAAAAAAAAAAAAAAAAAAAAAAAAAAAAAgERAAAAAAAAAAAAAAAAAAAAAAAAAAAAAgExAAAAAAAAAAAAAAAAAAAAAAAAAAAAAAAAAAAAAAAAAAAAAAAAAAAAAAAAAAAAAAEVAAAAAAACAREAAAAAAAIBGQAAAAAAAACZAAAAAAAAALEAAAAAAAAAAAAAAAAAAACBAAAAAAAAAAEAAAAAAAAAqQAAAAAAAgEJAAAAAAAAASEAAAAAAAAAAAAAAAAAAACRAAAAAAAAAGEAAAAAAAAAxQAAAAAAAAD5AAAAAAAAAKkAAAAAAAABQQAAAAAAAAAAAAAAAAAAAAAAAAAAAAABEQAAAAAAAAEpAAAAAAAAATkAAAAAAAIBHQAAAAAAAgEdAAAAAAACAQkAAAAAAAAAAAAAAAAAAAAAAAAAAAACASkAAAAAAAIBCQAAAAAAAgENAAAAAAAAAKEAAAAAAAAAAAAAAAAAAAAAAAAAAAAAAAAAAAAAAAAAAAAAAAAAAAAAAAAAAAAAAAAAAAAAAAAAAAAAAAAAAAAAAAAAAAAAAKEAAAAAAAABJQAAAAAAAADJAAAAAAAAAAAAAAAAAAIBPQAAAAAAAAAAAAAAAAACASkAAAAAAAAAAAAAAAAAAAAAAAAAAAAAAMEAAAAAAAIBOQAAAAAAAAAAAAAAAAAAACEAAAAAAAABBQAAAAAAAABhAAAAAAAAAAAAAAAAAAAAAAAAAAAAAgE5AAAAAAAAAQ0AAAAAAAAAAAAAAAAAAAD1AAAAAAACAT0AAAAAAAIBPQAAAAAAAAAAAAAAAAAAAAAAAAAAAAAAQQAAAAAAAADtAAAAAAAAAOUAAAAAAAIBNQAAAAAAAAD5AAAAAAAAAAAAAAAAAAAA+QAAAAAAAgEhAAAAAAAAAQEAAAAAAAABDQAAAAAAAAAAAAAAAAAAAAAAAAAAAAAAAAAAAAAAAAAAAAAAAAAAAAAAAAAAAAABGQAAAAAAAAAAAAAAAAACASkAAAAAAAABFQAAAAAAAgElAAAAAAAAAIkAAAAAAAAAAAAAAAAAAAAAAAAAAAACASkAAAAAAAABFQAAAAAAAgEpAAAAAAAAAAAAAAAAAAAAqQAAAAAAAACZAAAAAAACATEAAAAAAAAAAAAAAAAAAACZAAAAAAAAAQUAAAAAAAABIQAAAAAAAAAAAAAAAAAAAAAAAAAAAAABIQAAAAAAAAAAAAAAAAAAAAAAAAAAAAAAAAAAAAAAAAEFAAAAAAAAAAAAAAAAAAAAAAAAAAAAAgExAAAAAAAAAAAAAAAAAAAAAAAAAAAAAABBAAAAAAAAAAAAAAAAAAABLQAAAAAAAgExAAAAAAAAAPEAAAAAAAAAAAAAAAAAAAAAAAAAAAAAAAAAAAAAAAAA0QAAAAAAAADBAAAAAAAAAPUAAAAAAAIBEQAAAAAAAAAAAAAAAAAAAAAAAAAAAAIBPQAAAAAAAAEtAAAAAAAAAAAAAAAAAAAAAAAAAAAAAAABAAAAAAAAAAAAAAAAAAABPQAAAAAAAAAAAAAAAAAAAAAAAAAAAAAAAAAAAAAAAgEVAAAAAAAAAAAAAAAAAAAAAAAAAAAAAAAAAAAAAAAAAAAAAAAAAAAAAAAAAAAAAADZAAAAAAACARUAAAAAAAIBLQAAAAAAAADNAAAAAAAAAAAAAAAAAAABFQAAAAAAAADdAAAAAAAAAAAAAAAAAAAAAQAAAAAAAADZAAAAAAAAASkAAAAAAAABNQAAAAAAAgEpAAAAAAAAAT0AAAAAAAIBDQAAAAAAAABxAAAAAAAAAOEAAAAAAAAAmQAAAAAAAAAAAAAAAAAAAAAAAAAAAAAAAAAAAAAAAAAAAAAAAAAAAJEAAAAAAAAAuQAAAAAAAAAAAAAAAAAAAAAAAAAAAAIBFQAAAAAAAAAAAAAAAAAAAAAAAAAAAAAAAAAAAAAAAAD5AAAAAAACAQ0AAAAAAAAAsQAAAAAAAAAAAAAAAAAAAAAAAAAAAAAAAAAAAAAAAAC5AAAAAAAAANkAAAAAAAAAAAAAAAAAAAAAAAAAAAAAAAAAAAAAAAABQQAAAAAAAAAAAAAAAAAAAAAAAAAAAAAAAAAAAAAAAAAAAAAAAAAAAPkAAAAAAAAAAAAAAAAAAAAAAAAAAAAAAAAAAAAAAAAAAAAAAAAAAAENAAAAAAAAANUAAAAAAAADwPwAAAAAAACpAAAAAAAAAAAAAAAAAAAAAAAAAAAAAAAAAAAAAAAAAAAAAAAAAAAAAAAAAAAAAAE9AAAAAAACATEAAAAAAAAAAAAAAAAAAADJAAAAAAAAAQEAAAAAAAAAAAAAAAAAAAAAAAAAAAAAAAAAAAAAAAAAAAAAAAAAAAAAAAAAAAAAALEAAAAAAAAAsQAAAAAAAACJAAAAAAACARUAAAAAAAAAAAAAAAAAAAAAAAAAAAAAAAEAAAAAAAIBCQAAAAAAAAAAAAAAAAAAAIEAAAAAAAAAQQAAAAAAAABxAAAAAAAAARUAAAAAAAABBQAAAAAAAgEZAAAAAAAAAEEAAAAAAAAAAAAAAAAAAAABAAAAAAACAR0AAAAAAAAAAAAAAAAAAAEJAAAAAAACAQUAAAAAAAAAAAAAAAAAAAAAAAAAAAAAAAAAAAAAAAAAAAAAAAAAAAAAAAAAAAAAACEAAAAAAAAAAAAAAAAAAgERAAAAAAAAAS0AAAAAAAIBLQAAAAAAAADhAAAAAAAAAAAAAAAAAAAAAAAAAAAAAAPA/AAAAAAAAAAAAAAAAAAAUQAAAAAAAAAAAAAAAAAAAFEAAAAAAAAAAQAAAAAAAABBAAAAAAAAACEAAAAAAAAAcQAAAAAAAAAAAAAAAAAAAAAAAAAAAAABDQAAAAAAAABRAAAAAAAAAAAAAAAAAAIBCQAAAAAAAAAAAAAAAAAAAAAAAAAAAAAAsQAAAAAAAAEJAAAAAAAAASkAAAAAAAAAAAAAAAAAAAENAAAAAAAAAAAAAAAAAAIBEQAAAAAAAAAAAAAAAAAAAAAAAAAAAAABCQAAAAAAAAE1AAAAAAAAAAAAAAAAAAAAAAAAAAAAAAAAAAAAAAAAAAAAAAAAAAAAAAAAAAAAAAPA/AAAAAAAAAAAAAAAAAABFQAAAAAAAgE1AAAAAAAAAHEAAAAAAAAAAAAAAAAAAAAAAAAAAAAAAAAAAAAAAAAAgQAAAAAAAADJAAAAAAAAALEAAAAAAAIBIQAAAAAAAgERAAAAAAAAAFEAAAAAAAAAAAAAAAAAAAAAAAAAAAAAAAAAAAAAAAAAAAAAAAAAAACZAAAAAAAAAIkAAAAAAAAA9QAAAAAAAAAAAAAAAAAAAAAAAAAAAAIBPQAAAAAAAAElAAAAAAAAAAAAAAAAAAAAAAAAAAAAAAAAAAAAAAAAASkAAAAAAAIBDQAAAAAAAAAAAAAAAAAAAAAAAAAAAAAA5QAAAAAAAgEZAAAAAAAAAAAAAAAAAAAAAAAAAAAAAAAAAAAAAAAAAIkAAAAAAAAAoQAAAAAAAADdAAAAAAACARkAAAAAAAABAQAAAAAAAAABAAAAAAAAAAAAAAAAAAAAAAAAAAAAAAERAAAAAAAAALkAAAAAAAAAAAAAAAAAAAChAAAAAAACAQUAAAAAAAAAAAAAAAAAAAAAAAAAAAACARUAAAAAAAAAAAAAAAAAAAAAAAAAAAAAASkAAAAAAAAAAAAAAAAAAAAAAAAAAAAAAAAAAAAAAAAAAQAAAAAAAgEZAAAAAAAAAP0AAAAAAAAA/QAAAAAAAAEJAAAAAAAAAAAAAAAAAAAAAAAAAAAAAACxAAAAAAAAAAAAAAAAAAAAAAAAAAAAAACRAAAAAAAAAMkAAAAAAAAAUQAAAAAAAAAAAAAAAAAAAAAAAAAAAAIBOQAAAAAAAAEVAAAAAAAAAR0AAAAAAAIBEQAAAAAAAADBAAAAAAAAAAAAAAAAAAADwPwAAAAAAAE5AAAAAAAAAR0AAAAAAAAAAAAAAAAAAAAAAAAAAAACASkAAAAAAAIBOQAAAAAAAAEhAAAAAAAAAIEAAAAAAAAAAAAAAAAAAAAAAAAAAAAAAT0AAAAAAAABPQAAAAAAAAAAAAAAAAAAAAAAAAAAAAAAAAAAAAAAAADRAAAAAAAAAJkAAAAAAAAAYQAAAAAAAAAAAAAAAAAAAAAAAAAAAAAAUQAAAAAAAABRAAAAAAAAAAAAAAAAAAAAAAAAAAAAAADhAAAAAAADAUEAAAAAAAIBQQAAAAAAAAElAAAAAAAAAAAAAAAAAAAAkQAAAAAAAACxAAAAAAAAAAAAAAAAAAAAgQAAAAAAAgE5AAAAAAAAAT0AAAAAAAIBNQAAAAAAAAE9AAAAAAAAA8D8AAAAAAAAAAAAAAAAAAEhAAAAAAAAAAAAAAAAAAAAAAAAAAAAAAAAAAAAAAAAAAAAAAAAAAAA+QAAAAAAAAAAAAAAAAAAAAAAAAAAAAAAAAAAAAAAAAAAAAAAAAAAANkAAAAAAAABHQAAAAAAAADhAAAAAAAAAAAAAAAAAAAAgQAAAAAAAADNAAAAAAAAAOUAAAAAAAAA0QAAAAAAAAE5AAAAAAAAAAAAAAAAAAAAQQAAAAAAAAAAAAAAAAAAAAAAAAAAAAAAAAAAAAAAAAAAAAAAAAAAAAAAAAAAAAAAAAAAAAAAAAAAAAAAAAACASEAAAAAAAIBJQAAAAAAAAAAAAAAAAAAAAAAAAAAAAABOQAAAAAAAAAAAAAAAAAAAIkAAAAAAAABQQAAAAAAAAAAAAAAAAAAACEAAAAAAAAAAAAAAAAAAAAAAAAAAAAAAOEAAAAAAAAA5QAAAAAAAQFBAAAAAAACATUAAAAAAAIBJQAAAAAAAAAAAAAAAAAAAAAAAAAAAAAAAAAAAAAAAADFAAAAAAAAASEAAAAAAAIBGQAAAAAAAAAAAAAAAAAAAAAAAAAAAAAAAAAAAAAAAgE9AAAAAAAAASEAAAAAAAAA1QAAAAAAAAAAAAAAAAAAAAAAAAAAAAADwPwAAAAAAAEFAAAAAAACASkAAAAAAAIBGQAAAAAAAADZAAAAAAAAAJkAAAAAAAAAAAAAAAAAAAAAAAAAAAAAAAAAAAAAAAAA0QAAAAAAAADpAAAAAAACATkAAAAAAAIBLQAAAAAAAAAAAAAAAAAAAAAAAAAAAAAAAAAAAAAAAACxAAAAAAAAAQEAAAAAAAIBNQAAAAAAAAEtAAAAAAAAAKkAAAAAAAAA5QAAAAAAAAAAAAAAAAAAAAAAAAAAAAAAmQAAAAAAAAAAAAAAAAAAAAAAAAAAAAABDQAAAAAAAAFBAAAAAAAAAQkAAAAAAAAAAAAAAAAAAAAAAAAAAAAAAAAAAAAAAAABOQAAAAAAAAAAAAAAAAAAAAAAAAAAAAAAAAAAAAAAAADBAAAAAAAAAAEAAAAAAAAAAAAAAAAAAAAAAAAAAAAAAAAAAAAAAAAAAAAAAAAAAADNAAAAAAAAAKkAAAAAAAAA6QAAAAAAAAEZAAAAAAAAAS0AAAAAAAIBQQAAAAAAAgE1AAAAAAACAR0AAAAAAAAAAAAAAAAAAAAAAAAAAAAAAJkAAAAAAAABOQAAAAAAAAD1AAAAAAAAAAAAAAAAAAAAAAAAAAAAAAC5AAAAAAACAUEAAAAAAAABMQAAAAAAAAAAAAAAAAAAAAAAAAAAAAIBFQAAAAAAAAC5AAAAAAAAAAAAAAAAAAAAAAAAAAAAAAAAAAAAAAACAUEAAAAAAAABJQAAAAAAAAAAAAAAAAAAALEAAAAAAAABQQAAAAAAAwFBAAAAAAAAASUAAAAAAAAA4QAAAAAAAAAAAAAAAAAAAAAAAAAAAAAAAAAAAAAAAAD9AAAAAAAAAAEAAAAAAAAAAAAAAAAAAACxAAAAAAAAATUAAAAAAAABFQAAAAAAAAAAAAAAAAAAAAAAAAAAAAAAAAAAAAAAAAABAAAAAAAAAAAAAAAAAAAAAAAAAAAAAACRAAAAAAAAAIkAAAAAAAAA0QAAAAAAAAAAAAAAAAAAAAAAAAAAAAAAAAAAAAAAAAAAAAAAAAAAAAAAAAAAAAAAAAAAAAAAAAAAAAAAAAAAAGEAAAAAAAAAAAAAAAAAAAAAAAAAAAAAAAAAAAAAAAAAAAAAAAAAAAAAAAAAAAAAA8D8AAAAAAIBLQAAAAAAAgE5AAAAAAAAAAAAAAAAAAAAAAAAAAAAAgEZAAAAAAACATUAAAAAAAABLQAAAAAAAAAAAAAAAAAAAAAAAAAAAAIBIQAAAAAAAAAhAAAAAAAAAAAAAAAAAAAAcQAAAAAAAAAhAAAAAAAAAAEAAAAAAAAAQQAAAAAAAAPA/AAAAAAAAEEAAAAAAAADwPwAAAAAAABxAAAAAAAAAAAAAAAAAAAAAAAAAAAAAAAAAAAAAAACAT0AAAAAAAAAAAAAAAAAAABRAAAAAAAAAAAAAAAAAAAAAAAAAAAAAABRAAAAAAACAQkAAAAAAAABLQAAAAAAAAAAAAAAAAACASUAAAAAAAAAAAAAAAAAAAAAAAAAAAAAAAAAAAAAAAIBEQAAAAAAAgEtAAAAAAAAAAAAAAAAAAIBIQAAAAAAAAEtAAAAAAAAAAAAAAAAAAAAAAAAAAAAAAAAAAAAAAAAAFEAAAAAAAABGQAAAAAAAgEpAAAAAAACAREAAAAAAAIBBQAAAAAAAgEhAAAAAAAAAMUAAAAAAAAAAAAAAAAAAAAAAAAAAAAAAQEAAAAAAAIBMQAAAAAAAAEpAAAAAAACATkAAAAAAAIBNQAAAAAAAADBAAAAAAAAA8D8AAAAAAAAAAAAAAAAAAAAAAAAAAAAAJkAAAAAAAAAAAAAAAAAAACBAAAAAAAAASUAAAAAAAIBFQAAAAAAAAAAAAAAAAAAAAAAAAAAAAAAAAAAAAAAAAPA/AAAAAAAAAAAAAAAAAAAYQAAAAAAAAAAAAAAAAAAAAAAAAAAAAAAQQAAAAAAAAAAAAAAAAAAAN0AAAAAAAAAAAAAAAAAAADBAAAAAAAAAPUAAAAAAAIBLQAAAAAAAAAAAAAAAAAAAT0AAAAAAAAAcQAAAAAAAAAAAAAAAAAAAAAAAAAAAAAAAAAAAAAAAACBAAAAAAAAAREAAAAAAAAAxQAAAAAAAAAAAAAAAAAAAJEAAAAAAAAAAAAAAAAAAAAAAAAAAAACASUAAAAAAAAAAAAAAAAAAgExAAAAAAACASUAAAAAAAABGQAAAAAAAgExAAAAAAAAAAAAAAAAAAAA5QAAAAAAAgEJAAAAAAAAAAAAAAAAAAAAAAAAAAAAAAAAAAAAAAAAAAAAAAAAAAAAAAAAAAAAAgE1AAAAAAACASUAAAAAAAABPQAAAAAAAADxAAAAAAAAANUAAAAAAAAAAAAAAAAAAADtAAAAAAAAAMUAAAAAAAABOQAAAAAAAAAAAAAAAAAAAKkAAAAAAAAA1QAAAAAAAgEhAAAAAAACAQkAAAAAAAIBCQAAAAAAAAAAAAAAAAAAAAAAAAAAAAAAwQAAAAAAAAExAAAAAAACAS0AAAAAAAAA9QAAAAAAAACJAAAAAAAAAAAAAAAAAAAAuQAAAAAAAAEFAAAAAAAAASUAAAAAAAABDQAAAAAAAAAAAAAAAAAAAAAAAAAAAAAAAAAAAAAAAAAAAAAAAAAAAAAAAAAAAAAAAAAAAAAAAAEJAAAAAAACAT0AAAAAAAIBLQAAAAAAAAAAAAAAAAAAATkAAAAAAAAAAAAAAAAAAAAAAAAAAAAAAAAAAAAAAAAAIQAAAAAAAAEVAAAAAAAAAAAAAAAAAAAAAAAAAAAAAAAAAAAAAAAAA8D8AAAAAAAAAAAAAAAAAABRAAAAAAAAAAAAAAAAAAAAYQAAAAAAAAPA/AAAAAAAAFEAAAAAAAAAAQAAAAAAAABxAAAAAAAAAAAAAAAAAAAAAAAAAAAAAAElAAAAAAAAANkAAAAAAAAAAAAAAAAAAAAAAAAAAAAAANEAAAAAAAIBGQAAAAAAAAEZAAAAAAAAA8D8AAAAAAAAAAAAAAAAAAAhAAAAAAAAAAAAAAAAAAAAiQAAAAAAAAAAAAAAAAADAUEAAAAAAAAAkQAAAAAAAAAAAAAAAAAAAAAAAAAAAAAAAAAAAAAAAwFBAAAAAAACAS0AAAAAAAIBBQAAAAAAAAENAAAAAAAAAAAAAAAAAAAAAAAAAAAAAAAAAAAAAAAAAAAAAAAAAAAA5QAAAAAAAAEZAAAAAAACAQEAAAAAAAABLQAAAAAAAAAAAAAAAAAAAQUAAAAAAAABDQAAAAAAAAERAAAAAAAAAAAAAAAAAAAAAAAAAAAAAAAhAAAAAAAAA8D8AAAAAAAAAQAAAAAAAAABAAAAAAACATkAAAAAAAABDQAAAAAAAAAAAAAAAAAAAAAAAAAAAAAAkQAAAAAAAAABAAAAAAAAAAAAAAAAAAIBBQAAAAAAAAAAAAAAAAAAAAAAAAAAAAAAYQAAAAAAAAD9AAAAAAAAAAAAAAAAAAAAAAAAAAAAAAAAAAAAAAACAT0AAAAAAAABNQAAAAAAAAAAAAAAAAAAAAAAAAAAAAAAAAAAAAAAAAAAAAAAAAAAAEEAAAAAAAAA6QAAAAAAAAERAAAAAAAAAPUAAAAAAAAAyQAAAAAAAABBAAAAAAAAAQEAAAAAAAABBQAAAAAAAAAAAAAAAAAAAAAAAAAAAAAAYQAAAAAAAAAAAAAAAAAAAQ0AAAAAAAAAsQAAAAAAAAExAAAAAAAAASkAAAAAAAAA3QAAAAAAAAAAAAAAAAAAAAAAAAAAAAIBGQAAAAAAAAAAAAAAAAAAAAAAAAAAAAAAcQAAAAAAAAD1AAAAAAAAAQUAAAAAAAIBAQAAAAAAAgE9AAAAAAAAATUAAAAAAAAAAAAAAAAAAgElAAAAAAAAAEEAAAAAAAAAAAAAAAAAAAAAAAAAAAAAAAAAAAAAAAAAxQAAAAAAAAAAAAAAAAAAAUEAAAAAAAIBDQAAAAAAAAAAAAAAAAAAAAAAAAAAAAAAIQAAAAAAAAENAAAAAAAAAOkAAAAAAAABPQAAAAAAAAPA/AAAAAAAAAAAAAAAAAAAcQAAAAAAAADRAAAAAAAAAPkAAAAAAAAA2QAAAAAAAABhAAAAAAAAAPkAAAAAAAABEQAAAAAAAAAAAAAAAAAAAKkAAAAAAAABLQAAAAAAAAExAAAAAAAAAAAAAAAAAAAAAAAAAAAAAAAAAAAAAAAAAAAAAAAAAAADwPwAAAAAAADFAAAAAAAAAAAAAAAAAAAAAAAAAAAAAAAAAAAAAAAAAOUAAAAAAAIBDQAAAAAAAABBAAAAAAAAAAAAAAAAAAAAAAAAAAAAAAD1AAAAAAAAAAAAAAAAAAIBFQAAAAAAAAAAAAAAAAAAAAAAAAAAAAEBQQAAAAAAAgEJAAAAAAAAARUAAAAAAAIBEQAAAAAAAAAAAAAAAAAAATEAAAAAAAIBPQAAAAAAAQFBAAAAAAAAAAAAAAAAAAAAAAAAAAAAAACRAAAAAAAAAMUAAAAAAAAA7QAAAAAAAAAAAAAAAAAAAIEAAAAAAAAAAAAAAAAAAAAAAAAAAAAAAAAAAAAAAAAAqQAAAAAAAACZAAAAAAAAAMUAAAAAAAAAcQAAAAAAAAD9AAAAAAAAAPEAAAAAAAAAAAAAAAAAAAAAAAAAAAAAAKEAAAAAAAAAiQAAAAAAAgEFAAAAAAAAALkAAAAAAAABDQAAAAAAAAEBAAAAAAAAAPUAAAAAAAIBPQAAAAAAAAEhAAAAAAAAASkAAAAAAAABGQAAAAAAAADRAAAAAAAAACEAAAAAAAAAAAAAAAAAAAAAAAAAAAAAAREAAAAAAAABFQAAAAAAAAEdAAAAAAAAAAAAAAAAAAAAAAAAAAAAAAE9AAAAAAAAAEEAAAAAAAAA1QAAAAAAAAAAAAAAAAAAAJEAAAAAAAIBHQAAAAAAAAAAAAAAAAAAAAAAAAAAAAABPQAAAAAAAAD9AAAAAAAAAAAAAAAAAAAAAAAAAAAAAADpAAAAAAACARkAAAAAAAAA9QAAAAAAAgE5AAAAAAAAAAAAAAAAAAAAcQAAAAAAAAEFAAAAAAAAAAAAAAAAAAAAmQAAAAAAAADpAAAAAAAAAAAAAAAAAAAAAAAAAAAAAAElAAAAAAAAAAAAAAAAAAAAAAAAAAAAAgExAAAAAAAAAAAAAAAAAAAA1QAAAAAAAgEFAAAAAAAAAGEAAAAAAAAAAAAAAAAAAAAAAAAAAAAAAAAAAAAAAAAAAAAAAAAAAAAAAAAAAAAAAAAAAAAAAAMBQQAAAAAAAAAAAAAAAAAAAAAAAAAAAAABMQAAAAAAAwFBAAAAAAADAUEAAAAAAAAAAAAAAAAAAAAAAAAAAAAAAAAAAAAAAAAAAAAAAAAAAABBAAAAAAAAAKkAAAAAAAAAuQAAAAAAAAFBAAAAAAACAUEAAAAAAAAA5QAAAAAAAgEJAAAAAAAAAREAAAAAAAAAAAAAAAAAAAAAAAAAAAAAAAAAAAAAAAAAAAAAAAAAAAAAAAAAAAAAAPUAAAAAAAAAAAAAAAAAAAAAAAAAAAAAAAAAAAAAAAAAxQAAAAAAAADNAAAAAAAAANEAAAAAAAAAAAAAAAAAAAAAAAAAAAAAAAAAAAAAAAAAAQAAAAAAAADFAAAAAAAAAJEAAAAAAAAAyQAAAAAAAAERAAAAAAACATUAAAAAAAABBQAAAAAAAAD5AAAAAAAAAAAAAAAAAAAAAAAAAAAAAABRAAAAAAAAAEEAAAAAAAAAYQAAAAAAAgE9AAAAAAAAAUEAAAAAAAAAAAAAAAAAAAAAAAAAAAAAAJkAAAAAAAAAIQAAAAAAAAAAAAAAAAAAAAAAAAAAAAAA6QAAAAAAAADZAAAAAAAAAPUAAAAAAAIBBQAAAAAAAADdAAAAAAAAAPkAAAAAAAAAAAAAAAAAAAAAAAAAAAAAACEAAAAAAAIBBQAAAAAAAAAAAAAAAAACAQkAAAAAAAIBQQAAAAAAAAAAAAAAAAAAAAAAAAAAAAAAAAAAAAAAAADlAAAAAAAAAAAAAAAAAAAAwQAAAAAAAADVAAAAAAAAAS0AAAAAAAABHQAAAAAAAAAAAAAAAAAAAAAAAAAAAAAAcQAAAAAAAADtAAAAAAAAAT0AAAAAAAABDQAAAAAAAAAAAAAAAAAAAAAAAAAAAAAAAAAAAAAAAAAAAAAAAAAAAT0AAAAAAAEBQQAAAAAAAAAAAAAAAAAAAKkAAAAAAAAA9QAAAAAAAAFBAAAAAAAAAMkAAAAAAAIBEQAAAAAAAADNAAAAAAAAAOUAAAAAAAADwPwAAAAAAACRAAAAAAAAA8D8AAAAAAAAAAAAAAAAAAAAAAAAAAAAAAAAAAAAAAAAuQAAAAAAAAE5AAAAAAAAANkAAAAAAAAAyQAAAAAAAACBAAAAAAAAAAAAAAAAAAAA6QAAAAAAAgENAAAAAAAAAO0AAAAAAAADwPwAAAAAAAAAAAAAAAAAAAAAAAAAAAAAAAAAAAAAAADFAAAAAAAAACEAAAAAAAAA7QAAAAAAAADBAAAAAAAAAOEAAAAAAAIBQQAAAAAAAAFBAAAAAAAAAAAAAAAAAAAAkQAAAAAAAACxAAAAAAAAAQUAAAAAAAIBQQAAAAAAAAEVAAAAAAAAARkAAAAAAAABAQAAAAAAAAAAAAAAAAAAAAAAAAAAAAAAAAAAAAAAAADZAAAAAAAAALkAAAAAAAAAAAAAAAAAAADhAAAAAAAAASkAAAAAAAABCQAAAAAAAADdAAAAAAAAA8D8AAAAAAAAAAAAAAAAAABRAAAAAAACARUAAAAAAAAAAAAAAAAAAAAAAAAAAAAAAAAAAAAAAAAA8QAAAAAAAACZAAAAAAAAAN0AAAAAAAIBDQAAAAAAAAAAAAAAAAAAAAAAAAAAAAAAAAAAAAAAAAAAAAAAAAAAAAAAAAAAAAAAAAAAAAAAAgE1AAAAAAAAAAAAAAAAAAAAAAAAAAAAAAAAAAAAAAACARUAAAAAAAABGQAAAAAAAAE1AAAAAAACAT0AAAAAAAAAAAAAAAAAAAEZAAAAAAAAAAAAAAAAAAAAAAAAAAAAAAAAAAAAAAABAUEAAAAAAAABKQAAAAAAAAE9AAAAAAACASUAAAAAAAAAAAAAAAAAAAAAAAAAAAAAAHEAAAAAAAAAoQAAAAAAAAAAAAAAAAAAAAAAAAAAAAAAAAAAAAAAAAPA/AAAAAACATkAAAAAAAIBJQAAAAAAAAAAAAAAAAAAAAAAAAAAAAABKQAAAAAAAADtAAAAAAAAAAAAAAAAAAAAgQAAAAAAAAAhAAAAAAAAAR0AAAAAAAIBIQAAAAAAAADJAAAAAAAAAQkAAAAAAAAAAAAAAAAAAAPA/AAAAAACAR0AAAAAAAAAAAAAAAAAAAAAAAAAAAAAALkAAAAAAAIBPQAAAAAAAAAAAAAAAAAAAAAAAAAAAAIBBQAAAAAAAgE5AAAAAAAAAAAAAAAAAAAAAAAAAAAAAAAAAAAAAAAAAREAAAAAAAIBKQAAAAAAAAAAAAAAAAAAAAAAAAAAAAAAxQAAAAAAAgEVAAAAAAACAUEAAAAAAAAAAAAAAAAAAAAAAAAAAAACAT0AAAAAAAAAoQAAAAAAAAAAAAAAAAAAAAAAAAAAAAAAAAAAAAAAAAAAAAAAAAACAS0AAAAAAAAA1QAAAAAAAADRAAAAAAACAQEAAAAAAAAA5QAAAAAAAgEJAAAAAAAAAAAAAAAAAAAAAAAAAAAAAADRAAAAAAAAAAAAAAAAAAAAAAAAAAAAAAAAAAAAAAAAAUEAAAAAAAAA8QAAAAAAAAERAAAAAAAAAQkAAAAAAAABLQAAAAAAAgEZAAAAAAAAAAAAAAAAAAAAAAAAAAAAAABBAAAAAAAAAAAAAAAAAAABEQAAAAAAAgEVAAAAAAAAARkAAAAAAAIBEQAAAAAAAADxAAAAAAAAAAAAAAAAAAAAAAAAAAAAAAAAAAAAAAAAAIkAAAAAAAAAAAAAAAAAAAAAAAAAAAAAAJEAAAAAAAABEQAAAAAAAAAAAAAAAAAAAAAAAAAAAAAAAAAAAAAAAACJAAAAAAAAAQ0AAAAAAAAA+QAAAAAAAgEFAAAAAAAAAAAAAAAAAAAAAAAAAAAAAAAAAAAAAAAAAAAAAAAAAAAAxQAAAAAAAADxAAAAAAACARkAAAAAAAIBFQAAAAAAAAAAAAAAAAAAAAAAAAAAAAAAAAAAAAAAAAAAAAAAAAAAAAAAAAAAAAAA0QAAAAAAAAD1AAAAAAAAAHEAAAAAAAAAAAAAAAAAAADRAAAAAAACASkAAAAAAAAAAAAAAAAAAAAAAAAAAAACAREAAAAAAAAAAAAAAAAAAAAAAAAAAAAAATUAAAAAAAAAAAAAAAAAAAAAAAAAAAACASEAAAAAAAABJQAAAAAAAAAAAAAAAAACAQkAAAAAAAABNQAAAAAAAAE9AAAAAAACASUAAAAAAAIBBQAAAAAAAAAAAAAAAAAAAPkAAAAAAAIBPQAAAAAAAAAAAAAAAAACAUEAAAAAAAAAAAAAAAAAAAAAAAAAAAAAAAAAAAAAAAIBPQAAAAAAAAEJAAAAAAAAAPEAAAAAAAAAAAAAAAAAAAAAAAAAAAAAAAAAAAAAAAAA6QAAAAAAAADxAAAAAAACAUEAAAAAAAABNQAAAAAAAgFBAAAAAAAAA8D8AAAAAAAAAAAAAAAAAAENAAAAAAACAS0AAAAAAAIBEQAAAAAAAgE9AAAAAAAAAS0AAAAAAAAA+QAAAAAAAAAAAAAAAAAAAEEAAAAAAAAA5QAAAAAAAACpAAAAAAAAAPEAAAAAAAIBFQAAAAAAAAD9AAAAAAAAAAAAAAAAAAAAAAAAAAAAAgFBAAAAAAAAAREAAAAAAAAAAAAAAAAAAAAAAAAAAAAAAAAAAAAAAAAA5QAAAAAAAwFBAAAAAAACATkAAAAAAAAAyQAAAAAAAADdAAAAAAACAQ0AAAAAAAABIQAAAAAAAAEhAAAAAAAAAAAAAAAAAAAA/QAAAAAAAADVAAAAAAAAATkAAAAAAAABFQAAAAAAAAAAAAAAAAAAAAAAAAAAAAAA8QAAAAAAAADpAAAAAAAAAAAAAAAAAAAAAQAAAAAAAAElAAAAAAACAQ0AAAAAAAIBOQAAAAAAAAAAAAAAAAAAAAAAAAAAAAAAAAAAAAAAAAAAAAAAAAAAAQ0AAAAAAAAAxQAAAAAAAABRAAAAAAAAAAAAAAAAAAAAAAAAAAAAAAAAAAAAAAAAAAAAAAAAAAAAcQAAAAAAAAEZAAAAAAAAAPkAAAAAAAIBKQAAAAAAAAAAAAAAAAAAAPUAAAAAAAAA/QAAAAAAAABBAAAAAAAAAAAAAAAAAAAAkQAAAAAAAAEpAAAAAAACATUAAAAAAAIBBQAAAAAAAAAAAAAAAAAAAEEAAAAAAAAAyQAAAAAAAgEtAAAAAAAAAAAAAAAAAAAAAAAAAAAAAAAAAAAAAAAAAAAAAAAAAAAAAAAAAAAAAAAAAAAAAAAAAJEAAAAAAAEBQQAAAAAAAgEFAAAAAAAAAQ0AAAAAAAIBGQAAAAAAAAAAAAAAAAAAAAAAAAAAAAAAAAAAAAAAAgEFAAAAAAACARUAAAAAAAAAAAAAAAAAAAAAAAAAAAABAUEAAAAAAAABKQAAAAAAAgEJAAAAAAAAAAAAAAAAAAAAAAAAAAAAAABRAAAAAAABAUEAAAAAAAAAAAAAAAAAAAAAAAAAAAAAAAAAAAAAAAAAAAAAAAAAAAAAAAAAAAAAAP0AAAAAAAAAAAAAAAAAAAAAAAAAAAAAALEAAAAAAAAAqQAAAAAAAgEJAAAAAAAAAPkAAAAAAAAAiQAAAAAAAABBAAAAAAAAAAAAAAAAAAABJQAAAAAAAAE5AAAAAAACASEAAAAAAAAAAAAAAAAAAAAAAAAAAAAAA8D8AAAAAAAAAAAAAAAAAAAAAAAAAAAAAAAAAAAAAAAA3QAAAAAAAgEJAAAAAAAAASUAAAAAAAABPQAAAAAAAABBAAAAAAAAAAAAAAAAAAAAmQAAAAAAAAE9AAAAAAACATUAAAAAAAIBQQAAAAAAAACRAAAAAAAAAIEAAAAAAAAA4QAAAAAAAgEBAAAAAAAAACEAAAAAAAAAwQAAAAAAAAAAAAAAAAAAAHEAAAAAAAIBFQAAAAAAAgElAAAAAAAAATEAAAAAAAMBQQAAAAAAAAFBAAAAAAAAAAAAAAAAAAAAAAAAAAAAAAE9AAAAAAAAACEAAAAAAAAAAAAAAAAAAgFBAAAAAAAAATUAAAAAAAABLQAAAAAAAACBAAAAAAAAAAAAAAAAAAAAAAAAAAAAAAAAAAAAAAAAAREAAAAAAAIBQQAAAAAAAgE5AAAAAAAAAREAAAAAAAAAAAAAAAAAAAAAAAAAAAAAAAAAAAAAAAAAAAAAAAAAAACBAAAAAAAAAAAAAAAAAAAAUQAAAAAAAABxAAAAAAAAA8D8AAAAAAAAAQAAAAAAAAPA/AAAAAAAAEEAAAAAAAAAAAAAAAAAAgEhAAAAAAAAAAAAAAAAAAIBQQAAAAAAAAAAAAAAAAAAAAAAAAAAAAABAQAAAAAAAgE1AAAAAAAAA8D8AAAAAAAAAAAAAAAAAAFBAAAAAAAAAAAAAAAAAAAAAAAAAAAAAAD1AAAAAAAAAAAAAAAAAAABGQAAAAAAAAEdAAAAAAAAAMkAAAAAAAAAAAAAAAAAAADtAAAAAAAAASkAAAAAAAIBPQAAAAAAAAE1AAAAAAAAAAAAAAAAAAAAAAAAAAAAAAAAAAAAAAAAAAAAAAAAAAABAQAAAAAAAADRAAAAAAAAAS0AAAAAAAIBNQAAAAAAAAPA/AAAAAAAAAAAAAAAAAAAAAAAAAAAAABxAAAAAAADAUEAAAAAAAIBQQAAAAAAAAAAAAAAAAAAAAAAAAAAAAIBPQAAAAAAAQFBAAAAAAAAAAAAAAAAAAAAUQAAAAAAAADpAAAAAAAAAUEAAAAAAAABAQAAAAAAAACJAAAAAAAAAAAAAAAAAAAAyQAAAAAAAAAhAAAAAAAAAOEAAAAAAAAAAAAAAAAAAABhAAAAAAAAALEAAAAAAAAAAAAAAAAAAAAAAAAAAAAAAAAAAAAAAAAA3QAAAAAAAADxAAAAAAAAAPEAAAAAAAAAAAAAAAAAAAC5AAAAAAAAA8D8AAAAAAAAAAAAAAAAAADVAAAAAAAAALkAAAAAAAAA4QAAAAAAAADhAAAAAAAAAAAAAAAAAAABMQAAAAAAAADpAAAAAAAAAAAAAAAAAAAAAAAAAAAAAAAAAAAAAAAAASUAAAAAAAAA8QAAAAAAAACJAAAAAAAAAAAAAAAAAAAAAAAAAAAAAAAAAAAAAAAAAAAAAAAAAAAAuQAAAAAAAgEdAAAAAAACASEAAAAAAAABDQAAAAAAAAEFAAAAAAAAASUAAAAAAAAAAAAAAAAAAAAAAAAAAAAAALkAAAAAAAAAYQAAAAAAAAAAAAAAAAAAAAAAAAAAAAAAAAAAAAAAAAD5AAAAAAACATUAAAAAAAAAAAAAAAAAAAABAAAAAAAAAAAAAAAAAAAAAAAAAAAAAABhAAAAAAACASkAAAAAAAABNQAAAAAAAADdAAAAAAAAAAAAAAAAAAAAAAAAAAAAAAAAAAAAAAACATEAAAAAAAAAAAAAAAAAAAPA/AAAAAAAAAAAAAAAAAIBFQAAAAAAAAFBAAAAAAACAS0AAAAAAAABAQAAAAAAAAEFAAAAAAAAAAAAAAAAAAAAAAAAAAAAAAAAAAAAAAAAACEAAAAAAAAA6QAAAAAAAAEhAAAAAAACAUEAAAAAAAABDQAAAAAAAADJAAAAAAAAAIEAAAAAAAAAAAAAAAAAAAAAAAAAAAAAAAAAAAAAAAAAAAAAAAAAAAAAAAAAAAAAAAAAAAAAAAEBQQAAAAAAAADVAAAAAAAAANUAAAAAAAABAQAAAAAAAAAAAAAAAAAAALkAAAAAAAAAzQAAAAAAAABBAAAAAAAAA8D8AAAAAAAAAAAAAAAAAACpAAAAAAAAA8D8AAAAAAAAUQAAAAAAAACZAAAAAAAAAEEAAAAAAAAAAAAAAAAAAAAAAAAAAAAAAAAAAAAAAAAAAAAAAAAAAAEdAAAAAAAAAR0AAAAAAAEBQQAAAAAAAAE1AAAAAAAAASEAAAAAAAIBQQAAAAAAAABBAAAAAAAAAAAAAAAAAAABQQAAAAAAAAAAAAAAAAAAAAAAAAAAAAAAzQAAAAAAAACpAAAAAAAAALkAAAAAAAADwPwAAAAAAAAAAAAAAAAAA8D8AAAAAAAAAAAAAAAAAgEZAAAAAAAAANUAAAAAAAAAsQAAAAAAAAEJAAAAAAACAQEAAAAAAAAAAAAAAAAAAAAAAAAAAAAAAMkAAAAAAAEBQQAAAAAAAgFBAAAAAAACAUEAAAAAAAIBJQAAAAAAAAEdAAAAAAAAAQ0AAAAAAAAA6QAAAAAAAAAAAAAAAAAAAAAAAAAAAAAAAAAAAAAAAgEBAAAAAAAAAAAAAAAAAAAAqQAAAAAAAAAAAAAAAAACAUEAAAAAAAAA9QAAAAAAAAEdAAAAAAAAAAAAAAAAAAIBGQAAAAAAAAAAAAAAAAAAAAAAAAAAAAIBLQAAAAAAAAAAAAAAAAAAAAAAAAAAAAAAmQAAAAAAAADJAAAAAAACAT0AAAAAAAIBDQAAAAAAAACpAAAAAAAAAAAAAAAAAAIBDQAAAAAAAABhAAAAAAAAAAAAAAAAAAAAAAAAAAAAAAAAAAAAAAAAAFEAAAAAAAABLQAAAAAAAgE5AAAAAAAAAAAAAAAAAAAAAAAAAAAAAAAAAAAAAAAAAMkAAAAAAAAAAAAAAAAAAgEZAAAAAAAAARkAAAAAAAADwPwAAAAAAAAAAAAAAAAAAQEAAAAAAAAAAAAAAAAAAAAAAAAAAAAAAAAAAAAAAAABHQAAAAAAAAAAAAAAAAAAAAAAAAAAAAAAAAAAAAAAAAAAAAAAAAAAAAAAAAAAAAAAAAAAAAAAAAAAAAAAAAAAAOUAAAAAAAABGQAAAAAAAADdAAAAAAAAAAAAAAAAAAAAAAAAAAAAAAAAAAAAAAADAUEAAAAAAAIBKQAAAAAAAAEtAAAAAAAAAS0AAAAAAAAAxQAAAAAAAAAAAAAAAAAAAAAAAAAAAAAAQQAAAAAAAACJAAAAAAACATEAAAAAAAAAiQAAAAAAAAAAAAAAAAAAAAAAAAAAAAAA9QAAAAAAAgFBAAAAAAACATkAAAAAAAIBJQAAAAAAAAAAAAAAAAAAAAAAAAAAAAAAAQAAAAAAAABRAAAAAAAAAUEAAAAAAAABDQAAAAAAAAElAAAAAAAAAAAAAAAAAAAAAAAAAAAAAAAAAAAAAAAAAAAAAAAAAAIBDQAAAAAAAAE5AAAAAAAAAAAAAAAAAAAAAAAAAAAAAAEpAAAAAAAAAAAAAAAAAAAAgQAAAAAAAADJAAAAAAAAAHEAAAAAAAABOQAAAAAAAAAAAAAAAAAAAAAAAAAAAAAAAAAAAAAAAAAAAAAAAAAAAAAAAAAAAAAAcQAAAAAAAgE1AAAAAAAAAAAAAAAAAAAAAAAAAAAAAAAhAAAAAAAAAN0AAAAAAAIBJQAAAAAAAACBAAAAAAAAAAAAAAAAAAAAcQAAAAAAAAEtAAAAAAAAATkAAAAAAAAAxQAAAAAAAAAAAAAAAAAAAAAAAAAAAAABAQAAAAAAAAC5AAAAAAAAAAAAAAAAAAAAcQAAAAAAAAD5AAAAAAABAUEAAAAAAAAAAAAAAAAAAAAAAAAAAAAAAPkAAAAAAAIBFQAAAAAAAAEhAAAAAAACAT0AAAAAAAAA/QAAAAAAAAAAAAAAAAAAAAAAAAAAAAAA1QAAAAAAAADtAAAAAAAAASEAAAAAAAIBHQAAAAAAAADlAAAAAAAAAAAAAAAAAAIBGQAAAAAAAAEtAAAAAAACATUAAAAAAAAAAAAAAAAAAAAAAAAAAAAAAEEAAAAAAAAAzQAAAAAAAAAAAAAAAAAAAHEAAAAAAAIBOQAAAAAAAgERAAAAAAAAAHEAAAAAAAAAAAAAAAAAAAC5AAAAAAAAAR0AAAAAAAADwPwAAAAAAAAAAAAAAAAAAPEAAAAAAAAA5QAAAAAAAQFBAAAAAAACARkAAAAAAAAAxQAAAAAAAAAAAAAAAAAAAAAAAAAAAAAAYQAAAAAAAACJAAAAAAAAAIEAAAAAAAAA3QAAAAAAAADlAAAAAAAAARUAAAAAAAAAzQAAAAAAAgEBAAAAAAACASkAAAAAAAIBIQAAAAAAAAAAAAAAAAACASEAAAAAAAAA8QAAAAAAAAAAAAAAAAAAAAAAAAAAAAIBNQAAAAAAAAAAAAAAAAAAAQUAAAAAAAAAAAAAAAAAAAAAAAAAAAAAAAAAAAAAAAADwPwAAAAAAAAhAAAAAAAAAKkAAAAAAAAA7QAAAAAAAgENAAAAAAAAAPUAAAAAAAABOQAAAAAAAAAAAAAAAAAAAAAAAAAAAAAAAAAAAAAAAAAAAAAAAAAAAAAAAAAAAAAAAAAAAAAAAAAAAAAAAAACASUAAAAAAAIBGQAAAAAAAAAAAAAAAAAAAAAAAAAAAAAAAAAAAAAAAAAAAAAAAAAAAAAAAAAAAAAAAAAAAAAAAAAAAAAAAAAAAAAAAAAAAAAAQQAAAAAAAgEhAAAAAAAAARkAAAAAAAABFQAAAAAAAgEVAAAAAAAAAAAAAAAAAAAAAAAAAAAAAAC5AAAAAAAAAAAAAAAAAAAAAAAAAAAAAAAAAAAAAAACAQEAAAAAAAAA4QAAAAAAAAEtAAAAAAAAAMUAAAAAAAAAAAAAAAAAAABBAAAAAAAAAJkAAAAAAAAAYQAAAAAAAgExAAAAAAAAAT0AAAAAAAAAAAAAAAAAAAAAAAAAAAAAAAAAAAAAAAAAAAAAAAAAAAAAAAAAAAACARUAAAAAAAAAxQAAAAAAAACRAAAAAAAAAJEAAAAAAAAA8QAAAAAAAACxAAAAAAAAAAAAAAAAAAAAxQAAAAAAAgEBAAAAAAAAAT0AAAAAAAAAAAAAAAAAAAAAAAAAAAAAAJkAAAAAAAIBLQAAAAAAAAEFAAAAAAAAAIEAAAAAAAAAAAAAAAAAAAAAAAAAAAACAUEAAAAAAAIBDQAAAAAAAAEBAAAAAAAAAJEAAAAAAAAAAAAAAAAAAAAAAAAAAAAAAOkAAAAAAAABQQAAAAAAAAAAAAAAAAAAAAAAAAAAAAAAAAAAAAAAAAE1AAAAAAACAQ0AAAAAAAAAAAAAAAAAAAEhAAAAAAAAAAAAAAAAAAAAAAAAAAAAAAAAAAAAAAAAAJEAAAAAAAAAAAAAAAAAAABxAAAAAAACAUEAAAAAAAIBMQAAAAAAAAAAAAAAAAAAAAAAAAAAAAAAAAAAAAAAAAAAAAAAAAAAAAAAAAAAAAAAAAAAAAAAAAAAAAAAAAAAAAAAAAAAAAAAAAAAAAAAAwFBAAAAAAAAAAAAAAAAAAAAAQAAAAAAAAAAAAAAAAAAAAAAAAAAAAAAAAAAAAAAAgEBAAAAAAAAAAAAAAAAAAAAAAAAAAAAAAAAAAAAAAAAAKkAAAAAAAAAAAAAAAAAAAAAAAAAAAAAAAAAAAAAAAAAqQAAAAAAAgFBAAAAAAACAREAAAAAAAIBIQAAAAAAAAAAAAAAAAAAAAAAAAAAAAABEQAAAAAAAAPA/AAAAAAAAKEAAAAAAAAAAAAAAAAAAAAAAAAAAAAAAKkAAAAAAAABMQAAAAAAAgE1AAAAAAAAASUAAAAAAAIBBQAAAAAAAgENAAAAAAAAAOUAAAAAAAAAAAAAAAAAAABBAAAAAAAAAUEAAAAAAAEBQQAAAAAAAgFBAAAAAAAAASUAAAAAAAABHQAAAAAAAAAAAAAAAAACASEAAAAAAAABHQAAAAAAAAPA/AAAAAAAAKkAAAAAAAAA0QAAAAAAAAPA/AAAAAAAAAAAAAAAAAAAIQAAAAAAAgEBAAAAAAAAAPEAAAAAAAABAQAAAAAAAAAAAAAAAAACASEAAAAAAAAAAAAAAAAAAAAAAAAAAAAAAEEAAAAAAAAA+QAAAAAAAADhAAAAAAAAAMkAAAAAAAAAAAAAAAAAAAAAAAAAAAAAAN0AAAAAAAABCQAAAAAAAACZAAAAAAAAAMEAAAAAAAAAIQAAAAAAAAENAAAAAAAAAOUAAAAAAAAAzQAAAAAAAAAAAAAAAAAAAAAAAAAAAAAAcQAAAAAAAABxAAAAAAAAAAAAAAAAAAIBCQAAAAAAAADVAAAAAAAAAFEAAAAAAAAAAAAAAAAAAgEVAAAAAAACAUEAAAAAAAAAAAAAAAAAAAAAAAAAAAAAAQkAAAAAAAEBQQAAAAAAAAFBAAAAAAACAT0AAAAAAAAA4QAAAAAAAgEZAAAAAAAAAAAAAAAAAAAAQQAAAAAAAADRAAAAAAAAAAAAAAAAAAAAAAAAAAAAAAAAAAAAAAAAAAAAAAAAAAAAAAAAAAAAAADFAAAAAAACATkAAAAAAAABPQAAAAAAAAAAAAAAAAAAAAAAAAAAAAABCQAAAAAAAAEBAAAAAAACAQkAAAAAAAAAAAAAAAAAAgERAAAAAAAAAAAAAAAAAAAAAAAAAAAAAgENAAAAAAAAAAAAAAAAAAAAAAAAAAAAAAFBAAAAAAAAAAAAAAAAAAAAAAAAAAAAAAAAAAAAAAAAAAAAAAAAAAAAqQAAAAAAAAE1AAAAAAAAAR0AAAAAAAABIQAAAAAAAAE1AAAAAAAAAAAAAAAAAAAAAAAAAAAAAAC5AAAAAAAAAAAAAAAAAAAAgQAAAAAAAgE5AAAAAAACATEAAAAAAAABNQAAAAAAAAAAAAAAAAAAAAAAAAAAAAAAAAAAAAAAAAAAAAAAAAAAAAAAAAAAAAAAAAAAAAAAAAAAAAAAAAACASEAAAAAAAABKQAAAAAAAAAAAAAAAAAAAN0AAAAAAAAAzQAAAAAAAAEpAAAAAAAAAAAAAAAAAAAAAAAAAAAAAAExAAAAAAAAAOEAAAAAAAAAAAAAAAAAAAAAAAAAAAAAAAAAAAAAAAAA4QAAAAAAAADJAAAAAAAAAEEAAAAAAAABNQAAAAAAAgE9AAAAAAABAUEAAAAAAAAAsQAAAAAAAACBAAAAAAAAAIEAAAAAAAAAAAAAAAAAAAPA/AAAAAAAAAAAAAAAAAAAoQAAAAAAAgENAAAAAAAAACEAAAAAAAAAAAAAAAAAAAAAAAAAAAAAAKkAAAAAAAAA1QAAAAAAAAAAAAAAAAAAAMUAAAAAAAABAQAAAAAAAAEVAAAAAAACASkAAAAAAAIBLQAAAAAAAAElAAAAAAACAQEAAAAAAAABJQAAAAAAAAAAAAAAAAAAAAAAAAAAAAABNQAAAAAAAgExAAAAAAAAAAAAAAAAAAAAAAAAAAAAAwFBAAAAAAAAATkAAAAAAAAAQQAAAAAAAAAAAAAAAAAAAUEAAAAAAAIBJQAAAAAAAAAAAAAAAAAAAOUAAAAAAAIBJQAAAAAAAgEdAAAAAAAAAOUAAAAAAAAA7QAAAAAAAAAAAAAAAAAAAAAAAAAAAAIBKQAAAAAAAAD1AAAAAAAAAREAAAAAAAABOQAAAAAAAgExAAAAAAACAR0AAAAAAAIBHQAAAAAAAAEdAAAAAAAAAEEAAAAAAAAAqQAAAAAAAAAAAAAAAAAAAAAAAAAAAAAAAAAAAAAAAADJAAAAAAAAAOEAAAAAAAIBGQAAAAAAAADVAAAAAAACAQUAAAAAAAAAoQAAAAAAAAAAAAAAAAAAAHEAAAAAAAAAoQAAAAAAAAD5AAAAAAAAAAAAAAAAAAAAAAAAAAAAAAAAAAAAAAAAAAAAAAAAAAAAgQAAAAAAAQFBAAAAAAAAAAAAAAAAAAAAAAAAAAAAAAAAAAAAAAAAAAAAAAAAAAAAAAAAAAAAAgE9AAAAAAAAAQkAAAAAAAAAAAAAAAAAAAAAAAAAAAAAATkAAAAAAAIBLQAAAAAAAgEJAAAAAAAAAAAAAAAAAAAAAAAAAAAAAABhAAAAAAAAAJEAAAAAAAABFQAAAAAAAAERAAAAAAAAAAAAAAAAAAAAQQAAAAAAAAAAAAAAAAAAAQUAAAAAAAABGQAAAAAAAAEVAAAAAAAAAAAAAAAAAAAAAAAAAAAAAAFBAAAAAAAAAAAAAAAAAAAAgQAAAAAAAAAAAAAAAAACAR0AAAAAAAIBCQAAAAAAAAE5AAAAAAAAAAAAAAAAAAABCQAAAAAAAAEFAAAAAAABAUEAAAAAAAAAiQAAAAAAAAABAAAAAAAAA8D8AAAAAAAAAAAAAAAAAAAAAAAAAAAAAAAAAAAAAAIBJQAAAAAAAABBAAAAAAAAAAAAAAAAAAAAIQAAAAAAAAAAAAAAAAAAAFEAAAAAAAADwPwAAAAAAABBAAAAAAAAAAEAAAAAAAAAQQAAAAAAAABxAAAAAAAAAAAAAAAAAAAAAAAAAAAAAADlAAAAAAACARkAAAAAAAAAAAAAAAAAAAAAAAAAAAAAAAAAAAAAAAIBOQAAAAAAAAExAAAAAAAAAAAAAAAAAAAAiQAAAAAAAAAAAAAAAAAAAAAAAAAAAAAAAAAAAAAAAgEBAAAAAAAAAAAAAAAAAAABQQAAAAAAAgEVAAAAAAAAAAAAAAAAAAAAAAAAAAAAAAENAAAAAAAAAN0AAAAAAAAAmQAAAAAAAAAAAAAAAAAAAAAAAAAAAAIBIQAAAAAAAAEdAAAAAAAAAAAAAAAAAAIBCQAAAAAAAgEtAAAAAAAAAAAAAAAAAAAAAAAAAAAAAADZAAAAAAAAAQkAAAAAAAABJQAAAAAAAgEdAAAAAAACAQUAAAAAAAAAzQAAAAAAAACJAAAAAAAAAAAAAAAAAAIBNQAAAAAAAAAAAAAAAAAAAAAAAAAAAAAAAAAAAAAAAABRAAAAAAACAQkAAAAAAAIBBQAAAAAAAAAAAAAAAAACAQ0AAAAAAAAA+QAAAAAAAADpAAAAAAAAAPEAAAAAAAIBPQAAAAAAAAE5AAAAAAAAAEEAAAAAAAAAAAAAAAAAAAAAAAAAAAAAAAAAAAAAAAAA2QAAAAAAAAAAAAAAAAAAAAAAAAAAAAABJQAAAAAAAAExAAAAAAACAS0AAAAAAAMBQQAAAAAAAAFBAAAAAAACAUEAAAAAAAIBOQAAAAAAAgExAAAAAAAAAAAAAAAAAAAAAAAAAAAAAAAAAAAAAAACARkAAAAAAAIBLQAAAAAAAAAAAAAAAAAAARUAAAAAAAAAsQAAAAAAAADpAAAAAAAAAAAAAAAAAAABJQAAAAAAAgEFAAAAAAAAARkAAAAAAAAAAAAAAAAAAAExAAAAAAAAAAAAAAAAAAAAAAAAAAAAAAAAAAAAAAAAAKkAAAAAAAADwPwAAAAAAAPA/AAAAAAAAAAAAAAAAAAAQQAAAAAAAABxAAAAAAAAANEAAAAAAAAAxQAAAAAAAAChAAAAAAAAAN0AAAAAAAIBKQAAAAAAAAAAAAAAAAAAAAAAAAAAAAAAAAAAAAAAAgElAAAAAAACAR0AAAAAAAIBJQAAAAAAAADlAAAAAAAAAN0AAAAAAAAAAAAAAAAAAABhAAAAAAAAAFEAAAAAAAAA+QAAAAAAAgERAAAAAAACARUAAAAAAAAAUQAAAAAAAAAAAAAAAAAAAAAAAAAAAAAAyQAAAAAAAgEJAAAAAAAAAN0AAAAAAAIBHQAAAAAAAAEZAAAAAAAAAIEAAAAAAAAAyQAAAAAAAADxAAAAAAAAAAAAAAAAAAAAAAAAAAAAAAChAAAAAAACAT0AAAAAAAADwPwAAAAAAAAAAAAAAAAAAOkAAAAAAAABJQAAAAAAAgEdAAAAAAACAUEAAAAAAAAAAAAAAAAAAAAAAAAAAAAAAAAAAAAAAAAA+QAAAAAAAAC5AAAAAAAAAOUAAAAAAAAAAAAAAAAAAAAAAAAAAAAAAAAAAAAAAAIBPQAAAAAAAAExAAAAAAAAASEAAAAAAAABKQAAAAAAAgEJAAAAAAAAAKEAAAAAAAAAAAAAAAAAAAAAAAAAAAACARUAAAAAAAAAcQAAAAAAAAAAAAAAAAABAUEAAAAAAAAA/QAAAAAAAAAAAAAAAAAAAAAAAAAAAAAAAAAAAAAAAAFBAAAAAAACAT0AAAAAAAIBJQAAAAAAAAAAAAAAAAAAAGEAAAAAAAADwPwAAAAAAAAAAAAAAAAAAHEAAAAAAAABPQAAAAAAAAAAAAAAAAACASkAAAAAAAIBPQAAAAAAAAAAAAAAAAAAAPkAAAAAAAABGQAAAAAAAAE9AAAAAAAAATkAAAAAAAABPQAAAAAAAgEZAAAAAAAAAAAAAAAAAAAAAAAAAAAAAAAAAAAAAAAAAAAAAAAAAAIBBQAAAAAAAAEVAAAAAAAAAAAAAAAAAAAAAAAAAAAAAAPA/AAAAAAAAFEAAAAAAAAAAAAAAAAAAAABAAAAAAAAAOkAAAAAAAAAAAAAAAAAAgEVAAAAAAAAAUEAAAAAAAAA2QAAAAAAAAPA/AAAAAAAAAAAAAAAAAAAAAAAAAAAAAAAAAAAAAAAAAAAAAAAAAMBQQAAAAAAAQFBAAAAAAAAAR0AAAAAAAAAAAAAAAAAAAAAAAAAAAAAAKEAAAAAAAAAAAAAAAAAAAAAAAAAAAAAAAAAAAAAAAAAAAAAAAAAAAAAAAAAAAAAAAAAAAAAAAAAAAAAAAAAAAE5AAAAAAAAANUAAAAAAAIBEQAAAAAAAgERAAAAAAAAAM0AAAAAAAAAAAAAAAAAAACZAAAAAAACASEAAAAAAAABHQAAAAAAAAExAAAAAAAAAAAAAAAAAAAAAAAAAAAAAAAAAAAAAAAAAO0AAAAAAAIBAQAAAAAAAADZAAAAAAAAAMEAAAAAAAIBBQAAAAAAAgEZAAAAAAACATEAAAAAAAABLQAAAAAAAADpAAAAAAAAAAAAAAAAAAAAAAAAAAAAAAAAAAAAAAAAACEAAAAAAAAAgQAAAAAAAAEZAAAAAAAAAP0AAAAAAAABEQAAAAAAAADtAAAAAAAAAAAAAAAAAAABPQAAAAAAAACBAAAAAAAAAAAAAAAAAAAAYQAAAAAAAABRAAAAAAAAAAAAAAAAAAIBFQAAAAAAAADtAAAAAAAAAPUAAAAAAAABLQAAAAAAAAEtAAAAAAAAAQEAAAAAAAAAAAAAAAAAAAAAAAAAAAAAAGEAAAAAAAABKQAAAAAAAADNAAAAAAAAAN0AAAAAAAAAAAAAAAAAAAAAAAAAAAAAAAAAAAAAAAABHQAAAAAAAgERAAAAAAACARUAAAAAAAABAQAAAAAAAgERAAAAAAAAACEAAAAAAAAAAAAAAAAAAAAAAAAAAAAAAAAAAAAAAAAAIQAAAAAAAgExAAAAAAACAT0AAAAAAAIBQQAAAAAAAAAAAAAAAAAAAAAAAAAAAAAAiQAAAAAAAACZAAAAAAACATEAAAAAAAAAAAAAAAAAAAAAAAAAAAAAAHEAAAAAAAIBKQAAAAAAAAAAAAAAAAAAAAAAAAAAAAAAsQAAAAAAAAD1AAAAAAAAAQUAAAAAAAIBPQAAAAAAAAFBAAAAAAAAAAAAAAAAAAAAAAAAAAAAAAAAAAAAAAAAAEEAAAAAAAAAcQAAAAAAAAEBAAAAAAAAAUEAAAAAAAIBIQAAAAAAAAAAAAAAAAAAAAAAAAAAAAAAAAAAAAAAAgEtAAAAAAACAT0AAAAAAAABPQAAAAAAAAEFAAAAAAAAAFEAAAAAAAAAAAAAAAAAAACpAAAAAAAAAOUAAAAAAAAAAAAAAAAAAAAAAAAAAAAAANkAAAAAAAAA5QAAAAAAAAEVAAAAAAAAALkAAAAAAAAAQQAAAAAAAADVAAAAAAAAAAEAAAAAAAIBIQAAAAAAAAAAAAAAAAAAAAAAAAAAAAAAAAAAAAAAAgEhAAAAAAAAASUAAAAAAAAA+QAAAAAAAAAAAAAAAAAAAGEAAAAAAAAAAAAAAAAAAADJAAAAAAAAACEAAAAAAAAAYQAAAAAAAAEhAAAAAAADAUEAAAAAAAAAwQAAAAAAAACxAAAAAAAAAAAAAAAAAAAAAAAAAAAAAAAAAAAAAAAAAGEAAAAAAAAAyQAAAAAAAAAAAAAAAAACAS0AAAAAAAIBQQAAAAAAAAAAAAAAAAAAAAAAAAAAAAAAzQAAAAAAAgEtAAAAAAAAATUAAAAAAAAAAAAAAAAAAgEVAAAAAAAAAAAAAAAAAAAAAAAAAAAAAAAAAAAAAAAAATUAAAAAAAIBNQAAAAAAAAAAAAAAAAAAAAAAAAAAAAAAAAAAAAAAAAAAAAAAAAAAAJkAAAAAAAAAiQAAAAAAAAEhAAAAAAACATEAAAAAAAAAAAAAAAAAAAAAAAAAAAAAAO0AAAAAAAIBBQAAAAAAAAAAAAAAAAAAAAAAAAAAAAAAAAAAAAAAAADRAAAAAAAAAT0AAAAAAAAAAQAAAAAAAAAAAAAAAAAAARkAAAAAAAABPQAAAAAAAAEdAAAAAAACASUAAAAAAAIBKQAAAAAAAAE1AAAAAAACASEAAAAAAAADwPwAAAAAAAAAAAAAAAAAAMUAAAAAAAAAAAAAAAAAAACRAAAAAAAAAO0AAAAAAAIBPQAAAAAAAAEZAAAAAAAAASkAAAAAAAIBMQAAAAAAAAAAAAAAAAAAAAAAAAAAAAAAAAAAAAAAAAAAAAAAAAAAARkAAAAAAAABIQAAAAAAAAE1AAAAAAACAR0AAAAAAAAAAAAAAAAAAAAAAAAAAAAAAQkAAAAAAAABBQAAAAAAAAAAAAAAAAAAAAAAAAAAAAAA2QAAAAAAAAD5AAAAAAAAARkAAAAAAAIBKQAAAAAAAAAhAAAAAAAAAAAAAAAAAAABCQAAAAAAAgERAAAAAAAAAAAAAAAAAAAAAAAAAAAAAAAAAAAAAAAAAMUAAAAAAAAAzQAAAAAAAAAAAAAAAAAAAHEAAAAAAAAAAAAAAAAAAAAAAAAAAAAAAAAAAAAAAAAA+QAAAAAAAAFBAAAAAAACAQkAAAAAAAAAAAAAAAAAAAAAAAAAAAAAAAAAAAAAAAAAyQAAAAAAAAEpAAAAAAAAAQEAAAAAAAAAAAAAAAAAAAD1AAAAAAAAAAAAAAAAAAAAAAAAAAAAAAAAAAAAAAAAAAAAAAAAAAAAgQAAAAAAAABRAAAAAAAAAAAAAAAAAAAAIQAAAAAAAAElAAAAAAAAASEAAAAAAAADwPwAAAAAAAAAAAAAAAAAAREAAAAAAAABNQAAAAAAAAAAAAAAAAAAAAAAAAAAAAAA1QAAAAAAAgEBAAAAAAAAAN0AAAAAAAIBPQAAAAAAAAChAAAAAAACAQEAAAAAAAAAiQAAAAAAAAAAAAAAAAAAAFEAAAAAAAAA+QAAAAAAAAElAAAAAAAAAOkAAAAAAAAAAAAAAAAAAACBAAAAAAAAAN0AAAAAAAIBCQAAAAAAAAENAAAAAAACAR0AAAAAAAAA+QAAAAAAAAD5AAAAAAAAAAAAAAAAAAAAAAAAAAAAAAEdAAAAAAACATEAAAAAAAAAAAAAAAAAAAAAAAAAAAAAAAAAAAAAAAAAzQAAAAAAAgEtAAAAAAAAAJEAAAAAAAAAAAAAAAAAAAAAAAAAAAAAAAAAAAAAAAAAAAAAAAAAAAEBAAAAAAAAAJEAAAAAAAAAAAAAAAAAAAAhAAAAAAAAAAAAAAAAAAIBMQAAAAAAAAD5AAAAAAAAAAAAAAAAAAAAAAAAAAAAAAAAAAAAAAACAQUAAAAAAAIBJQAAAAAAAAEVAAAAAAAAAOEAAAAAAAAAAAAAAAAAAACBAAAAAAAAAAAAAAAAAAABMQAAAAAAAgE9AAAAAAAAAAAAAAAAAAAA9QAAAAAAAgERAAAAAAACAT0AAAAAAAAA1QAAAAAAAAAAAAAAAAAAAAAAAAAAAAAAAAAAAAAAAAAAAAAAAAAAAAAAAAAAAAAAuQAAAAAAAgEtAAAAAAAAAAAAAAAAAAAAAAAAAAAAAAAAAAAAAAAAAKEAAAAAAAIBCQAAAAAAAgEBAAAAAAAAAO0AAAAAAAADwPwAAAAAAAAAAAAAAAAAAIEAAAAAAAAAUQAAAAAAAgEJAAAAAAACATEAAAAAAAAAAAAAAAAAAAAAAAAAAAAAAAAAAAAAAAAAgQAAAAAAAAAAAAAAAAAAAAAAAAAAAAAA8QAAAAAAAgEdAAAAAAAAASUAAAAAAAAA4QAAAAAAAAD1AAAAAAAAAAAAAAAAAAAAAAAAAAAAAACRAAAAAAAAA8D8AAAAAAAAAAAAAAAAAADJAAAAAAAAAAAAAAAAAAABKQAAAAAAAgEJAAAAAAAAAAAAAAAAAAAAAAAAAAAAAADdAAAAAAAAANkAAAAAAAABQQAAAAAAAgExAAAAAAAAASkAAAAAAAAAIQAAAAAAAADhAAAAAAAAAPEAAAAAAAABAQAAAAAAAADZAAAAAAAAAAAAAAAAAAAAAAAAAAAAAAAAAAAAAAACATEAAAAAAAABPQAAAAAAAgERAAAAAAAAAAAAAAAAAAAAAAAAAAAAAAAAAAAAAAAAATEAAAAAAAIBFQAAAAAAAAAAAAAAAAAAAAAAAAAAAAAAAQAAAAAAAABRAAAAAAACAT0AAAAAAAIBGQAAAAAAAAAAAAAAAAAAAAAAAAAAAAAAAAAAAAAAAAAAAAAAAAACAR0AAAAAAAIBAQAAAAAAAAAAAAAAAAAAAAAAAAAAAAAAAQAAAAAAAAAAAAAAAAAAAAAAAAAAAAAAYQAAAAAAAAD5AAAAAAAAAAAAAAAAAAAAAAAAAAAAAAAAAAAAAAAAAAAAAAAAAAIBGQAAAAAAAAC5AAAAAAAAAAAAAAAAAAAAAAAAAAAAAAAAAAAAAAAAAAAAAAAAAAAAAAAAAAAAAAAAAAAAAAAAAAAAAAAAAAAAgQAAAAAAAAE9AAAAAAAAATkAAAAAAAIBGQAAAAAAAADlAAAAAAAAAAAAAAAAAAABDQAAAAAAAAD5AAAAAAAAAPEAAAAAAAAAuQAAAAAAAAAAAAAAAAAAAAAAAAAAAAAAAAAAAAAAAAC5AAAAAAACATUAAAAAAAAA0QAAAAAAAAAAAAAAAAAAAAAAAAAAAAAAAAAAAAAAAAElAAAAAAAAAR0AAAAAAAABHQAAAAAAAAEtAAAAAAAAAQ0AAAAAAAAAAAAAAAAAAAAAAAAAAAAAAAAAAAAAAAAAAAAAAAAAAAAAAAAAAAAAAGEAAAAAAAAA3QAAAAAAAgEpAAAAAAAAAAAAAAAAAAAAAAAAAAAAAAExAAAAAAAAAO0AAAAAAAAAAAAAAAAAAAAAAAAAAAAAAJkAAAAAAAAAAAAAAAAAAACxAAAAAAACATUAAAAAAAABHQAAAAAAAACpAAAAAAAAAAAAAAAAAAAAAAAAAAAAAABhAAAAAAAAAQEAAAAAAAAAAAAAAAAAAAAAAAAAAAAAAAAAAAAAAAIBFQAAAAAAAADBAAAAAAAAAAAAAAAAAAAAmQAAAAAAAABhAAAAAAACATkAAAAAAAAA/QAAAAAAAAAAAAAAAAAAALkAAAAAAAAAAAAAAAAAAAAAAAAAAAAAAMUAAAAAAAAAcQAAAAAAAAEdAAAAAAAAANkAAAAAAAAAAAAAAAAAAAAAAAAAAAAAAMkAAAAAAAIBIQAAAAAAAgEFAAAAAAAAAAAAAAAAAAAAAAAAAAAAAgEVAAAAAAAAA8D8AAAAAAAAAAAAAAAAAAAAAAAAAAAAAGEAAAAAAAAAAAAAAAAAAAAAAAAAAAAAAQ0AAAAAAAAAAAAAAAAAAAAAAAAAAAACATkAAAAAAAAAAAAAAAAAAgEZAAAAAAACASEAAAAAAAAAAAAAAAAAAAAAAAAAAAAAAEEAAAAAAAAAAAAAAAAAAAAAAAAAAAAAAKkAAAAAAAAAsQAAAAAAAAPA/AAAAAAAAAAAAAAAAAAAAAAAAAAAAQFBAAAAAAAAATkAAAAAAAAAAAAAAAAAAAAAAAAAAAAAA8D8AAAAAAAAAQAAAAAAAAAAAAAAAAAAAAAAAAAAAAAAYQAAAAAAAAPA/AAAAAAAAFEAAAAAAAAAIQAAAAAAAABhAAAAAAAAAAAAAAAAAAAAAAAAAAAAAAAAAAAAAAACASkAAAAAAAAAAAAAAAAAAADRAAAAAAAAAAAAAAAAAAAAAAAAAAAAAAD1AAAAAAACATkAAAAAAAAAAAAAAAAAAAAAAAAAAAACATkAAAAAAAAAAAAAAAAAAACxAAAAAAAAAAAAAAAAAAAAzQAAAAAAAAAAAAAAAAACAQ0AAAAAAAAA8QAAAAAAAAAAAAAAAAAAAAAAAAAAAAAAAAAAAAAAAAAAAAAAAAAAAAAAAAAAAAAAAAAAAAAAAgE1AAAAAAAAAFEAAAAAAAAAAAAAAAAAAAAAAAAAAAAAAAAAAAAAAAAAAAAAAAAAAAAAAAAAAAACAQEAAAAAAAAA9QAAAAAAAAAAAAAAAAAAAAAAAAAAAAABEQAAAAAAAAEBAAAAAAAAAQUAAAAAAAABHQAAAAAAAAAAAAAAAAAAAKkAAAAAAAABEQAAAAAAAABBAAAAAAAAAAAAAAAAAAAA9QAAAAAAAADdAAAAAAACATkAAAAAAAAAAAAAAAAAAAAAAAAAAAAAAAAAAAAAAAMBQQAAAAAAAAFBAAAAAAAAAAAAAAAAAAAAAAAAAAAAAAAAAAAAAAAAAOUAAAAAAAABMQAAAAAAAgENAAAAAAACASkAAAAAAAIBIQAAAAAAAAAAAAAAAAAAAAAAAAAAAAAAiQAAAAAAAADBAAAAAAACAQEAAAAAAAABOQAAAAAAAAEJAAAAAAACARkAAAAAAAAAAAAAAAAAAAC5AAAAAAAAAKkAAAAAAAABDQAAAAAAAgEVAAAAAAAAAAAAAAAAAAAAkQAAAAAAAACRAAAAAAACATEAAAAAAAAAAAAAAAAAAAAAAAAAAAAAAAAAAAAAAAAAAAAAAAAAAAAAAAAAAAAAAAAAAAAAAAAAAAAAAAAAAgElAAAAAAACATEAAAAAAAABMQAAAAAAAAE9AAAAAAAAATEAAAAAAAAAAAAAAAAAAAAAAAAAAAAAAAAAAAAAAAIBFQAAAAAAAAD1AAAAAAAAAIkAAAAAAAAAgQAAAAAAAAERAAAAAAAAAMUAAAAAAAAAAAAAAAAAAAAAAAAAAAACAQEAAAAAAAADwPwAAAAAAAAAAAAAAAAAAAAAAAAAAAIBMQAAAAAAAAExAAAAAAACASUAAAAAAAIBCQAAAAAAAgElAAAAAAAAAIEAAAAAAAAAzQAAAAAAAAAAAAAAAAACAQkAAAAAAAAA4QAAAAAAAAEVAAAAAAAAARkAAAAAAAABIQAAAAAAAADZAAAAAAAAAAAAAAAAAAAAAAAAAAAAAAE1AAAAAAACASEAAAAAAAABDQAAAAAAAgE1AAAAAAAAASUAAAAAAAIBOQAAAAAAAAAAAAAAAAAAAAAAAAAAAAAAAAAAAAAAAAAAAAAAAAAAAAAAAAAAAAAAAAAAAAAAAAE9AAAAAAAAAR0AAAAAAAAA0QAAAAAAAAEFAAAAAAAAAOUAAAAAAAAAAAAAAAAAAAChAAAAAAAAAP0AAAAAAAAAyQAAAAAAAAD9AAAAAAAAAPkAAAAAAAAA2QAAAAAAAADJAAAAAAAAAAAAAAAAAAAAAAAAAAAAAADJAAAAAAACAQEAAAAAAAIBEQAAAAAAAAEtAAAAAAAAATUAAAAAAAAAAAAAAAAAAAPA/AAAAAAAAAEAAAAAAAAA0QAAAAAAAAEpAAAAAAACARUAAAAAAAIBGQAAAAAAAAENAAAAAAACAQUAAAAAAAIBJQAAAAAAAAENAAAAAAAAAJkAAAAAAAAAAAAAAAAAAACZAAAAAAAAATkAAAAAAAAAoQAAAAAAAAAAAAAAAAAAAIkAAAAAAAAAAAAAAAAAAAElAAAAAAAAALEAAAAAAAAAcQAAAAAAAAAAAAAAAAAAAUEAAAAAAAAAAAAAAAAAAAAAAAAAAAAAAAAAAAAAAAAAAAAAAAAAAAAAAAAAAAAAAUEAAAAAAAABQQAAAAAAAAE9AAAAAAAAAIEAAAAAAAAAAAAAAAAAAAEFAAAAAAACAUEAAAAAAAIBNQAAAAAAAAAAAAAAAAAAAAAAAAAAAAAAAAAAAAAAAgEVAAAAAAAAANEAAAAAAAABAQAAAAAAAAEZAAAAAAAAAPUAAAAAAAIBKQAAAAAAAAElAAAAAAACAR0AAAAAAAABLQAAAAAAAgENAAAAAAAAAAAAAAAAAAAAAAAAAAAAAAAAAAAAAAABAUEAAAAAAAAAAAAAAAAAAAAAAAAAAAAAAO0AAAAAAAABGQAAAAAAAgElAAAAAAACASEAAAAAAAAAuQAAAAAAAAAAAAAAAAACASkAAAAAAAIBPQAAAAAAAgElAAAAAAAAAAAAAAAAAAAAIQAAAAAAAAAAAAAAAAACAS0AAAAAAAAAwQAAAAAAAAABAAAAAAAAAAAAAAAAAAAA5QAAAAAAAgElAAAAAAACATUAAAAAAAIBPQAAAAAAAAEtAAAAAAACAS0AAAAAAAAA/QAAAAAAAAAAAAAAAAAAAAAAAAAAAAIBJQAAAAAAAADpAAAAAAAAAAAAAAAAAAAA4QAAAAAAAADhAAAAAAAAAMEAAAAAAAAAAAAAAAAAAAAAAAAAAAAAAS0AAAAAAAAAAAAAAAAAAAAAAAAAAAAAAAAAAAAAAAAAsQAAAAAAAAEhAAAAAAAAAREAAAAAAAAAAAAAAAAAAAABAAAAAAAAAAAAAAAAAAAA4QAAAAAAAAEFAAAAAAAAAJkAAAAAAAAAAAAAAAAAAAAAAAAAAAAAAOUAAAAAAAAAAAAAAAAAAAAAAAAAAAAAAAEAAAAAAAAAAAAAAAAAAgEhAAAAAAABAUEAAAAAAAAA7QAAAAAAAAAAAAAAAAACASUAAAAAAAMBQQAAAAAAAgFBAAAAAAACATkAAAAAAAMBQQAAAAAAAgEtAAAAAAAAAFEAAAAAAAAAAAAAAAAAAAAAAAAAAAAAAAAAAAAAAAAAAQAAAAAAAAAhAAAAAAACASUAAAAAAAAA/QAAAAAAAAAAAAAAAAAAAMEAAAAAAAAAAAAAAAAAAgEFAAAAAAAAATkAAAAAAAIBIQAAAAAAAADJAAAAAAAAAAAAAAAAAAAAAAAAAAAAAAAAAAAAAAAAAAAAAAAAAAABLQAAAAAAAAE5AAAAAAAAAAAAAAAAAAAAAAAAAAAAAADRAAAAAAAAAHEAAAAAAAAAoQAAAAAAAAEhAAAAAAACAS0AAAAAAAIBFQAAAAAAAgE9AAAAAAAAAAAAAAAAAAAAAAAAAAAAAABhAAAAAAAAAAAAAAAAAAAA0QAAAAAAAgEJAAAAAAACAQEAAAAAAAAAAAAAAAAAAAAAAAAAAAAAAAEAAAAAAAAA0QAAAAAAAAFBAAAAAAAAAHEAAAAAAAAAoQAAAAAAAAAAAAAAAAAAANUAAAAAAAAAUQAAAAAAAAAAAAAAAAAAAOUAAAAAAAIBGQAAAAAAAgEhAAAAAAAAAQ0AAAAAAAAAAAAAAAAAAAAAAAAAAAAAAAAAAAAAAAAAAAAAAAAAAACRAAAAAAAAATkAAAAAAAAA1QAAAAAAAAAAAAAAAAAAAAAAAAAAAAIBQQAAAAAAAACRAAAAAAAAAAAAAAAAAAAAuQAAAAAAAADNAAAAAAAAAPkAAAAAAAIBQQAAAAAAAAD1AAAAAAAAAFEAAAAAAAAAAAAAAAAAAAD1AAAAAAAAAPkAAAAAAAIBLQAAAAAAAADZAAAAAAAAAAAAAAAAAAAAmQAAAAAAAgEtAAAAAAACAUEAAAAAAAABQQAAAAAAAgFBAAAAAAAAALEAAAAAAAAAAAAAAAAAAAAAAAAAAAAAAO0AAAAAAAAAAAAAAAAAAAAAAAAAAAAAAGEAAAAAAAAAAAAAAAAAAAE5AAAAAAAAAAAAAAAAAAIBGQAAAAAAAACBAAAAAAAAALkAAAAAAAAAAAAAAAAAAAE9AAAAAAAAAAAAAAAAAAAAIQAAAAAAAAAAAAAAAAAAAAAAAAAAAAAAAAAAAAAAAAFBAAAAAAAAAAAAAAAAAAAAAAAAAAAAAAAAAAAAAAAAAAAAAAAAAAAAcQAAAAAAAABhAAAAAAAAAM0AAAAAAAAAAAAAAAAAAAAAAAAAAAAAAAAAAAAAAAAAgQAAAAAAAABxAAAAAAAAAKkAAAAAAAABGQAAAAAAAADJAAAAAAAAAAAAAAAAAAAAAAAAAAAAAAAAAAAAAAAAASkAAAAAAAABLQAAAAAAAgEhAAAAAAACARUAAAAAAAABQQAAAAAAAADdAAAAAAAAAAAAAAAAAAAAAAAAAAAAAADpAAAAAAAAAKkAAAAAAAAAAAAAAAAAAACRAAAAAAAAALkAAAAAAAABFQAAAAAAAABBAAAAAAAAAAAAAAAAAAAAQQAAAAAAAADpAAAAAAAAALkAAAAAAAAAAAAAAAAAAAEBAAAAAAAAAAAAAAAAAAAAAAAAAAAAAgFBAAAAAAAAAMEAAAAAAAAAAAAAAAAAAAAAAAAAAAAAAMUAAAAAAAAAxQAAAAAAAAAhAAAAAAAAAMEAAAAAAAIBEQAAAAAAAAElAAAAAAAAAQkAAAAAAAIBOQAAAAAAAAAAAAAAAAAAAAAAAAAAAAAAAAAAAAAAAAEZAAAAAAAAAQEAAAAAAAIBEQAAAAAAAAD1AAAAAAAAAO0AAAAAAAAAAAAAAAAAAAEJAAAAAAAAASEAAAAAAAIBFQAAAAAAAABRAAAAAAAAAO0AAAAAAAIBEQAAAAAAAAD5AAAAAAAAAAAAAAAAAAAAAAAAAAAAAAAAAAAAAAACAREAAAAAAAABKQAAAAAAAAEdAAAAAAAAAS0AAAAAAAABIQAAAAAAAgEVAAAAAAAAAKEAAAAAAAAAAAAAAAAAAAAAAAAAAAAAAAAAAAAAAAAA4QAAAAAAAAPA/AAAAAAAAAAAAAAAAAAAAAAAAAAAAAAAAAAAAAAAAJkAAAAAAAAA4QAAAAAAAAC5AAAAAAAAATkAAAAAAAIBGQAAAAAAAAAAAAAAAAAAAAAAAAAAAAAAAAAAAAAAAAAAAAAAAAAAAAAAAAAAAAAAgQAAAAAAAAAAAAAAAAAAANEAAAAAAAIBAQAAAAAAAgEVAAAAAAACARUAAAAAAAAAAAAAAAAAAAERAAAAAAAAALEAAAAAAAAAwQAAAAAAAACBAAAAAAAAAAAAAAAAAAAAAAAAAAAAAAAAAAAAAAAAAAAAAAAAAAAAAAAAAAAAAADFAAAAAAAAAOEAAAAAAAAA+QAAAAAAAADFAAAAAAAAAAAAAAAAAAABKQAAAAAAAgExAAAAAAAAAPEAAAAAAAAAAAAAAAAAAAAAAAAAAAAAAAAAAAAAAAABAQAAAAAAAgE5AAAAAAACARUAAAAAAAAAAAAAAAAAAAENAAAAAAACARkAAAAAAAABGQAAAAAAAAAAAAAAAAAAAAAAAAAAAAAA4QAAAAAAAACJAAAAAAAAAAAAAAAAAAAAAAAAAAAAAAABAAAAAAAAAEEAAAAAAAAA3QAAAAAAAgE5AAAAAAAAARUAAAAAAAAAAAAAAAAAAAAAAAAAAAAAAKEAAAAAAAIBGQAAAAAAAAPA/AAAAAAAAAAAAAAAAAAAAAAAAAAAAAAAAAAAAAACATkAAAAAAAIBNQAAAAAAAAEpAAAAAAACATUAAAAAAAABLQAAAAAAAAE5AAAAAAACATUAAAAAAAAAAAAAAAAAAQFBAAAAAAAAAAAAAAAAAAAAAAAAAAAAAAAAAAAAAAAAAAAAAAAAAAAAAAAAAAAAAAAhAAAAAAAAAAAAAAAAAAIBAQAAAAAAAADRAAAAAAAAAPEAAAAAAAAAUQAAAAAAAAAAAAAAAAAAASEAAAAAAAIBNQAAAAAAAgElAAAAAAAAAAAAAAAAAAAAAAAAAAAAAAAAAAAAAAAAAAEAAAAAAAAAqQAAAAAAAAEtAAAAAAAAAIEAAAAAAAAAAAAAAAAAAAAAAAAAAAAAAAAAAAAAAAAAAAAAAAAAAAAAAAAAAAAAAPEAAAAAAAAAyQAAAAAAAgE5AAAAAAAAAS0AAAAAAAIBIQAAAAAAAAAAAAAAAAAAAAAAAAAAAAAAsQAAAAAAAABBAAAAAAAAAAAAAAAAAAAAAAAAAAAAAAAAAAAAAAAAAAAAAAAAAAAAAAAAAAAAAAAAAAAAAAACAREAAAAAAAAAAAAAAAAAAgE5AAAAAAACAS0AAAAAAAAA+QAAAAAAAAEZAAAAAAACARUAAAAAAAAAAAAAAAAAAgE1AAAAAAACAREAAAAAAAABEQAAAAAAAAAAAAAAAAAAAAAAAAAAAAIBCQAAAAAAAgEVAAAAAAACARkAAAAAAAAA6QAAAAAAAAAAAAAAAAAAAAAAAAAAAAAAAAAAAAAAAADpAAAAAAAAAPUAAAAAAAIBBQAAAAAAAAAAAAAAAAAAAAAAAAAAAAAAAAAAAAAAAACRAAAAAAAAARUAAAAAAAAAAAAAAAAAAAAAAAAAAAAAAMkAAAAAAAIBPQAAAAAAAgEVAAAAAAAAAAAAAAAAAAAAAAAAAAAAAAAAAAAAAAABAUEAAAAAAAAAAAAAAAAAAAAAAAAAAAAAAAAAAAAAAAAAsQAAAAAAAABRAAAAAAAAAAAAAAAAAAAAAAAAAAAAAAABAAAAAAAAANEAAAAAAAADwPwAAAAAAAAAAAAAAAAAAAAAAAAAAAAA0QAAAAAAAwFBAAAAAAAAAAAAAAAAAAAAcQAAAAAAAACpAAAAAAAAALkAAAAAAAABKQAAAAAAAAEBAAAAAAAAAJkAAAAAAAAAAAAAAAAAAAAAAAAAAAACASEAAAAAAAABBQAAAAAAAADRAAAAAAAAAKkAAAAAAAIBCQAAAAAAAAD1AAAAAAAAAAAAAAAAAAAAAAAAAAAAAADxAAAAAAADAUEAAAAAAAIBDQAAAAAAAAAAAAAAAAAAALkAAAAAAAAAoQAAAAAAAAAAAAAAAAAAAAAAAAAAAAAAcQAAAAAAAAEJAAAAAAAAASUAAAAAAAIBFQAAAAAAAAAAAAAAAAAAAPkAAAAAAAAAAAAAAAAAAAAAAAAAAAAAAAAAAAAAAAAAAAAAAAAAAAAAAAAAAAAAAAEAAAAAAAIBOQAAAAAAAgE9AAAAAAAAAM0AAAAAAAAAAAAAAAAAAAAAAAAAAAAAAAAAAAAAAAIBGQAAAAAAAAEVAAAAAAAAAAAAAAAAAAAA1QAAAAAAAAE9AAAAAAAAARkAAAAAAAAAyQAAAAAAAAD5AAAAAAAAAAAAAAAAAAIBNQAAAAAAAAAAAAAAAAAAAQkAAAAAAAABQQAAAAAAAAE1AAAAAAACASUAAAAAAAIBIQAAAAAAAgEVAAAAAAAAAAAAAAAAAAAAAAAAAAAAAAExAAAAAAAAALkAAAAAAAAAAAAAAAAAAAEVAAAAAAAAAQkAAAAAAAAAAAAAAAAAAAAAAAAAAAAAAAAAAAAAAAAAAAAAAAAAAAEhAAAAAAACASEAAAAAAAABJQAAAAAAAAEJAAAAAAAAAAAAAAAAAAAAkQAAAAAAAAAAAAAAAAAAAFEAAAAAAAAAAQAAAAAAAAAAAAAAAAAAAEEAAAAAAAAAAQAAAAAAAAAhAAAAAAAAAAEAAAAAAAAAAAAAAAAAAAAAAAAAAAACAREAAAAAAAAAAAAAAAAAAAAAAAAAAAAAAQEAAAAAAAAAyQAAAAAAAAAAAAAAAAAAATkAAAAAAAABNQAAAAAAAAAAAAAAAAAAAAAAAAAAAAABOQAAAAAAAAAAAAAAAAAAAAAAAAAAAAAAyQAAAAAAAADhAAAAAAAAAAAAAAAAAAAAAAAAAAAAAADlAAAAAAAAAAAAAAAAAAAAAAAAAAAAAAAAAAAAAAAAAAAAAAAAAAAAAAAAAAAAAAAAAAAAAAAAAR0AAAAAAAABOQAAAAAAAAAAAAAAAAAAAAAAAAAAAAAAAAAAAAAAAACJAAAAAAAAATkAAAAAAAABKQAAAAAAAAEpAAAAAAAAAN0AAAAAAAAAxQAAAAAAAADhAAAAAAAAAMkAAAAAAAAAAAAAAAAAAAAAAAAAAAAAAM0AAAAAAAAAuQAAAAAAAAChAAAAAAAAAP0AAAAAAAAA9QAAAAAAAADtAAAAAAAAAAAAAAAAAAAAAAAAAAAAAAAAAAAAAAAAAAAAAAAAAAIBMQAAAAAAAADdAAAAAAAAAJkAAAAAAAADwPwAAAAAAAAAAAAAAAAAAAAAAAAAAAAAAAAAAAAAAAEBAAAAAAAAASUAAAAAAAABLQAAAAAAAAAAAAAAAAAAAAAAAAAAAAABAQAAAAAAAAEdAAAAAAACASkAAAAAAAAAxQAAAAAAAADdAAAAAAAAANEAAAAAAAAAAAAAAAAAAAAAAAAAAAAAAJkAAAAAAAAAAAAAAAAAAAAAAAAAAAAAAP0AAAAAAAABNQAAAAAAAgEtAAAAAAAAATkAAAAAAAAA3QAAAAAAAADJAAAAAAAAAAAAAAAAAAAAAAAAAAAAAAAhAAAAAAACAQEAAAAAAAIBFQAAAAAAAACJAAAAAAAAAAAAAAAAAAAAAAAAAAAAAgEZAAAAAAAAATUAAAAAAAAA4QAAAAAAAACpAAAAAAAAAOEAAAAAAAAAAAAAAAAAAAAAAAAAAAABAUEAAAAAAAAAAAAAAAAAAAAAAAAAAAAAAAAAAAAAAAAAAAAAAAAAAAAAAAAAAAAAAQkAAAAAAAEBQQAAAAAAAAAAAAAAAAAAAAAAAAAAAAAA/QAAAAAAAAAAAAAAAAAAAAAAAAAAAAAAAAAAAAAAAgEBAAAAAAAAAAAAAAAAAAAAAAAAAAAAAADhAAAAAAAAAAAAAAAAAAAAgQAAAAAAAAAAAAAAAAAAALkAAAAAAAIBBQAAAAAAAADJAAAAAAAAAPUAAAAAAAAAAAAAAAAAAAAAAAAAAAACATUAAAAAAAABJQAAAAAAAAEpAAAAAAAAARUAAAAAAAAA5QAAAAAAAADhAAAAAAAAAAAAAAAAAAAAgQAAAAAAAgEZAAAAAAAAAPkAAAAAAAADwPwAAAAAAADBAAAAAAAAAMUAAAAAAAIBAQAAAAAAAAAAAAAAAAAAA8D8AAAAAAAAAAAAAAAAAgFBAAAAAAAAAOEAAAAAAAAAAAAAAAAAAAAAAAAAAAAAAAAAAAAAAAAAAAAAAAAAAAAAAAAAAAACATkAAAAAAAIBMQAAAAAAAgFBAAAAAAACAS0AAAAAAAAAAAAAAAAAAAAAAAAAAAAAAAAAAAAAAAAAAAAAAAAAAAEZAAAAAAABAUEAAAAAAAABOQAAAAAAAAD5AAAAAAAAAAEAAAAAAAAAAAAAAAAAAAAAAAAAAAAAAAAAAAAAAAABQQAAAAAAAADVAAAAAAAAAAAAAAAAAAADwPwAAAAAAAABAAAAAAAAAAAAAAAAAAAAAAAAAAAAAAAAAAAAAAAAAOkAAAAAAAIBBQAAAAAAAgEZAAAAAAAAAAAAAAAAAAAAAAAAAAAAAAAAAAAAAAAAARkAAAAAAAIBPQAAAAAAAAE9AAAAAAAAAQ0AAAAAAAAAAAAAAAAAAAAAAAAAAAAAAS0AAAAAAAABAQAAAAAAAAAAAAAAAAAAANkAAAAAAAEBQQAAAAAAAAD1AAAAAAAAAAAAAAAAAAAA6QAAAAAAAAAAAAAAAAAAAAAAAAAAAAAA6QAAAAAAAADxAAAAAAAAAAAAAAAAAAAAAAAAAAAAAAAAAAAAAAAAAAAAAAAAAAAAAAAAAAAAAAAAAAAAAAACARkAAAAAAAIBIQAAAAAAAgEJAAAAAAAAAEEAAAAAAAADwPwAAAAAAAAAAAAAAAAAAAAAAAAAAAAAAAAAAAAAAAAAAAAAAAAAAAAAAAAAAAAA2QAAAAAAAAD9AAAAAAAAAAAAAAAAAAAAAAAAAAAAAAAAAAAAAAAAAS0AAAAAAAAAAAAAAAAAAAAAAAAAAAAAAGEAAAAAAAABLQAAAAAAAADJAAAAAAAAAAAAAAAAAAAA7QAAAAAAAAAAAAAAAAAAAAAAAAAAAAAAcQAAAAAAAAEJAAAAAAACARkAAAAAAAABPQAAAAAAAAFBAAAAAAACASUAAAAAAAAAAAAAAAAAAAAAAAAAAAAAANUAAAAAAAAAxQAAAAAAAADJAAAAAAACASUAAAAAAAAAAAAAAAAAAAAAAAAAAAAAAAEAAAAAAAAA+QAAAAAAAgEpAAAAAAAAAT0AAAAAAAAAxQAAAAAAAAABAAAAAAAAAAAAAAAAAAAAAAAAAAAAAgENAAAAAAAAANkAAAAAAAAA7QAAAAAAAAAAAAAAAAAAAOEAAAAAAAEBQQAAAAAAAgEVAAAAAAAAAEEAAAAAAAAAxQAAAAAAAAAAAAAAAAAAAAAAAAAAAAAAAAAAAAAAAAEVAAAAAAAAASUAAAAAAAMBQQAAAAAAAAAAAAAAAAAAAAAAAAAAAAAAqQAAAAAAAADtAAAAAAACASEAAAAAAAAAAAAAAAAAAACpAAAAAAAAAHEAAAAAAAIBJQAAAAAAAgEtAAAAAAAAAPkAAAAAAAABNQAAAAAAAAExAAAAAAAAAMkAAAAAAAAAAAAAAAAAAADRAAAAAAAAATEAAAAAAAABNQAAAAAAAAElAAAAAAACASUAAAAAAAAAUQAAAAAAAAAAAAAAAAAAAAAAAAAAAAAAAAAAAAAAAAD9AAAAAAAAAAAAAAAAAAABCQAAAAAAAgFBAAAAAAAAAAAAAAAAAAAAAAAAAAAAAAAAAAAAAAAAAAAAAAAAAAAA0QAAAAAAAgE9AAAAAAAAASEAAAAAAAIBEQAAAAAAAACZAAAAAAAAAAAAAAAAAAAAAAAAAAAAAAAAAAAAAAAAAAEAAAAAAAAAwQAAAAAAAAAAAAAAAAAAAAAAAAAAAAAAAAAAAAAAAAE9AAAAAAAAAAAAAAAAAAAAAAAAAAAAAABBAAAAAAAAAAAAAAAAAAAAAAAAAAAAAAAAAAAAAAAAAQkAAAAAAAAA4QAAAAAAAAE9AAAAAAAAASEAAAAAAAIBLQAAAAAAAADJAAAAAAAAAPkAAAAAAAAA6QAAAAAAAADZAAAAAAAAAAAAAAAAAAAAAAAAAAAAAAAAAAAAAAAAAAAAAAAAAAAAAAAAAAAAAAAAAAAAAAAAACEAAAAAAAAA0QAAAAAAAAD5AAAAAAAAAAAAAAAAAAAAAAAAAAAAAAAAAAAAAAACAQkAAAAAAAAA3QAAAAAAAACBAAAAAAAAAAAAAAAAAAAAAAAAAAAAAAAAAAAAAAAAAAAAAAAAAAAAAAAAAAAAAAAAAAAAAAAAAHEAAAAAAAAAsQAAAAAAAACxAAAAAAAAACEAAAAAAAAAAAAAAAAAAAAAAAAAAAAAAOUAAAAAAAIBFQAAAAAAAgEBAAAAAAAAARUAAAAAAAAA7QAAAAAAAAAAAAAAAAAAAAAAAAAAAAAAAAAAAAAAAgEJAAAAAAAAAAAAAAAAAAAAqQAAAAAAAAE9AAAAAAAAAOUAAAAAAAAA3QAAAAAAAAAAAAAAAAACARkAAAAAAAIBLQAAAAAAAAAAAAAAAAAAAAAAAAAAAAMBQQAAAAAAAgEdAAAAAAAAARkAAAAAAAIBHQAAAAAAAAAAAAAAAAAAAAAAAAAAAAAA8QAAAAAAAAAAAAAAAAAAAP0AAAAAAAAAAAAAAAAAAAAAAAAAAAAAAAAAAAAAAAAAAAAAAAAAAAAAAAAAAAAAAAAAAAAAAAAAAAAAAAAAAAAAAAAAAAAAAQUAAAAAAAABLQAAAAAAAgE1AAAAAAAAAPUAAAAAAAAA0QAAAAAAAAAAAAAAAAAAAAAAAAAAAAAAAAAAAAAAAAAAAAAAAAAAAAAAAAAAAAAAAQAAAAAAAAAAAAAAAAAAAAAAAAAAAAAAAAAAAAAAAAAAAAAAAAAAAOEAAAAAAAABPQAAAAAAAgENAAAAAAAAASEAAAAAAAAAyQAAAAAAAADFAAAAAAAAAAAAAAAAAAABKQAAAAAAAgEFAAAAAAAAAAAAAAAAAAAAAAAAAAAAAAEFAAAAAAAAAPkAAAAAAAIBCQAAAAAAAAAAAAAAAAAAALkAAAAAAAABHQAAAAAAAAE5AAAAAAAAAAAAAAAAAAIBBQAAAAAAAADJAAAAAAAAAFEAAAAAAAAAAAAAAAAAAACZAAAAAAAAAT0AAAAAAAABDQAAAAAAAAAAAAAAAAAAAAAAAAAAAAAAAAAAAAAAAAAAAAAAAAAAAAAAAAAAAAAAAAAAAAAAAAE1AAAAAAAAARUAAAAAAAABFQAAAAAAAgEJAAAAAAACAQkAAAAAAAIBBQAAAAAAAAEdAAAAAAAAAMkAAAAAAAAAAAAAAAAAAAAAAAAAAAAAAAAAAAAAAAAAAAAAAAAAAgE9AAAAAAADAUEAAAAAAAAAAAAAAAAAAAAAAAAAAAAAAAAAAAAAAAAAAAAAAAAAAAAAAAAAAAAAAAAAAAAAAAABLQAAAAAAAAEVAAAAAAAAAAAAAAAAAAAAkQAAAAAAAAEBAAAAAAAAANUAAAAAAAIBKQAAAAAAAgEhAAAAAAAAAAAAAAAAAAAAAAAAAAAAAAExAAAAAAAAAKEAAAAAAAAAAAAAAAAAAADVAAAAAAACAT0AAAAAAAAAwQAAAAAAAAC5AAAAAAAAAAAAAAAAAAABNQAAAAAAAwFBAAAAAAAAAAAAAAAAAAIBEQAAAAAAAAAAAAAAAAAAAAAAAAAAAAAAYQAAAAAAAADtAAAAAAAAAAAAAAAAAAAAsQAAAAAAAAAAAAAAAAAAAAAAAAAAAAAAAAAAAAAAAAAAAAAAAAAAANUAAAAAAAIBCQAAAAAAAAD9AAAAAAAAAQ0AAAAAAAABDQAAAAAAAAAAAAAAAAAAAAAAAAAAAAAAAAAAAAAAAAAAAAAAAAAAAAAAAAAAAAABQQAAAAAAAgEFAAAAAAAAAGEAAAAAAAAAmQAAAAAAAAAAAAAAAAAAAAAAAAAAAAIBIQAAAAAAAgFBAAAAAAAAAMkAAAAAAAAA7QAAAAAAAAAAAAAAAAAAAAAAAAAAAAAAAAAAAAAAAAAAAAAAAAAAAAAAAAAAAAAAAAAAAAAAAAAAAAAAAAAAATkAAAAAAAAAAAAAAAAAAAAAAAAAAAACAQ0AAAAAAAIBKQAAAAAAAAChAAAAAAAAAFEAAAAAAAAAAAAAAAAAAAAAAAAAAAABAUEAAAAAAAAAAAAAAAAAAgERAAAAAAAAAPkAAAAAAAAAAAAAAAAAAAAAAAAAAAAAAAAAAAAAAAABGQAAAAAAAgENAAAAAAAAAAAAAAAAAAAAAAAAAAAAAAAAAAAAAAAAAAAAAAAAAAAAAAAAAAAAAAAAAAAAAAAAAN0AAAAAAAAA5QAAAAAAAACRAAAAAAAAAAAAAAAAAAAAxQAAAAAAAADdAAAAAAACATEAAAAAAAEBQQAAAAAAAQFBAAAAAAAAAAAAAAAAAAAAAAAAAAAAAABRAAAAAAAAAAAAAAAAAAAAcQAAAAAAAgE5AAAAAAABAUEAAAAAAAABJQAAAAAAAAAAAAAAAAAAACEAAAAAAAAAyQAAAAAAAgERAAAAAAAAAHEAAAAAAAAAsQAAAAAAAAAAAAAAAAAAAM0AAAAAAAAA7QAAAAAAAgEFAAAAAAACARUAAAAAAAAAAQAAAAAAAAAAAAAAAAAAAAAAAAAAAAAAAAAAAAAAAABxAAAAAAAAAKkAAAAAAAABAQAAAAAAAgEdAAAAAAAAAAAAAAAAAAIBAQAAAAAAAgE5AAAAAAACAT0AAAAAAAAA/QAAAAAAAADJAAAAAAAAAAAAAAAAAAAAAAAAAAAAAAAAAAAAAAAAA8D8AAAAAAIBFQAAAAAAAAEBAAAAAAAAAAAAAAAAAAAAAAAAAAAAAADJAAAAAAACATkAAAAAAAABIQAAAAAAAAAAAAAAAAAAAAAAAAAAAAAA+QAAAAAAAAD1AAAAAAAAASEAAAAAAAABNQAAAAAAAAEBAAAAAAAAAPkAAAAAAAIBBQAAAAAAAAAAAAAAAAAAAAAAAAAAAAAAAAAAAAAAAABBAAAAAAAAAKkAAAAAAAAA2QAAAAAAAAEFAAAAAAAAAAAAAAAAAAAAAAAAAAAAAAEBAAAAAAACAREAAAAAAAAAAAAAAAAAAAAAAAAAAAAAAAAAAAAAAAAA0QAAAAAAAAAAAAAAAAAAAAAAAAAAAAAA4QAAAAAAAADVAAAAAAACASUAAAAAAAIBJQAAAAAAAAAAAAAAAAACAQ0AAAAAAAAAAAAAAAAAAAAAAAAAAAACAQkAAAAAAAABJQAAAAAAAgENAAAAAAACARUAAAAAAAIBLQAAAAAAAAAAAAAAAAAAAEEAAAAAAAAAkQAAAAAAAAEZAAAAAAAAAQEAAAAAAAAA3QAAAAAAAADVAAAAAAAAAJEAAAAAAAAA/QAAAAAAAgEJAAAAAAAAAR0AAAAAAAIBMQAAAAAAAAAAAAAAAAAAAAAAAAAAAAAAAAAAAAAAAAAAAAAAAAABAUEAAAAAAAAA5QAAAAAAAAAAAAAAAAAAAAAAAAAAAAABJQAAAAAAAAAAAAAAAAACAREAAAAAAAAAAAAAAAAAAAAAAAAAAAAAAAAAAAAAAAAAAAAAAAAAAAAAAAAAAAAAAJEAAAAAAAAAAAAAAAAAAAAAAAAAAAAAAAAAAAAAAAAAAAAAAAAAAgEdAAAAAAACARkAAAAAAAAA0QAAAAAAAAAAAAAAAAAAAHEAAAAAAAAAAQAAAAAAAABhAAAAAAAAAS0AAAAAAAAA8QAAAAAAAAEdAAAAAAAAAAAAAAAAAAAAmQAAAAAAAAAAAAAAAAAAAAAAAAAAAAAAAAAAAAAAAgEFAAAAAAACAQkAAAAAAAAAiQAAAAAAAAAAAAAAAAAAACEAAAAAAAAAAAAAAAAAAAAAAAAAAAAAA8D8AAAAAAAAyQAAAAAAAADxAAAAAAAAAKEAAAAAAAAAsQAAAAAAAAAAAAAAAAAAAUEAAAAAAAEBQQAAAAAAAgE5AAAAAAAAAPEAAAAAAAAAAAAAAAAAAAAAAAAAAAAAAQEAAAAAAAAAAAAAAAAAAAAAAAAAAAAAAAAAAAAAAAAAAAAAAAAAAADpAAAAAAACAUEAAAAAAAAAmQAAAAAAAAAAAAAAAAAAAAAAAAAAAAAAAAAAAAAAAADJAAAAAAAAAP0AAAAAAAAAAAAAAAAAAAAAAAAAAAAAASEAAAAAAAIBNQAAAAAAAgFBAAAAAAAAAAAAAAAAAAAAAAAAAAAAAADRAAAAAAAAAPkAAAAAAAABNQAAAAAAAADBAAAAAAAAAAAAAAAAAAAAAAAAAAAAAAAAAAAAAAAAAAAAAAAAAAIBNQAAAAAAAAAAAAAAAAAAAAAAAAAAAAAAAAAAAAAAAAE5AAAAAAACAUEAAAAAAAABIQAAAAAAAAEhAAAAAAAAAAAAAAAAAAAAqQAAAAAAAAEpAAAAAAAAAAAAAAAAAAAAAAAAAAAAAAAAAAAAAAAAAAAAAAAAAAAAUQAAAAAAAAAAAAAAAAAAAGEAAAAAAAAAQQAAAAAAAABBAAAAAAAAA8D8AAAAAAAAQQAAAAAAAAAAAAAAAAACARUAAAAAAAAAgQAAAAAAAAAAAAAAAAACAQ0AAAAAAAAAAAAAAAAAAAAAAAAAAAAAAAAAAAAAAAIBAQAAAAAAAAAAAAAAAAAAAAAAAAAAAAAAwQAAAAAAAAE1AAAAAAAAAJkAAAAAAAAAAAAAAAAAAAAAAAAAAAAAAAEAAAAAAAAA+QAAAAAAAAAAAAAAAAAAAIkAAAAAAAAAwQAAAAAAAAAAAAAAAAAAATUAAAAAAAABJQAAAAAAAAE1AAAAAAAAAAAAAAAAAAADwPwAAAAAAAAAAAAAAAACAT0AAAAAAAIBIQAAAAAAAAAAAAAAAAACAR0AAAAAAAAAAAAAAAAAAABBAAAAAAACAUEAAAAAAAAAAAAAAAAAAAAAAAAAAAAAAAAAAAAAAAAAAAAAAAAAAADRAAAAAAAAATkAAAAAAAAAiQAAAAAAAADFAAAAAAAAALkAAAAAAAAAAAAAAAAAAgFBAAAAAAAAAAAAAAAAAAAAAAAAAAAAAgEBAAAAAAAAAUEAAAAAAAIBIQAAAAAAAgElAAAAAAAAAN0AAAAAAAAAAAAAAAAAAAAAAAAAAAAAAAAAAAAAAAIBLQAAAAAAAAElAAAAAAACAQkAAAAAAAAAzQAAAAAAAAE9AAAAAAAAAT0AAAAAAAAAAAAAAAAAAAExAAAAAAADAUEAAAAAAAIBMQAAAAAAAQFBAAAAAAACAUEAAAAAAAABGQAAAAAAAACRAAAAAAAAA8D8AAAAAAAAAAAAAAAAAAAAAAAAAAAAAIEAAAAAAAABDQAAAAAAAgEJAAAAAAAAAQUAAAAAAAAAAAAAAAAAAAAAAAAAAAAAAAAAAAAAAAAAAAAAAAAAAAEhAAAAAAACAR0AAAAAAAADwPwAAAAAAAAAAAAAAAAAAGEAAAAAAAAAAAAAAAAAAACBAAAAAAAAACEAAAAAAAAAIQAAAAAAAADJAAAAAAACAUEAAAAAAAAA+QAAAAAAAAAAAAAAAAACAUEAAAAAAAABGQAAAAAAAAAAAAAAAAAAAAAAAAAAAAAAAAAAAAAAAAAAAAAAAAAAA8D8AAAAAAAAiQAAAAAAAQFBAAAAAAAAAFEAAAAAAAAAAAAAAAAAAAAAAAAAAAAAAAAAAAAAAAAAAAAAAAAAAACxAAAAAAAAARkAAAAAAAAAAAAAAAAAAgE5AAAAAAAAATEAAAAAAAIBNQAAAAAAAADJAAAAAAAAAAAAAAAAAAAAAAAAAAAAAAABAAAAAAAAAAAAAAAAAAAAiQAAAAAAAgEFAAAAAAAAAP0AAAAAAAAA+QAAAAAAAAAAAAAAAAACARkAAAAAAAAAxQAAAAAAAAAAAAAAAAAAAAAAAAAAAAAAAAAAAAAAAgExAAAAAAAAAGEAAAAAAAAAAAAAAAAAAAAAAAAAAAAAAN0AAAAAAAIBAQAAAAAAAAEFAAAAAAAAAAAAAAAAAAAAAAAAAAAAAADhAAAAAAABAUEAAAAAAAAAAAAAAAAAAAAAAAAAAAAAAJkAAAAAAAABPQAAAAAAAADdAAAAAAAAAAAAAAAAAAAAwQAAAAAAAAE5AAAAAAABAUEAAAAAAAAAQQAAAAAAAACRAAAAAAAAAAAAAAAAAAAAAAAAAAAAAAExAAAAAAAAAMEAAAAAAAAAAAAAAAAAAAAAAAAAAAAAAIkAAAAAAAIBQQAAAAAAAgExAAAAAAACARUAAAAAAAAAAAAAAAAAAAAAAAAAAAAAAKkAAAAAAAADwPwAAAAAAwFBAAAAAAACATkAAAAAAAAA+QAAAAAAAADtAAAAAAACASkAAAAAAAAA8QAAAAAAAAERAAAAAAACAQkAAAAAAAAAAAAAAAAAAABRAAAAAAAAALkAAAAAAAAAAAAAAAAAAAAAAAAAAAAAAAAAAAAAAAAAQQAAAAAAAAD1AAAAAAAAAAAAAAAAAAAAAAAAAAAAAgE5AAAAAAABAUEAAAAAAAIBFQAAAAAAAAEpAAAAAAAAAAAAAAAAAAAAAAAAAAAAAAAAAAAAAAAAAAAAAAAAAAAAAAAAAAAAAAAAAAAAAAAAAAAAAAAAAAAAAAAAAAAAAAFBAAAAAAAAAUEAAAAAAAAAAAAAAAAAAABBAAAAAAAAAAAAAAAAAAAAAQAAAAAAAAD9AAAAAAACASUAAAAAAAAAAAAAAAAAAAAAAAAAAAAAAT0AAAAAAAABIQAAAAAAAAE9AAAAAAAAAAAAAAAAAAAAAAAAAAAAAAAAAAAAAAACAQUAAAAAAAABQQAAAAAAAAFBAAAAAAAAAAAAAAAAAAAAAAAAAAAAAAAAAAAAAAAAAAAAAAAAAAAAAQAAAAAAAABRAAAAAAAAAAAAAAAAAAAAAAAAAAAAAAAAAAAAAAAAAAAAAAAAAAAAAAAAAAAAAAAAAAAAAAAAAAAAAAAAAAAAqQAAAAAAAAAAAAAAAAAAAUEAAAAAAAADwPwAAAAAAABxAAAAAAAAAAAAAAAAAAAAQQAAAAAAAAAAAAAAAAAAACEAAAAAAAAAAAAAAAAAAgE9AAAAAAAAAGEAAAAAAAAAAAAAAAAAAAAAAAAAAAAAALEAAAAAAAABLQAAAAAAAACxAAAAAAAAAAAAAAAAAAAAgQAAAAAAAAEdAAAAAAAAAT0AAAAAAAIBLQAAAAAAAAD5AAAAAAAAAAAAAAAAAAIBHQAAAAAAAAAAAAAAAAAAAAAAAAAAAAAA3QAAAAAAAADVAAAAAAAAAHEAAAAAAAAAAAAAAAAAAAAAAAAAAAAAAAAAAAAAAAAAAAAAAAAAAABRAAAAAAACAREAAAAAAAABCQAAAAAAAAAAAAAAAAACAUEAAAAAAAEBQQAAAAAAAAAAAAAAAAAAAAEAAAAAAAAAAAAAAAAAAAAAAAAAAAAAAQUAAAAAAAIBOQAAAAAAAgE1AAAAAAAAAS0AAAAAAAIBKQAAAAAAAAAAAAAAAAAAAAAAAAAAAAAAAAAAAAAAAAAAAAAAAAAAAAAAAAAAAAABJQAAAAAAAgE9AAAAAAACATkAAAAAAAIBDQAAAAAAAACBAAAAAAACAQEAAAAAAAAAAAAAAAAAAAAAAAAAAAAAAUEAAAAAAAAAAAAAAAAAAAAAAAAAAAAAAAAAAAAAAAAAAAAAAAAAAADlAAAAAAAAAJEAAAAAAAAAAAAAAAAAAgERAAAAAAACATkAAAAAAAABOQAAAAAAAAEpAAAAAAAAAGEAAAAAAAAAxQAAAAAAAAAAAAAAAAAAAT0AAAAAAAIBIQAAAAAAAAAAAAAAAAAAAAAAAAAAAAADwPwAAAAAAACBAAAAAAAAAGEAAAAAAAAAkQAAAAAAAABRAAAAAAAAAAAAAAAAAAAAQQAAAAAAAACBAAAAAAACATUAAAAAAAAAsQAAAAAAAAAAAAAAAAAAATEAAAAAAAEBQQAAAAAAAAE1AAAAAAACASkAAAAAAAABQQAAAAAAAAENAAAAAAAAA8D8AAAAAAAAAAAAAAAAAAAAAAAAAAAAAOkAAAAAAAAAxQAAAAAAAgEBAAAAAAAAAAAAAAAAAAAAAAAAAAAAAAAhAAAAAAACAR0AAAAAAAABBQAAAAAAAAAAAAAAAAAAAAAAAAAAAAEBQQAAAAAAAAEtAAAAAAAAAQEAAAAAAAAAAAAAAAAAAAAAAAAAAAAAAAAAAAAAAAAAQQAAAAAAAADVAAAAAAAAATkAAAAAAAAAAAAAAAAAAAAAAAAAAAAAAAAAAAAAAAABQQAAAAAAAAERAAAAAAAAAAAAAAAAAAADwPwAAAAAAAAAAAAAAAAAAP0AAAAAAAAAwQAAAAAAAADtAAAAAAAAAKEAAAAAAAIBEQAAAAAAAAExAAAAAAACAT0AAAAAAAABJQAAAAAAAgE9AAAAAAAAAAAAAAAAAAIBPQAAAAAAAAAAAAAAAAAAAAAAAAAAAAIBOQAAAAAAAAEdAAAAAAAAAQkAAAAAAAIBQQAAAAAAAAPA/AAAAAAAAJkAAAAAAAAAAAAAAAAAAAAAAAAAAAAAAAAAAAAAAAIBAQAAAAAAAgERAAAAAAAAAQEAAAAAAAAAAAAAAAAAAACZAAAAAAAAAOkAAAAAAAIBFQAAAAAAAAE5AAAAAAACATEAAAAAAAAAAAAAAAAAAAAAAAAAAAAAARkAAAAAAAIBLQAAAAAAAAE9AAAAAAACAQEAAAAAAAABAQAAAAAAAADFAAAAAAAAAFEAAAAAAAAAgQAAAAAAAAAAAAAAAAAAAKkAAAAAAAABDQAAAAAAAAEhAAAAAAAAASkAAAAAAAAAAAAAAAAAAAAAAAAAAAABAUEAAAAAAAIBIQAAAAAAAAE5AAAAAAAAATkAAAAAAAAAAAAAAAAAAACBAAAAAAAAAAAAAAAAAAAAAAAAAAAAAAAAAAAAAAAAAAAAAAAAAAAAAAAAAAAAAAE5AAAAAAAAAT0AAAAAAAABIQAAAAAAAgElAAAAAAAAATEAAAAAAAAAAAAAAAAAAgEJAAAAAAACAR0AAAAAAAIBIQAAAAAAAAAAAAAAAAAAAAAAAAAAAAAAuQAAAAAAAgEFAAAAAAACAQkAAAAAAAAAAAAAAAAAAQFBAAAAAAACATEAAAAAAAAA0QAAAAAAAAAAAAAAAAAAAAAAAAAAAAAAAAAAAAAAAADFAAAAAAACATUAAAAAAAAAAAAAAAAAAABhAAAAAAACAS0AAAAAAAAAsQAAAAAAAADZAAAAAAAAAAAAAAAAAAAAAAAAAAAAAACpAAAAAAAAAUEAAAAAAAIBGQAAAAAAAAAAAAAAAAAAAAAAAAAAAAAAAAAAAAAAAAAAAAAAAAAAAAAAAAAAAAAAQQAAAAAAAAAAAAAAAAACAUEAAAAAAAAAAAAAAAAAAAAAAAAAAAAAAAAAAAAAAAAAAAAAAAAAAADJAAAAAAAAAAEAAAAAAAAAAAAAAAAAAAAAAAAAAAAAAEEAAAAAAAAAAAAAAAAAAAAhAAAAAAAAAAAAAAAAAAAAYQAAAAAAAAAAAAAAAAAAAAAAAAAAAAAAAAAAAAAAAABhAAAAAAAAAREAAAAAAAAAAAAAAAAAAAAAAAAAAAAAAAAAAAAAAAAAAAAAAAAAAAAAAAAAAAACAQEAAAAAAAAA6QAAAAAAAAAAAAAAAAAAAAAAAAAAAAAAuQAAAAAAAADlAAAAAAAAAQEAAAAAAAADwPwAAAAAAACpAAAAAAAAAAAAAAAAAAAAyQAAAAAAAADRAAAAAAAAAPkAAAAAAAABIQAAAAAAAAAAAAAAAAAAAAAAAAAAAAAAAAAAAAAAAAAAAAAAAAAAATkAAAAAAAIBFQAAAAAAAAAAAAAAAAAAAAAAAAAAAAAAAAAAAAAAAAAAAAAAAAAAAAAAAAAAAAAAAAAAAAAAAAAAAAAAAAAAAOkAAAAAAAABDQAAAAAAAAEZAAAAAAAAAQ0AAAAAAAAAuQAAAAAAAABxAAAAAAAAAKEAAAAAAAAAAAAAAAAAAAAAAAAAAAAAAAAAAAAAAAIBGQAAAAAAAgE5AAAAAAACAT0AAAAAAAIBJQAAAAAAAABhAAAAAAAAALkAAAAAAAAAmQAAAAAAAAAAAAAAAAAAAP0AAAAAAAAAAAAAAAAAAAAAAAAAAAACAT0AAAAAAAAAAAAAAAAAAACRAAAAAAAAAMUAAAAAAAAA9QAAAAAAAAFBAAAAAAAAATkAAAAAAAIBOQAAAAAAAAAAAAAAAAAAAAAAAAAAAAAA/QAAAAAAAAAAAAAAAAAAAAAAAAAAAAAAAAAAAAAAAAAAAAAAAAAAAAAAAAAAAAIBKQAAAAAAAgEtAAAAAAAAANEAAAAAAAAAAAAAAAAAAAAAAAAAAAAAAAAAAAAAAAAAyQAAAAAAAAD1AAAAAAACARUAAAAAAAAA3QAAAAAAAAAAAAAAAAAAAAAAAAAAAAABLQAAAAAAAgEtAAAAAAAAAUEAAAAAAAAAAAAAAAAAAAAAAAAAAAAAATkAAAAAAAAAAAAAAAAAAAAhAAAAAAACASUAAAAAAAIBGQAAAAAAAgEhAAAAAAAAAPkAAAAAAAAAAAAAAAAAAAAAAAAAAAAAAAAAAAAAAAAA/QAAAAAAAAEpAAAAAAAAAAAAAAAAAAAAAAAAAAAAAAAAAAAAAAAAAOUAAAAAAAAA0QAAAAAAAgEJAAAAAAACASUAAAAAAAIBMQAAAAAAAADRAAAAAAAAAAAAAAAAAAAA1QAAAAAAAADBAAAAAAAAARUAAAAAAAAA/QAAAAAAAAD5AAAAAAAAAAAAAAAAAAAAAAAAAAAAAAAAAAAAAAAAAAAAAAAAAAAA0QAAAAAAAADxAAAAAAACAQkAAAAAAAABFQAAAAAAAACBAAAAAAAAAAEAAAAAAAABQQAAAAAAAACJAAAAAAAAAAAAAAAAAAAAAAAAAAAAAAAAAAAAAAAAAAEAAAAAAAAAAAAAAAAAAADpAAAAAAAAALkAAAAAAAIBGQAAAAAAAADxAAAAAAAAASkAAAAAAAIBGQAAAAAAAgEhAAAAAAAAAT0AAAAAAAABOQAAAAAAAAEVAAAAAAAAAMUAAAAAAAAAAAAAAAAAAAAAAAAAAAAAAAAAAAAAAAAAUQAAAAAAAAENAAAAAAAAAQEAAAAAAAAA/QAAAAAAAAAAAAAAAAAAAAAAAAAAAAAAAAAAAAAAAgEVAAAAAAAAAAAAAAAAAAAAAAAAAAAAAAPA/AAAAAAAAAAAAAAAAAABPQAAAAAAAAEtAAAAAAAAAAAAAAAAAAIBLQAAAAAAAAEpAAAAAAAAAR0AAAAAAAABJQAAAAAAAADBAAAAAAAAANEAAAAAAAAAAAAAAAAAAADFAAAAAAAAAMkAAAAAAAAAAAAAAAAAAAENAAAAAAAAASEAAAAAAAAAAQAAAAAAAAAAAAAAAAAAAAAAAAAAAAAAAAAAAAAAAAAAAAAAAAACASEAAAAAAAIBMQAAAAAAAAAAAAAAAAAAAAAAAAAAAAIBKQAAAAAAAgEFAAAAAAAAAAAAAAAAAAAAAAAAAAAAAAAAAAAAAAAAAAAAAAAAAAABEQAAAAAAAAExAAAAAAAAAAAAAAAAAAAAAAAAAAAAAAD1AAAAAAAAAN0AAAAAAAAA2QAAAAAAAAAAAAAAAAAAAKEAAAAAAAAA6QAAAAAAAgEZAAAAAAAAAAAAAAAAAAAAAAAAAAAAAAAAAAAAAAAAATEAAAAAAAAAAAAAAAAAAABBAAAAAAAAAEEAAAAAAAAAAAAAAAAAAAAAAAAAAAAAAAAAAAAAAAAAAAAAAAAAAAAAAAAAAAAAAS0AAAAAAAADwPwAAAAAAAAAAAAAAAAAACEAAAAAAAEBQQAAAAAAAgEJAAAAAAAAAAAAAAAAAAAAAAAAAAAAAAAAAAAAAAAAAAAAAAAAAAAAAAAAAAAAAACRAAAAAAACASEAAAAAAAABIQAAAAAAAACBAAAAAAAAAAAAAAAAAAAA3QAAAAAAAAAAAAAAAAAAAAAAAAAAAAAAuQAAAAAAAAChAAAAAAAAAEEAAAAAAAAAkQAAAAAAAABhAAAAAAAAAIEAAAAAAAADwPwAAAAAAABBAAAAAAAAACEAAAAAAAAAAQAAAAAAAAABAAAAAAAAAAEAAAAAAAAAAAAAAAAAAAAAAAAAAAACAS0AAAAAAAAAgQAAAAAAAAAAAAAAAAACAT0AAAAAAAAAAAAAAAAAAAEBAAAAAAAAAAAAAAAAAAAAAAAAAAAAAAAAAAAAAAACAREAAAAAAAABHQAAAAAAAAAAAAAAAAAAAAAAAAAAAAAAIQAAAAAAAAENAAAAAAAAAAAAAAAAAAAAAAAAAAAAAAAAAAAAAAAAAAAAAAAAAAAA1QAAAAAAAgElAAAAAAAAASEAAAAAAAABNQAAAAAAAABhAAAAAAAAACEAAAAAAAAAzQAAAAAAAgEhAAAAAAAAAAAAAAAAAAIBJQAAAAAAAADRAAAAAAAAAAAAAAAAAAAAAAAAAAAAAAAAAAAAAAACAQUAAAAAAAABAQAAAAAAAgFBAAAAAAAAAQkAAAAAAAAAYQAAAAAAAACxAAAAAAAAAMkAAAAAAAAAAAAAAAAAAAEJAAAAAAAAASkAAAAAAAAAAAAAAAAAAAAAAAAAAAAAASkAAAAAAAAA4QAAAAAAAAAAAAAAAAAAAAAAAAAAAAAAAAAAAAAAAAAAAAAAAAAAAAAAAAAAAAAA3QAAAAAAAgEdAAAAAAAAASEAAAAAAAAAAAAAAAAAAADBAAAAAAAAAOUAAAAAAAAAAAAAAAAAAAD1AAAAAAAAAAAAAAAAAAAAAAAAAAAAAAFBAAAAAAACAT0AAAAAAAIBPQAAAAAAAAE1AAAAAAAAAQUAAAAAAAAA9QAAAAAAAAAAAAAAAAAAAAAAAAAAAAIBHQAAAAAAAACpAAAAAAAAAQUAAAAAAAAAAAAAAAAAAAPA/AAAAAAAAAAAAAAAAAAAAAAAAAAAAAENAAAAAAAAATUAAAAAAAIBLQAAAAAAAADxAAAAAAAAAAAAAAAAAAAAAAAAAAAAAAC5AAAAAAAAAAAAAAAAAAAAAAAAAAAAAADBAAAAAAAAAAAAAAAAAAAAxQAAAAAAAACpAAAAAAAAAMkAAAAAAAIBEQAAAAAAAADxAAAAAAAAAGEAAAAAAAAAAAAAAAAAAADpAAAAAAAAAQUAAAAAAAABDQAAAAAAAAAAAAAAAAAAAAAAAAAAAAIBGQAAAAAAAAExAAAAAAACATkAAAAAAAAAwQAAAAAAAAAAAAAAAAAAAAAAAAAAAAAAAAAAAAAAAAAAAAAAAAAAAAAAAAAAAAABCQAAAAAAAACZAAAAAAAAAPEAAAAAAAAAAAAAAAAAAAAAAAAAAAACATEAAAAAAAAAuQAAAAAAAAAAAAAAAAAAAAAAAAAAAAAAuQAAAAAAAAAAAAAAAAAAAAAAAAAAAAAAAAAAAAAAAAAAAAAAAAAAAAAAAAAAAAAAAAAAAAAAAAAAAAAAAAAAAAAAAAAAAAABPQAAAAAAAADlAAAAAAAAAO0AAAAAAAAA7QAAAAAAAAAAAAAAAAAAAAAAAAAAAAAAAAAAAAAAAAE9AAAAAAAAATkAAAAAAAAA9QAAAAAAAAAAAAAAAAACASUAAAAAAAIBGQAAAAAAAgEdAAAAAAACAQ0AAAAAAAAA/QAAAAAAAAAAAAAAAAAAAAAAAAAAAAABPQAAAAAAAACJAAAAAAAAAAAAAAAAAAAAxQAAAAAAAADtAAAAAAAAAMkAAAAAAAAAAAAAAAAAAAAAAAAAAAAAAAAAAAAAAAAAQQAAAAAAAADlAAAAAAACATkAAAAAAAABPQAAAAAAAADtAAAAAAAAAAAAAAAAAAAAAAAAAAAAAAAAAAAAAAAAAAAAAAAAAAAAAAAAAAAAAAAAAAAAAAAAA8D8AAAAAAABAQAAAAAAAAERAAAAAAAAAAAAAAAAAAABOQAAAAAAAAABAAAAAAAAAAAAAAAAAAAAAAAAAAAAAABBAAAAAAAAAOEAAAAAAAAA8QAAAAAAAAAAAAAAAAAAACEAAAAAAAAA1QAAAAAAAAAAAAAAAAAAAAAAAAAAAAAAAAAAAAAAAAAAAAAAAAACATUAAAAAAAEBQQAAAAAAAgEdAAAAAAAAATEAAAAAAAIBGQAAAAAAAAAAAAAAAAAAAAAAAAAAAAAA7QAAAAAAAAEVAAAAAAAAAAAAAAAAAAAAqQAAAAAAAQFBAAAAAAAAAAAAAAAAAAIBJQAAAAAAAgE9AAAAAAACATUAAAAAAAABMQAAAAAAAAAAAAAAAAAAAAAAAAAAAAAAIQAAAAAAAAENAAAAAAAAAQUAAAAAAAIBGQAAAAAAAAExAAAAAAACAT0AAAAAAAAAAAAAAAAAAAAAAAAAAAAAAAAAAAAAAAAAAAAAAAAAAABBAAAAAAAAAO0AAAAAAAIBMQAAAAAAAAE9AAAAAAAAAQkAAAAAAAAA6QAAAAAAAAAAAAAAAAAAAR0AAAAAAAAAAAAAAAAAAACxAAAAAAAAALEAAAAAAAIBIQAAAAAAAgEVAAAAAAAAAP0AAAAAAAIBMQAAAAAAAADxAAAAAAACAQUAAAAAAAAAAAAAAAAAAAAAAAAAAAACAQEAAAAAAAIBPQAAAAAAAAExAAAAAAACASkAAAAAAAIBIQAAAAAAAAEpAAAAAAAAAAAAAAAAAAAAAAAAAAAAAADVAAAAAAACASkAAAAAAAIBIQAAAAAAAAEdAAAAAAAAAMkAAAAAAAAA2QAAAAAAAAD5AAAAAAAAAMUAAAAAAAAA0QAAAAAAAACRAAAAAAAAAAAAAAAAAAIBFQAAAAAAAACRAAAAAAAAAAAAAAAAAAAAAAAAAAAAAAAAAAAAAAAAAAAAAAAAAAAAAAAAAAAAAACRAAAAAAAAAOEAAAAAAAIBCQAAAAAAAgEdAAAAAAAAAAAAAAAAAAAAAAAAAAAAAADFAAAAAAAAAQUAAAAAAAABIQAAAAAAAAAAAAAAAAAAAAAAAAAAAAAAAAAAAAAAAAE1AAAAAAAAAAAAAAAAAAAAAAAAAAAAAAAAAAAAAAAAANkAAAAAAAAA4QAAAAAAAADFAAAAAAAAAHEAAAAAAAAAAAAAAAAAAAAAAAAAAAAAAAAAAAAAAAAAiQAAAAAAAABRAAAAAAAAAHEAAAAAAAAAqQAAAAAAAAAAAAAAAAACARkAAAAAAAIBGQAAAAAAAgElAAAAAAACAQUAAAAAAAAAUQAAAAAAAAAAAAAAAAAAA8D8AAAAAAABGQAAAAAAAAAAAAAAAAAAAAAAAAAAAAAAAAAAAAAAAAAAAAAAAAAAAAAAAAAAAAAAiQAAAAAAAAC5AAAAAAAAAAAAAAAAAAAAAAAAAAAAAAE1AAAAAAAAATkAAAAAAAIBIQAAAAAAAACZAAAAAAAAANUAAAAAAAAAAAAAAAAAAAAAAAAAAAAAAN0AAAAAAAABGQAAAAAAAAAAAAAAAAAAAMEAAAAAAAABIQAAAAAAAAAAAAAAAAAAAJkAAAAAAAABGQAAAAAAAAEBAAAAAAAAAAAAAAAAAAAAAAAAAAAAAAAAAAAAAAACASUAAAAAAAABIQAAAAAAAAAAAAAAAAAAAQ0AAAAAAAIBJQAAAAAAAADtAAAAAAAAAKkAAAAAAAAAAAAAAAAAAAAAAAAAAAAAAAAAAAAAAAABQQAAAAAAAAEdAAAAAAAAA8D8AAAAAAAAAAAAAAAAAAAAAAAAAAAAAAAAAAAAAAIBGQAAAAAAAAAAAAAAAAAAANEAAAAAAAABJQAAAAAAAAAAAAAAAAAAAKEAAAAAAAAA8QAAAAAAAAEJAAAAAAACAT0AAAAAAAAAAAAAAAAAAAAAAAAAAAAAAPUAAAAAAAAA5QAAAAAAAAAAAAAAAAAAAAAAAAAAAAAAAAAAAAAAAAAAAAAAAAAAAAAAAAAAAAAAAAAAAAAAAAAAAAAAAAAAAAAAAAAAAAAAAAAAAAAAAADxAAAAAAACARUAAAAAAAABBQAAAAAAAgEBAAAAAAAAARUAAAAAAAABIQAAAAAAAgERAAAAAAAAATEAAAAAAAAA+QAAAAAAAAPA/AAAAAAAAFEAAAAAAAAAwQAAAAAAAAAAAAAAAAAAAJkAAAAAAAAAsQAAAAAAAAAhAAAAAAAAAAAAAAAAAAABEQAAAAAAAAEhAAAAAAAAAMEAAAAAAAAAzQAAAAAAAAAAAAAAAAAAAIEAAAAAAAAA+QAAAAAAAAAAAAAAAAAAATkAAAAAAAAAAAAAAAAAAAAAAAAAAAAAAKEAAAAAAAAA5QAAAAAAAADlAAAAAAACASkAAAAAAAABPQAAAAAAAgEZAAAAAAAAAAAAAAAAAAAAAAAAAAAAAAAAAAAAAAACAS0AAAAAAAABKQAAAAAAAAFBAAAAAAAAATEAAAAAAAABJQAAAAAAAABxAAAAAAAAAAAAAAAAAAAAAAAAAAAAAgEJAAAAAAACATkAAAAAAAAAyQAAAAAAAADRAAAAAAAAAPkAAAAAAAAAAAAAAAAAAAAAAAAAAAAAAAAAAAAAAAIBPQAAAAAAAgEpAAAAAAAAAT0AAAAAAAAAAAAAAAAAAAE9AAAAAAACATkAAAAAAAAAcQAAAAAAAAAAAAAAAAAAANkAAAAAAAIBFQAAAAAAAAE1AAAAAAAAAAAAAAAAAAAAiQAAAAAAAAAAAAAAAAAAAAAAAAAAAAAAAAAAAAAAAADJAAAAAAAAAMkAAAAAAAABPQAAAAAAAAE5AAAAAAAAAEEAAAAAAAAAAAAAAAAAAAAAAAAAAAACAQUAAAAAAAABOQAAAAAAAAAAAAAAAAAAAAAAAAAAAAABPQAAAAAAAAAAAAAAAAAAAAAAAAAAAAAAAAAAAAAAAAAAAAAAAAAAAQ0AAAAAAAABCQAAAAAAAAAAAAAAAAAAAAAAAAAAAAAA0QAAAAAAAAE9AAAAAAAAANkAAAAAAAAAkQAAAAAAAAAAAAAAAAAAAKkAAAAAAAABQQAAAAAAAgElAAAAAAAAAAAAAAAAAAAAAAAAAAAAAQFBAAAAAAAAAP0AAAAAAAAAiQAAAAAAAAAAAAAAAAAAAKkAAAAAAAAAAAAAAAAAAADlAAAAAAAAARkAAAAAAAAAAAAAAAAAAAAAAAAAAAAAAIEAAAAAAAAAUQAAAAAAAADRAAAAAAAAAMEAAAAAAAIBFQAAAAAAAgEhAAAAAAACARkAAAAAAAAAzQAAAAAAAADdAAAAAAAAAAAAAAAAAAAAAAAAAAAAAACxAAAAAAAAAAAAAAAAAAAAAAAAAAAAAAEZAAAAAAAAATEAAAAAAAIBKQAAAAAAAAAAAAAAAAAAAQEAAAAAAAIBGQAAAAAAAAExAAAAAAAAAQ0AAAAAAAAAAQAAAAAAAAAAAAAAAAAAAIkAAAAAAAAAcQAAAAAAAADJAAAAAAAAAOUAAAAAAAAAAAAAAAAAAgEJAAAAAAAAASEAAAAAAAAAAAAAAAAAAAAAAAAAAAAAAJkAAAAAAAAAcQAAAAAAAgE5AAAAAAAAAP0AAAAAAAAAAAAAAAAAAADlAAAAAAAAANUAAAAAAAAA9QAAAAAAAABBAAAAAAAAAEEAAAAAAAAAkQAAAAAAAAAAAAAAAAAAAT0AAAAAAAIBOQAAAAAAAADVAAAAAAAAAAAAAAAAAAAAmQAAAAAAAACRAAAAAAACAQkAAAAAAAAA6QAAAAAAAAE9AAAAAAACATEAAAAAAAAAyQAAAAAAAAChAAAAAAAAAAAAAAAAAAAA9QAAAAAAAAAAAAAAAAAAAMUAAAAAAAABBQAAAAAAAAExAAAAAAAAAOUAAAAAAAAAAAAAAAAAAACxAAAAAAAAAOEAAAAAAAAAqQAAAAAAAAAAAAAAAAAAAAAAAAAAAAIBLQAAAAAAAAExAAAAAAAAAT0AAAAAAAAA1QAAAAAAAAAAAAAAAAAAAEEAAAAAAAAAkQAAAAAAAADpAAAAAAACAT0AAAAAAAAAAAAAAAAAAAAAAAAAAAAAAAAAAAAAAAAAAAAAAAAAAAE9AAAAAAAAAGEAAAAAAAAAAAAAAAAAAAAAAAAAAAACARUAAAAAAAAA+QAAAAAAAAEBAAAAAAAAAMUAAAAAAAABAQAAAAAAAADFAAAAAAAAAAAAAAAAAAAAAAAAAAAAAgE9AAAAAAAAAAAAAAAAAAAAAAAAAAAAAAAAAAAAAAAAAAAAAAAAAAAAAAAAAAAAAAE9AAAAAAAAAAAAAAAAAAAAAAAAAAAAAAAAAAAAAAAAAAAAAAAAAAAAQQAAAAAAAACBAAAAAAAAAHEAAAAAAAAA3QAAAAAAAACBAAAAAAAAAAAAAAAAAAABLQAAAAAAAAD5AAAAAAAAAAAAAAAAAAAAAAAAAAAAAAAAAAAAAAAAAAAAAAAAAAAAoQAAAAAAAAENAAAAAAAAAAAAAAAAAAABPQAAAAAAAgEtAAAAAAAAAAAAAAAAAAAAAAAAAAAAAgEJAAAAAAACATkAAAAAAAABPQAAAAAAAAE1AAAAAAAAAAAAAAAAAAAAAAAAAAAAAAEhAAAAAAAAAAAAAAAAAAAA3QAAAAAAAgExAAAAAAAAATUAAAAAAAEBQQAAAAAAAAEhAAAAAAAAAAAAAAAAAAAAAAAAAAAAAAAAAAAAAAAAALkAAAAAAAIBQQAAAAAAAAAAAAAAAAAAAAAAAAAAAAAAiQAAAAAAAgENAAAAAAACAS0AAAAAAAAAIQAAAAAAAAAAAAAAAAAAAAAAAAAAAAAAxQAAAAAAAADFAAAAAAAAAJkAAAAAAAAAIQAAAAAAAgE9AAAAAAAAAS0AAAAAAAAAAAAAAAAAAAAAAAAAAAAAAMUAAAAAAAAAAAAAAAAAAABxAAAAAAAAAAAAAAAAAAAAAAAAAAAAAAPA/AAAAAAAAAAAAAAAAAAAAAAAAAAAAACJAAAAAAACASEAAAAAAAIBHQAAAAAAAAEBAAAAAAAAAAAAAAAAAAAAYQAAAAAAAAAAAAAAAAAAACEAAAAAAAABJQAAAAAAAAD1AAAAAAAAAN0AAAAAAAAAQQAAAAAAAgE5AAAAAAAAA8D8AAAAAAAAAAAAAAAAAABhAAAAAAAAATkAAAAAAAIBOQAAAAAAAAE1AAAAAAAAACEAAAAAAAAAiQAAAAAAAAAAAAAAAAAAACEAAAAAAAAAAAAAAAAAAAAAAAAAAAAAAAEAAAAAAAAAAQAAAAAAAAPA/AAAAAAAAGEAAAAAAAAAAAAAAAAAAAAAAAAAAAAAALEAAAAAAAAA0QAAAAAAAAAAAAAAAAACAQ0AAAAAAAAAuQAAAAAAAAAAAAAAAAAAAJkAAAAAAAABBQAAAAAAAAAAAAAAAAAAAAAAAAAAAAIBKQAAAAAAAgEZAAAAAAAAAAAAAAAAAAAAAAAAAAAAAADdAAAAAAAAASkAAAAAAAAA2QAAAAAAAAAAAAAAAAAAAAAAAAAAAAAAAAAAAAAAAAPA/AAAAAAAAAAAAAAAAAIBDQAAAAAAAgEpAAAAAAACAQ0AAAAAAAAAAAAAAAAAAAAAAAAAAAAAAAAAAAAAAAAAAAAAAAAAAAAAAAAAAAAAAAAAAAAAAAAAAAAAAAAAAgEZAAAAAAACAR0AAAAAAAABNQAAAAAAAAEZAAAAAAAAAO0AAAAAAAAAuQAAAAAAAAAAAAAAAAAAAAAAAAAAAAAAuQAAAAAAAADpAAAAAAACAQUAAAAAAAAAmQAAAAAAAAD9AAAAAAAAALkAAAAAAAAAAAAAAAAAAAAAAAAAAAAAAM0AAAAAAAAAAAAAAAAAAAAAAAAAAAAAAAAAAAAAAAAAAAAAAAAAAAAAAAAAAAAAAAAAAAAAAAAAAAAAAAAAAAEFAAAAAAAAAAAAAAAAAAIBHQAAAAAAAAE9AAAAAAAAAAAAAAAAAAAAAAAAAAAAAAAAAAAAAAAAAAAAAAAAAAAAUQAAAAAAAAEdAAAAAAAAAAAAAAAAAAAAAAAAAAAAAAAAAAAAAAAAAJkAAAAAAAAAmQAAAAAAAABRAAAAAAAAAAAAAAAAAAAAAAAAAAAAAgEhAAAAAAAAAAAAAAAAAAAAuQAAAAAAAAEtAAAAAAAAAAAAAAAAAAAAAAAAAAAAAgE5AAAAAAAAAAAAAAAAAAAAAAAAAAAAAAAAAAAAAAAAAIEAAAAAAAADwPwAAAAAAAABAAAAAAAAA8D8AAAAAAAAQQAAAAAAAAABAAAAAAAAAGEAAAAAAAAAQQAAAAAAAAPA/AAAAAAAAAAAAAAAAAIBOQAAAAAAAAAAAAAAAAAAANUAAAAAAAIBOQAAAAAAAAABAAAAAAAAAAAAAAAAAAADwPwAAAAAAgExAAAAAAACAS0AAAAAAAAAAAAAAAAAAADBAAAAAAAAAAAAAAAAAAAAgQAAAAAAAAEdAAAAAAAAAAAAAAAAAAAAAAAAAAAAAADNAAAAAAAAAAAAAAAAAAAA1QAAAAAAAgExAAAAAAAAAIkAAAAAAAAAAAAAAAAAAAEtAAAAAAAAAAAAAAAAAAAAAAAAAAAAAACJAAAAAAACARkAAAAAAAAAAAAAAAAAAADtAAAAAAAAARUAAAAAAAAAUQAAAAAAAADBAAAAAAAAAQEAAAAAAAAAAAAAAAAAAAEpAAAAAAAAATkAAAAAAAAA5QAAAAAAAACBAAAAAAAAAAAAAAAAAAAAAAAAAAAAAADFAAAAAAAAALEAAAAAAAAAqQAAAAAAAAEZAAAAAAAAAQEAAAAAAAABCQAAAAAAAgEVAAAAAAAAAR0AAAAAAAIBIQAAAAAAAADhAAAAAAACAR0AAAAAAAAAAAAAAAAAAAAAAAAAAAAAAAAAAAAAAAAAAAAAAAAAAAERAAAAAAAAAQUAAAAAAAIBGQAAAAAAAACpAAAAAAAAAAAAAAAAAAAAuQAAAAAAAADFAAAAAAAAAKkAAAAAAAABIQAAAAAAAAAAAAAAAAAAAAAAAAAAAAAAAAAAAAAAAgElAAAAAAABAUEAAAAAAAAAAAAAAAAAAAAAAAAAAAAAASEAAAAAAAABDQAAAAAAAADJAAAAAAAAANkAAAAAAAAA0QAAAAAAAAEdAAAAAAAAAAAAAAAAAAAAAAAAAAAAAAChAAAAAAAAALEAAAAAAAAAAAAAAAAAAAAAAAAAAAAAANUAAAAAAAABOQAAAAAAAAEpAAAAAAAAA8D8AAAAAAAAAAAAAAAAAAC5AAAAAAAAAQUAAAAAAAIBBQAAAAAAAAE5AAAAAAACATUAAAAAAAABLQAAAAAAAAAAAAAAAAAAAAAAAAAAAAAAAAAAAAAAAAAAAAAAAAAAANkAAAAAAAIBBQAAAAAAAAAAAAAAAAAAASkAAAAAAAABDQAAAAAAAAAAAAAAAAAAAAAAAAAAAAAAcQAAAAAAAACBAAAAAAAAAAAAAAAAAAAAAAAAAAAAAAAAAAAAAAAAAIkAAAAAAAAA+QAAAAAAAAPA/AAAAAAAAAAAAAAAAAADwPwAAAAAAABRAAAAAAAAAAAAAAAAAAAAAAAAAAAAAAAAAAAAAAAAAQEAAAAAAAAA2QAAAAAAAgERAAAAAAAAAOEAAAAAAAAAAAAAAAAAAAAAAAAAAAAAAKEAAAAAAAIBMQAAAAAAAgEhAAAAAAAAAAAAAAAAAAAAAAAAAAAAAAAAAAAAAAAAAUEAAAAAAAIBPQAAAAAAAgE5AAAAAAAAAMUAAAAAAAAAAAAAAAAAAAAAAAAAAAAAAAAAAAAAAAAAmQAAAAAAAgEFAAAAAAAAARUAAAAAAAAA9QAAAAAAAAPA/AAAAAAAAAAAAAAAAAADwPwAAAAAAgEhAAAAAAAAAAAAAAAAAAAAAAAAAAAAAAAAAAAAAAAAAAAAAAAAAAAA4QAAAAAAAgElAAAAAAAAAAAAAAAAAAAAQQAAAAAAAgExAAAAAAAAAPUAAAAAAAAAAAAAAAAAAAAAAAAAAAAAAAAAAAAAAAABPQAAAAAAAAEFAAAAAAAAANUAAAAAAAAAAAAAAAAAAAAAAAAAAAAAAIkAAAAAAAAA6QAAAAAAAAFBAAAAAAACAQ0AAAAAAAABJQAAAAAAAAAAAAAAAAAAAAAAAAAAAAAAkQAAAAAAAAAAAAAAAAAAAOkAAAAAAAAAAAAAAAAAAAAAAAAAAAAAAAAAAAAAAAABQQAAAAAAAAD5AAAAAAAAAAAAAAAAAAAAiQAAAAAAAAD1AAAAAAAAAPEAAAAAAAAAAAAAAAAAAAAAAAAAAAAAAAAAAAAAAAAA7QAAAAAAAADBAAAAAAAAAQkAAAAAAAABBQAAAAAAAAAAAAAAAAAAAAAAAAAAAAEBQQAAAAAAAQFBAAAAAAAAASEAAAAAAAAAAAAAAAAAAAAAAAAAAAAAAPkAAAAAAAAA5QAAAAAAAAAAAAAAAAAAAAAAAAAAAAAAAAAAAAAAAAD5AAAAAAAAARUAAAAAAAAAAAAAAAAAAAAhAAAAAAAAAAAAAAAAAAABIQAAAAAAAAD9AAAAAAACAQEAAAAAAAEBQQAAAAAAAgE9AAAAAAACASkAAAAAAAAAAAAAAAAAAAAAAAAAAAACATEAAAAAAAAA+QAAAAAAAAEZAAAAAAAAAAAAAAAAAAAAAAAAAAAAAAD9AAAAAAAAAAAAAAAAAAAAAAAAAAAAAAAAAAAAAAAAAAAAAAAAAAAAYQAAAAAAAADJAAAAAAAAASEAAAAAAAAA/QAAAAAAAgEFAAAAAAAAAOEAAAAAAAAAAAAAAAAAAgE1AAAAAAAAATkAAAAAAAIBCQAAAAAAAADlAAAAAAACATkAAAAAAAAA2QAAAAAAAAD5AAAAAAAAAAAAAAAAAAAAAAAAAAAAAABhAAAAAAAAAAAAAAAAAAAAAAAAAAAAAAAAAAAAAAAAAAAAAAAAAAAAAAAAAAAAAADBAAAAAAAAAHEAAAAAAAAA1QAAAAAAAADtAAAAAAAAAAAAAAAAAAAAAAAAAAAAAAAAAAAAAAAAAAAAAAAAAAAAkQAAAAAAAgEJAAAAAAAAAAAAAAAAAAAA0QAAAAAAAAD1AAAAAAAAATkAAAAAAAIBJQAAAAAAAgEhAAAAAAAAAKEAAAAAAAAAAAAAAAAAAAAAAAAAAAAAAAAAAAAAAAAAAAAAAAAAAAPA/AAAAAAAAPEAAAAAAAABLQAAAAAAAAE9AAAAAAAAAR0AAAAAAAAAAAAAAAAAAADVAAAAAAACAUEAAAAAAAAA2QAAAAAAAAAAAAAAAAAAAAAAAAAAAAAAAAAAAAAAAAAAAAAAAAAAAAAAAAAAAAAAAAAAAAAAAAAAAAAAAAAAAAAAAAAAAAAAAAAAAAAAAAAAAAAAAAAAASUAAAAAAAAAAAAAAAAAAAAAAAAAAAAAAAAAAAAAAAAAAAAAAAAAAAAAAAAAAAACARUAAAAAAAABMQAAAAAAAgFBAAAAAAAAAAAAAAAAAAAA6QAAAAAAAAElAAAAAAACATEAAAAAAAABOQAAAAAAAgE5AAAAAAAAAS0AAAAAAAABJQAAAAAAAAAAAAAAAAAAAAAAAAAAAAAA3QAAAAAAAACBAAAAAAAAAAAAAAAAAAAA0QAAAAAAAgEZAAAAAAACASUAAAAAAAAAAAAAAAAAAAAAAAAAAAAAAPUAAAAAAAABOQAAAAAAAADZAAAAAAAAAAAAAAAAAAAAAAAAAAAAAAAAAAAAAAACASEAAAAAAAAA8QAAAAAAAACZAAAAAAAAAAAAAAAAAAAAAAAAAAAAAADNAAAAAAAAASkAAAAAAAAAAAAAAAAAAAAAAAAAAAAAAEEAAAAAAAAAAQAAAAAAAAEVAAAAAAAAAAAAAAAAAAAAcQAAAAAAAAAAAAAAAAAAAAAAAAAAAAAAAAAAAAAAAADBAAAAAAACAQkAAAAAAAIBCQAAAAAAAAFBAAAAAAAAAAAAAAAAAAAAiQAAAAAAAAAAAAAAAAAAAAAAAAAAAAAAmQAAAAAAAAAhAAAAAAAAALkAAAAAAAAAAAAAAAAAAgFBAAAAAAAAAAAAAAAAAAAAAAAAAAAAAAEZAAAAAAAAAAAAAAAAAAAAAAAAAAAAAgEVAAAAAAAAATEAAAAAAAABNQAAAAAAAAAAAAAAAAAAAAAAAAAAAAAAAAAAAAAAAADlAAAAAAADAUEAAAAAAAIBEQAAAAAAAABRAAAAAAAAAAAAAAAAAAAAAAAAAAAAAACJAAAAAAAAALEAAAAAAAAAmQAAAAAAAgE9AAAAAAAAAAAAAAAAAAIBKQAAAAAAAgEBAAAAAAAAAAAAAAAAAAAAAAAAAAAAAAD5AAAAAAAAARkAAAAAAAAA9QAAAAAAAADxAAAAAAAAAAAAAAAAAAAAAAAAAAAAAAAAAAAAAAAAAR0AAAAAAAABOQAAAAAAAAFBAAAAAAAAAAAAAAAAAAAAmQAAAAAAAAEJAAAAAAAAANkAAAAAAAAAAAAAAAAAAAFBAAAAAAACASEAAAAAAAIBNQAAAAAAAgE1AAAAAAAAAAAAAAAAAAAAAAAAAAAAAAAAAAAAAAAAAUEAAAAAAAIBPQAAAAAAAAEZAAAAAAAAAAAAAAAAAAAAkQAAAAAAAAABAAAAAAAAAAAAAAAAAAAA8QAAAAAAAAAAAAAAAAAAAAAAAAAAAAAAmQAAAAAAAAD1AAAAAAAAAP0AAAAAAAAAAAAAAAAAAAAAAAAAAAAAATUAAAAAAAAAAAAAAAAAAwFBAAAAAAACAUEAAAAAAAIBCQAAAAAAAgERAAAAAAAAAQEAAAAAAAAA7QAAAAAAAAD1AAAAAAAAAIEAAAAAAAAAAAAAAAAAAAAAAAAAAAAAAAAAAAAAAAAAAAAAAAAAAAAAAAAAAAAAAAAAAAAAAAIBIQAAAAAAAgE9AAAAAAAAATEAAAAAAAAAiQAAAAAAAAAAAAAAAAAAAAAAAAAAAAIBOQAAAAAAAgE1AAAAAAAAAAAAAAAAAAIBGQAAAAAAAAChAAAAAAAAAAAAAAAAAAAAAAAAAAAAAABhAAAAAAAAASUAAAAAAAIBKQAAAAAAAAAAAAAAAAAAAIEAAAAAAAAAAAAAAAAAAADVAAAAAAAAAIkAAAAAAAAAAAAAAAAAAAAAAAAAAAAAAAAAAAAAAAAAAAAAAAAAAADNAAAAAAAAATkAAAAAAAAAAAAAAAAAAAAAAAAAAAAAAAAAAAAAAAIBBQAAAAAAAADRAAAAAAAAAOUAAAAAAAIBEQAAAAAAAAElAAAAAAACAT0AAAAAAAAA+QAAAAAAAACxAAAAAAAAAEEAAAAAAAAAAAAAAAAAAADdAAAAAAAAAREAAAAAAAIBEQAAAAAAAAAAAAAAAAAAAQkAAAAAAAAAAAAAAAAAAAAAAAAAAAAAAAAAAAAAAAAAuQAAAAAAAgEBAAAAAAAAASUAAAAAAAABQQAAAAAAAAEpAAAAAAAAAOkAAAAAAAAAYQAAAAAAAAAAAAAAAAAAAGEAAAAAAAABPQAAAAAAAAAAAAAAAAAAAAAAAAAAAAAAAAAAAAAAAgE5AAAAAAAAAAAAAAAAAAAAAAAAAAAAAAABAAAAAAAAAPkAAAAAAAAA7QAAAAAAAAAAAAAAAAAAAAAAAAAAAAEBQQAAAAAAAAC5AAAAAAAAAAAAAAAAAAAAiQAAAAAAAgEZAAAAAAAAAPUAAAAAAAAAgQAAAAAAAAEFAAAAAAAAAAAAAAAAAAAAAAAAAAAAAACZAAAAAAAAAAAAAAAAAAAA+QAAAAAAAADlAAAAAAAAAOEAAAAAAAAAsQAAAAAAAAAAAAAAAAAAAAAAAAAAAAAAAAAAAAAAAAAAAAAAAAAAANUAAAAAAAAA9QAAAAAAAgENAAAAAAACAR0AAAAAAAABJQAAAAAAAgERAAAAAAAAAAAAAAAAAAAAAAAAAAAAAAAAAAAAAAAAAAAAAAAAAAAAAAAAAAAAAAAAAAAAAAAAATEAAAAAAAAAAAAAAAAAAAAAAAAAAAAAAAAAAAAAAAAAAAAAAAAAAAABAAAAAAAAAIEAAAAAAAIBNQAAAAAAAAFBAAAAAAACASkAAAAAAAABQQAAAAAAAACZAAAAAAAAAAAAAAAAAAEBQQAAAAAAAAAAAAAAAAAAAAAAAAAAAAAAkQAAAAAAAAEVAAAAAAACATUAAAAAAAABPQAAAAAAAgERAAAAAAAAAAAAAAAAAAAA4QAAAAAAAgE5AAAAAAAAATEAAAAAAAAAAAAAAAAAAAAAAAAAAAACARUAAAAAAAABOQAAAAAAAAAAAAAAAAAAAKkAAAAAAAAA+QAAAAAAAAFBAAAAAAAAASUAAAAAAAAAAAAAAAAAAACxAAAAAAAAAOUAAAAAAAAA+QAAAAAAAAD9AAAAAAAAAAAAAAAAAAAAAAAAAAAAAAABAAAAAAAAA8D8AAAAAAAAAAAAAAAAAgEVAAAAAAAAAQ0AAAAAAAAAAAAAAAAAAAAAAAAAAAAAAT0AAAAAAAABBQAAAAAAAAAAAAAAAAAAAAAAAAAAAAAA4QAAAAAAAAAAAAAAAAAAAAAAAAAAAAAAkQAAAAAAAADZAAAAAAAAAAAAAAAAAAIBFQAAAAAAAAAAAAAAAAAAAEEAAAAAAAEBQQAAAAAAAADZAAAAAAAAAAAAAAAAAAIBOQAAAAAAAgExAAAAAAAAAAAAAAAAAAAAAAAAAAAAAgENAAAAAAAAATkAAAAAAAAAsQAAAAAAAAAAAAAAAAAAAAAAAAAAAAAAqQAAAAAAAgExAAAAAAAAAAAAAAAAAAAAAAAAAAAAAAEZAAAAAAAAAAAAAAAAAAAAAAAAAAAAAAAAAAAAAAAAAN0AAAAAAAIBMQAAAAAAAAAAAAAAAAAAAIEAAAAAAAAAAAAAAAAAAAAAAAAAAAAAAOEAAAAAAAABGQAAAAAAAAEhAAAAAAAAAOkAAAAAAAAAAAAAAAAAAAAAAAAAAAAAATEAAAAAAAADwPwAAAAAAAAAAAAAAAAAAAAAAAAAAAAAoQAAAAAAAgEpAAAAAAAAAAAAAAAAAAAAAAAAAAAAAAD1AAAAAAAAAAAAAAAAAAIBHQAAAAAAAgEtAAAAAAACAT0AAAAAAAIBKQAAAAAAAAAAAAAAAAAAAOEAAAAAAAABBQAAAAAAAAAAAAAAAAAAAAAAAAAAAAAAmQAAAAAAAAEdAAAAAAAAAPEAAAAAAAAAAAAAAAAAAADBAAAAAAACAR0AAAAAAAIBCQAAAAAAAADRAAAAAAAAAAAAAAAAAAABOQAAAAAAAgFBAAAAAAAAAAAAAAAAAAAAAAAAAAAAAAAAAAAAAAAAAKkAAAAAAAAAoQAAAAAAAgEBAAAAAAACAQEAAAAAAAABFQAAAAAAAADxAAAAAAAAAAAAAAAAAAAA9QAAAAAAAADZAAAAAAACAQUAAAAAAAAA3QAAAAAAAADhAAAAAAAAANkAAAAAAAAAAAAAAAAAAgElAAAAAAAAAT0AAAAAAAIBLQAAAAAAAAAAAAAAAAAAAAAAAAAAAAIBPQAAAAAAAgE9AAAAAAACASkAAAAAAAABGQAAAAAAAAAAAAAAAAAAA8D8AAAAAAAAIQAAAAAAAAAAAAAAAAAAAAAAAAAAAAAAYQAAAAAAAAPA/AAAAAAAAEEAAAAAAAAAAQAAAAAAAABxAAAAAAAAAAAAAAAAAAAAmQAAAAAAAAPA/AAAAAAAAAAAAAAAAAIBDQAAAAAAAAEBAAAAAAAAAAAAAAAAAAAAmQAAAAAAAAAAAAAAAAABAUEAAAAAAAAAAAAAAAAAAgE5AAAAAAAAAAAAAAAAAAIBHQAAAAAAAAAAAAAAAAAAASUAAAAAAAIBIQAAAAAAAAAAAAAAAAACATUAAAAAAAABPQAAAAAAAAAAAAAAAAAAAAAAAAAAAAAA0QAAAAAAAAEtAAAAAAACAS0AAAAAAAAAwQAAAAAAAAAAAAAAAAAAAAAAAAAAAAAAqQAAAAAAAwFBAAAAAAAAARUAAAAAAAAA9QAAAAAAAAAAAAAAAAAAANEAAAAAAAAA/QAAAAAAAQFBAAAAAAAAAPkAAAAAAAADwPwAAAAAAAAAAAAAAAAAAAAAAAAAAAAAAAAAAAAAAAAAAAAAAAAAAAAAAAAAAAABJQAAAAAAAAAAAAAAAAAAAP0AAAAAAAIBFQAAAAAAAgElAAAAAAACAR0AAAAAAAIBQQAAAAAAAAEpAAAAAAACASEAAAAAAAAAAAAAAAAAAACRAAAAAAACAQUAAAAAAAAAAAAAAAAAAAChAAAAAAACATkAAAAAAAAAwQAAAAAAAAAAAAAAAAAAAQUAAAAAAAAAkQAAAAAAAAAAAAAAAAAAAAAAAAAAAAAAAAAAAAAAAAFBAAAAAAAAAR0AAAAAAAAAAAAAAAAAAABBAAAAAAACATUAAAAAAAAAsQAAAAAAAADpAAAAAAAAAPEAAAAAAAAAAAAAAAAAAAAAAAAAAAAAAQkAAAAAAAABDQAAAAAAAgEVAAAAAAAAAAAAAAAAAAAAAAAAAAAAAAAAAAAAAAAAAS0AAAAAAAAAAAAAAAAAAAAAAAAAAAAAAAAAAAAAAAAA4QAAAAAAAAAAAAAAAAAAAAAAAAAAAAAAAAAAAAAAAAAAAAAAAAAAAAAAAAAAAAAAxQAAAAAAAAE9AAAAAAAAAREAAAAAAAIBDQAAAAAAAACRAAAAAAAAAAAAAAAAAAAAAAAAAAAAAgE9AAAAAAAAAUEAAAAAAAIBNQAAAAAAAAERAAAAAAAAACEAAAAAAAAAAAAAAAAAAAAAAAAAAAACATEAAAAAAAABIQAAAAAAAAENAAAAAAACATEAAAAAAAAAAAAAAAAAAAAAAAAAAAACAS0AAAAAAAAAAAAAAAAAAAPA/AAAAAAAAEEAAAAAAAAAgQAAAAAAAAAAAAAAAAAAAAAAAAAAAAAAgQAAAAAAAADlAAAAAAADAUEAAAAAAAABCQAAAAAAAAExAAAAAAACATEAAAAAAAAAQQAAAAAAAADtAAAAAAAAALkAAAAAAAAAAQAAAAAAAAC5AAAAAAAAAPUAAAAAAAAAAAAAAAAAAAAAAAAAAAAAAKkAAAAAAAAAAAAAAAAAAAAAAAAAAAAAAAAAAAAAAAADwPwAAAAAAAAAAAAAAAAAAAAAAAAAAAAAAAAAAAAAAAAAAAAAAAAAAAAAAAAAAAAAAAAAAAAAAAAAAAAAAAAAAAAAAAAAAAABKQAAAAAAAABRAAAAAAAAAAAAAAAAAAAAgQAAAAAAAgEpAAAAAAAAARkAAAAAAAAA9QAAAAAAAAAAAAAAAAAAAQkAAAAAAAIBGQAAAAAAAgEpAAAAAAAAAR0AAAAAAAAAAAAAAAAAAACJAAAAAAAAAUEAAAAAAAIBLQAAAAAAAAElAAAAAAACATUAAAAAAAAA6QAAAAAAAAAAAAAAAAAAAAAAAAAAAAIBGQAAAAAAAAEBAAAAAAAAAP0AAAAAAAAAAAAAAAAAAAAAAAAAAAAAAAAAAAAAAAAAcQAAAAAAAABhAAAAAAAAAAAAAAAAAAABCQAAAAAAAgE9AAAAAAACAQEAAAAAAAIBHQAAAAAAAABxAAAAAAAAAAAAAAAAAAAA1QAAAAAAAAAAAAAAAAAAAAAAAAAAAAAAAAAAAAAAAQFBAAAAAAABAUEAAAAAAAAA5QAAAAAAAgENAAAAAAAAAN0AAAAAAAAAAAAAAAAAAAABAAAAAAAAAS0AAAAAAAAAAAAAAAAAAAAAAAAAAAAAAKkAAAAAAAAAAAAAAAAAAAAAAAAAAAAAAAAAAAAAAAABQQAAAAAAAADNAAAAAAAAAPkAAAAAAAAAAAAAAAAAAAAAAAAAAAAAAAAAAAAAAAAAAAAAAAAAAAAAAAAAAAAAAAAAAAAAAAIBLQAAAAAAAAEtAAAAAAAAAPUAAAAAAAAA+QAAAAAAAADlAAAAAAAAAAAAAAAAAAAAAAAAAAAAAAAAAAAAAAACAQ0AAAAAAAAAAAAAAAAAAADFAAAAAAAAAQ0AAAAAAAIBMQAAAAAAAgERAAAAAAAAAAAAAAAAAAAAAAAAAAAAAgEZAAAAAAACAQkAAAAAAAAAAAAAAAAAAAAAAAAAAAAAAAAAAAAAAAAAAAAAAAAAAAAAAAAAAAACAREAAAAAAAABDQAAAAAAAAD9AAAAAAAAAAAAAAAAAAAA8QAAAAAAAADNAAAAAAAAAO0AAAAAAAAA7QAAAAAAAAAAAAAAAAAAAAAAAAAAAAAAAAAAAAAAAAAAAAAAAAAAA8D8AAAAAAAAoQAAAAAAAACxAAAAAAAAALEAAAAAAAAAxQAAAAAAAAEBAAAAAAAAAGEAAAAAAAAA+QAAAAAAAADBAAAAAAAAAAAAAAAAAAAAAAAAAAAAAgE1AAAAAAAAAAAAAAAAAAAAAAAAAAAAAACpAAAAAAAAAM0AAAAAAAIBFQAAAAAAAAElAAAAAAAAAAAAAAAAAAABHQAAAAAAAAD1AAAAAAAAAAAAAAAAAAAAAAAAAAAAAAAAAAAAAAAAAAAAAAAAAAAAAAAAAAAAAADxAAAAAAAAAAAAAAAAAAAA3QAAAAAAAAAAAAAAAAAAAAAAAAAAAAAAAAAAAAAAAAAhAAAAAAAAAAAAAAAAAAAAAAAAAAAAAgEFAAAAAAABAUEAAAAAAAABJQAAAAAAAAE9AAAAAAAAAAAAAAAAAAABGQAAAAAAAgE1AAAAAAAAARkAAAAAAAAAsQAAAAAAAAAAAAAAAAAAAAAAAAAAAAAA9QAAAAAAAAEFAAAAAAAAAAAAAAAAAAAAAAAAAAAAAgEVAAAAAAAAAGEAAAAAAAAAAAAAAAAAAAAAAAAAAAAAAAAAAAAAAAAAAAAAAAAAAAExAAAAAAAAAS0AAAAAAAIBPQAAAAAAAAAAAAAAAAAAAAAAAAAAAAAAAAAAAAAAAAEhAAAAAAACASUAAAAAAAMBQQAAAAAAAgE9AAAAAAAAAPkAAAAAAAIBBQAAAAAAAAAAAAAAAAAAANkAAAAAAAABFQAAAAAAAAEJAAAAAAAAAMUAAAAAAAAAAAAAAAAAAAAAAAAAAAAAAOUAAAAAAAIBIQAAAAAAAAAAAAAAAAAAAAAAAAAAAAAAAAAAAAAAAAD9AAAAAAAAAAAAAAAAAAAAAAAAAAAAAgE1AAAAAAAAAAAAAAAAAAAA7QAAAAAAAgERAAAAAAAAAREAAAAAAAIBCQAAAAAAAgEpAAAAAAACATkAAAAAAAAAuQAAAAAAAAAAAAAAAAAAAN0AAAAAAAABJQAAAAAAAQFBAAAAAAACAUEAAAAAAAAAAAAAAAAAAAAAAAAAAAAAAAEAAAAAAAIBFQAAAAAAAAE1AAAAAAAAAAAAAAAAAAAAAAAAAAAAAAPA/AAAAAAAAREAAAAAAAABAQAAAAAAAAAAAAAAAAAAAAAAAAAAAAAA8QAAAAAAAAAAAAAAAAAAANkAAAAAAAAAAAAAAAAAAAAAAAAAAAAAAAAAAAAAAAAAAAAAAAAAAAAAAAAAAAACARUAAAAAAAAAQQAAAAAAAAAAAAAAAAAAAAAAAAAAAAAAoQAAAAAAAAABAAAAAAAAAFEAAAAAAAAA9QAAAAAAAAAAAAAAAAAAANEAAAAAAAEBQQAAAAAAAQFBAAAAAAAAAOkAAAAAAAAA7QAAAAAAAAAAAAAAAAAAAAAAAAAAAAAAAAAAAAAAAABhAAAAAAAAAR0AAAAAAAABIQAAAAAAAAAAAAAAAAAAAAAAAAAAAAAAAAAAAAAAAAAAAAAAAAABAUEAAAAAAAAAAAAAAAAAAAAAAAAAAAAAAKkAAAAAAAIBQQAAAAAAAgElAAAAAAAAAQEAAAAAAAAAQQAAAAAAAAAAAAAAAAAAA8D8AAAAAAAAAAAAAAAAAAAAAAAAAAAAAAAAAAAAAAAA2QAAAAAAAAExAAAAAAAAAREAAAAAAAAAAAAAAAAAAAAAAAAAAAAAALEAAAAAAAAAQQAAAAAAAACBAAAAAAAAAAAAAAAAAAAAAAAAAAAAAAAAAAAAAAACAT0AAAAAAAABJQAAAAAAAAAAAAAAAAAAAAAAAAAAAAAAUQAAAAAAAgElAAAAAAADAUEAAAAAAAAAxQAAAAAAAAAAAAAAAAAAAREAAAAAAAAAAAAAAAAAAADNAAAAAAAAAR0AAAAAAAAA5QAAAAAAAAAAAAAAAAAAAAAAAAAAAAAAwQAAAAAAAAEFAAAAAAAAAAAAAAAAAAAAAAAAAAAAAAAAAAAAAAACARkAAAAAAAAA1QAAAAAAAADJAAAAAAAAACEAAAAAAAAAAQAAAAAAAAD5AAAAAAAAAREAAAAAAAIBMQAAAAAAAgEZAAAAAAACAQkAAAAAAAAAAAAAAAAAAAAAAAAAAAAAAAAAAAAAAAAA1QAAAAAAAAD5AAAAAAAAAIEAAAAAAAAAAAAAAAAAAAAAAAAAAAAAAAAAAAAAAAAAAAAAAAAAAACJAAAAAAAAAJEAAAAAAAABDQAAAAAAAAElAAAAAAAAAUEAAAAAAAABJQAAAAAAAAE5AAAAAAAAAJEAAAAAAAAAUQAAAAAAAACBAAAAAAAAAAAAAAAAAAAAAAAAAAAAAAAAAAAAAAAAALkAAAAAAAABCQAAAAAAAgENAAAAAAAAAQkAAAAAAAAAAAAAAAAAAADFAAAAAAACAQkAAAAAAAAA7QAAAAAAAADBAAAAAAAAAAAAAAAAAAABQQAAAAAAAAD5AAAAAAAAAAAAAAAAAAAAAAAAAAAAAADtAAAAAAAAAQUAAAAAAAMBQQAAAAAAAAEpAAAAAAACATEAAAAAAAAAAAAAAAAAAAAAAAAAAAAAAOEAAAAAAAAA4QAAAAAAAAEZAAAAAAAAAAAAAAAAAAAAAAAAAAAAAAAAAAAAAAAAAAAAAAAAAAIBNQAAAAAAAAAAAAAAAAAAALEAAAAAAAAAIQAAAAAAAADpAAAAAAAAAAEAAAAAAAAAAAAAAAAAAADpAAAAAAABAUEAAAAAAAAAAAAAAAAAAAAAAAAAAAAAAAAAAAAAAAAA3QAAAAAAAgEdAAAAAAAAAQ0AAAAAAAIBQQAAAAAAAQFBAAAAAAACATUAAAAAAAAAAAAAAAAAAAAAAAAAAAAAAFEAAAAAAAAAAAAAAAAAAACBAAAAAAAAAOUAAAAAAAIBMQAAAAAAAAAAAAAAAAAAAAAAAAAAAAAA3QAAAAAAAAAAAAAAAAAAAAAAAAAAAAAAAAAAAAAAAgEtAAAAAAAAAUEAAAAAAAIBHQAAAAAAAADlAAAAAAAAAAAAAAAAAAAAAAAAAAAAAAAAAAAAAAAAAAAAAAAAAAAAAAAAAAAAAgExAAAAAAAAAAAAAAAAAAAAiQAAAAAAAACxAAAAAAAAAAAAAAAAAAAAAAAAAAAAAAEtAAAAAAACASEAAAAAAAEBQQAAAAAAAADtAAAAAAAAAAAAAAAAAAAAAAAAAAAAAAAAAAAAAAAAAAAAAAAAAAIBNQAAAAAAAAEdAAAAAAAAAR0AAAAAAAIBQQAAAAAAAAAAAAAAAAAAAAAAAAAAAAAAAAAAAAAAAAAAAAAAAAAAAFEAAAAAAAAA6QAAAAAAAAAAAAAAAAAAAAAAAAAAAAABJQAAAAAAAAAAAAAAAAAAAAAAAAAAAAIBGQAAAAAAAgEBAAAAAAAAAAAAAAAAAAAAAAAAAAAAAABxAAAAAAACAS0AAAAAAAAAAAAAAAAAAAAAAAAAAAAAAAAAAAAAAAAAAAAAAAAAAAFBAAAAAAAAASUAAAAAAAIBMQAAAAAAAAEhAAAAAAACASUAAAAAAAAA3QAAAAAAAAAAAAAAAAAAAAAAAAAAAAAA4QAAAAAAAADxAAAAAAAAASUAAAAAAAAAAAAAAAAAAAAAAAAAAAAAAAAAAAAAAAIBFQAAAAAAAAAAAAAAAAAAAAAAAAAAAAAAAAAAAAAAAgExAAAAAAAAARUAAAAAAAABPQAAAAAAAgEVAAAAAAAAAAAAAAAAAAAAAAAAAAAAAAAAAAAAAAAAAAAAAAAAAAAAAAAAAAAAAADBAAAAAAACATEAAAAAAAIBNQAAAAAAAgEpAAAAAAAAASkAAAAAAAIBMQAAAAAAAwFBAAAAAAACAT0AAAAAAAAAAAAAAAAAAADtAAAAAAAAARUAAAAAAAAA/QAAAAAAAAAAAAAAAAAAAJEAAAAAAAAAoQAAAAAAAAERAAAAAAAAA8D8AAAAAAAAAAAAAAAAAAAAAAAAAAAAAAAAAAAAAAAAuQAAAAAAAgElAAAAAAAAAAAAAAAAAAAAAAAAAAAAAACZAAAAAAACASkAAAAAAAAAyQAAAAAAAAAAAAAAAAAAAAAAAAAAAAAAAAAAAAAAAAAAAAAAAAAAAAAAAAAAAAAAqQAAAAAAAgEtAAAAAAACAUEAAAAAAAIBDQAAAAAAAAAAAAAAAAAAAAAAAAAAAAIBQQAAAAAAAAAAAAAAAAAAAAAAAAAAAAAAmQAAAAAAAAERAAAAAAAAASkAAAAAAAIBNQAAAAAAAAEZAAAAAAAAASEAAAAAAAAAAAAAAAAAAAAAAAAAAAAAAAAAAAAAAAAAAAAAAAAAAgEhAAAAAAAAASUAAAAAAAAA4QAAAAAAAAAAAAAAAAACAT0AAAAAAAABOQAAAAAAAgENAAAAAAAAAAAAAAAAAAAA7QAAAAAAAAE5AAAAAAABAUEAAAAAAAAAAAAAAAAAAAAAAAAAAAAAAKkAAAAAAAAAAAAAAAAAAAE1AAAAAAAAAMEAAAAAAAAAAAAAAAAAAAAAAAAAAAAAA8D8AAAAAAAAAAAAAAAAAAAAAAAAAAAAAAAAAAAAAAAAwQAAAAAAAAAAAAAAAAAAAAAAAAAAAAAAAAAAAAAAAAAAAAAAAAAAAAAAAAAAAAAAkQAAAAAAAAElAAAAAAAAAPUAAAAAAAAAiQAAAAAAAADZAAAAAAAAAAAAAAAAAAABPQAAAAAAAgERAAAAAAACAS0AAAAAAAIBBQAAAAAAAAElAAAAAAAAAAAAAAAAAAAAAAAAAAAAAAAAAAAAAAAAAM0AAAAAAAIBMQAAAAAAAgEhAAAAAAAAANEAAAAAAAAAAAAAAAAAAACpAAAAAAAAAMUAAAAAAAAA8QAAAAAAAAAAAAAAAAAAAAAAAAAAAAIBHQAAAAAAAAAAAAAAAAAAAAAAAAAAAAAAAAAAAAAAAAAAAAAAAAAAAAAAAAAAAAADwPwAAAAAAAAAAAAAAAAAAAAAAAAAAAAAAAAAAAAAAAPA/AAAAAAAACEAAAAAAAAAAQAAAAAAAAPA/AAAAAAAAAEAAAAAAAAAAQAAAAAAAAAAAAAAAAAAAAAAAAAAAAIBBQAAAAAAAAAAAAAAAAAAAAAAAAAAAAAAyQAAAAAAAAAAAAAAAAAAAJkAAAAAAAIBCQAAAAAAAAE5AAAAAAAAAPEAAAAAAAAAAAAAAAAAAADBAAAAAAAAAOkAAAAAAAAAAAAAAAAAAAAAAAAAAAAAAAAAAAAAAAAA5QAAAAAAAAAAAAAAAAAAAAAAAAAAAAAAAAAAAAAAAAAAAAAAAAAAAKEAAAAAAAAAAQAAAAAAAAABAAAAAAAAAGEAAAAAAAIBMQAAAAAAAgElAAAAAAACASEAAAAAAAIBDQAAAAAAAAAAAAAAAAAAAAAAAAAAAAAAAAAAAAAAAgEdAAAAAAAAAAAAAAAAAAAAAAAAAAAAAAAAAAAAAAAAAAAAAAAAAAAAxQAAAAAAAAEJAAAAAAACAQ0AAAAAAAIBLQAAAAAAAAEhAAAAAAAAAKkAAAAAAAAAAAAAAAAAAAAAAAAAAAAAAAAAAAAAAAIBNQAAAAAAAAEdAAAAAAAAANEAAAAAAAAA/QAAAAAAAAAAAAAAAAAAAAAAAAAAAAAAAAAAAAAAAAAAAAAAAAAAAAAAAAAAAAABMQAAAAAAAAExAAAAAAAAASkAAAAAAAIBGQAAAAAAAgEhAAAAAAAAAAAAAAAAAAAAAAAAAAAAAAAAAAAAAAAAAAAAAAAAAAAAAAAAAAAAAAAAAAAAAAAAANEAAAAAAAAA8QAAAAAAAADBAAAAAAAAAN0AAAAAAAIBKQAAAAAAAAAAAAAAAAAAAAAAAAAAAAAA+QAAAAAAAAEpAAAAAAAAAKkAAAAAAAAAAAAAAAAAAAAAAAAAAAAAAAAAAAAAAAIBNQAAAAAAAAElAAAAAAABAUEAAAAAAAAAAAAAAAAAAADpAAAAAAACATEAAAAAAAAAmQAAAAAAAAAAAAAAAAAAAAAAAAAAAAAAkQAAAAAAAQFBAAAAAAAAAAAAAAAAAAAAAAAAAAAAAAAAAAAAAAAAAAAAAAAAAAAA6QAAAAAAAgEhAAAAAAAAAM0AAAAAAAAAAAAAAAAAAAAAAAAAAAAAAEEAAAAAAAAA6QAAAAAAAgEFAAAAAAAAAPkAAAAAAAAAqQAAAAAAAAAAAAAAAAAAAKEAAAAAAAAAAAAAAAAAAAAAAAAAAAAAAQUAAAAAAAAA+QAAAAAAAAAhAAAAAAAAAAAAAAAAAAAAAAAAAAAAAADZAAAAAAAAAFEAAAAAAAIBQQAAAAAAAAAAAAAAAAAAACEAAAAAAAIBPQAAAAAAAgEZAAAAAAACASEAAAAAAAAAAAAAAAAAAABBAAAAAAAAAAAAAAAAAAAAAAAAAAAAAACxAAAAAAAAAMkAAAAAAAAAAAAAAAAAAAPA/AAAAAAAAAAAAAAAAAAAAAAAAAAAAgEFAAAAAAACASEAAAAAAAAA7QAAAAAAAADdAAAAAAAAAAAAAAAAAAAA5QAAAAAAAAEBAAAAAAAAASEAAAAAAAAA6QAAAAAAAADxAAAAAAAAAAAAAAAAAAAAAAAAAAAAAgENAAAAAAAAAM0AAAAAAAAAAAAAAAAAAAD9AAAAAAAAAAAAAAAAAAAAAAAAAAAAAAAAAAAAAAAAAQ0AAAAAAAAAAAAAAAAAAADtAAAAAAAAAAAAAAAAAAAAcQAAAAAAAAPA/AAAAAAAAAAAAAAAAAABQQAAAAAAAQFBAAAAAAADAUEAAAAAAAAAAAAAAAAAAACBAAAAAAAAAAAAAAAAAAAAAAAAAAAAAADNAAAAAAACAREAAAAAAAABAQAAAAAAAAAAAAAAAAAAAAAAAAAAAAIBJQAAAAAAAAEhAAAAAAAAAAAAAAAAAAAAAAAAAAAAAADRAAAAAAACATUAAAAAAAAAAAAAAAAAAAAAAAAAAAAAAMEAAAAAAAABOQAAAAAAAgExAAAAAAAAAAAAAAAAAAAAAAAAAAAAAADlAAAAAAAAAQkAAAAAAAABAQAAAAAAAAAAAAAAAAAAAAAAAAAAAAAAAAAAAAAAAAAAAAAAAAAAAAAAAAAAAAAA2QAAAAAAAAAAAAAAAAAAAQ0AAAAAAAABGQAAAAAAAADNAAAAAAAAAIEAAAAAAAAAAAAAAAAAAACZAAAAAAABAUEAAAAAAAABQQAAAAAAAAAAAAAAAAAAAAAAAAAAAAAAAAAAAAAAAACxAAAAAAAAAAAAAAAAAAABAQAAAAAAAgEhAAAAAAAAAS0AAAAAAAIBOQAAAAAAAADZAAAAAAAAAPUAAAAAAAAAwQAAAAAAAAAAAAAAAAAAAQkAAAAAAAAA6QAAAAAAAADhAAAAAAAAAPkAAAAAAAAAAAAAAAAAAAAAAAAAAAAAAREAAAAAAAAAiQAAAAAAAAAAAAAAAAAAAAAAAAAAAAAAAAAAAAAAAADJAAAAAAAAA8D8AAAAAAAAAAAAAAAAAAAAAAAAAAAAAOEAAAAAAAAAAAAAAAAAAAAAAAAAAAAAAAAAAAAAAAAAAAAAAAAAAAAAAAAAAAAAAAAAAAAAAAAAAAAAAAAAAAD5AAAAAAACARUAAAAAAAAAAAAAAAAAAAAAAAAAAAAAAQ0AAAAAAAAAAAAAAAAAAADRAAAAAAAAAAAAAAAAAAAAAAAAAAAAAAEJAAAAAAACARUAAAAAAAIBAQAAAAAAAgEZAAAAAAAAASUAAAAAAAAAAAAAAAAAAAAAAAAAAAAAAAAAAAAAAAAA4QAAAAAAAAD9AAAAAAAAAJEAAAAAAAAAAAAAAAAAAADRAAAAAAAAASEAAAAAAAAA2QAAAAAAAAAAAAAAAAAAAAAAAAAAAAAAAAAAAAAAAAAAAAAAAAAAASEAAAAAAAABFQAAAAAAAgEhAAAAAAAAAAAAAAAAAAAAAAAAAAAAAAEdAAAAAAAAANEAAAAAAAAAAAAAAAAAAAAAAAAAAAAAAR0AAAAAAAABEQAAAAAAAAERAAAAAAAAAEEAAAAAAAAAAAAAAAAAAAAAAAAAAAAAAAAAAAAAAAAA5QAAAAAAAgEJAAAAAAAAARkAAAAAAAIBOQAAAAAAAgE9AAAAAAAAAR0AAAAAAAIBJQAAAAAAAgE1AAAAAAAAAAAAAAAAAAAAAAAAAAAAAAEZAAAAAAACAQkAAAAAAAABHQAAAAAAAAD5AAAAAAAAARUAAAAAAAABHQAAAAAAAAAAAAAAAAAAAAAAAAAAAAAAAAAAAAAAAAC5AAAAAAAAAAAAAAAAAAAAAQAAAAAAAACpAAAAAAAAAMkAAAAAAAAAAAAAAAAAAAENAAAAAAAAAS0AAAAAAAIBGQAAAAAAAgE1AAAAAAABAUEAAAAAAAAAAAAAAAAAAAAAAAAAAAAAAAAAAAAAAAAAAAAAAAAAAAAAAAAAAAAAAAAAAAAAAAAAkQAAAAAAAAAAAAAAAAAAARkAAAAAAAIBLQAAAAAAAgENAAAAAAACATEAAAAAAAIBJQAAAAAAAAEZAAAAAAAAA8D8AAAAAAAAAAAAAAAAAADtAAAAAAACAQkAAAAAAAABQQAAAAAAAAAAAAAAAAAAAAAAAAAAAAABMQAAAAAAAgE5AAAAAAAAAUEAAAAAAAIBPQAAAAAAAACBAAAAAAAAAAAAAAAAAAAAAAAAAAAAAAAAAAAAAAAAACEAAAAAAAIBFQAAAAAAAAEtAAAAAAAAAUEAAAAAAAIBKQAAAAAAAgE5AAAAAAACATEAAAAAAAAAsQAAAAAAAAAAAAAAAAAAAAAAAAAAAAAA0QAAAAAAAgE1AAAAAAACATkAAAAAAAABBQA==\",\"dtype\":\"float64\",\"shape\":[8291]}},\"selected\":{\"id\":\"1148\",\"type\":\"Selection\"},\"selection_policy\":{\"id\":\"1147\",\"type\":\"UnionRenderers\"}},\"id\":\"1034\",\"type\":\"ColumnDataSource\"},{\"attributes\":{\"below\":[{\"id\":\"1011\",\"type\":\"LinearAxis\"}],\"center\":[{\"id\":\"1015\",\"type\":\"Grid\"},{\"id\":\"1020\",\"type\":\"Grid\"}],\"js_event_callbacks\":{\"selectiongeometry\":[{\"id\":\"1035\",\"type\":\"CustomJS\"}]},\"left\":[{\"id\":\"1016\",\"type\":\"LinearAxis\"}],\"plot_height\":200,\"plot_width\":1000,\"renderers\":[{\"id\":\"1038\",\"type\":\"GlyphRenderer\"},{\"id\":\"1040\",\"type\":\"GlyphRenderer\"}],\"title\":{\"id\":\"1129\",\"type\":\"Title\"},\"toolbar\":{\"id\":\"1027\",\"type\":\"Toolbar\"},\"x_range\":{\"id\":\"1003\",\"type\":\"Range1d\"},\"x_scale\":{\"id\":\"1007\",\"type\":\"LinearScale\"},\"y_range\":{\"id\":\"1005\",\"type\":\"Range1d\"},\"y_scale\":{\"id\":\"1009\",\"type\":\"LinearScale\"}},\"id\":\"1002\",\"subtype\":\"Figure\",\"type\":\"Plot\"},{\"attributes\":{\"callback\":null,\"renderers\":[{\"id\":\"1040\",\"type\":\"GlyphRenderer\"}],\"tooltips\":[[\"index\",\"$index\"],[\"(x,y)\",\"($x, $y)\"]]},\"id\":\"1042\",\"type\":\"HoverTool\"},{\"attributes\":{},\"id\":\"1023\",\"type\":\"PanTool\"},{\"attributes\":{\"args\":{\"div\":{\"id\":\"1001\",\"type\":\"Div\"},\"s1\":{\"id\":\"1034\",\"type\":\"ColumnDataSource\"}},\"code\":\"\\n                            console.log('Running CustomJS callback now.');\\n                            var inds = s1.selected.indices;\\n                            console.log(inds);\\n                            var line = \\\"<span style=float:left;clear:left;font_size=13px><b> Selected index range: [\\\" + Math.min.apply(Math,inds) + \\\",\\\" + Math.max.apply(Math,inds) + \\\"]</b></span>\\\\n\\\";\\n                            console.log(line)\\n                            var text = div.text.concat(line);\\n                            var lines = text.split(\\\"\\\\n\\\")\\n                            if (lines.length > 35)\\n                                lines.shift();\\n                            div.text = lines.join(\\\"\\\\n\\\");\"},\"id\":\"1035\",\"type\":\"CustomJS\"},{\"attributes\":{\"callback\":null,\"data\":{\"x\":{\"__ndarray__\":\"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\",\"dtype\":\"float64\",\"shape\":[8291]},\"y\":{\"__ndarray__\":\"AAAAAAAAAAAAAAAAAAAAAAAAAAAAAAAAAAAAAAAAAAAAAAAAAAAAAAAAAAAAAAAAAAAAAAAAAAAAAAAAAAAAAAAAAAAAAAAAAAAAAAAAAAAAAAAAAAAAAAAAAAAAAAAAAAAAAAAAAAAAAAAAAAAAAAAAAAAAAAAAAAAAAAAAAAAAAAAAAAAAAAAAAAAAAAAAAAAAAAAAAAAAAAAAAAAAAAAAAAAAAAAAAAAAAAAAAAAAAAAAAAAAAAAAAAAAAAAAAAAAAAAAAAAAAAAAAAAAAAAAAAAAAAAAAAAAAAAAAAAAAAAAAAAAAAAAAAAAAAAAAAAAAAAAAAAAAAAAAAAAAAAAAAAAAAAAAAAAAAAAAAAAAAAAAAAAAAAAAAAAAAAAAAAAAAAAAAAAAAAAAAAAAAAAAAAAAAAAAAAAAAAAAAAAAAAAAAAAAAAAAAAAAAAAAAAAAAAAAAAAAAAAAAAAAAAAAAAAAAAAAAAAAAAAAAAAAAAAAAAAAAAAAAAAAAAAAAAAAAAAAAAAAAAAAAAAAAAAAAAAAAAAAAAAAAAAAAAAAAAAAAAAAAAAAAAAAAAAAAAAAAAAAAAAAAAAAAAAAAAAAAAAAAAAAAAAAAAAAAAAAAAAAAAAAAAAAAAAAAAAAAAAAAAAAAAAAAAAAAAAAAAAAAAAAAAAAAAAAAAAAAAAAAAAAAAAAAAAAAAAAAAAAAAAAAAAAAAAAAAAAAAAAAAAAAAAAAAAAAAAAAAAAAAAAAAAAAAAAAAAAAAAAAAAAAAAAAAAAAAAAAAAAAAAAAAAAAAAAAAAAAAAAAAAAAAAAAAAAAAAAAAAAAAAAAAAAAAAAAAAAAAAAAAAAAAAAAAAAAAAAAAAAAAAAAAAAAAAAAAAAAAAAAAAAAAAAAAAAAAAAAAAAAAAAAAAAAAAAAAAAAAAAAAAAAAAAAAAAAAAAAAAAAAAAAAAAAAAAAAAAAAAAAAAAAAAAAAAAAAAAAAAAAAAAAAAAAAAAAAAAAAAAAAAAAAAAAAAAAAAAAAAAAAAAAAAAAAAAAAAAAAAAAAAAAAAAAAAAAAAAAAAAAAAAAAAAAAAAAAAAAAAAAAAAAAAAAAAAAAAAAAAAAAAAAAAAAAAAAAAAAAAAAAAAAAAAAAAAAAAAAAAAAAAAAAAAAAAAAAAAAAAAAAAAAAAAAAAAAAAAAAAAAAAAAAAAAAAAAAAAAAAAAAAAAAAAAAAAAAAAAAAAAAAAAAAAAAAAAAAAAAAAAAAAAAAAAAAAAAAAAAAAAAAAAAAAAAAAAAAAAAAAAAAAAAAAAAAAAAAAAAAAAAAAAAAAAAAAAAAAAAAAAAAAAAAAAAAAAAAAAAAAAAAAAAAAAAAAAAAAAAAAAAAAAAAAAAAAAAAAAAAAAAAAAAAAAAAAAAAAAAAAAAAAAAAAAAAAAAAAAAAAAAAAAAAAAAAAAAAAAAAAAAAAAAAAAAAAAAAAAAAAAAAAAAAAAAAAAAAAAAAAAAAAAAAAAAAAAAAAAAAAAAAAAAAAAAAAAAAAAAAAAAAAAAAAAAAAAAAAAAAAAAAAAAAAAAAAAAAAAAAAAAAAAAAAAAAAAAAAAAAAAAAAAAAAAAAAAAAAAAAAAAAAAAAAAAAAAAAAAAAAAAAAAAAAAAAAAAAAAAAAAAAAAAAAAAAAAAAAAAAAAAAAAAAAAAAAAAAAAAAAAAAAAAAAAAAAAAAAAAAAAAAAAAAAAAAAAAAAAAAAAAAAAAAAAAAAAAAAAAAAAAAAAAAAAAAAAAAAAAAAAAAAAAAAAAAAAAAAAAAAAAAAAAAAAAAAAAAAAAAAAAAAAAAAAAAAAAAAAAAAAAAAAAAAAAAAAAAAAAAAAAAAAAAAAAAAAAAAAAAAAAAAAAAAAAAAAAAAAAAAAAAAAAAAAAAAAAAAAAAAAAAAAAAAAAAAAAAAAAAAAAAAAAAAAAAAAAAAAAAAAAAAAAAAAAAAAAAAAAAAAAAAAAAAAAAAAAAAAAAAAAAAAAAAAAAAAAAAAAAAAAAAAAAAAAAAAAAAAAAAAAAAAAAAAAAAAAAAAAAAAAAAAAAAAAAAAAAAAAAAAAAAAAAAAAAAAAAAAAAAAAAAAAAAAAAAAAAAAAAAAAAAAAAAAAAAAAAAAAAAAAAAAAAAAAAAAAAAAAAAAAAAAAAAAAAAAAAAAAAAAAAAAAAAAAAAAAAAAAAAAAAAAAAAAAAAAAAAAAAAAAAAAAAAAAAAAAAAAAAAAAAAAAAAAAAAAAAAAAAAAAAAAAAAAAAAAAAAAAAAAAAAAAAAAAAAAAAAAAAAAAAAAAAAAAAAAAAAAAAAAAAAAAAAAAAAAAAAAAAAAAAAAAAAAAAAAAAAAAAAAAAAAAAAAAAAAAAAAAAAAAAAAAAAAAAAAAAAAAAAAAAAAAAAAAAAAAAAAAAAAAAAAAAAAAAAAAAAAAAAAAAAAAAAAAAAAAAAAAAAAAAAAAAAAAAAAAAAAAAAAAAAAAAAAAAAAAAAAAAAAAAAAAAAAAAAAAAAAAAAAAAAAAAAAAAAAAAAAAAAAAAAAAAAAAAAAAAAAAAAAAAAAAAAAAAAAAAAAAAAAAAAAAAAAAAAAAAAAAAAAAAAAAAAAAAAAAAAAAAAAAAAAAAAAAAAAAAAAAAAAAAAAAAAAAAAAAAAAAAAAAAAAAAAAAAAAAAAAAAAAAAAAAAAAAAAAAAAAAAAAAAAAAAAAAAAAAAAAAAAAAAAAAAAAAAAAAAAAAAAAAAAAAAAAAAAAAAAAAAAAAAAAAAAAAAAAAAAAAAAAAAAAAAAAAAAAAAAAAAAAAAAAAAAAAAAAAAAAAAAAAAAAAAAAAAAAAAAAAAAAAAAAAAAAAAAAAAAAAAAAAAAAAAAAAAAAAAAAAAAAAAAAAAAAAAAAAAAAAAAAAAAAAAAAAAAAAAAAAAAAAAAAAAAAAAAAAAAAAAAAAAAAAAAAAAAAAAAAAAAAAAAAAAAAAAAAAAAAAAAAAAAAAAAAAAAAAAAAAAAAAAAAAAAAAAAAAAAAAAAAAAAAAAAAAAAAAAAAAAAAAAAAAAAAAAAAAAAAAAAAAAAAAAAAAAAAAAAAAAAAAAAAAAAAAAAAAAAAAAAAAAAAAAAAAAAAAAAAAAAAAAAAAAAAAAAAAAAAAAAAAAAAAAAAAAAAAAAAAAAAAAAAAAAAAAAAAAAAAAAAAAAAAAAAAAAAAAAAAAAAAAAAAAAAAAAAAAAAAAAAAAAAAAAAAAAAAAAAAAAAAAAAAAAAAAAAAAAAAAAAAAAAAAAAAAAAAAAAAAAAAAAAAAAAAAAAAAAAAAAAAAAAAAAAAAAAAAAAAAAAAAAAAAAAAAAAAAAAAAAAAAAAAAAAAAAAAAAAAAAAAAAAAAAAAAAAAAAAAAAAAAAAAAAAAAAAAAAAAAAAAAAAAAAAAAAAAAAAAAAAAAAAAAAAAAAAAAAAAAAAAAAAAAAAAAAAAAAAAAAAAAAAAAAAAAAAAAAAAAAAAAAAAAAAAAAAAAAAAAAAAAAAAAAAAAAAAAAAAAAAAAAAAAAAAAAAAAAAAAAAAAAAAAAAAAAAAAAAAAAAAAAAAAAAAAAAAAAAAAAAAAAAAAAAAAAAAAAAAAAAAAAAAAAAAAAAAAAAAAAAAAAAAAAAAAAAAAAAAAAAAAAAAAAAAAAAAAAAAAAAAAAAAAAAAAAAAAAAAAAAAAAAAAAAAAAAAAAAAAAAAAAAAAAAAAAAAAAAAAAAAAAAAAAAAAAAAAAAAAAAAAAAAAAAAAAAAAAAAAAAAAAAAAAAAAAAAAAAAAAAAAAAAAAAAAAAAAAAAAAAAAAAAAAAAAAAAAAAAAAAAAAAAAAAAAAAAAAAAAAAAAAAAAAAAAAAAAAAAAAAAAAAAAAAAAAAAAAAAAAAAAAAAAAAAAAAAAAAAAAAAAAAAAAAAAAAAAAAAAAAAAAAAAAAAAAAAAAAAAAAAAAAAAAAAAAAAAAAAAAAAAAAAAAAAAAAAAAAAAAAAAAAAAAAAAAAAAAAAAAAAAAAAAAAAAAAAAAAAAAAAAAAAAAAAAAAAAAAAAAAAAAAAAAAAAAAAAAAAAAAAAAAAAAAAAAAAAAAAAAAAAAAAAAAAAAAAAAAAAAAAAAAAAAAAAAAAAAAAAAAAAAAAAAAAAAAAAAAAAAAAAAAAAAAAAAAAAAAAAAAAAAAAAAAAAAAAAAAAAAAAAAAAAAAAAAAAAAAAAAAAAAAAAAAAAAAAAAAAAAAAAAAAAAAAAAAAAAAAAAAAAAAAAAAAAAAAAAAAAAAAAAAAAAAAAAAAAAAAAAAAAAAAAAAAAAAAAAAAAAAAAAAAAAAAAAAAAAAAAAAAAAAAAAAAAAAAAAAAAAAAAAAAAAAAAAAAAAAAAAAAAAAAAAAAAAAAAAAAAAAAAAAAAAAAAAAAAAAAAAAAAAAAAAAAAAAAAAAAAAAAAAAAAAAAAAAAAAAAAAAAAAAAAAAAAAAAAAAAAAAAAAAAAAAAAAAAAAAAAAAAAAAAAAAAAAAAAAAAAAAAAAAAAAAAAAAAAAAAAAAAAAAAAAAAAAAAAAAAAAAAAAAAAAAAAAAAAAAAAAAAAAAAAAAAAAAAAAAAAAAAAAAAAAAAAAAAAAAAAAAAAAAAAAAAAAAAAAAAAAAAAAAAAAAAAAAAAAAAAAAAAAAAAAAAAAAAAAAAAAAAAAAAAAAAAAAAAAAAAAAAAAAAAAAAAAAAAAAAAAAAAAAAAAAAAAAAAAAAAAAAAAAAAAAAAAAAAAAAAAAAAAAAAAAAAAAAAAAAAAAAAAAAAAAAAAAAAAAAAAAAAAAAAAAAAAAAAAAAAAAAAAAAAAAAAAAAAAAAAAAAAAAAAAAAAAAAAAAAAAAAAAAAAAAAAAAAAAAAAAAAAAAAAAAAAAAAAAAAAAAAAAAAAAAAAAAAAAAAAAAAAAAAAAAAAAAAAAAAAAAAAAAAAAAAAAAAAAAAAAAAAAAAAAAAAAAAAAAAAAAAAAAAAAAAAAAAAAAAAAAAAAAAAAAAAAAAAAAAAAAAAAAAAAAAAAAAAAAAAAAAAAAAAAAAAAAAAAAAAAAAAAAAAAAAAAAAAAAAAAAAAAAAAAAAAAAAAAAAAAAAAAAAAAAAAAAAAAAAAAAAAAAAAAAAAAAAAAAAAAAAAAAAAAAAAAAAAAAAAAAAAAAAAAAAAAAAAAAAAAAAAAAAAAAAAAAAAAAAAAAAAAAAAAAAAAAAAAAAAAAAAAAAAAAAAAAAAAAAAAAAAAAAAAAAAAAAAAAAAAAAAAAAAAAAAAAAAAAAAAAAAAAAAAAAAAAAAAAAAAAAAAAAAAAAAAAAAAAAAAAAAAAAAAAAAAAAAAAAAAAAAAAAAAAAAAAAAAAAAAAAAAAAAAAAAAAAAAAAAAAAAAAAAAAAAAAAAAAAAAAAAAAAAAAAAAAAAAAAAAAAAAAAAAAAAAAAAAAAAAAAAAAAAAAAAAAAAAAAAAAAAAAAAAAAAAAAAAAAAAAAAAAAAAAAAAAAAAAAAAAAAAAAAAAAAAAAAAAAAAAAAAAAAAAAAAAAAAAAAAAAAAAAAAAAAAAAAAAAAAAAAAAAAAAAAAAAAAAAAAAAAAAAAAAAAAAAAAAAAAAAAAAAAAAAAAAAAAAAAAAAAAAAAAAAAAAAAAAAAAAAAAAAAAAAAAAAAAAAAAAAAAAAAAAAAAAAAAAAAAAAAAAAAAAAAAAAAAAAAAAAAAAAAAAAAAAAAAAAAAAAAAAAAAAAAAAAAAAAAAAAAAAAAAAAAAAAAAAAAAAAAAAAAAAAAAAAAAAAAAAAAAAAAAAAAAAAAAAAAAAAAAAAAAAAAAAAAAAAAAAAAAAAAAAAAAAAAAAAAAAAAAAAAAAAAAAAAAAAAAAAAAAAAAAAAAAAAAAAAAAAAAAAAAAAAAAAAAAAAAAAAAAAAAAAAAAAAAAAAAAAAAAAAAAAAAAAAAAAAAAAAAAAAAAAAAAAAAAAAAAAAAAAAAAAAAAAAAAAAAAAAAAAAAAAAAAAAAAAAAAAAAAAAAAAAAAAAAAAAAAAAAAAAAAAAAAAAAAAAAAAAAAAAAAAAAAAAAAAAAAAAAAAAAAAAAAAAAAAAAAAAAAAAAAAAAAAAAAAAAAAAAAAAAAAAAAAAAAAAAAAAAAAAAAAAAAAAAAAAAAAAAAAAAAAAAAAAAAAAAAAAAAAAAAAAAAAAAAAAAAAAAAAAAAAAAAAAAAAAAAAAAAAAAAAAAAAAAAAAAAAAAAAAAAAAAAAAAAAAAAAAAAAAAAAAAAAAAAAAAAAAAAAAAAAAAAAAAAAAAAAAAAAAAAAAAAAAAAAAAAAAAAAAAAAAAAAAAAAAAAAAAAAAAAAAAAAAAAAAAAAAAAAAAAAAAAAAAAAAAAAAAAAAAAAAAAAAAAAAAAAAAAAAAAAAAAAAAAAAAAAAAAAAAAAAAAAAAAAAAAAAAAAAAAAAAAAAAAAAAAAAAAAAAAAAAAAAAAAAAAAAAAAAAAAAAAAAAAAAAAAAAAAAAAAAAAAAAAAAAAAAAAAAAAAAAAAAAAAAAAAAAAAAAAAAAAAAAAAAAAAAAAAAAAAAAAAAAAAAAAAAAAAAAAAAAAAAAAAAAAAAAAAAAAAAAAAAAAAAAAAAAAAAAAAAAAAAAAAAAAAAAAAAAAAAAAAAAAAAAAAAAAAAAAAAAAAAAAAAAAAAAAAAAAAAAAAAAAAAAAAAAAAAAAAAAAAAAAAAAAAAAAAAAAAAAAAAAAAAAAAAAAAAAAAAAAAAAAAAAAAAAAAAAAAAAAAAAAAAAAAAAAAAAAAAAAAAAAAAAAAAAAAAAAAAAAAAAAAAAAAAAAAAAAAAAAAAAAAAAAAAAAAAAAAAAAAAAAAAAAAAAAAAAAAAAAAAAAAAAAAAAAAAAAAAAAAAAAAAABBAAAAAAAAAEEAAAAAAAAAIQAAAAAAAAABAAAAAAAAAAAAAAAAAAAAAQAAAAAAAABRAAAAAAAAAAAAAAAAAAAAIQAAAAAAAACZAAAAAAAAAAEAAAAAAAAAUQAAAAAAAACJAAAAAAAAAIEAAAAAAAAAAQAAAAAAAACJAAAAAAAAAGEAAAAAAAAAAQAAAAAAAAAAAAAAAAAAAAAAAAAAAAEBXQAAAAAAAAABAAAAAAAAAAAAAAAAAAAAAAAAAAAAAAD9AAAAAAAAA8D8AAAAAAAAAAAAAAAAAAAAAAAAAAACAQkAAAAAAAADwPwAAAAAAAAAAAAAAAAAAAAAAAAAAAEBYQAAAAAAAAPA/AAAAAAAAAAAAAAAAAAAAAAAAAAAAgFFAAAAAAAAAAEAAAAAAAAAAAAAAAAAAAFJAAAAAAAAAAEAAAAAAAAAAAAAAAAAAgEtAAAAAAAAAAEAAAAAAAAAAAAAAAAAAAFRAAAAAAAAA8D8AAAAAAAAAAAAAAAAAAAAAAAAAAAAAAAAAAAAAAAAAAAAAAAAAQFFAAAAAAAAAUUAAAAAAAIBOQAAAAAAAADFAAAAAAAAANEAAAAAAAAAAAAAAAAAAAC5AAAAAAAAAEEAAAAAAAAA6QAAAAAAAgE9AAAAAAADAU0AAAAAAAAAAAAAAAAAAADNAAAAAAAAAJkAAAAAAAIBAQAAAAAAAgEpAAAAAAAAAOEAAAAAAAEBYQAAAAAAAAAAAAAAAAAAAAAAAAAAAAMBQQAAAAAAAAFVAAAAAAABAV0AAAAAAAABQQAAAAAAAQFBAAAAAAAAASUAAAAAAAAAAAAAAAAAAAAAAAAAAAADAU0AAAAAAAIBIQAAAAAAAgEpAAAAAAAAAMkAAAAAAAAAAAAAAAAAAAAAAAAAAAAAAAAAAAAAAAAAAAAAAAAAAAAAAAAAAAAAAAAAAAAAAAAAAAAAAAAAAAAAAAAAAAAAANkAAAAAAAEBUQAAAAAAAADlAAAAAAAAAAAAAAAAAAEBYQAAAAAAAAAAAAAAAAADAUkAAAAAAAAAAAAAAAAAAAAAAAAAAAAAAPUAAAAAAAMBXQAAAAAAAAAAAAAAAAAAAGEAAAAAAAIBNQAAAAAAAACZAAAAAAAAAAAAAAAAAAAAAAAAAAAAAQFhAAAAAAAAASkAAAAAAAAAAAAAAAAAAAEpAAAAAAADAV0AAAAAAAEBYQAAAAAAAAAAAAAAAAAAAAAAAAAAAAAAgQAAAAAAAgEhAAAAAAACARkAAAAAAAIBVQAAAAAAAgENAAAAAAAAAAAAAAAAAAABLQAAAAAAAgFBAAAAAAACARUAAAAAAAIBJQAAAAAAAAAAAAAAAAAAAAAAAAAAAAAAAAAAAAAAAAAAAAAAAAAAAAAAAAAAAAIBSQAAAAAAAAAAAAAAAAABAVkAAAAAAAIBMQAAAAAAAAFJAAAAAAAAALEAAAAAAAAAAAAAAAAAAAAAAAAAAAABAVUAAAAAAAIBMQAAAAAAAgFJAAAAAAAAAAAAAAAAAAAA5QAAAAAAAADZAAAAAAABAVkAAAAAAAAAAAAAAAAAAADVAAAAAAACATUAAAAAAAMBTQAAAAAAAAPA/AAAAAAAAAAAAAAAAAMBQQAAAAAAAAAAAAAAAAAAAAAAAAAAAAAAAAAAAAAAAgEdAAAAAAAAAAAAAAAAAAAAAAAAAAAAAwFVAAAAAAAAAAAAAAAAAAAAAAAAAAAAAACJAAAAAAAAAAAAAAAAAAIBVQAAAAAAAgFVAAAAAAACAQkAAAAAAAADwPwAAAAAAAAAAAAAAAAAAAAAAAAAAAIBCQAAAAAAAAD9AAAAAAACASkAAAAAAAIBLQAAAAAAAAAAAAAAAAAAAAAAAAAAAAEBYQAAAAAAAgFVAAAAAAAAAAAAAAAAAAAAAAAAAAAAAABRAAAAAAAAAAAAAAAAAAEBYQAAAAAAAAAAAAAAAAAAAAAAAAAAAAAAAAAAAAAAAQFJAAAAAAAAA8D8AAAAAAAAAAAAAAAAAAAAAAAAAAAAAAAAAAAAAAAAAAAAAAAAAAERAAAAAAAAAUkAAAAAAAEBTQAAAAAAAADpAAAAAAAAAAAAAAAAAAIBRQAAAAAAAAD5AAAAAAAAAAAAAAAAAAAAQQAAAAAAAAERAAAAAAADAVUAAAAAAAIBUQAAAAAAAgFJAAAAAAACAVkAAAAAAAABKQAAAAAAAAChAAAAAAAAAQEAAAAAAAAAxQAAAAAAAAAAAAAAAAAAAAAAAAAAAAAAAAAAAAAAAAAAAAAAAAAAAM0AAAAAAAAA9QAAAAAAAAAAAAAAAAAAAAAAAAAAAAABNQAAAAAAAAAAAAAAAAAAAAAAAAAAAAAAAAAAAAAAAgERAAAAAAACASkAAAAAAAAAzQAAAAAAAAPA/AAAAAAAAAAAAAAAAAAAAAAAAAAAAADxAAAAAAAAAPUAAAAAAAADwPwAAAAAAAAAAAAAAAAAAAAAAAAAAAEBYQAAAAAAAAAAAAAAAAAAAAAAAAAAAAAAAAAAAAAAAAAAAAAAAAACAQ0AAAAAAAADwPwAAAAAAAAAAAAAAAAAAAAAAAAAAAAAAAAAAAAAAAFBAAAAAAAAAPEAAAAAAAAAIQAAAAAAAADJAAAAAAAAAAAAAAAAAAAAAAAAAAAAAAPA/AAAAAAAAAAAAAAAAAAAAAAAAAAAAAFhAAAAAAADAVEAAAAAAAAAAAAAAAAAAAEFAAAAAAAAARkAAAAAAAAAAAAAAAAAAAAAAAAAAAAAA8D8AAAAAAAAAAAAAAAAAAAAAAAAAAAAAOkAAAAAAAAA7QAAAAAAAADFAAAAAAABAUkAAAAAAAADwPwAAAAAAAAAAAAAAAAAAEEAAAAAAAIBIQAAAAAAAAAAAAAAAAAAAMEAAAAAAAAAcQAAAAAAAACxAAAAAAAAATUAAAAAAAABHQAAAAAAAAE9AAAAAAAAAIEAAAAAAAAAAAAAAAAAAABBAAAAAAAAAUEAAAAAAAAAAAAAAAAAAAE9AAAAAAACAR0AAAAAAAADwPwAAAAAAAAAAAAAAAAAAAAAAAAAAAAAAAAAAAAAAAAAAAAAAAAAAGEAAAAAAAAAAAAAAAAAAQFFAAAAAAACAVUAAAAAAAEBTQAAAAAAAAEFAAAAAAAAAAAAAAAAAAAAAAAAAAAAAAPA/AAAAAAAAAAAAAAAAAAAkQAAAAAAAAAAAAAAAAAAAJkAAAAAAAAAUQAAAAAAAACBAAAAAAAAAIEAAAAAAAAAxQAAAAAAAAAAAAAAAAAAAAAAAAAAAAABKQAAAAAAAACJAAAAAAAAAAAAAAAAAAABKQAAAAAAAAPA/AAAAAAAAAAAAAAAAAAA7QAAAAAAAgE9AAAAAAADAU0AAAAAAAAAAAAAAAAAAAEtAAAAAAAAAAAAAAAAAAIBRQAAAAAAAAAAAAAAAAAAAAAAAAAAAAABQQAAAAAAAwFZAAAAAAAAAAAAAAAAAAAAAAAAAAAAAAAAAAAAAAAAAAAAAAAAAAAAAAAAAAAAAAPA/AAAAAAAAAAAAAAAAAEBSQAAAAAAAwFZAAAAAAAAAKEAAAAAAAAAAAAAAAAAAAAAAAAAAAAAAAAAAAAAAAAAzQAAAAAAAgEBAAAAAAAAAOkAAAAAAAIBUQAAAAAAAAFFAAAAAAAAAJEAAAAAAAAAAAAAAAAAAAAAAAAAAAAAAAAAAAAAAAAAAAAAAAAAAADVAAAAAAAAAMkAAAAAAAABDQAAAAAAAAAAAAAAAAAAAAAAAAAAAAMBWQAAAAAAAAFFAAAAAAAAAAAAAAAAAAAAAAAAAAAAAAAAAAAAAAAAAVUAAAAAAAIBQQAAAAAAAAAAAAAAAAAAAAAAAAAAAAIBHQAAAAAAAgE5AAAAAAAAAAAAAAAAAAAAAAAAAAAAAAAAAAAAAAAAAMUAAAAAAAAA2QAAAAAAAgERAAAAAAAAAT0AAAAAAAIBFQAAAAAAAABhAAAAAAAAA8D8AAAAAAAAAAAAAAAAAAFFAAAAAAAAANUAAAAAAAADwPwAAAAAAADJAAAAAAAAASEAAAAAAAAAAAAAAAAAAAAAAAAAAAAAATUAAAAAAAAAAAAAAAAAAAAAAAAAAAABAUkAAAAAAAAAAAAAAAAAAAAAAAAAAAAAAAAAAAAAAAAAUQAAAAAAAwFJAAAAAAAAAS0AAAAAAAIBLQAAAAAAAgEhAAAAAAAAAAEAAAAAAAADwPwAAAAAAADRAAAAAAAAAAAAAAAAAAAAAAAAAAAAAADRAAAAAAAAAQUAAAAAAAAAiQAAAAAAAAAAAAAAAAAAAAAAAAAAAAEBYQAAAAAAAgExAAAAAAAAAUEAAAAAAAABMQAAAAAAAADZAAAAAAAAAAAAAAAAAAAAAQAAAAAAAQFhAAAAAAACAU0AAAAAAAAAAAAAAAAAAAAAAAAAAAABAVkAAAAAAAEBYQAAAAAAAwFRAAAAAAAAAKkAAAAAAAAAAAAAAAAAAAAAAAAAAAACAVkAAAAAAAEBWQAAAAAAAAAAAAAAAAAAAAAAAAAAAAAAAAAAAAAAAAENAAAAAAAAANUAAAAAAAAAoQAAAAAAAAPA/AAAAAAAAAAAAAAAAAAAiQAAAAAAAACRAAAAAAAAAAAAAAAAAAAAAAAAAAAAAgEVAAAAAAABAWEAAAAAAAEBYQAAAAAAAQFRAAAAAAAAAAAAAAAAAAAAzQAAAAAAAADtAAAAAAAAAAAAAAAAAAAAwQAAAAAAAgFdAAAAAAABAWEAAAAAAAEBWQAAAAAAAQFhAAAAAAAAACEAAAAAAAAAAAAAAAAAAgFBAAAAAAAAAAAAAAAAAAAAAAAAAAAAAAAAAAAAAAAAAAAAAAAAAAABEQAAAAAAAAAAAAAAAAAAA8D8AAAAAAAAAAAAAAAAAAAAAAAAAAAAAREAAAAAAAEBTQAAAAAAAAD9AAAAAAAAAAAAAAAAAAAAuQAAAAAAAgEFAAAAAAAAAR0AAAAAAAIBCQAAAAAAAAFZAAAAAAAAAAAAAAAAAAAAgQAAAAAAAAAAAAAAAAAAAAAAAAAAAAAAAAAAAAAAAAAAAAAAAAAAAAAAAAAAAAAAAAAAAAAAAAAAAAAAAAAAAUUAAAAAAAMBRQAAAAAAAAAAAAAAAAAAAAAAAAAAAAMBVQAAAAAAAAAAAAAAAAAAAMkAAAAAAAEBYQAAAAAAAAAAAAAAAAAAAGEAAAAAAAAAAAAAAAAAAAAAAAAAAAACARUAAAAAAAABHQAAAAAAAQFhAAAAAAAAAVUAAAAAAAABSQAAAAAAAAAAAAAAAAAAAAAAAAAAAAAAAAAAAAAAAgEBAAAAAAADAU0AAAAAAAIBOQAAAAAAAAAAAAAAAAAAAAAAAAAAAAAAAAAAAAAAAQFhAAAAAAACAUEAAAAAAAAA9QAAAAAAAAAAAAAAAAAAAAAAAAAAAAAAAQAAAAAAAgE1AAAAAAACAUkAAAAAAAIBOQAAAAAAAAD9AAAAAAAAAMkAAAAAAAAAAAAAAAAAAAAAAAAAAAAAAAAAAAAAAAIBCQAAAAAAAAEhAAAAAAABAWEAAAAAAAIBUQAAAAAAAAAAAAAAAAAAAAAAAAAAAAAAAAAAAAAAAADtAAAAAAACAS0AAAAAAAMBXQAAAAAAAQFNAAAAAAAAAM0AAAAAAAIBAQAAAAAAAAAAAAAAAAAAAAAAAAAAAAAA1QAAAAAAAAAAAAAAAAAAAAAAAAAAAAEBQQAAAAAAAQFhAAAAAAACASEAAAAAAAAAAAAAAAAAAAAAAAAAAAAAAAAAAAAAAAEBYQAAAAAAAAAAAAAAAAAAAAAAAAAAAAAAAAAAAAAAAAD5AAAAAAAAAGEAAAAAAAAAAAAAAAAAAAPA/AAAAAAAAAAAAAAAAAAAAAAAAAAAAgEFAAAAAAAAAOUAAAAAAAABIQAAAAAAAAFNAAAAAAADAVkAAAAAAAEBYQAAAAAAAQFVAAAAAAAAAUEAAAAAAAADwPwAAAAAAAAAAAAAAAAAANUAAAAAAAMBVQAAAAAAAgEJAAAAAAAAAAAAAAAAAAAAAAAAAAAAAADxAAAAAAAAAWEAAAAAAAMBTQAAAAAAAAAAAAAAAAAAAAAAAAAAAAMBRQAAAAAAAADZAAAAAAAAAAAAAAAAAAAAAAAAAAAAAAAAAAAAAAABAWEAAAAAAAIBRQAAAAAAAAAAAAAAAAAAAO0AAAAAAAEBYQAAAAAAAQFhAAAAAAACAUUAAAAAAAABBQAAAAAAAAAAAAAAAAAAAAAAAAAAAAAAAAAAAAAAAgEZAAAAAAAAAGEAAAAAAAAAAAAAAAAAAADtAAAAAAADAVkAAAAAAAIBMQAAAAAAAAPA/AAAAAAAAAAAAAAAAAAAAAAAAAAAAABhAAAAAAAAAAAAAAAAAAAAAAAAAAAAAADRAAAAAAAAAMkAAAAAAAAA7QAAAAAAAAAAAAAAAAAAAAAAAAAAAAAAAAAAAAAAAAAAAAAAAAAAAAAAAAAAAAAAAAAAAAAAAAAAAAAAAAAAAKEAAAAAAAAAAAAAAAAAAAAAAAAAAAAAAAAAAAAAAAAAAAAAAAAAAAAAAAAAAAAAACEAAAAAAAIBUQAAAAAAAwFdAAAAAAAAAAAAAAAAAAAAAAAAAAAAAgFNAAAAAAABAWEAAAAAAAABUQAAAAAAAAAAAAAAAAAAAAAAAAAAAAEBVQAAAAAAAACJAAAAAAAAAAAAAAAAAAAAmQAAAAAAAABhAAAAAAAAAGEAAAAAAAAAgQAAAAAAAAAhAAAAAAAAAHEAAAAAAAAAQQAAAAAAAAC5AAAAAAAAAAEAAAAAAAAAAAAAAAAAAAAAAAAAAAACAWEAAAAAAAAAAAAAAAAAAACRAAAAAAAAAAAAAAAAAAAAAAAAAAAAAACRAAAAAAABAUEAAAAAAAABUQAAAAAAAAAAAAAAAAAAAVUAAAAAAAADwPwAAAAAAAAAAAAAAAAAAAAAAAAAAAIBRQAAAAAAAgFRAAAAAAAAAAAAAAAAAAIBUQAAAAAAAwFNAAAAAAAAAAAAAAAAAAADwPwAAAAAAAAAAAAAAAAAAJEAAAAAAAABTQAAAAAAAgFNAAAAAAAAATUAAAAAAAABIQAAAAAAAwFFAAAAAAAAAOEAAAAAAAADwPwAAAAAAAAAAAAAAAAAATEAAAAAAAIBXQAAAAAAAQFVAAAAAAABAWEAAAAAAAABWQAAAAAAAADZAAAAAAAAAEEAAAAAAAAAAAAAAAAAAAAAAAAAAAAAAMUAAAAAAAAAAAAAAAAAAADBAAAAAAACAVEAAAAAAAIBNQAAAAAAAAAAAAAAAAAAAAAAAAAAAAAAAAAAAAAAAAPA/AAAAAAAAAAAAAAAAAAAmQAAAAAAAAAAAAAAAAAAAAAAAAAAAAAAgQAAAAAAAAAAAAAAAAAAAPkAAAAAAAAAAAAAAAAAAAD5AAAAAAACASUAAAAAAAIBTQAAAAAAAAAAAAAAAAAAAVkAAAAAAAAAoQAAAAAAAAPA/AAAAAAAA8D8AAAAAAAAAAAAAAAAAAC5AAAAAAAAAS0AAAAAAAAA4QAAAAAAAAPA/AAAAAAAAMEAAAAAAAAAAAAAAAAAAAAAAAAAAAADAUUAAAAAAAAAAAAAAAAAAgFRAAAAAAADAUUAAAAAAAABOQAAAAAAAAFRAAAAAAAAAAAAAAAAAAABHQAAAAAAAAE9AAAAAAAAAAAAAAAAAAAAAAAAAAAAAAAAAAAAAAAAAAAAAAAAAAAAAAAAAAAAAAFVAAAAAAADAUUAAAAAAAABWQAAAAAAAgENAAAAAAAAAPUAAAAAAAAAAAAAAAAAAAElAAAAAAACAQEAAAAAAAIBVQAAAAAAAAAAAAAAAAAAAOUAAAAAAAIBDQAAAAAAAAFRAAAAAAACAT0AAAAAAAIBPQAAAAAAAAAAAAAAAAAAAAAAAAAAAAAA+QAAAAAAAgFRAAAAAAACAU0AAAAAAAABDQAAAAAAAACxAAAAAAAAAAAAAAAAAAAA9QAAAAAAAAEdAAAAAAACAUUAAAAAAAABKQAAAAAAAAPA/AAAAAAAAAAAAAAAAAAAAAAAAAAAAAAAAAAAAAAAAAAAAAAAAAAAAAAAAAAAAAE9AAAAAAABAV0AAAAAAAEBTQAAAAAAAAAAAAAAAAABAWEAAAAAAAAAAAAAAAAAAAAAAAAAAAAAAAAAAAAAAAAAcQAAAAAAAgExAAAAAAAAA8D8AAAAAAAAAAAAAAAAAAAAAAAAAAAAA8D8AAAAAAAAAAAAAAAAAACRAAAAAAAAAAAAAAAAAAAAoQAAAAAAAAABAAAAAAAAAJkAAAAAAAAAYQAAAAAAAADBAAAAAAAAAAAAAAAAAAAAAAAAAAAAAAFFAAAAAAAAAP0AAAAAAAAAAAAAAAAAAAAAAAAAAAAAAQ0AAAAAAAMBSQAAAAAAAAE5AAAAAAAAACEAAAAAAAAAAAAAAAAAAABhAAAAAAAAAAAAAAAAAAAAuQAAAAAAAAAAAAAAAAABAWEAAAAAAAAAwQAAAAAAAAAAAAAAAAAAAAAAAAAAAAAAAAAAAAAAAQFhAAAAAAACAU0AAAAAAAIBJQAAAAAAAgEtAAAAAAAAAAAAAAAAAAAAAAAAAAAAAAAAAAAAAAAAAAAAAAAAAAIBHQAAAAAAAQFJAAAAAAAAATUAAAAAAAABTQAAAAAAAAAAAAAAAAAAATUAAAAAAAEBQQAAAAAAAAEtAAAAAAAAAAAAAAAAAAAAAAAAAAAAAABhAAAAAAAAA8D8AAAAAAAAUQAAAAAAAABRAAAAAAABAVkAAAAAAAABKQAAAAAAAAAAAAAAAAAAAAAAAAAAAAAA0QAAAAAAAABBAAAAAAAAAAAAAAAAAAIBOQAAAAAAAAAAAAAAAAAAAAAAAAAAAAAAoQAAAAAAAAEVAAAAAAAAAAAAAAAAAAAAAAAAAAAAAAAAAAAAAAABAWEAAAAAAAABVQAAAAAAAAPA/AAAAAAAAAAAAAAAAAAAAAAAAAAAAAAAAAAAAAAAAHEAAAAAAAIBIQAAAAAAAAFFAAAAAAAAASkAAAAAAAABBQAAAAAAAABxAAAAAAAAATEAAAAAAAIBNQAAAAAAAAAAAAAAAAAAAAAAAAAAAAAAkQAAAAAAAAAAAAAAAAABAUEAAAAAAAAA6QAAAAAAAQFZAAAAAAAAAVUAAAAAAAIBAQAAAAAAAAAAAAAAAAAAAAAAAAAAAAABTQAAAAAAAAPA/AAAAAAAAAAAAAAAAAAAsQAAAAAAAgElAAAAAAAAATkAAAAAAAABNQAAAAAAAQFhAAAAAAADAVEAAAAAAAAAAAAAAAAAAAFJAAAAAAAAAIkAAAAAAAAAAAAAAAAAAAAAAAAAAAAAAAAAAAAAAAAA4QAAAAAAAAAAAAAAAAABAWEAAAAAAAABMQAAAAAAAAPA/AAAAAAAAAAAAAAAAAAAUQAAAAAAAAFBAAAAAAAAASEAAAAAAAEBYQAAAAAAAABRAAAAAAAAAAAAAAAAAAAAsQAAAAAAAAEJAAAAAAAAAS0AAAAAAAAA9QAAAAAAAACZAAAAAAAAAQ0AAAAAAAABLQAAAAAAAAAAAAAAAAAAAOEAAAAAAAMBWQAAAAAAAQFdAAAAAAAAA8D8AAAAAAAAAAAAAAAAAAAAAAAAAAAAAAAAAAAAAAADwPwAAAAAAAEBAAAAAAAAAAAAAAAAAAAAAAAAAAAAAAAAAAAAAAAAAR0AAAAAAAABLQAAAAAAAACBAAAAAAAAAAAAAAAAAAAAAAAAAAAAAAENAAAAAAAAAAAAAAAAAAIBNQAAAAAAAAAAAAAAAAAAAAAAAAAAAAEBYQAAAAAAAgEhAAAAAAACATEAAAAAAAIBLQAAAAAAAAAAAAAAAAAAAVkAAAAAAAABYQAAAAAAAQFhAAAAAAAAAAAAAAAAAAAAAAAAAAAAAADBAAAAAAAAAOUAAAAAAAIBCQAAAAAAAAAAAAAAAAAAALEAAAAAAAADwPwAAAAAAAAAAAAAAAAAAAAAAAAAAAAA4QAAAAAAAADNAAAAAAAAAQUAAAAAAAAAqQAAAAAAAAEdAAAAAAACAREAAAAAAAAAAAAAAAAAAAAAAAAAAAAAANkAAAAAAAAAxQAAAAAAAgE5AAAAAAAAAPkAAAAAAAEBQQAAAAAAAgExAAAAAAAAASkAAAAAAAIBYQAAAAAAAAFRAAAAAAAAAU0AAAAAAAEBQQAAAAAAAADtAAAAAAAAAHEAAAAAAAAAAAAAAAAAAAAAAAAAAAAAAUUAAAAAAAEBSQAAAAAAAQFBAAAAAAAAAAAAAAAAAAAAAAAAAAAAAQFhAAAAAAAAAIkAAAAAAAAA8QAAAAAAAAAAAAAAAAAAAM0AAAAAAAEBUQAAAAAAAAAAAAAAAAAAAAAAAAAAAAEBYQAAAAAAAgERAAAAAAAAAAAAAAAAAAAAAAAAAAAAAAEhAAAAAAADAU0AAAAAAAABKQAAAAAAAwFVAAAAAAAAAAAAAAAAAAAAuQAAAAAAAAEdAAAAAAAAAAEAAAAAAAAAwQAAAAAAAAEFAAAAAAAAAAAAAAAAAAAAAAAAAAAAAAFVAAAAAAAAAAAAAAAAAAAAAAAAAAAAAQFRAAAAAAAAAAAAAAAAAAIBDQAAAAAAAgE9AAAAAAAAAJkAAAAAAAAAAAAAAAAAAAAAAAAAAAAAAAAAAAAAAAAAAAAAAAAAAAAAAAAAAAAAAAAAAAAAAAEBYQAAAAAAAAPA/AAAAAAAAAAAAAAAAAMBTQAAAAAAAQFhAAAAAAABAWEAAAAAAAAAAAAAAAAAAAAAAAAAAAAAAAAAAAAAAAAAAAAAAAAAAABxAAAAAAAAAOEAAAAAAAAA8QAAAAAAAQFhAAAAAAAAAWEAAAAAAAABBQAAAAAAAAEtAAAAAAACATUAAAAAAAAAAAAAAAAAAAAAAAAAAAAAA8D8AAAAAAADwPwAAAAAAAAAAAAAAAAAASkAAAAAAAAAAAAAAAAAAAAAAAAAAAAAAAAAAAAAAAABAQAAAAAAAAEJAAAAAAAAAO0AAAAAAAAAAAAAAAAAAAAAAAAAAAAAAAAAAAAAAAAAUQAAAAAAAAEBAAAAAAAAANEAAAAAAAIBAQAAAAAAAAFFAAAAAAAAAVUAAAAAAAABHQAAAAAAAAERAAAAAAAAAAAAAAAAAAAAAAAAAAAAAACZAAAAAAAAAIkAAAAAAAAAoQAAAAAAAQFhAAAAAAABAV0AAAAAAAAAAAAAAAAAAAAAAAAAAAAAANUAAAAAAAAAYQAAAAAAAAAAAAAAAAAAAAAAAAAAAAIBHQAAAAAAAgERAAAAAAAAASkAAAAAAAIBOQAAAAAAAAEVAAAAAAAAAS0AAAAAAAAAAAAAAAAAAAAAAAAAAAAAAHEAAAAAAAIBHQAAAAAAAAAAAAAAAAACAT0AAAAAAAEBYQAAAAAAAAAAAAAAAAAAAAAAAAAAAAAAAAAAAAAAAAEdAAAAAAAAAAAAAAAAAAAA+QAAAAAAAAERAAAAAAADAVUAAAAAAAABQQAAAAAAAAPA/AAAAAAAAAAAAAAAAAAAsQAAAAAAAAElAAAAAAABAVkAAAAAAAABMQAAAAAAAAAAAAAAAAAAAAAAAAAAAAAAAAAAAAAAAAAAAAAAAAAAAWEAAAAAAAEBYQAAAAAAAAAAAAAAAAAAAOEAAAAAAAABKQAAAAAAAgFdAAAAAAAAAOUAAAAAAAABOQAAAAAAAADpAAAAAAAAAQUAAAAAAAAAQQAAAAAAAADBAAAAAAAAAFEAAAAAAAAAAAAAAAAAAAAAAAAAAAAAAAAAAAAAAAAA8QAAAAAAAQFhAAAAAAAAAPkAAAAAAAAA5QAAAAAAAACpAAAAAAAAAAAAAAAAAAABIQAAAAAAAgFBAAAAAAAAAQkAAAAAAAAAUQAAAAAAAAAAAAAAAAAAAAAAAAAAAAAAAAAAAAAAAAD9AAAAAAAAAGEAAAAAAAIBIQAAAAAAAAD5AAAAAAACARUAAAAAAAMBXQAAAAAAAAFdAAAAAAAAAAAAAAAAAAAA0QAAAAAAAADpAAAAAAAAATkAAAAAAAMBXQAAAAAAAgExAAAAAAAAATkAAAAAAAIBFQAAAAAAAAAAAAAAAAAAAAAAAAAAAAAAAAAAAAAAAgERAAAAAAAAANkAAAAAAAAAAAAAAAAAAAEZAAAAAAAAAVUAAAAAAAIBKQAAAAAAAAEBAAAAAAAAAEEAAAAAAAAAAAAAAAAAAACRAAAAAAABAUkAAAAAAAAAAAAAAAAAAAAAAAAAAAAAAAAAAAAAAAIBJQAAAAAAAADZAAAAAAAAARUAAAAAAAIBMQAAAAAAAAPA/AAAAAAAAAAAAAAAAAAAAAAAAAAAAAAAAAAAAAAAAAAAAAAAAAAAAAAAAAAAAgFVAAAAAAAAAAAAAAAAAAAAAAAAAAAAAAAAAAAAAAABAUkAAAAAAAMBSQAAAAAAAAFdAAAAAAABAWEAAAAAAAAAAAAAAAAAAAFBAAAAAAAAAAAAAAAAAAADwPwAAAAAAAAAAAAAAAABAWEAAAAAAAABWQAAAAAAAQFZAAAAAAADAUUAAAAAAAADwPwAAAAAAAAAAAAAAAAAALkAAAAAAAAA3QAAAAAAAAPA/AAAAAAAAAAAAAAAAAAAAAAAAAAAAAPA/AAAAAAAAVkAAAAAAAMBRQAAAAAAAAAAAAAAAAAAAAAAAAAAAAABWQAAAAAAAAEJAAAAAAAAAAAAAAAAAAAAwQAAAAAAAABhAAAAAAAAAVEAAAAAAAMBQQAAAAAAAADlAAAAAAAAASEAAAAAAAAAAAAAAAAAAAAhAAAAAAABAVEAAAAAAAAAAAAAAAAAAAAAAAAAAAAAAPEAAAAAAAABXQAAAAAAAAAAAAAAAAAAAAAAAAAAAAIBPQAAAAAAAAFZAAAAAAAAAAAAAAAAAAAAAAAAAAAAAAAAAAAAAAADAUEAAAAAAAIBSQAAAAAAAAAAAAAAAAAAAAAAAAAAAAAA/QAAAAAAAAFJAAAAAAABAWEAAAAAAAAAAAAAAAAAAAAAAAAAAAADAVkAAAAAAAAAyQAAAAAAAAAAAAAAAAAAAAAAAAAAAAAAAAAAAAAAAAAAAAAAAAACAVEAAAAAAAAA+QAAAAAAAADxAAAAAAACASEAAAAAAAIBBQAAAAAAAgEtAAAAAAAAAAAAAAAAAAAAAAAAAAAAAADxAAAAAAAAAAAAAAAAAAAAAAAAAAAAAAAAAAAAAAABAWEAAAAAAAIBDQAAAAAAAAE5AAAAAAAAASkAAAAAAAEBUQAAAAAAAAFFAAAAAAAAAAAAAAAAAAAAAAAAAAAAAACJAAAAAAAAAAAAAAAAAAABRQAAAAAAAQFNAAAAAAACAU0AAAAAAAIBSQAAAAAAAAEtAAAAAAAAAAEAAAAAAAAAAAAAAAAAAAAAAAAAAAAAAMkAAAAAAAAAAAAAAAAAAAAAAAAAAAAAANEAAAAAAAIBLQAAAAAAAAAAAAAAAAAAAAAAAAAAAAAAAAAAAAAAAADJAAAAAAABAUUAAAAAAAABLQAAAAAAAAE9AAAAAAAAAAAAAAAAAAADwPwAAAAAAAAAAAAAAAAAAAAAAAAAAAABAQAAAAAAAgElAAAAAAAAAVEAAAAAAAEBTQAAAAAAAAAAAAAAAAAAAAAAAAAAAAAAAAAAAAAAAAAAAAAAAAAAAAAAAAAAAAIBDQAAAAAAAAEtAAAAAAAAAJkAAAAAAAAAAAAAAAAAAgEJAAAAAAACAUkAAAAAAAAAAAAAAAAAAAAAAAAAAAABAUUAAAAAAAAAAAAAAAAAAAAAAAAAAAADAVkAAAAAAAAAAAAAAAAAAAAAAAAAAAAAAUUAAAAAAAMBRQAAAAAAAAAAAAAAAAACAT0AAAAAAAABXQAAAAAAAwFdAAAAAAADAVEAAAAAAAABJQAAAAAAAAAAAAAAAAACASkAAAAAAAEBYQAAAAAAAAAAAAAAAAABAWEAAAAAAAADwPwAAAAAAAAAAAAAAAAAAAAAAAAAAAEBYQAAAAAAAgE9AAAAAAACAQkAAAAAAAADwPwAAAAAAAAAAAAAAAAAAAAAAAAAAAABIQAAAAAAAAElAAAAAAABAWEAAAAAAAABVQAAAAAAAAFhAAAAAAAAACEAAAAAAAAAAAAAAAAAAQFBAAAAAAADAVkAAAAAAAEBSQAAAAAAAQFhAAAAAAAAAU0AAAAAAAABEQAAAAAAAAAAAAAAAAAAAHEAAAAAAAIBGQAAAAAAAADhAAAAAAACAQkAAAAAAAIBNQAAAAAAAgERAAAAAAAAAAAAAAAAAAAAAAAAAAAAAQFhAAAAAAADAUUAAAAAAAAAAAAAAAAAAAAAAAAAAAAAAAAAAAAAAAIBHQAAAAAAAQFhAAAAAAAAAVkAAAAAAAAA5QAAAAAAAAD5AAAAAAACASkAAAAAAAIBQQAAAAAAAQFBAAAAAAAAAAAAAAAAAAABLQAAAAAAAgENAAAAAAACAVUAAAAAAAIBOQAAAAAAAAAAAAAAAAAAAAAAAAAAAAABJQAAAAAAAAEhAAAAAAAAAAAAAAAAAAAAIQAAAAAAAgFRAAAAAAACAUEAAAAAAAABWQAAAAAAAAAAAAAAAAAAAAAAAAAAAAAAAAAAAAAAAAAAAAAAAAAAATEAAAAAAAAA3QAAAAAAAACJAAAAAAAAAAAAAAAAAAAAAAAAAAAAAAAAAAAAAAAAAAAAAAAAAAAAqQAAAAAAAgFJAAAAAAACASkAAAAAAAEBTQAAAAAAAAAAAAAAAAACASUAAAAAAAIBFQAAAAAAAACJAAAAAAAAAAAAAAAAAAAAzQAAAAAAAQFNAAAAAAABAVUAAAAAAAIBIQAAAAAAAAAAAAAAAAAAAIEAAAAAAAABBQAAAAAAAgFRAAAAAAAAAAAAAAAAAAAAAAAAAAAAAAAAAAAAAAAAAAAAAAAAAAAAAAAAAAAAAAAAAAAAAAAAAM0AAAAAAAEBYQAAAAAAAAEhAAAAAAAAASkAAAAAAAIBOQAAAAAAAAAAAAAAAAAAAAAAAAAAAAAAAAAAAAAAAAFBAAAAAAACATUAAAAAAAAAAAAAAAAAAAAAAAAAAAACAV0AAAAAAAEBSQAAAAAAAAElAAAAAAAAAAEAAAAAAAAAAAAAAAAAAACJAAAAAAABAWEAAAAAAAADwPwAAAAAAAAAAAAAAAAAA8D8AAAAAAAAAAAAAAAAAAAAAAAAAAACATEAAAAAAAAAAAAAAAAAAAAAAAAAAAAAAOkAAAAAAAAA4QAAAAAAAgEtAAAAAAACARUAAAAAAAAAsQAAAAAAAACBAAAAAAAAAAAAAAAAAAEBUQAAAAAAAwFVAAAAAAADAUUAAAAAAAAAAAAAAAAAAAAAAAAAAAAAAFEAAAAAAAAAAAAAAAAAAAAAAAAAAAAAAAAAAAAAAAABFQAAAAAAAAE9AAAAAAABAUkAAAAAAAABYQAAAAAAAACBAAAAAAAAAAAAAAAAAAAA2QAAAAAAAQFZAAAAAAABAVUAAAAAAAEBYQAAAAAAAADBAAAAAAAAALEAAAAAAAIBAQAAAAAAAgEdAAAAAAAAAHEAAAAAAAAA2QAAAAAAAAAAAAAAAAAAAKkAAAAAAAMBRQAAAAAAAAFNAAAAAAADAVEAAAAAAAEBYQAAAAAAAQFdAAAAAAAAAAAAAAAAAAAAAAAAAAAAAAFhAAAAAAAAAHEAAAAAAAAAAAAAAAAAAQFhAAAAAAADAVEAAAAAAAABTQAAAAAAAACxAAAAAAAAAAAAAAAAAAADwPwAAAAAAAAAAAAAAAACAUUAAAAAAAEBYQAAAAAAAQFhAAAAAAACAS0AAAAAAAAAAAAAAAAAAAPA/AAAAAAAAAAAAAAAAAAAAAAAAAAAAACpAAAAAAAAACEAAAAAAAAAkQAAAAAAAAC5AAAAAAAAA8D8AAAAAAAAYQAAAAAAAAABAAAAAAAAAJEAAAAAAAAAAAAAAAAAAwFRAAAAAAAAAAAAAAAAAAEBYQAAAAAAAAAAAAAAAAAAAAAAAAAAAAABMQAAAAAAAAFVAAAAAAAAAFEAAAAAAAAAAAAAAAAAAQFhAAAAAAAAAAAAAAAAAAAAAAAAAAAAAgENAAAAAAAAAAAAAAAAAAIBSQAAAAAAAwFBAAAAAAAAAOUAAAAAAAAAAAAAAAAAAgEhAAAAAAAAAVUAAAAAAAEBYQAAAAAAAwFZAAAAAAAAAAEAAAAAAAAAAAAAAAAAAAAAAAAAAAAAAAAAAAAAAAABMQAAAAAAAgEJAAAAAAACAVUAAAAAAAEBVQAAAAAAAAAhAAAAAAAAAAAAAAAAAAAAAAAAAAAAAACpAAAAAAABAWEAAAAAAAEBYQAAAAAAAAPA/AAAAAAAAAAAAAAAAAIBWQAAAAAAAgFdAAAAAAAAAAAAAAAAAAAAkQAAAAAAAAEhAAAAAAABAWEAAAAAAAIBFQAAAAAAAAC5AAAAAAAAAAAAAAAAAAIBAQAAAAAAAABxAAAAAAAAAQEAAAAAAAAAAAAAAAAAAACZAAAAAAAAAM0AAAAAAAAAAAAAAAAAAAAAAAAAAAAAAAAAAAAAAAABAQAAAAAAAAENAAAAAAAAAQ0AAAAAAAAAAAAAAAAAAAD1AAAAAAAAACEAAAAAAAAAAAAAAAAAAAERAAAAAAAAAPEAAAAAAAIBGQAAAAAAAgEZAAAAAAAAA8D8AAAAAAMBWQAAAAAAAgEFAAAAAAAAAAAAAAAAAAAAAAAAAAAAAAAAAAAAAAAAAUkAAAAAAAIBEQAAAAAAAACxAAAAAAAAAAAAAAAAAAADwPwAAAAAAAPA/AAAAAAAAAAAAAAAAAAA8QAAAAAAAwFNAAAAAAACAVEAAAAAAAIBQQAAAAAAAgElAAAAAAAAAUkAAAAAAAAAAAAAAAAAAAAAAAAAAAAAAPUAAAAAAAAAoQAAAAAAAAAAAAAAAAAAAAAAAAAAAAAAAAAAAAAAAAEtAAAAAAAAAV0AAAAAAAAAAQAAAAAAAABhAAAAAAAAAAAAAAAAAAAAAAAAAAAAAACZAAAAAAABAVUAAAAAAAABVQAAAAAAAAD5AAAAAAAAAAAAAAAAAAAAAAAAAAAAAAAAAAAAAAABAVkAAAAAAAAAAAAAAAAAAAABAAAAAAAAAAAAAAAAAAABSQAAAAAAAQFdAAAAAAADAVUAAAAAAAIBLQAAAAAAAgEdAAAAAAAAAAAAAAAAAAAAAAAAAAAAAAAAAAAAAAAAAHEAAAAAAAABIQAAAAAAAAFRAAAAAAABAWEAAAAAAAIBKQAAAAAAAADlAAAAAAAAAKkAAAAAAAAAAAAAAAAAAAPA/AAAAAAAAAAAAAAAAAAAAAAAAAAAAAAAAAAAAAAAAAAAAAAAAAMBXQAAAAAAAADxAAAAAAAAAPUAAAAAAAIBFQAAAAAAAAAAAAAAAAAAANUAAAAAAAAA6QAAAAAAAACBAAAAAAAAAFEAAAAAAAAAAAAAAAAAAADhAAAAAAAAAAEAAAAAAAAAiQAAAAAAAADZAAAAAAAAAIEAAAAAAAADwPwAAAAAAAPA/AAAAAAAAAAAAAAAAAAAAAAAAAAAAQFNAAAAAAABAU0AAAAAAAEBYQAAAAAAAAFVAAAAAAACAUUAAAAAAAEBYQAAAAAAAACBAAAAAAAAAAAAAAAAAAEBYQAAAAAAAAAAAAAAAAAAAAAAAAAAAAIBBQAAAAAAAADpAAAAAAAAAPUAAAAAAAAAAQAAAAAAAAAAAAAAAAAAACEAAAAAAAAAAAAAAAAAAAFNAAAAAAAAAPEAAAAAAAAAzQAAAAAAAgElAAAAAAACAR0AAAAAAAAAAAAAAAAAAAAAAAAAAAAAAQEAAAAAAAEBYQAAAAAAAQFhAAAAAAABAWEAAAAAAAEBTQAAAAAAAgFBAAAAAAAAAS0AAAAAAAIBBQAAAAAAAAAAAAAAAAAAAAAAAAAAAAAAAAAAAAAAAgExAAAAAAAAAAAAAAAAAAAA5QAAAAAAAAAAAAAAAAABAWEAAAAAAAABDQAAAAAAAwFBAAAAAAAAAAAAAAAAAAMBSQAAAAAAAAAAAAAAAAAAAAAAAAAAAAIBVQAAAAAAAAPA/AAAAAAAAAAAAAAAAAAA0QAAAAAAAAEFAAAAAAABAWEAAAAAAAABLQAAAAAAAADNAAAAAAAAAAAAAAAAAAEBRQAAAAAAAACRAAAAAAAAAAAAAAAAAAADwPwAAAAAAAAAAAAAAAAAAJEAAAAAAAABWQAAAAAAAAFZAAAAAAAAA8D8AAAAAAAAAAAAAAAAAAAAAAAAAAAAAOUAAAAAAAAAAAAAAAAAAAFNAAAAAAABAUkAAAAAAAAAQQAAAAAAAAAAAAAAAAAAATEAAAAAAAAAAQAAAAAAAAAAAAAAAAAAAAAAAAAAAAABRQAAAAAAAAPA/AAAAAAAAAAAAAAAAAAAAAAAAAAAAAAAAAAAAAAAAAAAAAAAAAAAAAAAAAAAAAAAAAAAAAACARkAAAAAAAIBSQAAAAAAAAD5AAAAAAAAAAAAAAAAAAAAAAAAAAAAAAAAAAAAAAABAWEAAAAAAAMBTQAAAAAAAAFRAAAAAAABAVEAAAAAAAAA3QAAAAAAAAAAAAAAAAAAAAAAAAAAAAAAcQAAAAAAAADJAAAAAAACAVkAAAAAAAAAsQAAAAAAAAAAAAAAAAAAAAAAAAAAAAABKQAAAAAAAQFhAAAAAAADAVkAAAAAAAABTQAAAAAAAAAAAAAAAAAAAAAAAAAAAAAAIQAAAAAAAACZAAAAAAADAV0AAAAAAAABKQAAAAAAAwFJAAAAAAAAA8D8AAAAAAAAAAAAAAAAAAAAAAAAAAAAAAAAAAAAAAMBQQAAAAAAAAFdAAAAAAAAAAAAAAAAAAAAAAAAAAAAAwFVAAAAAAAAAAAAAAAAAAAAwQAAAAAAAAEFAAAAAAAAALEAAAAAAAMBXQAAAAAAAAAAAAAAAAAAAAAAAAAAAAAAAAAAAAAAAAAAAAAAAAAAAAAAAAAAAAAAqQAAAAAAAQFVAAAAAAAAA8D8AAAAAAAAAAAAAAAAAABhAAAAAAACARUAAAAAAAEBSQAAAAAAAACpAAAAAAAAAAAAAAAAAAAAsQAAAAAAAwFVAAAAAAADAVUAAAAAAAAA4QAAAAAAAAAAAAAAAAAAAAAAAAAAAAABMQAAAAAAAADVAAAAAAAAAAAAAAAAAAAAuQAAAAAAAAEtAAAAAAABAWEAAAAAAAADwPwAAAAAAAAAAAAAAAACASkAAAAAAAIBPQAAAAAAAAFJAAAAAAADAVkAAAAAAAABGQAAAAAAAAAAAAAAAAAAAAAAAAAAAAIBDQAAAAAAAAElAAAAAAACAU0AAAAAAAEBRQAAAAAAAAEFAAAAAAAAAAAAAAAAAAABTQAAAAAAAgFVAAAAAAABAVkAAAAAAAAAAAAAAAAAAAAAAAAAAAAAAIkAAAAAAAAA7QAAAAAAAAAAAAAAAAAAAKkAAAAAAAMBXQAAAAAAAAE1AAAAAAAAAKEAAAAAAAAAAAAAAAAAAADxAAAAAAACAUEAAAAAAAAAIQAAAAAAAAAAAAAAAAACASUAAAAAAAIBGQAAAAAAAQFhAAAAAAACAT0AAAAAAAAA3QAAAAAAAAAAAAAAAAAAAAAAAAAAAAAAmQAAAAAAAADFAAAAAAAAALkAAAAAAAIBFQAAAAAAAAEhAAAAAAADAUkAAAAAAAIBCQAAAAAAAgE5AAAAAAACAVUAAAAAAAIBRQAAAAAAAAAAAAAAAAACAVEAAAAAAAIBCQAAAAAAAAAAAAAAAAAAAAAAAAAAAAABWQAAAAAAAAAAAAAAAAAAASUAAAAAAAAAAAAAAAAAAAAAAAAAAAAAAAAAAAAAAAAAAQAAAAAAAABxAAAAAAAAAOUAAAAAAAABJQAAAAAAAwFBAAAAAAACASkAAAAAAAIBWQAAAAAAAAAAAAAAAAAAAAAAAAAAAAAAAAAAAAAAAAAAAAAAAAAAAAAAAAAAAAAAAAAAAAAAAAAAAAAAAAADAVEAAAAAAAEBTQAAAAAAAAAAAAAAAAAAAAAAAAAAAAAAAAAAAAAAAAAAAAAAAAAAAAAAAAAAAAAAAAAAAAAAAAAAAAAAAAAAAAAAAAAAAAAAgQAAAAAAAwFJAAAAAAADAUEAAAAAAAIBOQAAAAAAAAFBAAAAAAAAAAAAAAAAAAAAAAAAAAAAAADZAAAAAAAAAAAAAAAAAAAAAAAAAAAAAAAAAAAAAAACATUAAAAAAAIBGQAAAAAAAwFVAAAAAAAAAOEAAAAAAAAAAAAAAAAAAACJAAAAAAAAANUAAAAAAAAAmQAAAAAAAwFVAAAAAAAAAWEAAAAAAAAAAAAAAAAAAAAAAAAAAAAAAAAAAAAAAAAAAAAAAAAAAAAAAAAAAAADAUUAAAAAAAAA4QAAAAAAAADBAAAAAAAAALkAAAAAAAIBCQAAAAAAAADRAAAAAAAAAAAAAAAAAAABAQAAAAAAAAE5AAAAAAABAVkAAAAAAAADwPwAAAAAAAAAAAAAAAAAANUAAAAAAAIBTQAAAAAAAAEdAAAAAAAAAKkAAAAAAAAAAAAAAAAAAAAAAAAAAAADAV0AAAAAAAABMQAAAAAAAgEZAAAAAAAAAMEAAAAAAAAAAAAAAAAAAAAAAAAAAAAAASEAAAAAAAEBYQAAAAAAAAAAAAAAAAAAAAAAAAAAAAAAAAAAAAAAAwFZAAAAAAAAATEAAAAAAAAAAAAAAAAAAwFFAAAAAAAAAAAAAAAAAAAAAAAAAAAAAAAAAAAAAAAAANEAAAAAAAAAAAAAAAAAAAC5AAAAAAABAWEAAAAAAAEBVQAAAAAAAAAAAAAAAAAAAAAAAAAAAAAAAAAAAAAAAAAAAAAAAAAAAAAAAAAAAAAAAAAAAAAAAAAAAAAAAAAAAAAAAAAAAAAAAAAAAAAAAQFhAAAAAAAAAAAAAAAAAAAAQQAAAAAAAAPA/AAAAAAAAAAAAAAAAAAAAAAAAAAAAgExAAAAAAAAAAAAAAAAAAAAAAAAAAAAAAAAAAAAAAAAAOEAAAAAAAAAAAAAAAAAAAAAAAAAAAAAAAAAAAAAAAAA4QAAAAAAAQFhAAAAAAAAATEAAAAAAAEBSQAAAAAAAAAAAAAAAAAAAAAAAAAAAAIBLQAAAAAAAABRAAAAAAAAAMUAAAAAAAAAAQAAAAAAAAAAAAAAAAAAAOUAAAAAAAEBWQAAAAAAAQFVAAAAAAABAUUAAAAAAAABIQAAAAAAAAEtAAAAAAAAAQUAAAAAAAAAAAAAAAAAAACJAAAAAAABAV0AAAAAAAEBYQAAAAAAAQFhAAAAAAABAUUAAAAAAAIBPQAAAAAAAAAAAAAAAAADAU0AAAAAAAMBQQAAAAAAAABRAAAAAAAAAMkAAAAAAAAA7QAAAAAAAABBAAAAAAAAAAAAAAAAAAAAcQAAAAAAAgExAAAAAAACASUAAAAAAAABMQAAAAAAAAAAAAAAAAAAAVEAAAAAAAAAAAAAAAAAAAAAAAAAAAAAAIEAAAAAAAABLQAAAAAAAAEZAAAAAAAAAOUAAAAAAAAAAAAAAAAAAAAAAAAAAAAAARUAAAAAAAABPQAAAAAAAADVAAAAAAAAAP0AAAAAAAAAYQAAAAAAAQFBAAAAAAAAAQUAAAAAAAAA6QAAAAAAAAPA/AAAAAAAAAAAAAAAAAAAsQAAAAAAAACxAAAAAAAAAAAAAAAAAAIBPQAAAAAAAADxAAAAAAAAAJEAAAAAAAAAAAAAAAAAAAFJAAAAAAABAWEAAAAAAAAAAAAAAAAAAAAAAAAAAAAAAT0AAAAAAAEBYQAAAAAAAQFhAAAAAAABAWEAAAAAAAABAQAAAAAAAAFBAAAAAAAAAAAAAAAAAAAAcQAAAAAAAgEJAAAAAAAAA8D8AAAAAAAAAAAAAAAAAAAAAAAAAAAAAAAAAAAAAAAAAAAAAAAAAAD9AAAAAAABAWEAAAAAAAEBYQAAAAAAAAPA/AAAAAAAAAAAAAAAAAEBQQAAAAAAAAEZAAAAAAAAASUAAAAAAAAAAAAAAAAAAAExAAAAAAAAAAAAAAAAAAAAAAAAAAAAAAEtAAAAAAAAAAAAAAAAAAAAAAAAAAAAAQFhAAAAAAAAAAAAAAAAAAAAAAAAAAAAAAAAAAAAAAAAAAAAAAAAAAAA4QAAAAAAAAFVAAAAAAADAUEAAAAAAAEBSQAAAAAAAAFVAAAAAAAAAAAAAAAAAAADwPwAAAAAAADVAAAAAAAAAAAAAAAAAAAAwQAAAAAAAgFdAAAAAAACAVkAAAAAAAMBWQAAAAAAAAAAAAAAAAAAAAAAAAAAAAAAAAAAAAAAAAAAAAAAAAAAAAAAAAAAAAAAAAAAAAAAAAAAAAAAAAAAAVEAAAAAAAABUQAAAAAAAAAAAAAAAAAAARUAAAAAAAIBBQAAAAAAAQFNAAAAAAAAAAAAAAAAAAAAAAAAAAAAAgFVAAAAAAAAAQEAAAAAAAADwPwAAAAAAAAAAAAAAAAAAAAAAAAAAAABGQAAAAAAAgEBAAAAAAAAAIEAAAAAAAEBWQAAAAAAAQFhAAAAAAABAWEAAAAAAAAA0QAAAAAAAACpAAAAAAAAALEAAAAAAAADwPwAAAAAAABBAAAAAAAAAAAAAAAAAAAA3QAAAAAAAgEpAAAAAAAAAHEAAAAAAAAAAAAAAAAAAAAAAAAAAAAAAOUAAAAAAAAA8QAAAAAAAAAAAAAAAAAAAP0AAAAAAAABMQAAAAAAAgFFAAAAAAABAU0AAAAAAAABVQAAAAAAAgFFAAAAAAACARkAAAAAAAMBRQAAAAAAAAAAAAAAAAAAAAAAAAAAAAMBUQAAAAAAAgFRAAAAAAAAAAAAAAAAAAAAAAAAAAAAAQFhAAAAAAABAV0AAAAAAAAAgQAAAAAAAAAAAAAAAAABAWEAAAAAAAABTQAAAAAAAAAAAAAAAAAAAR0AAAAAAAABTQAAAAAAAwFFAAAAAAAAAQUAAAAAAAABDQAAAAAAAAPA/AAAAAAAAAAAAAAAAAIBVQAAAAAAAAERAAAAAAACATUAAAAAAAIBWQAAAAAAAAFdAAAAAAAAAUkAAAAAAAEBSQAAAAAAAgFFAAAAAAAAAIkAAAAAAAAAzQAAAAAAAAPA/AAAAAAAAAAAAAAAAAAAAAAAAAAAAgEFAAAAAAAAARkAAAAAAAEBTQAAAAAAAgERAAAAAAACATkAAAAAAAAAxQAAAAAAAAAAAAAAAAAAALEAAAAAAAAA3QAAAAAAAgERAAAAAAAAAAAAAAAAAAAAAAAAAAAAAAAAAAAAAAAAAAAAAAAAAAAAzQAAAAAAAQFhAAAAAAAAAAAAAAAAAAAAAAAAAAAAAAAAAAAAAAAAAAAAAAAAAAAAAAAAAAAAAQFhAAAAAAACASEAAAAAAAAAAAAAAAAAAAAAAAAAAAABAV0AAAAAAAMBVQAAAAAAAgEhAAAAAAAAAAAAAAAAAAAAAAAAAAAAAACZAAAAAAAAANEAAAAAAAIBRQAAAAAAAgEtAAAAAAAAAAAAAAAAAAAAgQAAAAAAAAAAAAAAAAACATUAAAAAAAEBSQAAAAAAAQFFAAAAAAAAAAAAAAAAAAAAAAAAAAAAAQFdAAAAAAAAA8D8AAAAAAAAqQAAAAAAAAAAAAAAAAACAU0AAAAAAAABQQAAAAAAAgFVAAAAAAAAAAAAAAAAAAIBOQAAAAAAAgE1AAAAAAADAV0AAAAAAAAAuQAAAAAAAABRAAAAAAAAAFEAAAAAAAAAAAAAAAAAAAAAAAAAAAAAAAAAAAAAAAEBTQAAAAAAAACBAAAAAAAAAAAAAAAAAAAAUQAAAAAAAAPA/AAAAAAAAJEAAAAAAAAAAQAAAAAAAACJAAAAAAAAAEEAAAAAAAAAkQAAAAAAAADBAAAAAAAAAAAAAAAAAAAAAAAAAAAAAgEZAAAAAAAAAU0AAAAAAAAAAAAAAAAAAAABAAAAAAAAAAAAAAAAAAMBXQAAAAAAAgFVAAAAAAAAAAAAAAAAAAAAxQAAAAAAAAPA/AAAAAAAAAAAAAAAAAAAAAAAAAAAAgEZAAAAAAAAAAAAAAAAAAEBYQAAAAAAAgE1AAAAAAAAAAAAAAAAAAAAAAAAAAAAAQFBAAAAAAAAARUAAAAAAAAA1QAAAAAAAAAAAAAAAAAAAAAAAAAAAAEBRQAAAAAAAAFBAAAAAAAAAAAAAAAAAAIBPQAAAAAAAgFRAAAAAAAAA8D8AAAAAAAAAAAAAAAAAAERAAAAAAACATkAAAAAAAIBUQAAAAAAAgFNAAAAAAACAR0AAAAAAAAA6QAAAAAAAACxAAAAAAAAAAAAAAAAAAABWQAAAAAAAAAAAAAAAAAAAAAAAAAAAAAAAAAAAAAAAACRAAAAAAABAUEAAAAAAAIBHQAAAAAAAAAAAAAAAAACAUEAAAAAAAABLQAAAAAAAgEdAAAAAAAAASUAAAAAAAABXQAAAAAAAwFVAAAAAAAAAIkAAAAAAAAAAAAAAAAAAAAAAAAAAAAAAAAAAAAAAAIBEQAAAAAAAAAAAAAAAAAAAAAAAAAAAAIBSQAAAAAAAQFVAAAAAAADAVEAAAAAAAEBYQAAAAAAAQFhAAAAAAAAAWEAAAAAAAMBXQAAAAAAAwFVAAAAAAAAAAAAAAAAAAAAAAAAAAAAAAAAAAAAAAACAT0AAAAAAAEBVQAAAAAAAAAAAAAAAAACAUUAAAAAAAAA0QAAAAAAAAEFAAAAAAAAAAAAAAAAAAEBUQAAAAAAAAEhAAAAAAACAT0AAAAAAAAAAAAAAAAAAgFVAAAAAAAAAAAAAAAAAAAAAAAAAAAAAAAAAAAAAAAAAM0AAAAAAAAAUQAAAAAAAABBAAAAAAAAAAAAAAAAAAAAgQAAAAAAAACpAAAAAAAAAQ0AAAAAAAABAQAAAAAAAADdAAAAAAAAARUAAAAAAAABUQAAAAAAAAAAAAAAAAAAAAAAAAAAAAAAAAAAAAAAAwFRAAAAAAACAU0AAAAAAAMBUQAAAAAAAgEBAAAAAAAAAP0AAAAAAAAAAAAAAAAAAACZAAAAAAAAAIkAAAAAAAABLQAAAAAAAAFFAAAAAAAAAUkAAAAAAAAAiQAAAAAAAAAAAAAAAAAAAAAAAAAAAAIBAQAAAAAAAgFBAAAAAAACARUAAAAAAAEBRQAAAAAAAAFBAAAAAAAAALEAAAAAAAAA5QAAAAAAAAEJAAAAAAAAAAAAAAAAAAAAAAAAAAAAAADdAAAAAAABAWEAAAAAAAAAQQAAAAAAAAAAAAAAAAACASEAAAAAAAEBUQAAAAAAAgFFAAAAAAABAWEAAAAAAAADwPwAAAAAAAAAAAAAAAAAAAAAAAAAAAIBDQAAAAAAAADZAAAAAAACAQEAAAAAAAAAAAAAAAAAAAAAAAAAAAAAAAAAAAAAAAABYQAAAAAAAwFVAAAAAAADAUUAAAAAAAIBTQAAAAAAAAElAAAAAAAAAMkAAAAAAAAAAAAAAAAAAAAAAAAAAAAAATkAAAAAAAAAmQAAAAAAAAAAAAAAAAABAWEAAAAAAAIBEQAAAAAAAAAAAAAAAAAAAAAAAAAAAAAAAAAAAAAAAQFhAAAAAAABAWEAAAAAAAMBSQAAAAAAAAAAAAAAAAAAAJkAAAAAAAAAIQAAAAAAAAAAAAAAAAAAALEAAAAAAAEBYQAAAAAAAAAAAAAAAAACAVUAAAAAAAEBYQAAAAAAAAAAAAAAAAACASkAAAAAAAEBSQAAAAAAAQFhAAAAAAAAAV0AAAAAAAEBYQAAAAAAAAE9AAAAAAAAA8D8AAAAAAAAAAAAAAAAAAAAAAAAAAAAAAAAAAAAAAABOQAAAAAAAgFFAAAAAAAAAAAAAAAAAAAAAAAAAAAAAAAhAAAAAAAAAIkAAAAAAAAAAAAAAAAAAABBAAAAAAAAAQUAAAAAAAAAAAAAAAAAAAFJAAAAAAABAWEAAAAAAAAA+QAAAAAAAABRAAAAAAAAAAAAAAAAAAAAAAAAAAAAAAAAAAAAAAAAAAAAAAAAAAEBYQAAAAAAAgFdAAAAAAACAUEAAAAAAAAAAAAAAAAAAAAAAAAAAAAAAN0AAAAAAAADwPwAAAAAAAAAAAAAAAAAAAAAAAAAAAAAAAAAAAAAAAAAAAAAAAAAAAAAAAAAAAAAAAAAAAAAAQFdAAAAAAACAQ0AAAAAAAIBRQAAAAAAAwFFAAAAAAAAAOkAAAAAAAAAAAAAAAAAAADZAAAAAAACAVEAAAAAAAEBRQAAAAAAAgFZAAAAAAAAAAAAAAAAAAAAAQAAAAAAAAAAAAAAAAACAQUAAAAAAAIBGQAAAAAAAAD9AAAAAAAAAN0AAAAAAAIBIQAAAAAAAgFBAAAAAAADAVkAAAAAAAEBVQAAAAAAAAEFAAAAAAAAAAAAAAAAAAAAAAAAAAAAAAAAAAAAAAAAAGEAAAAAAAAAwQAAAAAAAAFNAAAAAAAAATEAAAAAAAABRQAAAAAAAgEFAAAAAAAAAAAAAAAAAAIBYQAAAAAAAACxAAAAAAAAAAAAAAAAAAAAmQAAAAAAAACJAAAAAAAAAAAAAAAAAAMBSQAAAAAAAAElAAAAAAACASkAAAAAAAIBUQAAAAAAAwFRAAAAAAAAARkAAAAAAAAAAAAAAAAAAAAAAAAAAAAAAJkAAAAAAAEBTQAAAAAAAADtAAAAAAAAAP0AAAAAAAAAAAAAAAAAAAAAAAAAAAAAAAAAAAAAAAIBTQAAAAAAAwFFAAAAAAADAUkAAAAAAAIBMQAAAAAAAAE5AAAAAAAAAHEAAAAAAAAAAAAAAAAAAAAAAAAAAAAAAAAAAAAAAAAAYQAAAAAAAgFVAAAAAAABAWEAAAAAAAEBYQAAAAAAAAAAAAAAAAAAAAAAAAAAAAAAyQAAAAAAAADVAAAAAAADAVUAAAAAAAAAAAAAAAAAAAAAAAAAAAAAAKkAAAAAAAABUQAAAAAAAAAAAAAAAAAAAAAAAAAAAAAA5QAAAAAAAgEpAAAAAAACATUAAAAAAAEBYQAAAAAAAQFhAAAAAAAAAAAAAAAAAAAAAAAAAAAAAAAAAAAAAAAAAIkAAAAAAAAAqQAAAAAAAAExAAAAAAABAWEAAAAAAAEBUQAAAAAAAAPA/AAAAAAAAAAAAAAAAAAAAAAAAAAAAwFVAAAAAAABAWEAAAAAAAEBYQAAAAAAAgEdAAAAAAAAAIkAAAAAAAAAAAAAAAAAAADlAAAAAAACAQEAAAAAAAAAAAAAAAAAAAAAAAAAAAAAAREAAAAAAAIBHQAAAAAAAgFFAAAAAAAAAPEAAAAAAAAAgQAAAAAAAgENAAAAAAAAACEAAAAAAAMBQQAAAAAAAAAAAAAAAAAAAAAAAAAAAAAAAAAAAAAAAAFRAAAAAAABAUUAAAAAAAIBDQAAAAAAAAAAAAAAAAAAAKkAAAAAAAAAAAAAAAAAAAEFAAAAAAAAAGEAAAAAAAAAmQAAAAAAAwFNAAAAAAABAWEAAAAAAAAA4QAAAAAAAADRAAAAAAAAAAAAAAAAAAAAAAAAAAAAAAAAAAAAAAAAAJkAAAAAAAAA5QAAAAAAAAAAAAAAAAAAAVUAAAAAAAEBYQAAAAAAAAAAAAAAAAAAAAAAAAAAAAIBBQAAAAAAAwFRAAAAAAABAVkAAAAAAAAAAAAAAAAAAAE5AAAAAAAAAAAAAAAAAAAAAAAAAAAAAAPA/AAAAAAAAVkAAAAAAAMBWQAAAAAAAAAAAAAAAAAAAAAAAAAAAAAAAAAAAAAAAAAAAAAAAAAAANUAAAAAAAAAyQAAAAAAAwFBAAAAAAAAAVkAAAAAAAAAAAAAAAAAAAAAAAAAAAACASEAAAAAAAABIQAAAAAAAAPA/AAAAAAAAAAAAAAAAAAAAAAAAAAAAgEJAAAAAAABAWEAAAAAAAAAYQAAAAAAAAAAAAAAAAACAUkAAAAAAAEBYQAAAAAAAgE9AAAAAAAAAUkAAAAAAAABTQAAAAAAAAFZAAAAAAADAUEAAAAAAAAAIQAAAAAAAAAAAAAAAAAAAOEAAAAAAAAAAAAAAAAAAADNAAAAAAAAASUAAAAAAAEBYQAAAAAAAAE5AAAAAAABAUkAAAAAAAABVQAAAAAAAAAAAAAAAAAAAAAAAAAAAAAAAAAAAAAAAAAAAAAAAAACAUkAAAAAAAMBTQAAAAAAAgFVAAAAAAABAUEAAAAAAAAAAAAAAAAAAAAAAAAAAAAAAT0AAAAAAAABHQAAAAAAAAAAAAAAAAAAAAAAAAAAAAABEQAAAAAAAgEpAAAAAAACAUkAAAAAAAEBVQAAAAAAAABxAAAAAAAAAAAAAAAAAAIBOQAAAAAAAAExAAAAAAAAAAAAAAAAAAAAAAAAAAAAAAAAAAAAAAAAAQEAAAAAAAAA6QAAAAAAAAAAAAAAAAAAALEAAAAAAAADwPwAAAAAAAPA/AAAAAAAAAAAAAAAAAABLQAAAAAAAQFhAAAAAAAAASUAAAAAAAAAAAAAAAAAAAAAAAAAAAAAAAAAAAAAAAIBAQAAAAAAAAFNAAAAAAAAARkAAAAAAAAAAAAAAAAAAAENAAAAAAAAAAAAAAAAAAAAAAAAAAAAAAAAAAAAAAAAAAAAAAAAAAAAwQAAAAAAAACJAAAAAAAAAAAAAAAAAAAAYQAAAAAAAQFRAAAAAAACAUEAAAAAAAAAIQAAAAAAAAAAAAAAAAADAUEAAAAAAAMBWQAAAAAAAAAAAAAAAAAAAAAAAAAAAAABEQAAAAAAAgExAAAAAAAAARUAAAAAAAEBYQAAAAAAAADJAAAAAAACARkAAAAAAAAAsQAAAAAAAAAAAAAAAAAAAJEAAAAAAAIBKQAAAAAAAQFFAAAAAAACAQUAAAAAAAAAAAAAAAAAAAC5AAAAAAAAARUAAAAAAAABJQAAAAAAAgElAAAAAAAAAUEAAAAAAAABEQAAAAAAAAERAAAAAAAAAAAAAAAAAAAAAAAAAAAAAgFNAAAAAAADAV0AAAAAAAAAAAAAAAAAAAAAAAAAAAAAAAAAAAAAAAIBBQAAAAAAAwFVAAAAAAAAAMEAAAAAAAAAAAAAAAAAAAAAAAAAAAAAAAAAAAAAAAAAAAAAAAAAAgEVAAAAAAAAALkAAAAAAAAAAAAAAAAAAABxAAAAAAAAAAAAAAAAAAIBWQAAAAAAAgENAAAAAAAAAAAAAAAAAAAAAAAAAAAAAAAAAAAAAAACAR0AAAAAAAIBSQAAAAAAAgExAAAAAAACAQEAAAAAAAAAAAAAAAAAAAC5AAAAAAAAAAAAAAAAAAEBWQAAAAAAAQFhAAAAAAAAAAAAAAAAAAABKQAAAAAAAQFFAAAAAAABAWEAAAAAAAAA8QAAAAAAAAAAAAAAAAAAAAAAAAAAAAAAAAAAAAAAAAAAAAAAAAAAAAAAAAAAAAAA9QAAAAAAAgFRAAAAAAAAA8D8AAAAAAAAAAAAAAAAAAAAAAAAAAAAANkAAAAAAAIBPQAAAAAAAgEZAAAAAAAAAQkAAAAAAAAAQQAAAAAAAAAAAAAAAAAAAMEAAAAAAAAAiQAAAAAAAAFBAAAAAAADAV0AAAAAAAAAAAAAAAAAAAAAAAAAAAAAAAAAAAAAAAAAwQAAAAAAAAAAAAAAAAAAAAAAAAAAAAIBJQAAAAAAAwFNAAAAAAAAAVUAAAAAAAIBAQAAAAAAAAERAAAAAAAAA8D8AAAAAAAAAAAAAAAAAADVAAAAAAAAAAEAAAAAAAAAAAAAAAAAAgEFAAAAAAAAAAAAAAAAAAEBTQAAAAAAAgElAAAAAAAAAAAAAAAAAAAAAAAAAAAAAgEVAAAAAAACAREAAAAAAAIBYQAAAAAAAwFZAAAAAAADAUkAAAAAAAAAiQAAAAAAAgEZAAAAAAAAASUAAAAAAAABGQAAAAAAAAD5AAAAAAAAAAAAAAAAAAAAAAAAAAAAAAAAAAAAAAACAVkAAAAAAAEBYQAAAAAAAAExAAAAAAAAA8D8AAAAAAAAAAAAAAAAAAAAAAAAAAAAAVUAAAAAAAABNQAAAAAAAAAAAAAAAAAAAAAAAAAAAAAAUQAAAAAAAACJAAAAAAABAWEAAAAAAAIBOQAAAAAAAAAAAAAAAAAAAAAAAAAAAAAAAAAAAAAAAAAAAAAAAAABAUEAAAAAAAIBGQAAAAAAAAAAAAAAAAAAAAAAAAAAAAAAQQAAAAAAAAAAAAAAAAAAAAAAAAAAAAAAmQAAAAAAAAERAAAAAAAAAAAAAAAAAAAAAAAAAAAAAAAAAAAAAAAAAAAAAAAAAAIBOQAAAAAAAADVAAAAAAAAAAAAAAAAAAAAAAAAAAAAAAAAAAAAAAAAAAAAAAAAAAAAAAAAAAAAAAAAAAAAAAAAAAAAAAAAAAAAwQAAAAAAAwFdAAAAAAAAAV0AAAAAAAIBOQAAAAAAAAEFAAAAAAAAAAAAAAAAAAABKQAAAAAAAAERAAAAAAACAQkAAAAAAAAA1QAAAAAAAAAAAAAAAAAAAAAAAAAAAAAAAAAAAAAAAADtAAAAAAADAV0AAAAAAAAA9QAAAAAAAAPA/AAAAAAAAAAAAAAAAAAAAAAAAAAAAQFFAAAAAAAAAUEAAAAAAAIBPQAAAAAAAAFNAAAAAAAAASkAAAAAAAAAAAAAAAAAAAAAAAAAAAAAAAAAAAAAAAAAAAAAAAAAAAAAAAAAAAAAAJkAAAAAAAIBEQAAAAAAAAFRAAAAAAAAAAAAAAAAAAAAAAAAAAAAAAFVAAAAAAACAQUAAAAAAAAAAAAAAAAAAAAAAAAAAAAAANkAAAAAAAAAAAAAAAAAAADpAAAAAAABAV0AAAAAAAABTQAAAAAAAADNAAAAAAAAAAAAAAAAAAAAAAAAAAAAAACRAAAAAAACARUAAAAAAAAAAAAAAAAAAAAAAAAAAAAAAAAAAAAAAAIBNQAAAAAAAADZAAAAAAAAAAAAAAAAAAAA1QAAAAAAAACZAAAAAAABAV0AAAAAAAIBEQAAAAAAAAABAAAAAAAAANUAAAAAAAAAAAAAAAAAAAAAAAAAAAAAAP0AAAAAAAAAsQAAAAAAAgE9AAAAAAAAAPUAAAAAAAAAAAAAAAAAAAAAAAAAAAAAAQUAAAAAAAABRQAAAAAAAgEdAAAAAAAAAAAAAAAAAAAAAAAAAAAAAAFJAAAAAAAAAEEAAAAAAAADwPwAAAAAAAAAAAAAAAAAAJkAAAAAAAAAAAAAAAAAAAAAAAAAAAAAASkAAAAAAAAAAAAAAAAAAAAAAAAAAAAAAVkAAAAAAAAAAAAAAAAAAQFNAAAAAAABAVUAAAAAAAAAAAAAAAAAAAAAAAAAAAAAAHEAAAAAAAAAAAAAAAAAAAAAAAAAAAAAAOEAAAAAAAAA1QAAAAAAAABhAAAAAAAAAAAAAAAAAAAAAAAAAAAAAQFhAAAAAAADAVUAAAAAAAADwPwAAAAAAAAAAAAAAAAAA8D8AAAAAAAAIQAAAAAAAABBAAAAAAAAAAAAAAAAAAAAoQAAAAAAAAAhAAAAAAAAAJEAAAAAAAAAcQAAAAAAAACxAAAAAAAAA8D8AAAAAAAAAAAAAAAAAAAAAAAAAAAAAU0AAAAAAAAAAAAAAAAAAgEJAAAAAAAAAAAAAAAAAAAAAAAAAAAAAAEpAAAAAAABAWEAAAAAAAAAAAAAAAAAAAAAAAAAAAABAWEAAAAAAAAAAAAAAAAAAADpAAAAAAAAAAAAAAAAAAIBBQAAAAAAAAAAAAAAAAAAASkAAAAAAAABCQAAAAAAAAAAAAAAAAAAAAAAAAAAAAAAAQAAAAAAAAAAAAAAAAAAAAAAAAAAAAAAAAAAAAAAAQFhAAAAAAAAAIkAAAAAAAAAAAAAAAAAAAAAAAAAAAAAAAAAAAAAAAAAAAAAAAAAAAAAAAAAAAACATEAAAAAAAABKQAAAAAAAAAAAAAAAAAAAAAAAAAAAAIBLQAAAAAAAAEZAAAAAAAAAR0AAAAAAAIBPQAAAAAAAAAAAAAAAAAAAOEAAAAAAAABLQAAAAAAAACJAAAAAAAAAAAAAAAAAAIBJQAAAAAAAgERAAAAAAAAAVkAAAAAAAAAAAAAAAAAAAAAAAAAAAAAAAAAAAAAAAEBYQAAAAAAAQFdAAAAAAAAAAAAAAAAAAAAAAAAAAAAAAAAAAAAAAAAAR0AAAAAAAMBTQAAAAAAAAEtAAAAAAACAUkAAAAAAAABRQAAAAAAAAAAAAAAAAAAAAAAAAAAAAAAyQAAAAAAAAD5AAAAAAACATEAAAAAAAMBWQAAAAAAAgEhAAAAAAAAAT0AAAAAAAAAAAAAAAAAAAD1AAAAAAAAAOUAAAAAAAABQQAAAAAAAAFJAAAAAAAAAAAAAAAAAAAAzQAAAAAAAADNAAAAAAACAVkAAAAAAAAAAAAAAAAAAAAAAAAAAAAAAAAAAAAAAAAAAAAAAAAAAAAAAAAAAAAAAAAAAAAAAAAAAAAAAAAAAwFRAAAAAAACAVUAAAAAAAMBUQAAAAAAAQFhAAAAAAACAV0AAAAAAAAAAAAAAAAAAAAAAAAAAAAAAAAAAAAAAAABSQAAAAAAAgElAAAAAAAAAMUAAAAAAAAAwQAAAAAAAwFBAAAAAAAAAOEAAAAAAAAAAAAAAAAAAAAAAAAAAAACARkAAAAAAAAAIQAAAAAAAAAAAAAAAAAAAAAAAAAAAAIBXQAAAAAAAQFdAAAAAAAAAUkAAAAAAAIBIQAAAAAAAwFNAAAAAAAAAKkAAAAAAAAA7QAAAAAAAAAAAAAAAAABAUEAAAAAAAABGQAAAAAAAgE1AAAAAAAAAT0AAAAAAAABRQAAAAAAAAD9AAAAAAAAAAAAAAAAAAAAAAAAAAAAAgFVAAAAAAACAUUAAAAAAAIBKQAAAAAAAQFZAAAAAAAAAUkAAAAAAAABXQAAAAAAAAAAAAAAAAAAAAAAAAAAAAAAAAAAAAAAAAAAAAAAAAAAAAAAAAAAAAAAAAAAAAAAAQFdAAAAAAACAUEAAAAAAAAA9QAAAAAAAAEdAAAAAAAAAQUAAAAAAAAAAAAAAAAAAADpAAAAAAACAS0AAAAAAAABBQAAAAAAAgEVAAAAAAACARUAAAAAAAAA+QAAAAAAAADlAAAAAAAAAAAAAAAAAAAAAAAAAAAAAgEFAAAAAAACATUAAAAAAAIBMQAAAAAAAwFRAAAAAAAAAV0AAAAAAAAAAAAAAAAAAAAhAAAAAAAAACEAAAAAAAIBCQAAAAAAAQFVAAAAAAADAUkAAAAAAAABTQAAAAAAAgEpAAAAAAAAASEAAAAAAAEBSQAAAAAAAAEpAAAAAAAAAMUAAAAAAAAAAAAAAAAAAADVAAAAAAACAV0AAAAAAAAAxQAAAAAAAAAAAAAAAAAAAMUAAAAAAAAAAAAAAAAAAAFVAAAAAAAAANEAAAAAAAAAoQAAAAAAAAAAAAAAAAABAWEAAAAAAAAAAAAAAAAAAAAAAAAAAAAAA8D8AAAAAAAAAAAAAAAAAAAAAAAAAAAAAV0AAAAAAAEBYQAAAAAAAAFZAAAAAAAAALEAAAAAAAAAAAAAAAAAAgE1AAAAAAABAWEAAAAAAAEBVQAAAAAAAAAAAAAAAAAAAAAAAAAAAAAAAAAAAAAAAAFJAAAAAAAAAQ0AAAAAAAABMQAAAAAAAgFJAAAAAAAAAREAAAAAAAIBSQAAAAAAAgFFAAAAAAABAUEAAAAAAAMBSQAAAAAAAgEpAAAAAAAAAAAAAAAAAAAAAAAAAAAAAAAAAAAAAAABAWEAAAAAAAAAAAAAAAAAAAAAAAAAAAACASEAAAAAAAIBSQAAAAAAAgFJAAAAAAAAAUUAAAAAAAAA1QAAAAAAAAAAAAAAAAACAVUAAAAAAAABYQAAAAAAAAFJAAAAAAAAAAAAAAAAAAAAYQAAAAAAAAPA/AAAAAABAVEAAAAAAAAA3QAAAAAAAABhAAAAAAAAAAAAAAAAAAABHQAAAAAAAwFRAAAAAAABAWEAAAAAAAEBYQAAAAAAAgFNAAAAAAADAU0AAAAAAAIBEQAAAAAAAAAAAAAAAAAAAAAAAAAAAAEBVQAAAAAAAAEFAAAAAAAAAAAAAAAAAAABGQAAAAAAAAEBAAAAAAAAAN0AAAAAAAAAAAAAAAAAAAAAAAAAAAACAVkAAAAAAAADwPwAAAAAAAAAAAAAAAAAAAAAAAAAAAAA6QAAAAAAAgFRAAAAAAAAAS0AAAAAAAAAAAAAAAAAAABBAAAAAAAAAAAAAAAAAAIBFQAAAAAAAgE1AAAAAAAAAMEAAAAAAAAAAAAAAAAAAAAAAAAAAAAAAR0AAAAAAAAAAAAAAAAAAAAAAAAAAAAAAFEAAAAAAAAAAAAAAAAAAAFRAAAAAAABAWEAAAAAAAABDQAAAAAAAAAAAAAAAAACAVEAAAAAAAEBYQAAAAAAAQFhAAAAAAAAAVkAAAAAAAEBYQAAAAAAAgFNAAAAAAAAAJEAAAAAAAAAAAAAAAAAAAAAAAAAAAAAAAAAAAAAAAAAUQAAAAAAAABRAAAAAAAAAUkAAAAAAAABGQAAAAAAAAAAAAAAAAAAAPUAAAAAAAAAAAAAAAAAAgE5AAAAAAACAVUAAAAAAAABRQAAAAAAAADlAAAAAAAAAAAAAAAAAAAAAAAAAAAAAAAAAAAAAAAAAAAAAAAAAAIBVQAAAAAAAQFhAAAAAAAAAAAAAAAAAAAAAAAAAAAAAgEJAAAAAAAAAKkAAAAAAAAA2QAAAAAAAwFNAAAAAAADAVkAAAAAAAMBRQAAAAAAAQFhAAAAAAAAAAAAAAAAAAAAAAAAAAAAAACZAAAAAAAAAAAAAAAAAAABDQAAAAAAAgEhAAAAAAACARkAAAAAAAAAAAAAAAAAAAAAAAAAAAAAAEEAAAAAAAIBCQAAAAAAAQFhAAAAAAAAAJkAAAAAAAAAyQAAAAAAAAAAAAAAAAAAAREAAAAAAAAAkQAAAAAAAAAAAAAAAAAAAR0AAAAAAAMBTQAAAAAAAAFVAAAAAAACASUAAAAAAAAAAAAAAAAAAAAAAAAAAAAAAAAAAAAAAAAAAAAAAAAAAADNAAAAAAABAWEAAAAAAAAA8QAAAAAAAAAAAAAAAAAAAAAAAAAAAAABYQAAAAAAAAC5AAAAAAAAAAAAAAAAAAAA8QAAAAAAAAEJAAAAAAACASkAAAAAAAEBYQAAAAAAAAERAAAAAAAAAJEAAAAAAAAAAAAAAAAAAgElAAAAAAACARUAAAAAAAIBTQAAAAAAAAD9AAAAAAAAAAAAAAAAAAAA0QAAAAAAAgFNAAAAAAAAAWEAAAAAAAEBXQAAAAAAAQFhAAAAAAAAANEAAAAAAAADwPwAAAAAAAAAAAAAAAACAQkAAAAAAAAAAAAAAAAAAAAAAAAAAAAAAJkAAAAAAAAAAAAAAAAAAQFhAAAAAAAAAAAAAAAAAAABTQAAAAAAAACpAAAAAAAAANUAAAAAAAAAAAAAAAAAAwFdAAAAAAAAA8D8AAAAAAAAcQAAAAAAAAAAAAAAAAAAAAAAAAAAAAAAAAAAAAAAAQFhAAAAAAAAA8D8AAAAAAADwPwAAAAAAAAAAAAAAAAAAAAAAAAAAAAAqQAAAAAAAAChAAAAAAAAAOkAAAAAAAAAAAAAAAAAAAAAAAAAAAAAAAAAAAAAAAAAuQAAAAAAAACpAAAAAAAAAOUAAAAAAAABTQAAAAAAAADlAAAAAAAAAAAAAAAAAAAAAAAAAAAAAAAAAAAAAAADAVUAAAAAAAMBSQAAAAAAAAFFAAAAAAACATUAAAAAAAEBYQAAAAAAAAD9AAAAAAAAAAAAAAAAAAAAAAAAAAAAAgEdAAAAAAAAAMkAAAAAAAAAAAAAAAAAAADRAAAAAAAAAO0AAAAAAAABNQAAAAAAAACJAAAAAAAAAAAAAAAAAAAAgQAAAAAAAAEhAAAAAAAAANkAAAAAAAAAAAAAAAAAAgEdAAAAAAAAA8D8AAAAAAAAAAAAAAAAAQFhAAAAAAAAAN0AAAAAAAAAAAAAAAAAAAAAAAAAAAACAQEAAAAAAAIBAQAAAAAAAABhAAAAAAAAAP0AAAAAAAEBRQAAAAAAAwFNAAAAAAACAT0AAAAAAAABYQAAAAAAAAAAAAAAAAAAAAAAAAAAAAAAAAAAAAAAAAE9AAAAAAACAR0AAAAAAAABNQAAAAAAAAERAAAAAAACAQkAAAAAAAAAAAAAAAAAAgE9AAAAAAAAAVEAAAAAAAABOQAAAAAAAACJAAAAAAACAQkAAAAAAAABMQAAAAAAAAEVAAAAAAAAA8D8AAAAAAAAAAAAAAAAAAAAAAAAAAACAUUAAAAAAAEBWQAAAAAAAwFNAAAAAAADAVkAAAAAAAEBRQAAAAAAAAE5AAAAAAAAAMkAAAAAAAADwPwAAAAAAAAAAAAAAAAAAAAAAAAAAAABFQAAAAAAAABRAAAAAAAAAAAAAAAAAAAAAAAAAAAAAAAAAAAAAAAAANUAAAAAAAIBFQAAAAAAAADxAAAAAAACAVUAAAAAAAIBOQAAAAAAAAAAAAAAAAAAAAAAAAAAAAAAAAAAAAAAAAAAAAAAAAAAAAAAAAAAAAAAuQAAAAAAAAAAAAAAAAACAQkAAAAAAAABNQAAAAAAAQFNAAAAAAACATUAAAAAAAAAAAAAAAAAAAFFAAAAAAAAAOkAAAAAAAAA+QAAAAAAAACpAAAAAAAAAAAAAAAAAAAAAAAAAAAAAAAAAAAAAAAAA8D8AAAAAAAAAAAAAAAAAAEBAAAAAAAAARkAAAAAAAABFQAAAAAAAADhAAAAAAAAAAAAAAAAAAABVQAAAAAAAQFRAAAAAAAAAQ0AAAAAAAAAAAAAAAAAAAAAAAAAAAAAAAAAAAAAAAABMQAAAAAAAAFZAAAAAAACATkAAAAAAAAAAAAAAAAAAAFBAAAAAAADAUkAAAAAAAABPQAAAAAAAAAAAAAAAAAAAAAAAAAAAAABGQAAAAAAAACxAAAAAAAAAAAAAAAAAAAAAAAAAAAAAABRAAAAAAAAAIkAAAAAAAABFQAAAAAAAQFZAAAAAAACATEAAAAAAAAAAAAAAAAAAAAAAAAAAAAAAN0AAAAAAAEBTQAAAAAAAABBAAAAAAAAAAAAAAAAAAAAAAAAAAAAAAAAAAAAAAADAVUAAAAAAAMBVQAAAAAAAAFZAAAAAAAAAVUAAAAAAAEBTQAAAAAAAwFVAAAAAAABAWEAAAAAAAAAAAAAAAAAAQFhAAAAAAAAA8D8AAAAAAAAAAAAAAAAAAAAAAAAAAAAA8D8AAAAAAADwPwAAAAAAABxAAAAAAAAAAAAAAAAAAABNQAAAAAAAgEJAAAAAAACASUAAAAAAAAAkQAAAAAAAAAAAAAAAAACAVEAAAAAAAABYQAAAAAAAwFFAAAAAAAAAAAAAAAAAAAAAAAAAAAAAAAAAAAAAAAAAEEAAAAAAAAA6QAAAAAAAwFJAAAAAAAAAKkAAAAAAAAAAAAAAAAAAAAAAAAAAAAAAAAAAAAAAAAAAAAAAAAAAAAAAAAAAAAAASUAAAAAAAABBQAAAAAAAAFZAAAAAAAAAU0AAAAAAAABRQAAAAAAAAAAAAAAAAAAAAAAAAAAAAAA7QAAAAAAAACBAAAAAAAAAAAAAAAAAAAAAAAAAAAAAAAAAAAAAAAAAAAAAAAAAAAAAAAAAAAAAAAAAAAAAAAAATkAAAAAAAAAAAAAAAAAAwFdAAAAAAAAAVkAAAAAAAABEQAAAAAAAAE5AAAAAAACATUAAAAAAAAAAAAAAAAAAgFVAAAAAAACAS0AAAAAAAIBLQAAAAAAAAAAAAAAAAAAAAAAAAAAAAABPQAAAAAAAgFJAAAAAAABAU0AAAAAAAABBQAAAAAAAAAAAAAAAAAAAAAAAAAAAAAAAAAAAAAAAgEhAAAAAAAAAQ0AAAAAAAABIQAAAAAAAAAAAAAAAAAAAAAAAAAAAAAAAAAAAAAAAADNAAAAAAACAUkAAAAAAAAAAAAAAAAAAAAAAAAAAAAAAQUAAAAAAAEBYQAAAAAAAAE1AAAAAAAAAAAAAAAAAAAAAAAAAAAAAAAAAAAAAAABAWEAAAAAAAAAAAAAAAAAAAAAAAAAAAAAAAAAAAAAAAAA6QAAAAAAAACJAAAAAAAAAAAAAAAAAAAAAAAAAAAAAABhAAAAAAAAAPEAAAAAAAAAUQAAAAAAAAAAAAAAAAAAAAAAAAAAAAABDQAAAAAAAQFhAAAAAAAAAAAAAAAAAAAAsQAAAAAAAADlAAAAAAAAAPUAAAAAAAEBSQAAAAAAAAEdAAAAAAAAAMUAAAAAAAAAAAAAAAAAAAAAAAAAAAAAAVEAAAAAAAIBNQAAAAAAAAENAAAAAAAAAOUAAAAAAAIBPQAAAAAAAAEpAAAAAAAAAAAAAAAAAAAAAAAAAAAAAgElAAAAAAABAWEAAAAAAAABMQAAAAAAAAAAAAAAAAAAAO0AAAAAAAAAyQAAAAAAAAAAAAAAAAAAAAAAAAAAAAAAqQAAAAAAAAE9AAAAAAABAUUAAAAAAAIBNQAAAAAAAAAAAAAAAAACASkAAAAAAAAAAAAAAAAAAAAAAAAAAAAAAAAAAAAAAAAAAAAAAAAAAAAAAAAAAAAAACEAAAAAAAEBYQAAAAAAAAFhAAAAAAAAAOkAAAAAAAAAAAAAAAAAAAAAAAAAAAAAAAAAAAAAAAIBOQAAAAAAAAE1AAAAAAAAAAAAAAAAAAIBDQAAAAAAAQFhAAAAAAAAATkAAAAAAAAA5QAAAAAAAgENAAAAAAAAAAAAAAAAAAEBVQAAAAAAAAAAAAAAAAAAAT0AAAAAAAABXQAAAAAAAwFdAAAAAAADAUUAAAAAAAABRQAAAAAAAgE1AAAAAAAAAAAAAAAAAAAAAAAAAAAAAwFZAAAAAAAAANUAAAAAAAAAAAAAAAAAAQFFAAAAAAAAASkAAAAAAAAAAAAAAAAAAAAAAAAAAAAAAAAAAAAAAAAAAAAAAAAAAwFNAAAAAAABAVEAAAAAAAEBUQAAAAAAAAE9AAAAAAAAACEAAAAAAAAAyQAAAAAAAAAhAAAAAAAAAJEAAAAAAAAAYQAAAAAAAAAAAAAAAAAAAIEAAAAAAAAAQQAAAAAAAACBAAAAAAAAAEEAAAAAAAAAAAAAAAAAAAAAAAAAAAABAUUAAAAAAAAAAAAAAAAAAAAAAAAAAAACAS0AAAAAAAAA6QAAAAAAAAAAAAAAAAACAVUAAAAAAAIBWQAAAAAAAAPA/AAAAAAAAAAAAAAAAAIBXQAAAAAAAAAAAAAAAAAAAAAAAAAAAAIBBQAAAAAAAAEBAAAAAAAAAAAAAAAAAAAAAAAAAAAAAAEdAAAAAAAAAAAAAAAAAAAAAAAAAAAAAAAAAAAAAAAAAAAAAAAAAAAAAAAAAAAAAAAAAAAAAAABAUEAAAAAAAABXQAAAAAAAAAAAAAAAAAAAAAAAAAAAAAAAAAAAAAAAADJAAAAAAABAVkAAAAAAAEBWQAAAAAAAQFZAAAAAAAAAP0AAAAAAAAA4QAAAAAAAAEBAAAAAAAAAOUAAAAAAAAAAAAAAAAAAAAAAAAAAAACAREAAAAAAAAA2QAAAAAAAADFAAAAAAACARUAAAAAAAIBDQAAAAAAAgEJAAAAAAAAAAAAAAAAAAAAAAAAAAAAAAAAAAAAAAAAAAAAAAAAAAMBWQAAAAAAAgEBAAAAAAAAAMUAAAAAAAAAQQAAAAAAAAAAAAAAAAAAAAAAAAAAAAAAAAAAAAAAAgExAAAAAAACAVEAAAAAAAABWQAAAAAAAAAAAAAAAAAAAAAAAAAAAAABIQAAAAAAAgFBAAAAAAACAU0AAAAAAAAA5QAAAAAAAAEBAAAAAAAAAPUAAAAAAAAAAAAAAAAAAAAAAAAAAAAAAN0AAAAAAAAAAAAAAAAAAAAAAAAAAAACAS0AAAAAAAMBWQAAAAAAAwFVAAAAAAACAVUAAAAAAAAA/QAAAAAAAADpAAAAAAAAAAAAAAAAAAAAAAAAAAAAAABxAAAAAAAAATUAAAAAAAIBPQAAAAAAAACxAAAAAAAAA8D8AAAAAAAAAAAAAAAAAAFNAAAAAAADAVEAAAAAAAIBAQAAAAAAAADNAAAAAAAAAP0AAAAAAAAAAAAAAAAAAAAAAAAAAAAAAWEAAAAAAAAAAAAAAAAAAAAAAAAAAAAAA8D8AAAAAAAAAAAAAAAAAAAAAAAAAAAAAT0AAAAAAAMBXQAAAAAAAAAAAAAAAAAAAAAAAAAAAAIBEQAAAAAAAAAAAAAAAAAAAAAAAAAAAAAAAAAAAAAAAAEdAAAAAAAAAAAAAAAAAAAAAAAAAAAAAAEZAAAAAAAAAAAAAAAAAAAAqQAAAAAAAAAAAAAAAAAAAPEAAAAAAAABPQAAAAAAAgEBAAAAAAACAQkAAAAAAAAAAAAAAAAAAAAAAAAAAAABAVUAAAAAAAEBRQAAAAAAAQFJAAAAAAACATUAAAAAAAIBBQAAAAAAAgEBAAAAAAAAAAAAAAAAAAAAxQAAAAAAAgE9AAAAAAACARUAAAAAAAAAUQAAAAAAAADhAAAAAAAAAOUAAAAAAAIBHQAAAAAAAAAAAAAAAAAAACEAAAAAAAAAAAAAAAAAAQFhAAAAAAACAQEAAAAAAAAAAAAAAAAAAAAAAAAAAAAAAAAAAAAAAAAAAAAAAAAAAAAAAAAAAAADAV0AAAAAAAIBWQAAAAAAAQFhAAAAAAADAVUAAAAAAAAAAAAAAAAAAAAAAAAAAAAAA8D8AAAAAAAAAAAAAAAAAgFJAAAAAAABAWEAAAAAAAIBVQAAAAAAAAEVAAAAAAAAAGEAAAAAAAAAAAAAAAAAAAAAAAAAAAAAAAAAAAAAAAMBXQAAAAAAAAD1AAAAAAAAAAAAAAAAAAAAIQAAAAAAAABRAAAAAAAAAAAAAAAAAAAAAAAAAAAAAAAAAAAAAAACAR0AAAAAAAIBHQAAAAAAAAE9AAAAAAAAAAAAAAAAAAAAAAAAAAAAAAAAAAAAAAABAU0AAAAAAAEBYQAAAAAAAQFhAAAAAAAAASkAAAAAAAAAAAAAAAAAAAAAAAAAAAABAVkAAAAAAAABFQAAAAAAAAAAAAAAAAAAAREAAAAAAAEBYQAAAAAAAAENAAAAAAAAAAAAAAAAAAIBHQAAAAAAAAAAAAAAAAAAAAAAAAAAAAABIQAAAAAAAgENAAAAAAAAAAAAAAAAAAAAAAAAAAAAAAAAAAAAAAAAAAAAAAAAAAAAAAAAAAAAAAAAAAAAAAADAUkAAAAAAAABUQAAAAAAAgEpAAAAAAAAAIEAAAAAAAAAIQAAAAAAAAAAAAAAAAAAAAAAAAAAAAAAAAAAAAAAAAAAAAAAAAAAAAAAAAAAAAAA/QAAAAAAAgEZAAAAAAAAAAAAAAAAAAAAAAAAAAAAAAAAAAAAAAACAVUAAAAAAAAAAAAAAAAAAAAAAAAAAAAAAKEAAAAAAAIBVQAAAAAAAADpAAAAAAAAAAAAAAAAAAIBCQAAAAAAAAAAAAAAAAAAAAAAAAAAAAAAuQAAAAAAAAEpAAAAAAACAUEAAAAAAAABWQAAAAAAAgFdAAAAAAAAAU0AAAAAAAAAAAAAAAAAAAAAAAAAAAACAQ0AAAAAAAABAQAAAAAAAAEFAAAAAAAAAUkAAAAAAAAAAAAAAAAAAAAAAAAAAAAAAFEAAAAAAAABLQAAAAAAAQFZAAAAAAABAWEAAAAAAAAA4QAAAAAAAABRAAAAAAAAAAAAAAAAAAAAAAAAAAAAAAEpAAAAAAAAAPkAAAAAAAABCQAAAAAAAAAAAAAAAAAAARkAAAAAAAEBYQAAAAAAAAE1AAAAAAAAAIEAAAAAAAAA4QAAAAAAAAPA/AAAAAAAAAAAAAAAAAAAAAAAAAAAAgFJAAAAAAABAVUAAAAAAAEBYQAAAAAAAAAAAAAAAAAAA8D8AAAAAAAA5QAAAAAAAgEhAAAAAAADAUEAAAAAAAAAAAAAAAAAAADpAAAAAAAAAKkAAAAAAAMBRQAAAAAAAgFNAAAAAAAAARkAAAAAAAMBUQAAAAAAAwFNAAAAAAAAAOUAAAAAAAAAAAAAAAAAAgEJAAAAAAAAAVEAAAAAAAMBUQAAAAAAAwFFAAAAAAABAUkAAAAAAAAAkQAAAAAAAAAAAAAAAAAAAAAAAAAAAAAAAAAAAAAAAAEZAAAAAAAAAAAAAAAAAAABPQAAAAAAAQFhAAAAAAAAAAAAAAAAAAAAAAAAAAAAAAAAAAAAAAAAAAAAAAAAAAABCQAAAAAAAQFhAAAAAAADAU0AAAAAAAABOQAAAAAAAADBAAAAAAAAAAAAAAAAAAAAAAAAAAAAAAAAAAAAAAAAAGEAAAAAAAAA3QAAAAAAAAAAAAAAAAAAAAAAAAAAAAAAAAAAAAAAAQFhAAAAAAAAAAAAAAAAAAAAAAAAAAAAAABxAAAAAAAAAAAAAAAAAAAAAAAAAAAAAAAAAAAAAAAAAUEAAAAAAAABGQAAAAAAAgFZAAAAAAACAUEAAAAAAAIBTQAAAAAAAADlAAAAAAACAQ0AAAAAAAIBBQAAAAAAAAD5AAAAAAAAAAAAAAAAAAAAAAAAAAAAAAAAAAAAAAAAAAAAAAAAAAAAAAAAAAAAAAAAAAAAAAAAAGEAAAAAAAABDQAAAAAAAAEVAAAAAAAAAAAAAAAAAAAAAAAAAAAAAAAAAAAAAAAAAUUAAAAAAAIBAQAAAAAAAACpAAAAAAAAAAAAAAAAAAAAAAAAAAAAAAAAAAAAAAAAAAAAAAAAAAADwPwAAAAAAAPA/AAAAAAAAJkAAAAAAAAA1QAAAAAAAADVAAAAAAAAAHEAAAAAAAAAAAAAAAAAAAAAAAAAAAAAAR0AAAAAAAABPQAAAAAAAgEhAAAAAAAAAT0AAAAAAAABDQAAAAAAAAABAAAAAAAAAAAAAAAAAAAAAAAAAAAAAAFBAAAAAAAAAAAAAAAAAAAA4QAAAAAAAAFhAAAAAAACAQEAAAAAAAAA/QAAAAAAAAAAAAAAAAADAUkAAAAAAAMBTQAAAAAAAAAAAAAAAAAAAAAAAAAAAAEBYQAAAAAAAAFJAAAAAAAAAUEAAAAAAAMBRQAAAAAAAAAAAAAAAAAAAAAAAAAAAAIBCQAAAAAAAAAAAAAAAAACARUAAAAAAAAAAAAAAAAAAAAAAAAAAAAAAAAAAAAAAAAAAAAAAAAAAAAAAAAAAAAAAAAAAAAAAAAAAAAAAAAAAAAAAAAAAAACATUAAAAAAAIBWQAAAAAAAgFVAAAAAAAAAQ0AAAAAAAAA7QAAAAAAAAABAAAAAAAAAAAAAAAAAAAAAAAAAAAAAAAAAAAAAAAAAAAAAAAAAAAAQQAAAAAAAAAAAAAAAAAAA8D8AAAAAAAAAAAAAAAAAAAAAAAAAAACARkAAAAAAAEBYQAAAAAAAwFFAAAAAAACAUEAAAAAAAAA5QAAAAAAAADhAAAAAAAAAAAAAAAAAAABVQAAAAAAAAElAAAAAAAAAAAAAAAAAAAAAAAAAAAAAgE1AAAAAAACASkAAAAAAAIBKQAAAAAAAAAAAAAAAAAAAPUAAAAAAAEBTQAAAAAAAgFVAAAAAAAAAAAAAAAAAAIBOQAAAAAAAADlAAAAAAAAAJEAAAAAAAAAAAAAAAAAAADVAAAAAAABAVkAAAAAAAIBLQAAAAAAAAAAAAAAAAAAAAAAAAAAAAAAAAAAAAAAAAAAAAAAAAAAAAAAAAAAAAAAAAAAAAAAAwFZAAAAAAACAUUAAAAAAAIBRQAAAAAAAgE9AAAAAAACASkAAAAAAAABJQAAAAAAAgFBAAAAAAAAAOUAAAAAAAAAAAAAAAAAAAAAAAAAAAAAAAAAAAAAAAAAAAAAAAAAAQFhAAAAAAABAWEAAAAAAAAAAAAAAAAAAAAAAAAAAAAAAAAAAAAAAAAAAAAAAAAAAAAAAAAAAAAAAAAAAAAAAAABTQAAAAAAAgExAAAAAAAAAAAAAAAAAAAAzQAAAAAAAgEtAAAAAAACAQ0AAAAAAAABWQAAAAAAAwFBAAAAAAAAAAAAAAAAAAAAAAAAAAAAAAFdAAAAAAAAAMkAAAAAAAAAAAAAAAAAAAERAAAAAAACAVkAAAAAAAAA2QAAAAAAAADVAAAAAAAAAAAAAAAAAAEBXQAAAAAAAQFhAAAAAAAAAAAAAAAAAAEBSQAAAAAAAAAAAAAAAAAAAAAAAAAAAAAAmQAAAAAAAgElAAAAAAAAAAAAAAAAAAAA7QAAAAAAAAAAAAAAAAAAAAAAAAAAAAAAAAAAAAAAAAAAAAAAAAAAAREAAAAAAAABQQAAAAAAAAEtAAAAAAACAS0AAAAAAAIBLQAAAAAAAAAAAAAAAAAAAAAAAAAAAAAAAAAAAAAAAAAAAAAAAAAAAAAAAAAAAAABXQAAAAAAAgEhAAAAAAAAAJkAAAAAAAAAwQAAAAAAAAPA/AAAAAAAAAAAAAAAAAABUQAAAAAAAQFhAAAAAAAAAOUAAAAAAAABCQAAAAAAAAABAAAAAAAAAAAAAAAAAAAAAAAAAAAAAAAAAAAAAAAAAAAAAAAAAAAAAAAAAAAAAAAAAAAAAAACAV0AAAAAAAAAAAAAAAAAAAAAAAAAAAADAUEAAAAAAAMBTQAAAAAAAADJAAAAAAAAAJEAAAAAAAAAAAAAAAAAAAAAAAAAAAABAWEAAAAAAAAAAAAAAAAAAgE1AAAAAAACAQ0AAAAAAAAAAAAAAAAAAAAAAAAAAAAAAAAAAAAAAAABOQAAAAAAAgEpAAAAAAAAAAAAAAAAAAAAAAAAAAAAAAAAAAAAAAAAAAAAAAAAAAAAAAAAAAAAAAAAAAAAAAAAARUAAAAAAAIBGQAAAAAAAADBAAAAAAAAAAAAAAAAAAABAQAAAAAAAAEVAAAAAAABAV0AAAAAAAEBYQAAAAAAAQFhAAAAAAAAAAAAAAAAAAADwPwAAAAAAACJAAAAAAAAAAAAAAAAAAAAqQAAAAAAAwFdAAAAAAACAV0AAAAAAAIBRQAAAAAAAAAAAAAAAAAAAGEAAAAAAAABBQAAAAAAAAE5AAAAAAAAAKEAAAAAAAAA0QAAAAAAAAAAAAAAAAACAQUAAAAAAAABJQAAAAAAAgE5AAAAAAACAT0AAAAAAAAAYQAAAAAAAAAAAAAAAAAAAAAAAAAAAAAAAAAAAAAAAACxAAAAAAAAAOEAAAAAAAABMQAAAAAAAQFFAAAAAAAAAAAAAAAAAAABNQAAAAAAAAFZAAAAAAABAWEAAAAAAAABGQAAAAAAAADhAAAAAAAAAAAAAAAAAAADwPwAAAAAAAAAAAAAAAAAAAEAAAAAAAABSQAAAAAAAAEZAAAAAAAAAAAAAAAAAAAAAAAAAAAAAAEFAAAAAAADAV0AAAAAAAEBSQAAAAAAAAAAAAAAAAAAAAAAAAAAAAIBKQAAAAAAAAEpAAAAAAADAU0AAAAAAAMBWQAAAAAAAgEVAAAAAAACAQ0AAAAAAAABIQAAAAAAAAAAAAAAAAAAAAAAAAAAAAAAAAAAAAAAAACBAAAAAAAAAOUAAAAAAAAA9QAAAAAAAAEdAAAAAAAAAAAAAAAAAAAAAAAAAAAAAAE1AAAAAAABAUkAAAAAAAAAAAAAAAAAAAAAAAAAAAAAAAAAAAAAAAIBCQAAAAAAAAAAAAAAAAAAAAAAAAAAAAABGQAAAAAAAgERAAAAAAABAUkAAAAAAAEBSQAAAAAAAAAAAAAAAAACAUUAAAAAAAAAAAAAAAAAAAAAAAAAAAAAAS0AAAAAAAABSQAAAAAAAAE1AAAAAAAAAT0AAAAAAAIBUQAAAAAAAAAAAAAAAAAAAIkAAAAAAAAAzQAAAAAAAAFNAAAAAAACATEAAAAAAAABFQAAAAAAAAD5AAAAAAAAALkAAAAAAAABHQAAAAAAAAExAAAAAAABAUUAAAAAAAIBVQAAAAAAAAPA/AAAAAAAA8D8AAAAAAAAAAAAAAAAAAPA/AAAAAABAWEAAAAAAAABBQAAAAAAAAAAAAAAAAAAAAAAAAAAAAIBUQAAAAAAAAAAAAAAAAABAUUAAAAAAAAAAAAAAAAAAAAAAAAAAAAAAAAAAAAAAAAAAAAAAAAAAAAAAAAAAAAAAM0AAAAAAAAAAAAAAAAAAAAAAAAAAAAAAAAAAAAAAAAAAAAAAAAAAgFNAAAAAAAAAUEAAAAAAAAA7QAAAAAAAAAAAAAAAAAAALkAAAAAAAAAIQAAAAAAAAChAAAAAAACAVEAAAAAAAIBCQAAAAAAAwFBAAAAAAAAAAEAAAAAAAAAxQAAAAAAAAAAAAAAAAAAAAAAAAAAAAAAAAAAAAAAAgE9AAAAAAADAUEAAAAAAAAAsQAAAAAAAAPA/AAAAAAAAHEAAAAAAAADwPwAAAAAAAAAAAAAAAAAACEAAAAAAAABBQAAAAAAAAEpAAAAAAAAAMkAAAAAAAAA0QAAAAAAAAAAAAAAAAABAWEAAAAAAAEBYQAAAAAAAAFZAAAAAAACAQkAAAAAAAAAAAAAAAAAAAAAAAAAAAACARkAAAAAAAAAAAAAAAAAAAAAAAAAAAAAAAAAAAAAAAAAAAAAAAAAAgEdAAAAAAAAAWEAAAAAAAAAxQAAAAAAAAPA/AAAAAAAAAAAAAAAAAAAAAAAAAAAAgEBAAAAAAAAARkAAAAAAAAAAAAAAAAAAAAAAAAAAAADAUUAAAAAAAEBVQAAAAAAAQFhAAAAAAAAAAAAAAAAAAAAAAAAAAAAAAENAAAAAAACASkAAAAAAAEBVQAAAAAAAADZAAAAAAAAAAAAAAAAAAAAAAAAAAAAAAAAAAAAAAAAAAAAAAAAAAABXQAAAAAAAAAAAAAAAAAAAAAAAAAAAAAAAAAAAAAAAgFdAAAAAAABAWEAAAAAAAMBRQAAAAAAAwFFAAAAAAAAAAAAAAAAAAAA5QAAAAAAAAFVAAAAAAAAAAAAAAAAAAAAAAAAAAAAAAAAAAAAAAAAAAAAAAAAAAAAmQAAAAAAAAABAAAAAAAAAJkAAAAAAAAAgQAAAAAAAACJAAAAAAAAACEAAAAAAAAAkQAAAAAAAAAAAAAAAAADAUUAAAAAAAAAsQAAAAAAAAAAAAAAAAACAUUAAAAAAAADwPwAAAAAAAAAAAAAAAAAAAAAAAAAAAABGQAAAAAAAAPA/AAAAAAAAAAAAAAAAAAA+QAAAAAAAAFVAAAAAAAAAMUAAAAAAAADwPwAAAAAAAAAAAAAAAAAAEEAAAAAAAABMQAAAAAAAAAAAAAAAAAAAMkAAAAAAAAA2QAAAAAAAAAAAAAAAAADAVkAAAAAAAEBSQAAAAAAAwFRAAAAAAAAAAAAAAAAAAAAIQAAAAAAAAAAAAAAAAABAWEAAAAAAAABSQAAAAAAAAAAAAAAAAACAUUAAAAAAAAAAAAAAAAAAACBAAAAAAABAWEAAAAAAAAAAAAAAAAAAAAAAAAAAAAAAAAAAAAAAAAAAAAAAAAAAgEJAAAAAAADAVUAAAAAAAAAsQAAAAAAAADhAAAAAAAAANkAAAAAAAAAAAAAAAAAAAFhAAAAAAAAAAAAAAAAAAAAAAAAAAAAAAE1AAAAAAABAV0AAAAAAAIBSQAAAAAAAQFNAAAAAAAAAPkAAAAAAAAAAAAAAAAAAAAAAAAAAAAAAAAAAAAAAAABWQAAAAAAAQFRAAAAAAAAAUEAAAAAAAIBBQAAAAAAAAFhAAAAAAAAAWEAAAAAAAAAAAAAAAAAAwFVAAAAAAABAWEAAAAAAAABWQAAAAAAAQFhAAAAAAABAWEAAAAAAAIBPQAAAAAAAADBAAAAAAAAAFEAAAAAAAAAAAAAAAAAAAAAAAAAAAAAAMEAAAAAAAEBQQAAAAAAAAElAAAAAAACAR0AAAAAAAAAAAAAAAAAAAAAAAAAAAAAAAAAAAAAAAAAAAAAAAAAAgFRAAAAAAAAAUEAAAAAAAAAUQAAAAAAAAPA/AAAAAAAAJEAAAAAAAAAAAAAAAAAAADBAAAAAAAAAFEAAAAAAAAAYQAAAAAAAgEBAAAAAAAAAWEAAAAAAAABEQAAAAAAAAAAAAAAAAABAWEAAAAAAAEBQQAAAAAAAAAAAAAAAAAAAAAAAAAAAAAAAAAAAAAAAAAAAAAAAAAAA8D8AAAAAAAAxQAAAAAAAQFhAAAAAAAAAIkAAAAAAAAAAAAAAAAAAAAAAAAAAAAAAAAAAAAAAAAAAAAAAAAAAADtAAAAAAAAAUEAAAAAAAAAAAAAAAAAAwFdAAAAAAADAVEAAAAAAAIBVQAAAAAAAADhAAAAAAAAA8D8AAAAAAAAAAAAAAAAAABhAAAAAAAAAAAAAAAAAAAAxQAAAAAAAgE5AAAAAAAAARUAAAAAAAIBDQAAAAAAAAAAAAAAAAAAAU0AAAAAAAAA3QAAAAAAAAPA/AAAAAAAAAAAAAAAAAAAAAAAAAAAAgFZAAAAAAAAAJEAAAAAAAAAAAAAAAAAAAAAAAAAAAACAREAAAAAAAABNQAAAAAAAgE1AAAAAAAAAAAAAAAAAAAAAAAAAAAAAAEZAAAAAAABAWEAAAAAAAAAAAAAAAAAAAAAAAAAAAAAANkAAAAAAAABYQAAAAAAAAD9AAAAAAAAAAAAAAAAAAAA+QAAAAAAAgFdAAAAAAABAWEAAAAAAAAAiQAAAAAAAAC5AAAAAAAAAAAAAAAAAAAAAAAAAAAAAgFZAAAAAAAAAN0AAAAAAAAAAAAAAAAAAAAAAAAAAAAAAMUAAAAAAAEBYQAAAAAAAgFRAAAAAAACATUAAAAAAAAAAAAAAAAAAAAAAAAAAAAAAOUAAAAAAAAAAQAAAAAAAQFhAAAAAAADAV0AAAAAAAIBKQAAAAAAAAElAAAAAAACAVUAAAAAAAIBDQAAAAAAAAE5AAAAAAACAS0AAAAAAAADwPwAAAAAAACJAAAAAAAAANUAAAAAAAAAAAAAAAAAAAAAAAAAAAAAAAAAAAAAAAAAcQAAAAAAAAEpAAAAAAAAAAAAAAAAAAAAAAAAAAAAAAFhAAAAAAACAWEAAAAAAAEBQQAAAAAAAAFRAAAAAAAAAAAAAAAAAAAAAAAAAAAAAAAAAAAAAAAAAAAAAAAAAAAAAAAAAAAAAAAAAAAAAAAAAAAAAAAAAAAAAAAAAAAAAQFhAAAAAAACAWEAAAAAAAAAAQAAAAAAAACBAAAAAAAAAAAAAAAAAAAAYQAAAAAAAAEZAAAAAAABAVEAAAAAAAAAAAAAAAAAAAAAAAAAAAABAWEAAAAAAAABUQAAAAAAAQFhAAAAAAAAA8D8AAAAAAAAAAAAAAAAAAAAAAAAAAACATkAAAAAAAIBYQAAAAAAAgFhAAAAAAAAAAAAAAAAAAAAAAAAAAAAAAAAAAAAAAAAAAAAAAAAAAAAYQAAAAAAAACRAAAAAAAAAAAAAAAAAAAAAAAAAAAAAAAAAAAAAAAAAAAAAAAAAAAAAAAAAAAAAAAAAAAAAAAAAAAAAAAAAAAA5QAAAAAAAAAAAAAAAAAAAV0AAAAAAAAAQQAAAAAAAAChAAAAAAAAAAAAAAAAAAAAcQAAAAAAAAAAAAAAAAAAAGEAAAAAAAAAAAAAAAAAAAFdAAAAAAAAAJkAAAAAAAAAAAAAAAAAAAAAAAAAAAAAAOkAAAAAAAIBTQAAAAAAAADNAAAAAAAAAAAAAAAAAAAAuQAAAAAAAAFNAAAAAAAAAWEAAAAAAAIBUQAAAAAAAgERAAAAAAAAAAAAAAAAAAEBRQAAAAAAAAAAAAAAAAAAAAAAAAAAAAIBEQAAAAAAAgENAAAAAAAAAKkAAAAAAAAAAAAAAAAAAAAAAAAAAAAAAAAAAAAAAAAAAAAAAAAAAACRAAAAAAAAATUAAAAAAAABJQAAAAAAAAAAAAAAAAABAWEAAAAAAAEBYQAAAAAAAAAAAAAAAAAAACEAAAAAAAADwPwAAAAAAAAAAAAAAAAAATkAAAAAAAMBWQAAAAAAAQFZAAAAAAACAVEAAAAAAAABUQAAAAAAAAAAAAAAAAAAAAAAAAAAAAAAAAAAAAAAAAAAAAAAAAAAAAAAAAAAAAEBUQAAAAAAAQFhAAAAAAADAV0AAAAAAAIBKQAAAAAAAACxAAAAAAACARkAAAAAAAAAAAAAAAAAAAAAAAAAAAABAWEAAAAAAAAAAAAAAAAAAAAAAAAAAAAAAAAAAAAAAAAAAAAAAAAAAAEdAAAAAAAAALkAAAAAAAAAAAAAAAAAAAFJAAAAAAADAV0AAAAAAAIBVQAAAAAAAQFJAAAAAAAAAJkAAAAAAAAA3QAAAAAAAAAAAAAAAAABAVkAAAAAAAMBQQAAAAAAAAAAAAAAAAAAAAAAAAAAAAAAIQAAAAAAAACxAAAAAAAAAJEAAAAAAAAAwQAAAAAAAACRAAAAAAAAAAAAAAAAAAAAcQAAAAAAAADFAAAAAAABAV0AAAAAAAAA0QAAAAAAAAAAAAAAAAAAAVkAAAAAAAMBXQAAAAAAAwFZAAAAAAACAVUAAAAAAAIBXQAAAAAAAAEtAAAAAAAAAEEAAAAAAAAAAAAAAAAAAAAAAAAAAAAAASEAAAAAAAAA3QAAAAAAAgEdAAAAAAAAAAAAAAAAAAAAAAAAAAAAAABRAAAAAAAAAUUAAAAAAAABIQAAAAAAAAABAAAAAAAAAAAAAAAAAAEBYQAAAAAAAwFRAAAAAAACARUAAAAAAAAAAAAAAAAAAAAAAAAAAAAAAAAAAAAAAAAAgQAAAAAAAgENAAAAAAABAV0AAAAAAAAAAAAAAAAAAAAAAAAAAAAAAAAAAAAAAAEBYQAAAAAAAAExAAAAAAAAAAAAAAAAAAAAAQAAAAAAAAAAAAAAAAAAAS0AAAAAAAAA+QAAAAAAAgEhAAAAAAAAANkAAAAAAAEBRQAAAAAAAQFZAAAAAAABAWEAAAAAAAIBUQAAAAAAAQFhAAAAAAAAAAAAAAAAAAEBYQAAAAAAAAAAAAAAAAAAAAAAAAAAAAMBXQAAAAAAAQFNAAAAAAAAAUEAAAAAAAEBYQAAAAAAAABBAAAAAAAAAMUAAAAAAAAAAAAAAAAAAAAAAAAAAAAAAAAAAAAAAAABOQAAAAAAAgFFAAAAAAAAARUAAAAAAAAAAAAAAAAAAADRAAAAAAAAASEAAAAAAAMBRQAAAAAAAQFdAAAAAAADAVEAAAAAAAAAAAAAAAAAAAAAAAAAAAACAUkAAAAAAAEBUQAAAAAAAgFZAAAAAAAAAR0AAAAAAAIBGQAAAAAAAADhAAAAAAAAAIkAAAAAAAAAqQAAAAAAAAAAAAAAAAAAAOUAAAAAAAEBQQAAAAAAAwFNAAAAAAAAAVUAAAAAAAAAAAAAAAAAAAAAAAAAAAABAWEAAAAAAAABSQAAAAAAAgFZAAAAAAACAVkAAAAAAAADwPwAAAAAAACpAAAAAAAAAAAAAAAAAAAAAAAAAAAAAAABAAAAAAAAAAAAAAAAAAAAAAAAAAAAAgFdAAAAAAACAV0AAAAAAAABSQAAAAAAAAFNAAAAAAACAVUAAAAAAAAAAAAAAAAAAgE9AAAAAAAAAUUAAAAAAAMBRQAAAAAAAAAAAAAAAAAAAAAAAAAAAAAA8QAAAAAAAAEhAAAAAAAAASUAAAAAAAAAAAAAAAAAAQFhAAAAAAACAVkAAAAAAAAA8QAAAAAAAAPA/AAAAAAAAAAAAAAAAAAAAAAAAAAAAAEBAAAAAAABAVkAAAAAAAAAAAAAAAAAAACZAAAAAAACAVEAAAAAAAAA0QAAAAAAAAD1AAAAAAAAAAAAAAAAAAAAAAAAAAAAAADhAAAAAAABAV0AAAAAAAABPQAAAAAAAAPA/AAAAAAAAAAAAAAAAAAAAAAAAAAAAAAAAAAAAAAAAAAAAAAAAAAAgQAAAAAAAAAAAAAAAAABAWEAAAAAAAAAAAAAAAAAAAAAAAAAAAAAAAAAAAAAAAAAAAAAAAAAAAEFAAAAAAAAAEEAAAAAAAAAAAAAAAAAAAAAAAAAAAAAAHEAAAAAAAAAAAAAAAAAAABhAAAAAAAAAAAAAAAAAAAAmQAAAAAAAAAAAAAAAAAAAAAAAAAAAAAAAAAAAAAAAACZAAAAAAADAUEAAAAAAAADwPwAAAAAAAAAAAAAAAAAAAAAAAAAAAADwPwAAAAAAAAAAAAAAAACARkAAAAAAAIBBQAAAAAAAAAAAAAAAAAAAAAAAAAAAAAA7QAAAAAAAAEhAAAAAAACATEAAAAAAAAAUQAAAAAAAADJAAAAAAAAAAAAAAAAAAABBQAAAAAAAgENAAAAAAACAREAAAAAAAEBSQAAAAAAAAAAAAAAAAAAA8D8AAAAAAADwPwAAAAAAAAAAAAAAAADAV0AAAAAAAIBSQAAAAAAAAAAAAAAAAAAAAAAAAAAAAAAAAAAAAAAAAAAAAAAAAAAAAAAAAAAAAAAAAAAAAAAAAAAAAAAAAACASEAAAAAAAIBQQAAAAAAAAFNAAAAAAACASkAAAAAAAAA2QAAAAAAAAChAAAAAAAAAMUAAAAAAAAAAAAAAAAAAAAAAAAAAAAAAAAAAAAAAAMBSQAAAAAAAQFhAAAAAAABAWEAAAAAAAMBUQAAAAAAAACZAAAAAAAAANUAAAAAAAAAxQAAAAAAAAAAAAAAAAAAAS0AAAAAAAAAAAAAAAAAAAAAAAAAAAABAWEAAAAAAAAAAAAAAAAAAADNAAAAAAACAQEAAAAAAAIBKQAAAAAAAQFhAAAAAAACAV0AAAAAAAEBWQAAAAAAAAAAAAAAAAAAAAAAAAAAAAIBLQAAAAAAAAAAAAAAAAAAAAAAAAAAAAAAAAAAAAAAAAAAAAAAAAAAAAAAAAAAAAMBTQAAAAAAAAFVAAAAAAAAAO0AAAAAAAAAAAAAAAAAAAAAAAAAAAAAAAAAAAAAAAIBAQAAAAAAAgElAAAAAAADAUUAAAAAAAAA/QAAAAAAAAAAAAAAAAAAAAAAAAAAAAEBUQAAAAAAAAFVAAAAAAABAWEAAAAAAAAAAAAAAAAAAAAAAAAAAAAAAV0AAAAAAAAAAAAAAAAAAABRAAAAAAADAVEAAAAAAAIBSQAAAAAAAgFFAAAAAAACAQ0AAAAAAAAAAAAAAAAAAAAAAAAAAAAAAAAAAAAAAAABLQAAAAAAAAFNAAAAAAAAA8D8AAAAAAAAAAAAAAAAAAAAAAAAAAACARkAAAAAAAABDQAAAAAAAAElAAAAAAACAUkAAAAAAAABWQAAAAAAAADxAAAAAAAAAAAAAAAAAAIBDQAAAAAAAAD5AAAAAAACATEAAAAAAAIBEQAAAAAAAAENAAAAAAAAAAAAAAAAAAAAAAAAAAAAAAAAAAAAAAAAAAAAAAAAAAABDQAAAAAAAAElAAAAAAACASEAAAAAAAABNQAAAAAAAACpAAAAAAAAAEEAAAAAAAEBYQAAAAAAAAC5AAAAAAAAAAAAAAAAAAAAAAAAAAAAAAAAAAAAAAAAAFEAAAAAAAAAAAAAAAAAAAEhAAAAAAAAAPEAAAAAAAABTQAAAAAAAAElAAAAAAAAAVUAAAAAAAABTQAAAAAAAQFRAAAAAAAAAWEAAAAAAAIBXQAAAAAAAgE1AAAAAAAAAN0AAAAAAAAAAAAAAAAAAAAAAAAAAAAAAAAAAAAAAAAAiQAAAAAAAgEpAAAAAAAAARkAAAAAAAIBEQAAAAAAAAAAAAAAAAAAAAAAAAAAAAAAAAAAAAAAAAE5AAAAAAAAAAAAAAAAAAAAAAAAAAAAAAABAAAAAAAAAAAAAAAAAAABYQAAAAAAAQFRAAAAAAAAAAAAAAAAAAMBVQAAAAAAAwFRAAAAAAABAU0AAAAAAAIBRQAAAAAAAADZAAAAAAAAAPEAAAAAAAAAAAAAAAAAAAEBAAAAAAAAAQUAAAAAAAAAAAAAAAAAAQFBAAAAAAABAUEAAAAAAAAAYQAAAAAAAAAAAAAAAAAAAAAAAAAAAAADwPwAAAAAAAAAAAAAAAAAAVEAAAAAAAMBVQAAAAAAAAAAAAAAAAAAAAAAAAAAAAMBSQAAAAAAAgEdAAAAAAAAAAAAAAAAAAAAAAAAAAAAAAAAAAAAAAAAAAAAAAAAAAIBQQAAAAAAAAFRAAAAAAAAAAAAAAAAAAAAAAAAAAAAAAEpAAAAAAACAREAAAAAAAABEQAAAAAAAAPA/AAAAAAAAN0AAAAAAAIBHQAAAAAAAwFJAAAAAAAAA8D8AAAAAAAAAAAAAAAAAAAAAAAAAAAAAVkAAAAAAAAAAAAAAAAAAACBAAAAAAAAAIEAAAAAAAAAAAAAAAAAAAAAAAAAAAAAAAAAAAAAAAAAAAAAAAAAAAAAAAAAAAACAVUAAAAAAAAAIQAAAAAAAAAAAAAAAAAAAGEAAAAAAAEBYQAAAAAAAgElAAAAAAAAAAAAAAAAAAAAAAAAAAAAAAAAAAAAAAAAAAAAAAAAAAAAAAAAAAAAAADRAAAAAAAAAVEAAAAAAAEBRQAAAAAAAACxAAAAAAAAAAAAAAAAAAIBEQAAAAAAAAAAAAAAAAAAAAAAAAAAAAAA8QAAAAAAAADdAAAAAAAAAKkAAAAAAAAAsQAAAAAAAAChAAAAAAAAALEAAAAAAAAAAQAAAAAAAACJAAAAAAAAAFEAAAAAAAAAQQAAAAAAAABhAAAAAAAAAEEAAAAAAAAAAAAAAAAAAAAAAAAAAAADAVEAAAAAAAAAqQAAAAAAAAAAAAAAAAABAWEAAAAAAAAAAAAAAAAAAgEVAAAAAAAAAAAAAAAAAAAAAAAAAAAAAAAAAAAAAAAAAUUAAAAAAAIBPQAAAAAAAAPA/AAAAAAAAAAAAAAAAAAAYQAAAAAAAgElAAAAAAAAAAAAAAAAAAAAAAAAAAAAAAAAAAAAAAAAAAAAAAAAAAABEQAAAAAAAgFRAAAAAAADAU0AAAAAAAABYQAAAAAAAACZAAAAAAAAAHEAAAAAAAIBBQAAAAAAAgFJAAAAAAAAAAAAAAAAAAMBUQAAAAAAAADtAAAAAAAAAAAAAAAAAAAAAAAAAAAAAAAAAAAAAAAAATkAAAAAAAABMQAAAAAAAQFhAAAAAAACASEAAAAAAAAAkQAAAAAAAADRAAAAAAAAAOUAAAAAAAAAAAAAAAAAAAE9AAAAAAACAU0AAAAAAAAAAAAAAAAAAAAAAAAAAAAAAVUAAAAAAAABAQAAAAAAAAAAAAAAAAAAAAAAAAAAAAAAAAAAAAAAAAAAAAAAAAAAAAAAAAAAAAABFQAAAAAAAgFNAAAAAAAAAUUAAAAAAAAAAAAAAAAAAAD5AAAAAAAAAR0AAAAAAAAAAAAAAAAAAAEpAAAAAAAAAAAAAAAAAAAAAAAAAAAAAQFhAAAAAAABAWEAAAAAAAEBYQAAAAAAAgFZAAAAAAAAATkAAAAAAAABEQAAAAAAAAAAAAAAAAAAAAAAAAAAAAABUQAAAAAAAADRAAAAAAAAASEAAAAAAAADwPwAAAAAAAAhAAAAAAAAAAAAAAAAAAAAAAAAAAAAAgFBAAAAAAABAV0AAAAAAAABVQAAAAAAAgEJAAAAAAAAA8D8AAAAAAAAAAAAAAAAAADZAAAAAAAAAAAAAAAAAAAAAAAAAAAAAAD5AAAAAAAAAAAAAAAAAAABAQAAAAAAAADlAAAAAAACAQUAAAAAAAMBRQAAAAAAAgElAAAAAAAAAJkAAAAAAAAAAAAAAAAAAAEtAAAAAAACATUAAAAAAAABLQAAAAAAAAAAAAAAAAAAAAAAAAAAAAMBSQAAAAAAAQFZAAAAAAABAVkAAAAAAAAA2QAAAAAAAAAAAAAAAAAAA8D8AAAAAAADwPwAAAAAAAAAAAAAAAAAAAAAAAAAAAIBOQAAAAAAAADFAAAAAAACAQkAAAAAAAAAAAAAAAAAAAAAAAAAAAADAVUAAAAAAAAA2QAAAAAAAAPA/AAAAAAAAAAAAAAAAAAA9QAAAAAAAAPA/AAAAAAAAAAAAAAAAAAAAAAAAAAAAAAAAAAAAAAAAAAAAAAAAAAAAAAAAAAAAAAAAAAAAAAAAAAAAAAAAAABYQAAAAAAAgEBAAAAAAAAAQkAAAAAAAIBBQAAAAAAAAAAAAAAAAAAAAAAAAAAAAAAAAAAAAAAAQFhAAAAAAAAAV0AAAAAAAIBCQAAAAAAAAAAAAAAAAADAVEAAAAAAAIBSQAAAAAAAAFBAAAAAAAAAS0AAAAAAAIBEQAAAAAAAAAAAAAAAAAAAAAAAAAAAAEBYQAAAAAAAAC5AAAAAAAAAAAAAAAAAAABAQAAAAAAAgEhAAAAAAAAAOkAAAAAAAADwPwAAAAAAAAAAAAAAAAAAAAAAAAAAAAAcQAAAAAAAAEdAAAAAAACAV0AAAAAAAEBYQAAAAAAAAEJAAAAAAAAAAAAAAAAAAAAAAAAAAAAAAAAAAAAAAAAAAAAAAAAAAAAAAAAAAAAAAAAAAAAAAAAAAEAAAAAAAABFQAAAAAAAAEtAAAAAAAAAAAAAAAAAAEBXQAAAAAAAABhAAAAAAAAAAAAAAAAAAAAAAAAAAAAAABxAAAAAAAAARkAAAAAAAABCQAAAAAAAAAAAAAAAAAAAGEAAAAAAAABDQAAAAAAAAAAAAAAAAAAA8D8AAAAAAAAAAAAAAAAAAAAAAAAAAABAV0AAAAAAAEBYQAAAAAAAgFNAAAAAAACAVUAAAAAAAABQQAAAAAAAAAAAAAAAAAAAAAAAAAAAAIBIQAAAAAAAgExAAAAAAAAAAAAAAAAAAAA5QAAAAAAAQFhAAAAAAAAAAAAAAAAAAMBUQAAAAAAAQFhAAAAAAAAAV0AAAAAAAEBVQAAAAAAAAAAAAAAAAAAAAAAAAAAAAAAYQAAAAAAAQFBAAAAAAACATUAAAAAAAIBSQAAAAAAAQFZAAAAAAABAWEAAAAAAAAAAAAAAAAAAAAAAAAAAAAAAAAAAAAAAAAAAAAAAAAAAABxAAAAAAACASEAAAAAAAIBVQAAAAAAAQFhAAAAAAACASEAAAAAAAIBBQAAAAAAAAAAAAAAAAAAAUEAAAAAAAAAAAAAAAAAAADpAAAAAAAAAOkAAAAAAAABUQAAAAAAAQFJAAAAAAACAS0AAAAAAAMBXQAAAAAAAAEJAAAAAAACAR0AAAAAAAAAAAAAAAAAAAAAAAAAAAACATEAAAAAAAEBYQAAAAAAAAFRAAAAAAACAUkAAAAAAAABRQAAAAAAAgFJAAAAAAAAAAAAAAAAAAAAAAAAAAAAAgENAAAAAAACAVUAAAAAAAABUQAAAAAAAgE9AAAAAAAAAO0AAAAAAAAA/QAAAAAAAgENAAAAAAAAAOEAAAAAAAAA7QAAAAAAAAC5AAAAAAAAAAAAAAAAAAABSQAAAAAAAAC5AAAAAAAAAAEAAAAAAAAAAAAAAAAAAAAAAAAAAAAAAAAAAAAAAAAAAAAAAAAAAADJAAAAAAACARUAAAAAAAABJQAAAAAAAwFBAAAAAAAAAAAAAAAAAAAAAAAAAAAAAAEBAAAAAAACAR0AAAAAAAIBRQAAAAAAAAAAAAAAAAAAAAAAAAAAAAAAAAAAAAAAAwFZAAAAAAAAAAAAAAAAAAAAAQAAAAAAAAAAAAAAAAACAREAAAAAAAIBGQAAAAAAAgEBAAAAAAAAAKEAAAAAAAAAAAAAAAAAAAAAAAAAAAAAAAAAAAAAAAAAxQAAAAAAAACJAAAAAAAAAKkAAAAAAAAA6QAAAAAAAAAAAAAAAAADAUkAAAAAAAMBSQAAAAAAAwFRAAAAAAACAR0AAAAAAAAAiQAAAAAAAAAAAAAAAAAAACEAAAAAAAEBSQAAAAAAAAPA/AAAAAAAAAAAAAAAAAAAAAAAAAAAAAAAAAAAAAAAAAAAAAAAAAAAxQAAAAAAAAD1AAAAAAAAAAAAAAAAAAAAAAAAAAAAAwFdAAAAAAABAWEAAAAAAAMBQQAAAAAAAADFAAAAAAAAAPEAAAAAAAAAAAAAAAAAAAAAAAAAAAACAREAAAAAAAEBSQAAAAAAAAAAAAAAAAAAAPkAAAAAAAIBQQAAAAAAAAAAAAAAAAAAANUAAAAAAAIBSQAAAAAAAgEVAAAAAAAAAAAAAAAAAAAAAAAAAAAAAAAAAAAAAAADAUkAAAAAAAEBRQAAAAAAAAAAAAAAAAABAUEAAAAAAAMBSQAAAAAAAAEJAAAAAAAAAM0AAAAAAAAAAAAAAAAAAAAAAAAAAAAAAAAAAAAAAAEBYQAAAAAAAQFBAAAAAAAAAEEAAAAAAAAAAAAAAAAAAAAAAAAAAAAAAAAAAAAAAAABPQAAAAAAAAAAAAAAAAAAAQ0AAAAAAAIBRQAAAAAAAAAAAAAAAAAAAN0AAAAAAAABJQAAAAAAAgE5AAAAAAABAWEAAAAAAAAAAAAAAAAAAAAAAAAAAAACASUAAAAAAAABHQAAAAAAAAAAAAAAAAAAA8D8AAAAAAAAAAAAAAAAAAAAAAAAAAAAAAAAAAAAAAAAAAAAAAAAAAAAAAAAAAAAAAAAAAAAAAAAAAAAAAAAAgElAAAAAAADAUkAAAAAAAABOQAAAAAAAAE1AAAAAAAAAUkAAAAAAAEBUQAAAAAAAgFFAAAAAAADAVUAAAAAAAABFQAAAAAAAAAhAAAAAAAAAIkAAAAAAAAA3QAAAAAAAAAAAAAAAAAAANkAAAAAAAAA8QAAAAAAAABRAAAAAAAAAAAAAAAAAAEBRQAAAAAAAgFRAAAAAAAAAN0AAAAAAAAA6QAAAAAAAAAAAAAAAAAAAM0AAAAAAAABEQAAAAAAAAAAAAAAAAACAV0AAAAAAAAAAAAAAAAAAAAAAAAAAAAAAN0AAAAAAAIBGQAAAAAAAgEdAAAAAAABAVUAAAAAAAABYQAAAAAAAwFJAAAAAAAAAAAAAAAAAAAAAAAAAAAAAAAAAAAAAAADAVUAAAAAAAABVQAAAAAAAQFhAAAAAAAAAVkAAAAAAAEBSQAAAAAAAAChAAAAAAAAAAAAAAAAAAAAAAAAAAAAAAFBAAAAAAAAAWEAAAAAAAAA5QAAAAAAAADtAAAAAAAAAREAAAAAAAAAAAAAAAAAAAAAAAAAAAAAAAAAAAAAAAEBYQAAAAAAAgFNAAAAAAABAWEAAAAAAAAAAAAAAAAAAQFhAAAAAAABAWEAAAAAAAAAqQAAAAAAAAAAAAAAAAAAAREAAAAAAAMBRQAAAAAAAwFVAAAAAAAAAAAAAAAAAAAAsQAAAAAAAAAAAAAAAAAAAAAAAAAAAAAAAAAAAAAAAAEFAAAAAAAAAQUAAAAAAAABYQAAAAAAAQFhAAAAAAAAAIEAAAAAAAADwPwAAAAAAAAAAAAAAAACATkAAAAAAAEBWQAAAAAAAAAAAAAAAAAAAAAAAAAAAAEBYQAAAAAAAAPA/AAAAAAAAAAAAAAAAAAAAAAAAAAAAAAAAAAAAAABAUEAAAAAAAIBIQAAAAAAAAAAAAAAAAAAAAAAAAAAAAIBCQAAAAAAAQFhAAAAAAAAAPUAAAAAAAAAwQAAAAAAAAAAAAAAAAAAAOkAAAAAAAEBXQAAAAAAAAFJAAAAAAAAAAAAAAAAAAAAAAAAAAAAAgFdAAAAAAAAARUAAAAAAAAAuQAAAAAAAAPA/AAAAAAAANEAAAAAAAAAAAAAAAAAAgEZAAAAAAAAATkAAAAAAAAAAAAAAAAAAAAAAAAAAAAAAMEAAAAAAAAAkQAAAAAAAAEJAAAAAAAAAPUAAAAAAAIBNQAAAAAAAgFFAAAAAAAAAT0AAAAAAAAA6QAAAAAAAAD9AAAAAAAAAAAAAAAAAAAAAAAAAAAAAADtAAAAAAAAAAEAAAAAAAAAAAAAAAAAAAE5AAAAAAAAAVUAAAAAAAEBTQAAAAAAAAAAAAAAAAACATEAAAAAAAMBSQAAAAAAAQFVAAAAAAACASUAAAAAAAAAYQAAAAAAAAAAAAAAAAAAAMUAAAAAAAAAoQAAAAAAAAEFAAAAAAACAQEAAAAAAAAAAAAAAAAAAAElAAAAAAACAUEAAAAAAAAAAAAAAAAAAAAAAAAAAAAAANkAAAAAAAAAsQAAAAAAAAFdAAAAAAAAAREAAAAAAAAAAAAAAAAAAgEZAAAAAAAAAPEAAAAAAAIBCQAAAAAAAACJAAAAAAAAAIkAAAAAAAAAuQAAAAAAAAAAAAAAAAABAV0AAAAAAAEBYQAAAAAAAAD1AAAAAAAAAAAAAAAAAAAA1QAAAAAAAADRAAAAAAAAAUEAAAAAAAIBHQAAAAAAAgFdAAAAAAABAVEAAAAAAAAA5QAAAAAAAADJAAAAAAAAAAAAAAAAAAIBDQAAAAAAAAAAAAAAAAAAAQEAAAAAAAABOQAAAAAAAQFZAAAAAAACAQUAAAAAAAAAAAAAAAAAAADtAAAAAAACARUAAAAAAAAAzQAAAAAAAAAAAAAAAAAAAAAAAAAAAAABWQAAAAAAAgFVAAAAAAAAAWEAAAAAAAAA8QAAAAAAAAAAAAAAAAAAAHEAAAAAAAAAzQAAAAAAAAEhAAAAAAABAWEAAAAAAAAAAAAAAAAAAAAAAAAAAAAAAAAAAAAAAAAAAAAAAAAAAQFhAAAAAAAAAJkAAAAAAAAAAAAAAAAAAAAAAAAAAAADAUUAAAAAAAABEQAAAAAAAgEVAAAAAAAAAOEAAAAAAAIBFQAAAAAAAADhAAAAAAAAAAAAAAAAAAAAAAAAAAAAAQFhAAAAAAAAAAAAAAAAAAAAAAAAAAAAAAAAAAAAAAAAAAAAAAAAAAAAAAAAAAAAAwFdAAAAAAAAA8D8AAAAAAAAAAAAAAAAAAAAAAAAAAAAAAAAAAAAAAAAiQAAAAAAAADFAAAAAAAAALkAAAAAAAAA/QAAAAAAAACpAAAAAAAAAAAAAAAAAAABTQAAAAAAAAERAAAAAAAAAAAAAAAAAAAAAAAAAAAAAAAAAAAAAAAAAAAAAAAAAAAA2QAAAAAAAAEpAAAAAAAAAAAAAAAAAAEBYQAAAAAAAQFdAAAAAAAAAAAAAAAAAAAAAAAAAAAAAgE9AAAAAAABAWEAAAAAAAMBWQAAAAAAAwFRAAAAAAAAAAAAAAAAAAAAAAAAAAAAAgFBAAAAAAAAAAAAAAAAAAABFQAAAAAAAgFZAAAAAAAAAV0AAAAAAAEBYQAAAAAAAgFBAAAAAAAAAAAAAAAAAAAAAAAAAAAAAAAAAAAAAAAAAPEAAAAAAAABYQAAAAAAAAAAAAAAAAAAAAAAAAAAAAAAwQAAAAAAAgFBAAAAAAACAVEAAAAAAAAAcQAAAAAAAAAAAAAAAAAAAAAAAAAAAAABAQAAAAAAAAD9AAAAAAAAANUAAAAAAAAAcQAAAAAAAQFhAAAAAAADAU0AAAAAAAAAAAAAAAAAAAAAAAAAAAAAAQEAAAAAAAADwPwAAAAAAAChAAAAAAAAA8D8AAAAAAAAAAAAAAAAAAABAAAAAAAAAAAAAAAAAAAAAAAAAAAAAADJAAAAAAAAAUUAAAAAAAMBSQAAAAAAAgEZAAAAAAAAAAAAAAAAAAAAoQAAAAAAAAAAAAAAAAAAAGEAAAAAAAMBUQAAAAAAAgEpAAAAAAACARUAAAAAAAAAiQAAAAAAAgFhAAAAAAAAAEEAAAAAAAAAAAAAAAAAAAChAAAAAAABAV0AAAAAAAIBYQAAAAAAAAFhAAAAAAAAAKEAAAAAAAAAqQAAAAAAAAAAAAAAAAAAAGEAAAAAAAAAIQAAAAAAAAAAAAAAAAAAAFEAAAAAAAAAYQAAAAAAAABBAAAAAAAAAKEAAAAAAAAAAAAAAAAAAAAAAAAAAAAAAO0AAAAAAAAA7QAAAAAAAAAAAAAAAAAAAS0AAAAAAAAA2QAAAAAAAAAAAAAAAAAAANkAAAAAAAABIQAAAAAAAAAAAAAAAAAAAAAAAAAAAAIBVQAAAAAAAgE9AAAAAAAAA8D8AAAAAAAAAAAAAAAAAAEVAAAAAAAAAU0AAAAAAAABAQAAAAAAAAAAAAAAAAAAAAAAAAAAAAAAAAAAAAAAAABBAAAAAAAAAAAAAAAAAAABRQAAAAAAAgFRAAAAAAACAS0AAAAAAAADwPwAAAAAAAAAAAAAAAAAAAAAAAAAAAAAAAAAAAAAAAAAAAAAAAAAAAAAAAAAAAAAAAAAAAAAAQFNAAAAAAADAU0AAAAAAAABXQAAAAAAAgE5AAAAAAAAAQkAAAAAAAAA2QAAAAAAAAPA/AAAAAAAAAAAAAAAAAAA9QAAAAAAAgEhAAAAAAAAASEAAAAAAAAA2QAAAAAAAgERAAAAAAAAANUAAAAAAAAAAAAAAAAAAAAAAAAAAAAAAQkAAAAAAAAAAAAAAAAAAAAAAAAAAAAAAAAAAAAAAAAAAAAAAAAAAAAAAAAAAAAAAAAAAAAAAAAAAAAAAAAAAgE1AAAAAAAAAAAAAAAAAAIBTQAAAAAAAQFhAAAAAAAAAAAAAAAAAAAAAAAAAAAAAAAAAAAAAAAAAAAAAAAAAAAAiQAAAAAAAwFNAAAAAAAAAAAAAAAAAAAAAAAAAAAAAAAAAAAAAAAAANkAAAAAAAAA1QAAAAAAAACRAAAAAAAAAAAAAAAAAAAAAAAAAAAAAAFVAAAAAAAAAAAAAAAAAAAA8QAAAAAAAwFJAAAAAAAAAAAAAAAAAAAAAAAAAAAAAwFdAAAAAAAAA8D8AAAAAAAAAAAAAAAAAAAAAAAAAAAAAKkAAAAAAAAAAQAAAAAAAABRAAAAAAAAAAEAAAAAAAAAiQAAAAAAAAAhAAAAAAAAAKkAAAAAAAAAiQAAAAAAAAAhAAAAAAAAAAAAAAAAAAMBXQAAAAAAAAAAAAAAAAACAQ0AAAAAAAEBYQAAAAAAAABhAAAAAAAAAAAAAAAAAAAAIQAAAAAAAgFZAAAAAAADAU0AAAAAAAAAAAAAAAAAAAD9AAAAAAAAAAAAAAAAAAAAwQAAAAAAAAE9AAAAAAAAAAAAAAAAAAAAAAAAAAAAAADtAAAAAAAAAAAAAAAAAAIBDQAAAAAAAwFRAAAAAAAAALEAAAAAAAAAAAAAAAAAAgFZAAAAAAAAA8D8AAAAAAAAAAAAAAAAAADFAAAAAAADAUkAAAAAAAAAAAAAAAAAAgEhAAAAAAACATEAAAAAAAAAiQAAAAAAAADZAAAAAAACARUAAAAAAAAAAAAAAAAAAAFZAAAAAAADAVUAAAAAAAIBAQAAAAAAAACpAAAAAAAAAAAAAAAAAAAAAAAAAAAAAAEBAAAAAAAAAO0AAAAAAAAA4QAAAAAAAQFNAAAAAAAAATEAAAAAAAIBOQAAAAAAAwFJAAAAAAAAAVEAAAAAAAABRQAAAAAAAAEBAAAAAAAAAUEAAAAAAAAAAAAAAAAAAAAAAAAAAAAAAAAAAAAAAAAAAAAAAAAAAAFFAAAAAAAAATkAAAAAAAABTQAAAAAAAADRAAAAAAAAAAAAAAAAAAAA8QAAAAAAAAD9AAAAAAAAAOEAAAAAAAMBTQAAAAAAAAAAAAAAAAAAA8D8AAAAAAAAAAAAAAAAAwFFAAAAAAABAWEAAAAAAAAAAAAAAAAAAAAAAAAAAAADAU0AAAAAAAEBQQAAAAAAAAEFAAAAAAAAAREAAAAAAAIBCQAAAAAAAAE9AAAAAAAAA8D8AAAAAAAAAAAAAAAAAADdAAAAAAAAANEAAAAAAAAAAAAAAAAAAAAAAAAAAAAAAREAAAAAAAIBWQAAAAAAAgFJAAAAAAAAAFEAAAAAAAAAAAAAAAAAAADxAAAAAAACATUAAAAAAAIBOQAAAAAAAwFZAAAAAAAAAVkAAAAAAAABTQAAAAAAAAPA/AAAAAAAAAAAAAAAAAAAAAAAAAAAAAAAAAAAAAACAREAAAAAAAIBOQAAAAAAAAAAAAAAAAAAAVkAAAAAAAEBQQAAAAAAAAAAAAAAAAAAAAAAAAAAAAAAsQAAAAAAAADFAAAAAAAAAAAAAAAAAAAAAAAAAAAAAAAAAAAAAAAAAMkAAAAAAAIBKQAAAAAAAABBAAAAAAAAAAAAAAAAAAAAAQAAAAAAAACJAAAAAAAAAAAAAAAAAAAAAAAAAAAAAAAAAAAAAAAAATEAAAAAAAABEQAAAAAAAAExAAAAAAACAQEAAAAAAAAAAAAAAAAAAAAAAAAAAAAAAN0AAAAAAAEBWQAAAAAAAwFBAAAAAAAAAAAAAAAAAAAAAAAAAAAAAAAAAAAAAAAAAV0AAAAAAAEBYQAAAAAAAAFZAAAAAAAAAOUAAAAAAAAAAAAAAAAAAAAAAAAAAAAAAAAAAAAAAAAA2QAAAAAAAAE5AAAAAAAAATUAAAAAAAIBEQAAAAAAAAAhAAAAAAAAAAAAAAAAAAAAAQAAAAAAAAFFAAAAAAAAAAAAAAAAAAAAAAAAAAAAAAAAAAAAAAAAAAAAAAAAAAIBFQAAAAAAAwFRAAAAAAAAAAAAAAAAAAAAgQAAAAAAAQFdAAAAAAAAAQ0AAAAAAAAAAAAAAAAAAAAAAAAAAAAAAAAAAAAAAAEBYQAAAAAAAAEdAAAAAAAAAPUAAAAAAAAAAAAAAAAAAAAAAAAAAAAAAMkAAAAAAAABIQAAAAAAAQFhAAAAAAACASkAAAAAAAABRQAAAAAAAAAAAAAAAAAAAAAAAAAAAAAAwQAAAAAAAAAAAAAAAAACAQUAAAAAAAAAAAAAAAAAAAAAAAAAAAAAAAAAAAAAAAEBYQAAAAAAAgENAAAAAAAAAAAAAAAAAAAAyQAAAAAAAAEpAAAAAAAAAQkAAAAAAAADwPwAAAAAAAAAAAAAAAAAAAAAAAAAAAIBIQAAAAAAAAD9AAAAAAACAT0AAAAAAAABHQAAAAAAAAAAAAAAAAAAAAAAAAAAAAIBXQAAAAAAAQFhAAAAAAADAVEAAAAAAAAAAAAAAAAAAAAAAAAAAAACASkAAAAAAAIBBQAAAAAAAAAAAAAAAAAAAAAAAAAAAAAAAAAAAAAAAgEpAAAAAAAAATUAAAAAAAAAAAAAAAAAAABhAAAAAAAAAAAAAAAAAAMBTQAAAAAAAgEtAAAAAAACATEAAAAAAAEBYQAAAAAAAAFhAAAAAAACAUkAAAAAAAADwPwAAAAAAAAAAAAAAAACAVkAAAAAAAIBFQAAAAAAAgE5AAAAAAAAAAAAAAAAAAAAAAAAAAAAAAEZAAAAAAAAAAAAAAAAAAAAAAAAAAAAAAAAAAAAAAAAAAAAAAAAAAAAmQAAAAAAAAEFAAAAAAABAUUAAAAAAAIBFQAAAAAAAgEhAAAAAAACAQEAAAAAAAAAAAAAAAAAAAFdAAAAAAACAWEAAAAAAAABQQAAAAAAAAEhAAAAAAACAWEAAAAAAAAA9QAAAAAAAAEVAAAAAAAAAAAAAAAAAAAAAAAAAAAAAACZAAAAAAAAAAAAAAAAAAAAAAAAAAAAAAAAAAAAAAAAAAAAAAAAAAAAAAAAAAAAAAD9AAAAAAAAALEAAAAAAAABEQAAAAAAAgEtAAAAAAAAAAAAAAAAAAAAAAAAAAAAAAAAAAAAAAAAAAAAAAAAAAAA0QAAAAAAAAFBAAAAAAAAAAAAAAAAAAABDQAAAAAAAAEpAAAAAAADAVUAAAAAAAMBRQAAAAAAAAFFAAAAAAAAAMkAAAAAAAAAAAAAAAAAAAAAAAAAAAAAAAAAAAAAAAAAAAAAAAAAAAABAAAAAAAAASUAAAAAAAABTQAAAAAAAgFZAAAAAAAAAUEAAAAAAAAAAAAAAAAAAgENAAAAAAABAWEAAAAAAAABAQAAAAAAAAAAAAAAAAAAAAAAAAAAAAAAAAAAAAAAAAAAAAAAAAAAA8D8AAAAAAADwPwAAAAAAAAAAAAAAAAAAAAAAAAAAAAAAAAAAAAAAAAAAAAAAAABAUUAAAAAAAAAAAAAAAAAAAAAAAAAAAAAAAAAAAAAAAAAAAAAAAAAAAAAAAAAAAADAUUAAAAAAAEBWQAAAAAAAQFhAAAAAAAAAAAAAAAAAAABIQAAAAAAAQFRAAAAAAACAVEAAAAAAAIBWQAAAAAAAgFdAAAAAAADAUkAAAAAAAEBRQAAAAAAAAAAAAAAAAAAAAAAAAAAAAIBEQAAAAAAAACpAAAAAAAAAAAAAAAAAAIBCQAAAAAAAQFNAAAAAAAAAVkAAAAAAAAAAAAAAAAAAAAAAAAAAAACASUAAAAAAAEBYQAAAAAAAAD5AAAAAAAAAAAAAAAAAAAAAAAAAAAAAAAAAAAAAAABAVUAAAAAAAIBCQAAAAAAAADBAAAAAAAAAAAAAAAAAAAAAAAAAAAAAgEFAAAAAAABAUkAAAAAAAAAAAAAAAAAAAAAAAAAAAAAAIkAAAAAAAAAIQAAAAAAAgFJAAAAAAAAAAAAAAAAAAAAuQAAAAAAAAAAAAAAAAAAAAAAAAAAAAAAAAAAAAAAAAD1AAAAAAABAUEAAAAAAAIBQQAAAAAAAQFhAAAAAAAAAAAAAAAAAAAAuQAAAAAAAAAAAAAAAAAAAAAAAAAAAAAA2QAAAAAAAABhAAAAAAAAAPEAAAAAAAAAAAAAAAAAAQFhAAAAAAAAA8D8AAAAAAAAAAAAAAAAAgE5AAAAAAAAAAAAAAAAAAAAAAAAAAAAAAFJAAAAAAADAU0AAAAAAAABVQAAAAAAAAPA/AAAAAAAAAAAAAAAAAAAAAAAAAAAAgEZAAAAAAABAWEAAAAAAAIBNQAAAAAAAACJAAAAAAAAAAAAAAAAAAAAAAAAAAAAAADJAAAAAAAAAO0AAAAAAAAA1QAAAAAAAwFZAAAAAAAAAAAAAAAAAAIBSQAAAAAAAgEdAAAAAAAAAAAAAAAAAAAAAAAAAAAAAAEtAAAAAAACAUkAAAAAAAABDQAAAAAAAgEJAAAAAAAAAAAAAAAAAAAAAAAAAAAAAAAAAAAAAAADAU0AAAAAAAEBYQAAAAAAAQFhAAAAAAAAAAAAAAAAAAAA1QAAAAAAAAE9AAAAAAAAAPUAAAAAAAAAAAAAAAAAAQFhAAAAAAAAAUUAAAAAAAEBVQAAAAAAAQFVAAAAAAAAAAAAAAAAAAAAAAAAAAAAAAAAAAAAAAABAV0AAAAAAAEBYQAAAAAAAQFNAAAAAAAAAAAAAAAAAAAAzQAAAAAAAABBAAAAAAAAAAAAAAAAAAABJQAAAAAAAAPA/AAAAAAAAAAAAAAAAAAA1QAAAAAAAAEpAAAAAAACAREAAAAAAAAAAAAAAAAAAAAAAAAAAAADAVEAAAAAAAAAAAAAAAAAAQFhAAAAAAABAWEAAAAAAAIBKQAAAAAAAAE1AAAAAAAAAR0AAAAAAAABDQAAAAAAAgERAAAAAAAAAKkAAAAAAAADwPwAAAAAAAPA/AAAAAAAAAAAAAAAAAAAAAAAAAAAAAAAAAAAAAAAAAAAAAAAAAABUQAAAAAAAwFZAAAAAAADAU0AAAAAAAAAsQAAAAAAAAAAAAAAAAAAAAAAAAAAAAMBXQAAAAAAAQFVAAAAAAAAAAAAAAAAAAABQQAAAAAAAADFAAAAAAAAAAAAAAAAAAAAAAAAAAAAAACZAAAAAAACAVEAAAAAAAEBVQAAAAAAAAAAAAAAAAAAALkAAAAAAAAAAAAAAAAAAgENAAAAAAAAALEAAAAAAAAAAAAAAAAAAAAAAAAAAAAAAAAAAAAAAAAAAAAAAAAAAgEFAAAAAAABAWEAAAAAAAAAAAAAAAAAAAAAAAAAAAAAAAAAAAAAAAIBOQAAAAAAAAEJAAAAAAAAAR0AAAAAAAEBSQAAAAAAAgFVAAAAAAABAWEAAAAAAAABEQAAAAAAAADRAAAAAAAAAIkAAAAAAAAAAAAAAAAAAAEVAAAAAAABAUUAAAAAAAIBLQAAAAAAAAAAAAAAAAACAT0AAAAAAAAAAAAAAAAAAAAAAAAAAAAAAAAAAAAAAAAA8QAAAAAAAgE1AAAAAAABAVUAAAAAAAEBYQAAAAAAAQFJAAAAAAACAQUAAAAAAAAAkQAAAAAAAAAAAAAAAAAAAKEAAAAAAAIBWQAAAAAAAAAAAAAAAAAAAAAAAAAAAAAAAAAAAAAAAAFZAAAAAAAAAAAAAAAAAAAAAAAAAAAAAABBAAAAAAACASkAAAAAAAIBCQAAAAAAAAAAAAAAAAAAAAAAAAAAAAEBYQAAAAAAAADVAAAAAAAAAAAAAAAAAAAAyQAAAAAAAgFJAAAAAAAAAREAAAAAAAAAqQAAAAAAAAEhAAAAAAAAAAAAAAAAAAAAAAAAAAAAAADZAAAAAAAAAAAAAAAAAAABLQAAAAAAAAEdAAAAAAAAARkAAAAAAAAA0QAAAAAAAAAAAAAAAAAAAAAAAAAAAAAAAAAAAAAAAAAAAAAAAAAAAREAAAAAAAIBKQAAAAAAAwFBAAAAAAADAU0AAAAAAAABSQAAAAAAAAE1AAAAAAAAAAAAAAAAAAAAAAAAAAAAAAAAAAAAAAAAAAAAAAAAAAAAAAAAAAAAAAAAAAAAAAAAAVUAAAAAAAAAAAAAAAAAAAAAAAAAAAAAAAAAAAAAAAAAAAAAAAAAAAAhAAAAAAAAAM0AAAAAAAABYQAAAAAAAAFdAAAAAAADAUkAAAAAAAEBYQAAAAAAAADFAAAAAAAAAAAAAAAAAAEBYQAAAAAAAAAAAAAAAAAAAAAAAAAAAAAAzQAAAAAAAQFNAAAAAAAAAVUAAAAAAAIBWQAAAAAAAAExAAAAAAAAAAAAAAAAAAABGQAAAAAAAQFhAAAAAAADAU0AAAAAAAAAAAAAAAAAAAAAAAAAAAAAAUkAAAAAAAEBXQAAAAAAAAAAAAAAAAAAAOEAAAAAAAABKQAAAAAAAQFdAAAAAAABAUUAAAAAAAAAAAAAAAAAAADtAAAAAAAAAR0AAAAAAAABLQAAAAAAAgEtAAAAAAAAAAAAAAAAAAAAAAAAAAAAAABRAAAAAAAAACEAAAAAAAAAAAAAAAAAAAE9AAAAAAAAAS0AAAAAAAAAAAAAAAAAAAAAAAAAAAABAVkAAAAAAAABIQAAAAAAAAAAAAAAAAAAAAAAAAAAAAIBFQAAAAAAAAPA/AAAAAAAAAAAAAAAAAAAzQAAAAAAAAD1AAAAAAAAAAAAAAAAAAMBRQAAAAAAAAAAAAAAAAAAAIkAAAAAAAEBYQAAAAAAAAD1AAAAAAAAAAAAAAAAAAEBYQAAAAAAAAFRAAAAAAAAAAAAAAAAAAAAAAAAAAAAAgFBAAAAAAABAWEAAAAAAAAAzQAAAAAAAAAAAAAAAAAAAAAAAAAAAAAA4QAAAAAAAAFRAAAAAAAAAAAAAAAAAAAAAAAAAAAAAAE5AAAAAAAAA8D8AAAAAAAAAAAAAAAAAAAAAAAAAAAAARUAAAAAAAABUQAAAAAAAAAAAAAAAAAAAKkAAAAAAAAAAAAAAAAAAAAAAAAAAAACARUAAAAAAAEBTQAAAAAAAQFBAAAAAAAAAQUAAAAAAAAAAAAAAAAAAAAAAAAAAAAAAVEAAAAAAAAAQQAAAAAAAAAAAAAAAAAAAAAAAAAAAAAA3QAAAAAAAgFJAAAAAAAAAAAAAAAAAAAAAAAAAAAAAgEpAAAAAAAAAAAAAAAAAAIBTQAAAAAAAAFZAAAAAAAAAV0AAAAAAAIBSQAAAAAAAAAAAAAAAAACARUAAAAAAAIBIQAAAAAAAAAAAAAAAAAAAAAAAAAAAAAA1QAAAAAAAgFBAAAAAAACAQ0AAAAAAAAAAAAAAAAAAAD5AAAAAAACAU0AAAAAAAABLQAAAAAAAADtAAAAAAAAAAAAAAAAAAIBXQAAAAAAAQFhAAAAAAAAA8D8AAAAAAAAAAAAAAAAAAAAAAAAAAAAAOEAAAAAAAAA3QAAAAAAAAE1AAAAAAACATEAAAAAAAEBRQAAAAAAAAENAAAAAAAAAAAAAAAAAAABEQAAAAAAAAD1AAAAAAAAASUAAAAAAAAA/QAAAAAAAgEBAAAAAAAAAPkAAAAAAAAAAAAAAAAAAAFJAAAAAAABAVkAAAAAAAEBTQAAAAAAAAPA/AAAAAAAAAAAAAAAAAEBYQAAAAAAAQFhAAAAAAAAAVkAAAAAAAABOQAAAAAAAAAAAAAAAAAAA8D8AAAAAAAAcQAAAAAAAAABAAAAAAAAA8D8AAAAAAAAoQAAAAAAAAABAAAAAAAAAIEAAAAAAAAAUQAAAAAAAADFAAAAAAAAAAAAAAAAAAAA2QAAAAAAAAAhAAAAAAAAAAAAAAAAAAIBRQAAAAAAAAEZAAAAAAAAAAAAAAAAAAAA1QAAAAAAAAAAAAAAAAADAV0AAAAAAAAAAAAAAAAAAAFZAAAAAAAAAAAAAAAAAAIBTQAAAAAAAAAAAAAAAAACAVEAAAAAAAMBQQAAAAAAAAAAAAAAAAABAVUAAAAAAAIBWQAAAAAAAAAAAAAAAAAAAAAAAAAAAAABDQAAAAAAAAFNAAAAAAACAU0AAAAAAAAA2QAAAAAAAAAAAAAAAAAAAAAAAAAAAAAA5QAAAAAAAQFhAAAAAAAAAT0AAAAAAAIBDQAAAAAAAAAAAAAAAAACAQkAAAAAAAIBLQAAAAAAAwFdAAAAAAAAARUAAAAAAAAAUQAAAAAAAAAAAAAAAAAAAAAAAAAAAAAAAAAAAAAAAAAAAAAAAAAAAAAAAAAAAAIBSQAAAAAAAAAAAAAAAAACAS0AAAAAAAABPQAAAAAAAAFNAAAAAAABAUUAAAAAAAEBYQAAAAAAAQFNAAAAAAACAUkAAAAAAAAAAAAAAAAAAADRAAAAAAACAR0AAAAAAAAAAAAAAAAAAADdAAAAAAAAAVkAAAAAAAAA3QAAAAAAAAPA/AAAAAACAR0AAAAAAAAAuQAAAAAAAAAAAAAAAAAAAAAAAAAAAAAAAAAAAAAAAQFhAAAAAAACAT0AAAAAAAAAAAAAAAAAAABxAAAAAAADAV0AAAAAAAAA0QAAAAAAAgEFAAAAAAACAQkAAAAAAAAAAAAAAAAAAAAAAAAAAAACAUEAAAAAAAABRQAAAAAAAgE1AAAAAAAAAAAAAAAAAAAAAAAAAAAAAAAAAAAAAAADAUkAAAAAAAAAAAAAAAAAAAAAAAAAAAAAAAAAAAAAAAABGQAAAAAAAAPA/AAAAAAAAAAAAAAAAAAAAAAAAAAAAAAAAAAAAAAAAAAAAAAAAAIBAQAAAAAAAQFZAAAAAAACATEAAAAAAAIBMQAAAAAAAADBAAAAAAAAA8D8AAAAAAAAAAAAAAAAAQFhAAAAAAABAWEAAAAAAAIBVQAAAAAAAgE1AAAAAAAAAHEAAAAAAAAAAAAAAAAAAAAAAAAAAAACAVkAAAAAAAMBTQAAAAAAAQFBAAAAAAABAVEAAAAAAAAAAAAAAAAAAAAAAAAAAAADAU0AAAAAAAAAAAAAAAAAAAABAAAAAAAAAIEAAAAAAAAAqQAAAAAAAAAAAAAAAAAAAAAAAAAAAAAAxQAAAAAAAAEdAAAAAAABAWEAAAAAAAABJQAAAAAAAwFVAAAAAAACAVUAAAAAAAAAiQAAAAAAAgEJAAAAAAAAANUAAAAAAAAAYQAAAAAAAADZAAAAAAACAREAAAAAAAAAAAAAAAAAAAPA/AAAAAAAAOUAAAAAAAAAAAAAAAAAAAPA/AAAAAAAAAAAAAAAAAAAUQAAAAAAAAAAAAAAAAAAA8D8AAAAAAAAAAAAAAAAAAAAAAAAAAAAAAAAAAAAAAAAAAAAAAAAAAAAAAAAAAAAAAAAAAAAAAABWQAAAAAAAACRAAAAAAAAAAAAAAAAAAAAwQAAAAAAAAFZAAAAAAACATkAAAAAAAIBDQAAAAAAAAAAAAAAAAAAAT0AAAAAAAIBPQAAAAAAAgFNAAAAAAACAUEAAAAAAAAAAAAAAAAAAADJAAAAAAACAWEAAAAAAAABWQAAAAAAAwFRAAAAAAAAAVkAAAAAAAABCQAAAAAAAAAAAAAAAAAAAAAAAAAAAAMBQQAAAAAAAgEdAAAAAAACARkAAAAAAAAAAAAAAAAAAAAAAAAAAAAAAAAAAAAAAAAAuQAAAAAAAAChAAAAAAAAAAAAAAAAAAIBPQAAAAAAAgFhAAAAAAACASEAAAAAAAMBRQAAAAAAAACpAAAAAAAAA8D8AAAAAAAA9QAAAAAAAAAAAAAAAAAAAAAAAAAAAAAAAAAAAAAAAQFhAAAAAAABAWEAAAAAAAABBQAAAAAAAAExAAAAAAAAAP0AAAAAAAAAAAAAAAAAAAAhAAAAAAABAVEAAAAAAAAAAAAAAAAAAAAAAAAAAAAAAOUAAAAAAAAAAAAAAAAAAAAAAAAAAAAAAAAAAAAAAAEBYQAAAAAAAADpAAAAAAACAQ0AAAAAAAADwPwAAAAAAAAAAAAAAAAAAAAAAAAAAAAAAAAAAAAAAAAAAAAAAAAAAAAAAAAAAAMBWQAAAAAAAAFZAAAAAAAAAQ0AAAAAAAABEQAAAAAAAgEBAAAAAAAAAAAAAAAAAAAAAAAAAAAAAAAAAAAAAAACASkAAAAAAAAAAAAAAAAAAAEBAAAAAAADAUEAAAAAAAMBWQAAAAAAAAExAAAAAAAAAAAAAAAAAAAAAAAAAAAAAgFNAAAAAAACAS0AAAAAAAAAAAAAAAAAAAAAAAAAAAAAAAEAAAAAAAAAAAAAAAAAAAAAAAAAAAABAUUAAAAAAAEBQQAAAAAAAgEVAAAAAAAAAAAAAAAAAAABJQAAAAAAAgEFAAAAAAAAAQkAAAAAAAIBCQAAAAAAAAAAAAAAAAAAAAAAAAAAAAAAAAAAAAAAAAAAAAAAAAAAA8D8AAAAAAAA2QAAAAAAAADtAAAAAAAAAO0AAAAAAAIBAQAAAAAAAAExAAAAAAAAAJEAAAAAAAABFQAAAAAAAADdAAAAAAAAAAAAAAAAAAAAAAAAAAAAAQFdAAAAAAAAA8D8AAAAAAAAAAAAAAAAAADlAAAAAAACAQUAAAAAAAMBRQAAAAAAAAFNAAAAAAAAAAAAAAAAAAMBQQAAAAAAAAENAAAAAAAAA8D8AAAAAAAAAAAAAAAAAAAAAAAAAAAAAAAAAAAAAAAAAAAAAAAAAAElAAAAAAAAA8D8AAAAAAAA+QAAAAAAAAAAAAAAAAAAAAAAAAAAAAAAAAAAAAAAAABhAAAAAAAAAAAAAAAAAAAAAAAAAAAAAQFBAAAAAAABAWEAAAAAAAIBRQAAAAAAAQFZAAAAAAAAAAAAAAAAAAEBTQAAAAAAAwFdAAAAAAACAU0AAAAAAAAAzQAAAAAAAAAAAAAAAAAAAAAAAAAAAAIBLQAAAAAAAAEdAAAAAAAAAAAAAAAAAAAAAAAAAAAAAAFNAAAAAAAAAJEAAAAAAAAAAAAAAAAAAAPA/AAAAAAAAAAAAAAAAAAAAAAAAAAAAAFZAAAAAAAAAU0AAAAAAAMBWQAAAAAAAAAAAAAAAAAAAAAAAAAAAAAAAAAAAAAAAAFRAAAAAAACAVEAAAAAAAEBYQAAAAAAAQFhAAAAAAACAREAAAAAAAIBIQAAAAAAAAAAAAAAAAAAAPkAAAAAAAABOQAAAAAAAgElAAAAAAAAAOEAAAAAAAAAAAAAAAAAAAAAAAAAAAACARkAAAAAAAEBUQAAAAAAAAAAAAAAAAAAAAAAAAAAAAAAAAAAAAAAAgERAAAAAAAAAAAAAAAAAAAAAAAAAAAAAAFdAAAAAAAAAAAAAAAAAAIBIQAAAAAAAAFFAAAAAAAAAUUAAAAAAAIBPQAAAAAAAgFVAAAAAAACAVkAAAAAAAAA1QAAAAAAAAAAAAAAAAACAREAAAAAAAEBUQAAAAAAAQFhAAAAAAABAWEAAAAAAAAAAAAAAAAAAAAAAAAAAAAAACEAAAAAAAMBRQAAAAAAAwFZAAAAAAAAAAAAAAAAAAAAAAAAAAAAAAABAAAAAAACAS0AAAAAAAIBFQAAAAAAAAAAAAAAAAAAAAAAAAAAAAABKQAAAAAAAAAAAAAAAAAAAPUAAAAAAAAAAAAAAAAAAAAAAAAAAAAAAAAAAAAAAAAAAAAAAAAAAAAAAAAAAAACATUAAAAAAAAAgQAAAAAAAAAAAAAAAAAAAAAAAAAAAAAA2QAAAAAAAAAhAAAAAAAAAIkAAAAAAAABLQAAAAAAAAAAAAAAAAACAQkAAAAAAAEBYQAAAAAAAgFdAAAAAAAAAQkAAAAAAAIBCQAAAAAAAAAAAAAAAAAAAAAAAAAAAAAAAAAAAAAAAAChAAAAAAAAAU0AAAAAAAMBTQAAAAAAAAAAAAAAAAAAAAAAAAAAAAAAAAAAAAAAAAAAAAAAAAACAV0AAAAAAAADwPwAAAAAAAAAAAAAAAAAAOUAAAAAAAABYQAAAAAAAwFRAAAAAAAAAR0AAAAAAAAAgQAAAAAAAAPA/AAAAAAAAFEAAAAAAAADwPwAAAAAAAAAAAAAAAAAAAAAAAAAAAIBEQAAAAAAAQFZAAAAAAAAATEAAAAAAAAAAAAAAAAAAAAAAAAAAAAAAOkAAAAAAAAAgQAAAAAAAACpAAAAAAAAAAAAAAAAAAAAAAAAAAAAAAAAAAAAAAABAWEAAAAAAAIBSQAAAAAAAAPA/AAAAAAAAAAAAAAAAAAAkQAAAAAAAAFNAAAAAAABAWEAAAAAAAAA4QAAAAAAAAAAAAAAAAACAS0AAAAAAAAAAAAAAAAAAgEFAAAAAAACAT0AAAAAAAIBAQAAAAAAAAAAAAAAAAAAAAAAAAAAAAAA+QAAAAAAAAE9AAAAAAAAAAAAAAAAAAAAAAAAAAAAAAAAAAAAAAACAU0AAAAAAAIBDQAAAAAAAAEFAAAAAAAAAHEAAAAAAAAAQQAAAAAAAAExAAAAAAACAUUAAAAAAAABUQAAAAAAAgE5AAAAAAACASkAAAAAAAAAAAAAAAAAAAAAAAAAAAAAAAAAAAAAAAABEQAAAAAAAAEZAAAAAAAAALEAAAAAAAAAAAAAAAAAAAAAAAAAAAAAAAAAAAAAAAAAAAAAAAAAAADFAAAAAAAAANUAAAAAAAIBMQAAAAAAAQFJAAAAAAACAWEAAAAAAAIBSQAAAAAAAgFZAAAAAAAAALkAAAAAAAAAkQAAAAAAAACpAAAAAAAAAAAAAAAAAAAAAAAAAAAAAAAAAAAAAAAAAPUAAAAAAAABKQAAAAAAAAExAAAAAAACASUAAAAAAAAAAAAAAAAAAAEBAAAAAAADAUUAAAAAAAIBBQAAAAAAAADdAAAAAAAAAAAAAAAAAAABXQAAAAAAAAERAAAAAAAAAAAAAAAAAAAAAAAAAAAAAgEhAAAAAAACATUAAAAAAAEBYQAAAAAAAAFVAAAAAAADAVUAAAAAAAAAAAAAAAAAAAAAAAAAAAACARkAAAAAAAABGQAAAAAAAAFBAAAAAAAAAAAAAAAAAAAAAAAAAAAAAAAAAAAAAAAAAAAAAAAAAAMBWQAAAAAAAAAAAAAAAAAAAOkAAAAAAAAAUQAAAAAAAAEFAAAAAAAAAGEAAAAAAAAAAAAAAAAAAAEhAAAAAAABAWEAAAAAAAADwPwAAAAAAAAAAAAAAAAAAAAAAAAAAAIBEQAAAAAAAAFRAAAAAAADAUEAAAAAAAEBYQAAAAAAAQFhAAAAAAABAVUAAAAAAAAAAAAAAAAAAAAAAAAAAAAAAJEAAAAAAAAAAAAAAAAAAAC5AAAAAAACARkAAAAAAAIBWQAAAAAAAAAAAAAAAAAAAAAAAAAAAAAA/QAAAAAAAAAAAAAAAAAAAAAAAAAAAAAAAAAAAAAAAwFVAAAAAAABAWEAAAAAAAMBRQAAAAAAAgEBAAAAAAAAAAAAAAAAAAAAAAAAAAAAAAAAAAAAAAAAAAAAAAAAAAAAAAAAAAAAAgFRAAAAAAAAAAAAAAAAAAAAsQAAAAAAAADRAAAAAAAAAAAAAAAAAAAAAAAAAAAAAwFVAAAAAAABAUkAAAAAAAIBXQAAAAAAAgEFAAAAAAAAAAAAAAAAAAAAAAAAAAAAAAAAAAAAAAAAAAAAAAAAAAEBXQAAAAAAAQFNAAAAAAABAU0AAAAAAAABYQAAAAAAAAAAAAAAAAAAAAAAAAAAAAAAAAAAAAAAAAAAAAAAAAAAAJEAAAAAAAABIQAAAAAAAAAAAAAAAAAAAAAAAAAAAAEBUQAAAAAAAAAAAAAAAAAAAAAAAAAAAAMBSQAAAAAAAAEZAAAAAAAAAAAAAAAAAAAAAAAAAAAAAACxAAAAAAAAAVUAAAAAAAADwPwAAAAAAAAAAAAAAAAAAAAAAAAAAAAAAAAAAAAAAQFhAAAAAAABAUUAAAAAAAEBUQAAAAAAAgFBAAAAAAAAAUkAAAAAAAAA/QAAAAAAAAAAAAAAAAAAAAAAAAAAAAABGQAAAAAAAAEtAAAAAAAAAVUAAAAAAAAAAAAAAAAAAAAAAAAAAAAAAAAAAAAAAAIBPQAAAAAAAAAAAAAAAAAAAAAAAAAAAAAAAAAAAAAAAQFZAAAAAAACAUUAAAAAAAABYQAAAAAAAAE9AAAAAAAAAAAAAAAAAAAAAAAAAAAAAAAAAAAAAAAAAAAAAAAAAAAAAAAAAAAAAAD5AAAAAAACAVkAAAAAAAIBVQAAAAAAAwFNAAAAAAACAU0AAAAAAAEBVQAAAAAAAQFhAAAAAAABAWEAAAAAAAAAAAAAAAAAAgEhAAAAAAACAUUAAAAAAAIBEQAAAAAAAAAAAAAAAAAAAMkAAAAAAAAA3QAAAAAAAwFBAAAAAAAAAFEAAAAAAAAAAAAAAAAAAAAAAAAAAAAAAAAAAAAAAAAA8QAAAAAAAgFRAAAAAAAAAAAAAAAAAAAAAAAAAAAAAADZAAAAAAABAVUAAAAAAAAA4QAAAAAAAAPA/AAAAAAAAAAAAAAAAAAAAAAAAAAAAAAAAAAAAAAAAAAAAAAAAAAA4QAAAAAAAwFRAAAAAAABAWEAAAAAAAABLQAAAAAAAAAAAAAAAAAAAAAAAAAAAAEBYQAAAAAAAAAAAAAAAAAAAAAAAAAAAAAA2QAAAAAAAwFBAAAAAAACAU0AAAAAAAEBXQAAAAAAAAE5AAAAAAACAUEAAAAAAAAAAAAAAAAAAAAAAAAAAAAAAAAAAAAAAAAAAAAAAAAAAAFFAAAAAAACAUUAAAAAAAABAQAAAAAAAAAAAAAAAAAAAWEAAAAAAAIBXQAAAAAAAgEpAAAAAAAAAAAAAAAAAAIBIQAAAAAAAQFdAAAAAAABAWEAAAAAAAAAAAAAAAAAAAAAAAAAAAAAAOUAAAAAAAAAAAAAAAAAAAFVAAAAAAAAAN0AAAAAAAAAAAAAAAAAAAAAAAAAAAAAACEAAAAAAAAAAAAAAAAAAAAAAAAAAAAAAAAAAAAAAAAA3QAAAAAAAAPA/AAAAAAAAAAAAAAAAAAAAAAAAAAAAAAAAAAAAAAAAAAAAAAAAAAAzQAAAAAAAQFRAAAAAAAAAQ0AAAAAAAAAsQAAAAAAAAD1AAAAAAAAAAAAAAAAAAABYQAAAAAAAQFFAAAAAAAAAVkAAAAAAAABIQAAAAAAAgFJAAAAAAAAAAAAAAAAAAAAAAAAAAAAAAAAAAAAAAAAAQkAAAAAAAIBWQAAAAAAAQFJAAAAAAAAAO0AAAAAAAAAAAAAAAAAAADlAAAAAAAAAQEAAAAAAAIBJQAAAAAAAAAAAAAAAAAAAAAAAAAAAAIBTQAAAAAAAAAAAAAAAAAAAAAAAAAAAAAAAAAAAAAAAAAAAAAAAAAAAAAAAAAAAAADwPwAAAAAAABRAAAAAAAAAAEAAAAAAAAAUQAAAAAAAAAhAAAAAAAAAHEAAAAAAAAAQQAAAAAAAAABAAAAAAAAAFEAAAAAAAAAUQAAAAAAAAAAAAAAAAAAAAAAAAAAAAIBPQAAAAAAAAAAAAAAAAAAAAAAAAAAAAAA5QAAAAAAAAAAAAAAAAAAANUAAAAAAAIBQQAAAAAAAQFdAAAAAAACAQkAAAAAAAAAAAAAAAAAAAD5AAAAAAACAQUAAAAAAAAAAAAAAAAAAAAAAAAAAAAAAAAAAAAAAAIBAQAAAAAAAAAAAAAAAAAAAAAAAAAAAAAAAAAAAAAAAAAAAAAAAAAAAOEAAAAAAAAAUQAAAAAAAABBAAAAAAAAAJkAAAAAAAABXQAAAAAAAAFVAAAAAAADAUkAAAAAAAABNQAAAAAAAAAAAAAAAAAAAAAAAAAAAAAAAAAAAAAAAwFNAAAAAAAAAAAAAAAAAAAAAAAAAAAAAAAAAAAAAAAAAAAAAAAAAAAA4QAAAAAAAgElAAAAAAACATEAAAAAAAIBVQAAAAAAAgFJAAAAAAAAANEAAAAAAAAAAAAAAAAAAAAAAAAAAAAAAAAAAAAAAAIBXQAAAAAAAgFNAAAAAAAAAQ0AAAAAAAABMQAAAAAAAAAAAAAAAAAAAAAAAAAAAAAAAAAAAAAAAAAAAAAAAAAAAAAAAAAAAAABWQAAAAAAAAFVAAAAAAACAU0AAAAAAAIBPQAAAAAAAwFFAAAAAAAAAAAAAAAAAAAAAAAAAAAAAAAAAAAAAAAAAAAAAAAAAAAAAAAAAAAAAAAAAAAAAAACAQkAAAAAAAABJQAAAAAAAAD1AAAAAAAAARUAAAAAAAEBVQAAAAAAAAAAAAAAAAAAAAAAAAAAAAABMQAAAAAAAQFJAAAAAAAAAM0AAAAAAAAAAAAAAAAAAAAAAAAAAAAAAAAAAAAAAAABXQAAAAAAAwFRAAAAAAABAWEAAAAAAAAAAAAAAAAAAAEhAAAAAAABAVkAAAAAAAAAxQAAAAAAAAPA/AAAAAAAAAAAAAAAAAAAzQAAAAAAAQFhAAAAAAAAAAAAAAAAAAAAAAAAAAAAAAAAAAAAAAAAAAAAAAAAAAABIQAAAAAAAQFJAAAAAAAAAO0AAAAAAAAAAAAAAAAAAAAAAAAAAAAAAIEAAAAAAAABIQAAAAAAAgE5AAAAAAAAAREAAAAAAAAAzQAAAAAAAAPA/AAAAAAAAMUAAAAAAAAAAAAAAAAAAAAAAAAAAAACAR0AAAAAAAIBDQAAAAAAAABxAAAAAAAAAAAAAAAAAAAAAAAAAAAAAgERAAAAAAAAAJEAAAAAAAEBYQAAAAAAAAAAAAAAAAAAAGEAAAAAAAEBYQAAAAAAAAE9AAAAAAAAAUkAAAAAAAADwPwAAAAAAACBAAAAAAAAAAAAAAAAAAAAAAAAAAAAAADtAAAAAAAAAOUAAAAAAAAAAAAAAAAAAAABAAAAAAAAAAAAAAAAAAAAAAAAAAAAAgE5AAAAAAADAUUAAAAAAAABCQAAAAAAAAD9AAAAAAAAAAAAAAAAAAABHQAAAAAAAAEVAAAAAAACAUEAAAAAAAIBBQAAAAAAAgEJAAAAAAAAAAAAAAAAAAAAAAAAAAAAAQFFAAAAAAAAAO0AAAAAAAAAAAAAAAAAAgERAAAAAAAAA8D8AAAAAAAAAAAAAAAAAAAAAAAAAAADAUEAAAAAAAAAAAAAAAAAAAEpAAAAAAAAAAAAAAAAAAAAsQAAAAAAAAPA/AAAAAAAAAAAAAAAAAEBXQAAAAAAAQFhAAAAAAABAWEAAAAAAAAAAAAAAAAAAACpAAAAAAAAAAAAAAAAAAAAAAAAAAAAAAEJAAAAAAABAUUAAAAAAAABGQAAAAAAAAAAAAAAAAAAAAAAAAAAAAEBTQAAAAAAAAFJAAAAAAAAAAAAAAAAAAAAAAAAAAAAAgEJAAAAAAAAAVkAAAAAAAAAAAAAAAAAAAAAAAAAAAAAAPkAAAAAAAEBWQAAAAAAAwFVAAAAAAAAAAAAAAAAAAAAAAAAAAAAAAEdAAAAAAAAAT0AAAAAAAABGQAAAAAAAAPA/AAAAAAAAAAAAAAAAAAAAAAAAAAAAAAAAAAAAAAAAAAAAAAAAAAA+QAAAAAAAAAAAAAAAAABAUEAAAAAAAEBSQAAAAAAAAEJAAAAAAAAAKkAAAAAAAAAAAAAAAAAAADZAAAAAAABAWEAAAAAAAEBYQAAAAAAAAAAAAAAAAAAAAAAAAAAAAAAAAAAAAAAAADtAAAAAAAAAAAAAAAAAAABMQAAAAAAAQFFAAAAAAAAAVEAAAAAAAIBXQAAAAAAAAD1AAAAAAACAQkAAAAAAAAA3QAAAAAAAAAAAAAAAAACATkAAAAAAAIBHQAAAAAAAgEBAAAAAAAAAREAAAAAAAAAAAAAAAAAAAAAAAAAAAABAUUAAAAAAAAAsQAAAAAAAAPA/AAAAAAAAAAAAAAAAAAAAAAAAAAAAgEFAAAAAAAAAFEAAAAAAAAAAAAAAAAAAAAAAAAAAAACARUAAAAAAAAAAAAAAAAAAAAAAAAAAAAAA8D8AAAAAAADwPwAAAAAAAAAAAAAAAAAAAAAAAAAAAAAAAAAAAAAAgEpAAAAAAAAAT0AAAAAAAAAAAAAAAAAAAAAAAAAAAAAAS0AAAAAAAAAAAAAAAAAAAENAAAAAAAAA8D8AAAAAAAAAAAAAAAAAAE9AAAAAAADAUUAAAAAAAIBMQAAAAAAAwFJAAAAAAABAVEAAAAAAAAAAAAAAAAAAAAAAAAAAAAAAAAAAAAAAAABGQAAAAAAAgEtAAAAAAAAALkAAAAAAAAAAAAAAAAAAgEJAAAAAAAAAUUAAAAAAAAA+QAAAAAAAAPA/AAAAAAAAAAAAAAAAAAAAAAAAAAAAAAAAAAAAAADAU0AAAAAAAABNQAAAAAAAAFJAAAAAAAAA8D8AAAAAAAAAAAAAAAAAAFBAAAAAAAAAO0AAAAAAAADwPwAAAAAAAAAAAAAAAABAU0AAAAAAAABLQAAAAAAAgEtAAAAAAAAAIEAAAAAAAAAAAAAAAAAAAAAAAAAAAAAAAAAAAAAAAABHQAAAAAAAgE9AAAAAAACAUkAAAAAAAEBYQAAAAAAAQFhAAAAAAAAAT0AAAAAAAABSQAAAAAAAQFZAAAAAAAAAAAAAAAAAAAAAAAAAAAAAAFNAAAAAAACAUEAAAAAAAEBTQAAAAAAAgENAAAAAAACATEAAAAAAAIBPQAAAAAAAAAAAAAAAAAAAAAAAAAAAAAAAAAAAAAAAADVAAAAAAAAAAAAAAAAAAAAQQAAAAAAAADpAAAAAAACAQEAAAAAAAAAAAAAAAAAAQFBAAAAAAABAVEAAAAAAAEBSQAAAAAAAQFdAAAAAAACAWEAAAAAAAAAAAAAAAAAAAPA/AAAAAAAAAAAAAAAAAAAAAAAAAAAAAAAAAAAAAAAAAAAAAAAAAAAzQAAAAAAAAAAAAAAAAACAUEAAAAAAAIBVQAAAAAAAAExAAAAAAAAAVkAAAAAAAABUQAAAAAAAgFBAAAAAAAAAEEAAAAAAAAAAAAAAAAAAAElAAAAAAAAAUEAAAAAAAIBYQAAAAAAAAAAAAAAAAAAAAAAAAAAAAIBWQAAAAAAAAFhAAAAAAACAWEAAAAAAAIBYQAAAAAAAACpAAAAAAAAA8D8AAAAAAAAAAAAAAAAAAAAAAAAAAAAAGEAAAAAAAMBSQAAAAAAAwFVAAAAAAACAWEAAAAAAAMBUQAAAAAAAgFhAAAAAAADAVkAAAAAAAAA0QAAAAAAAAAAAAAAAAAAAAAAAAAAAAABDQAAAAAAAwFdAAAAAAACAWEAAAAAAAABIQA==\",\"dtype\":\"float64\",\"shape\":[8291]}},\"selected\":{\"id\":\"1154\",\"type\":\"Selection\"},\"selection_policy\":{\"id\":\"1153\",\"type\":\"UnionRenderers\"}},\"id\":\"1116\",\"type\":\"ColumnDataSource\"},{\"attributes\":{\"data_source\":{\"id\":\"1116\",\"type\":\"ColumnDataSource\"},\"glyph\":{\"id\":\"1118\",\"type\":\"Line\"},\"hover_glyph\":null,\"muted_glyph\":null,\"view\":{\"id\":\"1121\",\"type\":\"CDSView\"}},\"id\":\"1120\",\"type\":\"GlyphRenderer\"},{\"attributes\":{},\"id\":\"1103\",\"type\":\"CrosshairTool\"},{\"attributes\":{\"fill_alpha\":{\"value\":0},\"line_width\":{\"value\":0},\"x\":{\"field\":\"x\"},\"y\":{\"field\":\"y\"}},\"id\":\"1037\",\"type\":\"Circle\"},{\"attributes\":{\"callback\":null,\"dimensions\":\"width\",\"overlay\":{\"id\":\"1152\",\"type\":\"BoxAnnotation\"}},\"id\":\"1104\",\"type\":\"BoxSelectTool\"},{\"attributes\":{},\"id\":\"1154\",\"type\":\"Selection\"},{\"attributes\":{},\"id\":\"1105\",\"type\":\"PanTool\"},{\"attributes\":{},\"id\":\"1107\",\"type\":\"SaveTool\"},{\"attributes\":{\"ticker\":{\"id\":\"1053\",\"type\":\"BasicTicker\"},\"visible\":false},\"id\":\"1056\",\"type\":\"Grid\"},{\"attributes\":{},\"id\":\"1106\",\"type\":\"ResetTool\"},{\"attributes\":{\"dimensions\":\"width\"},\"id\":\"1108\",\"type\":\"WheelZoomTool\"},{\"attributes\":{\"active_drag\":\"auto\",\"active_inspect\":\"auto\",\"active_multi\":null,\"active_scroll\":\"auto\",\"active_tap\":\"auto\",\"tools\":[{\"id\":\"1103\",\"type\":\"CrosshairTool\"},{\"id\":\"1104\",\"type\":\"BoxSelectTool\"},{\"id\":\"1105\",\"type\":\"PanTool\"},{\"id\":\"1106\",\"type\":\"ResetTool\"},{\"id\":\"1107\",\"type\":\"SaveTool\"},{\"id\":\"1108\",\"type\":\"WheelZoomTool\"},{\"id\":\"1124\",\"type\":\"HoverTool\"}]},\"id\":\"1109\",\"type\":\"Toolbar\"},{\"attributes\":{\"data_source\":{\"id\":\"1116\",\"type\":\"ColumnDataSource\"},\"glyph\":{\"id\":\"1119\",\"type\":\"Circle\"},\"hover_glyph\":null,\"muted_glyph\":null,\"view\":{\"id\":\"1123\",\"type\":\"CDSView\"}},\"id\":\"1122\",\"type\":\"GlyphRenderer\"},{\"attributes\":{\"source\":{\"id\":\"1116\",\"type\":\"ColumnDataSource\"}},\"id\":\"1123\",\"type\":\"CDSView\"},{\"attributes\":{\"source\":{\"id\":\"1116\",\"type\":\"ColumnDataSource\"}},\"id\":\"1121\",\"type\":\"CDSView\"},{\"attributes\":{\"children\":[{\"id\":\"1002\",\"subtype\":\"Figure\",\"type\":\"Plot\"},{\"id\":\"1044\",\"subtype\":\"Figure\",\"type\":\"Plot\"},{\"id\":\"1085\",\"subtype\":\"Figure\",\"type\":\"Plot\"}]},\"id\":\"1126\",\"type\":\"Column\"},{\"attributes\":{\"callback\":null,\"renderers\":[{\"id\":\"1122\",\"type\":\"GlyphRenderer\"}],\"tooltips\":[[\"index\",\"$index\"],[\"(x,y)\",\"($x, $y)\"]]},\"id\":\"1124\",\"type\":\"HoverTool\"},{\"attributes\":{\"text\":\"\"},\"id\":\"1129\",\"type\":\"Title\"},{\"attributes\":{},\"id\":\"1134\",\"type\":\"BasicTickFormatter\"},{\"attributes\":{},\"id\":\"1140\",\"type\":\"BasicTickFormatter\"},{\"attributes\":{},\"id\":\"1136\",\"type\":\"BasicTickFormatter\"},{\"attributes\":{},\"id\":\"1058\",\"type\":\"BasicTicker\"},{\"attributes\":{\"text\":\"\"},\"id\":\"1131\",\"type\":\"Title\"},{\"attributes\":{\"text\":\"\"},\"id\":\"1133\",\"type\":\"Title\"},{\"attributes\":{},\"id\":\"1138\",\"type\":\"BasicTickFormatter\"},{\"attributes\":{\"dimension\":1,\"ticker\":{\"id\":\"1058\",\"type\":\"BasicTicker\"},\"visible\":false},\"id\":\"1061\",\"type\":\"Grid\"},{\"attributes\":{},\"id\":\"1142\",\"type\":\"BasicTickFormatter\"},{\"attributes\":{\"axis_label\":\"Time in ms\",\"formatter\":{\"id\":\"1138\",\"type\":\"BasicTickFormatter\"},\"ticker\":{\"id\":\"1053\",\"type\":\"BasicTicker\"}},\"id\":\"1052\",\"type\":\"LinearAxis\"},{\"attributes\":{},\"id\":\"1144\",\"type\":\"BasicTickFormatter\"},{\"attributes\":{},\"id\":\"1050\",\"type\":\"LinearScale\"},{\"attributes\":{\"bottom_units\":\"screen\",\"fill_alpha\":{\"value\":0.5},\"fill_color\":{\"value\":\"lightgrey\"},\"left_units\":\"screen\",\"level\":\"overlay\",\"line_alpha\":{\"value\":1.0},\"line_color\":{\"value\":\"black\"},\"line_dash\":[4,4],\"line_width\":{\"value\":2},\"render_mode\":\"css\",\"right_units\":\"screen\",\"top_units\":\"screen\"},\"id\":\"1146\",\"type\":\"BoxAnnotation\"},{\"attributes\":{},\"id\":\"1147\",\"type\":\"UnionRenderers\"},{\"attributes\":{},\"id\":\"1148\",\"type\":\"Selection\"},{\"attributes\":{\"bottom_units\":\"screen\",\"fill_alpha\":{\"value\":0.5},\"fill_color\":{\"value\":\"lightgrey\"},\"left_units\":\"screen\",\"level\":\"overlay\",\"line_alpha\":{\"value\":1.0},\"line_color\":{\"value\":\"black\"},\"line_dash\":[4,4],\"line_width\":{\"value\":2},\"render_mode\":\"css\",\"right_units\":\"screen\",\"top_units\":\"screen\"},\"id\":\"1149\",\"type\":\"BoxAnnotation\"},{\"attributes\":{},\"id\":\"1150\",\"type\":\"UnionRenderers\"},{\"attributes\":{},\"id\":\"1053\",\"type\":\"BasicTicker\"},{\"attributes\":{},\"id\":\"1151\",\"type\":\"Selection\"},{\"attributes\":{\"bottom_units\":\"screen\",\"fill_alpha\":{\"value\":0.5},\"fill_color\":{\"value\":\"lightgrey\"},\"left_units\":\"screen\",\"level\":\"overlay\",\"line_alpha\":{\"value\":1.0},\"line_color\":{\"value\":\"black\"},\"line_dash\":[4,4],\"line_width\":{\"value\":2},\"render_mode\":\"css\",\"right_units\":\"screen\",\"top_units\":\"screen\"},\"id\":\"1152\",\"type\":\"BoxAnnotation\"},{\"attributes\":{},\"id\":\"1153\",\"type\":\"UnionRenderers\"}],\"root_ids\":[\"1127\"]},\"title\":\"Bokeh Application\",\"version\":\"1.4.0\"}};\n",
       "  var render_items = [{\"docid\":\"5eee8378-4b1c-4db5-be45-98527d27d7a2\",\"notebook_comms_target\":\"1155\",\"roots\":{\"1127\":\"0bca885e-17bf-4709-b176-e72710ee609f\"}}];\n",
       "  root.Bokeh.embed.embed_items_notebook(docs_json, render_items);\n",
       "\n",
       "  }\n",
       "  if (root.Bokeh !== undefined) {\n",
       "    embed_document(root);\n",
       "  } else {\n",
       "    var attempts = 0;\n",
       "    var timer = setInterval(function(root) {\n",
       "      if (root.Bokeh !== undefined) {\n",
       "        clearInterval(timer);\n",
       "        embed_document(root);\n",
       "      } else {\n",
       "        attempts++;\n",
       "        if (attempts > 100) {\n",
       "          clearInterval(timer);\n",
       "          console.log(\"Bokeh: ERROR: Unable to run BokehJS code because BokehJS library is missing\");\n",
       "        }\n",
       "      }\n",
       "    }, 10, root)\n",
       "  }\n",
       "})(window);"
      ],
      "application/vnd.bokehjs_exec.v0+json": ""
     },
     "metadata": {
      "application/vnd.bokehjs_exec.v0+json": {
       "id": "1127"
      }
     },
     "output_type": "display_data"
    }
   ],
   "source": [
    "view_timeline_charts = TimelineCharts(\n",
    "    system_metrics_reader,\n",
    "    framework_metrics_reader=None,\n",
    "    select_dimensions=[\"CPU\", \"GPU\"],\n",
    "    select_events=[\"total\"],\n",
    ")"
   ]
  },
  {
   "cell_type": "code",
   "execution_count": 46,
   "metadata": {
    "tags": []
   },
   "outputs": [
    {
     "name": "stdout",
     "output_type": "stream",
     "text": [
      "You will find the profiler report in s3://sagemaker-us-west-2-981173689685/pytorch-training-2023-03-20-07-13-15-618/rule-output\n"
     ]
    }
   ],
   "source": [
    "rule_output_path = estimator.output_path + estimator.latest_training_job.job_name + \"/rule-output\"\n",
    "print(f\"You will find the profiler report in {rule_output_path}\")"
   ]
  },
  {
   "cell_type": "markdown",
   "metadata": {},
   "source": [
    "# You will find the profiler report in \n",
    "s3://sagemaker-us-west-2-981173689685/pytorch-training-2023-03-20-07-13-15-618/rule-output"
   ]
  },
  {
   "cell_type": "code",
   "execution_count": 47,
   "metadata": {
    "tags": []
   },
   "outputs": [
    {
     "name": "stdout",
     "output_type": "stream",
     "text": [
      "2023-03-20 08:24:28     427758 pytorch-training-2023-03-20-07-13-15-618/rule-output/ProfilerReport/profiler-output/profiler-report.html\n",
      "2023-03-20 08:24:27     284545 pytorch-training-2023-03-20-07-13-15-618/rule-output/ProfilerReport/profiler-output/profiler-report.ipynb\n",
      "2023-03-20 08:24:22        192 pytorch-training-2023-03-20-07-13-15-618/rule-output/ProfilerReport/profiler-output/profiler-reports/BatchSize.json\n",
      "2023-03-20 08:24:22      68796 pytorch-training-2023-03-20-07-13-15-618/rule-output/ProfilerReport/profiler-output/profiler-reports/CPUBottleneck.json\n",
      "2023-03-20 08:24:22       2145 pytorch-training-2023-03-20-07-13-15-618/rule-output/ProfilerReport/profiler-output/profiler-reports/Dataloader.json\n",
      "2023-03-20 08:24:23        317 pytorch-training-2023-03-20-07-13-15-618/rule-output/ProfilerReport/profiler-output/profiler-reports/GPUMemoryIncrease.json\n",
      "2023-03-20 08:24:23       3212 pytorch-training-2023-03-20-07-13-15-618/rule-output/ProfilerReport/profiler-output/profiler-reports/IOBottleneck.json\n",
      "2023-03-20 08:24:23        362 pytorch-training-2023-03-20-07-13-15-618/rule-output/ProfilerReport/profiler-output/profiler-reports/LoadBalancing.json\n",
      "2023-03-20 08:24:23        338 pytorch-training-2023-03-20-07-13-15-618/rule-output/ProfilerReport/profiler-output/profiler-reports/LowGPUUtilization.json\n",
      "2023-03-20 08:24:23        232 pytorch-training-2023-03-20-07-13-15-618/rule-output/ProfilerReport/profiler-output/profiler-reports/MaxInitializationTime.json\n",
      "2023-03-20 08:24:23       1881 pytorch-training-2023-03-20-07-13-15-618/rule-output/ProfilerReport/profiler-output/profiler-reports/OverallFrameworkMetrics.json\n",
      "2023-03-20 08:24:23        611 pytorch-training-2023-03-20-07-13-15-618/rule-output/ProfilerReport/profiler-output/profiler-reports/OverallSystemUsage.json\n",
      "2023-03-20 08:24:23       2460 pytorch-training-2023-03-20-07-13-15-618/rule-output/ProfilerReport/profiler-output/profiler-reports/StepOutlier.json\n",
      "download: s3://sagemaker-us-west-2-981173689685/pytorch-training-2023-03-20-07-13-15-618/rule-output/ProfilerReport/profiler-output/profiler-reports/GPUMemoryIncrease.json to ProfilerReport/profiler-output/profiler-reports/GPUMemoryIncrease.json\n",
      "download: s3://sagemaker-us-west-2-981173689685/pytorch-training-2023-03-20-07-13-15-618/rule-output/ProfilerReport/profiler-output/profiler-report.html to ProfilerReport/profiler-output/profiler-report.html\n",
      "download: s3://sagemaker-us-west-2-981173689685/pytorch-training-2023-03-20-07-13-15-618/rule-output/ProfilerReport/profiler-output/profiler-reports/Dataloader.json to ProfilerReport/profiler-output/profiler-reports/Dataloader.json\n",
      "download: s3://sagemaker-us-west-2-981173689685/pytorch-training-2023-03-20-07-13-15-618/rule-output/ProfilerReport/profiler-output/profiler-report.ipynb to ProfilerReport/profiler-output/profiler-report.ipynb\n",
      "download: s3://sagemaker-us-west-2-981173689685/pytorch-training-2023-03-20-07-13-15-618/rule-output/ProfilerReport/profiler-output/profiler-reports/CPUBottleneck.json to ProfilerReport/profiler-output/profiler-reports/CPUBottleneck.json\n",
      "download: s3://sagemaker-us-west-2-981173689685/pytorch-training-2023-03-20-07-13-15-618/rule-output/ProfilerReport/profiler-output/profiler-reports/IOBottleneck.json to ProfilerReport/profiler-output/profiler-reports/IOBottleneck.json\n",
      "download: s3://sagemaker-us-west-2-981173689685/pytorch-training-2023-03-20-07-13-15-618/rule-output/ProfilerReport/profiler-output/profiler-reports/BatchSize.json to ProfilerReport/profiler-output/profiler-reports/BatchSize.json\n",
      "download: s3://sagemaker-us-west-2-981173689685/pytorch-training-2023-03-20-07-13-15-618/rule-output/ProfilerReport/profiler-output/profiler-reports/LoadBalancing.json to ProfilerReport/profiler-output/profiler-reports/LoadBalancing.json\n",
      "download: s3://sagemaker-us-west-2-981173689685/pytorch-training-2023-03-20-07-13-15-618/rule-output/ProfilerReport/profiler-output/profiler-reports/MaxInitializationTime.json to ProfilerReport/profiler-output/profiler-reports/MaxInitializationTime.json\n",
      "download: s3://sagemaker-us-west-2-981173689685/pytorch-training-2023-03-20-07-13-15-618/rule-output/ProfilerReport/profiler-output/profiler-reports/LowGPUUtilization.json to ProfilerReport/profiler-output/profiler-reports/LowGPUUtilization.json\n",
      "download: s3://sagemaker-us-west-2-981173689685/pytorch-training-2023-03-20-07-13-15-618/rule-output/ProfilerReport/profiler-output/profiler-reports/OverallFrameworkMetrics.json to ProfilerReport/profiler-output/profiler-reports/OverallFrameworkMetrics.json\n",
      "download: s3://sagemaker-us-west-2-981173689685/pytorch-training-2023-03-20-07-13-15-618/rule-output/ProfilerReport/profiler-output/profiler-reports/OverallSystemUsage.json to ProfilerReport/profiler-output/profiler-reports/OverallSystemUsage.json\n",
      "download: s3://sagemaker-us-west-2-981173689685/pytorch-training-2023-03-20-07-13-15-618/rule-output/ProfilerReport/profiler-output/profiler-reports/StepOutlier.json to ProfilerReport/profiler-output/profiler-reports/StepOutlier.json\n"
     ]
    }
   ],
   "source": [
    "! aws s3 ls {rule_output_path} --recursive\n",
    "! aws s3 cp {rule_output_path} ./ --recursive"
   ]
  },
  {
   "cell_type": "markdown",
   "metadata": {},
   "source": [
    "**TODO**: Is there some anomalous behaviour in your debugging output? If so, what is the error and how will you fix it?  \n",
    "**TODO**: If not, suppose there was an error. What would that error look like and how would you have fixed it?"
   ]
  },
  {
   "cell_type": "code",
   "execution_count": 48,
   "metadata": {
    "tags": []
   },
   "outputs": [],
   "source": [
    "# get the autogenerated folder name of profiler report\n",
    "profiler_report_name = [\n",
    "    rule[\"RuleConfigurationName\"]\n",
    "    for rule in estimator.latest_training_job.rule_job_summary()\n",
    "    if \"Profiler\" in rule[\"RuleConfigurationName\"]\n",
    "][0]\n"
   ]
  },
  {
   "cell_type": "code",
   "execution_count": null,
   "metadata": {},
   "outputs": [],
   "source": []
  },
  {
   "cell_type": "code",
   "execution_count": 50,
   "metadata": {
    "tags": []
   },
   "outputs": [],
   "source": [
    "# TODO: Display the profiler output\n",
    "import IPython\n",
    "\n",
    "#IPython.display.HTML(filename=profiler_report_name + \"/profiler-output/profiler-report.html\")\n",
    "\n",
    "#commented out to avoid the whiteout of UI in sagemaker"
   ]
  },
  {
   "cell_type": "code",
   "execution_count": 51,
   "metadata": {},
   "outputs": [
    {
     "data": {
      "text/plain": [
       "['CrossEntropyLoss_output_0',\n",
       " 'gradient/ResNet_fc.0.bias',\n",
       " 'gradient/ResNet_fc.0.weight',\n",
       " 'layer1.0.relu_input_0',\n",
       " 'layer1.0.relu_input_1',\n",
       " 'layer1.0.relu_input_2',\n",
       " 'layer1.1.relu_input_0',\n",
       " 'layer1.1.relu_input_1',\n",
       " 'layer1.1.relu_input_2',\n",
       " 'layer1.2.relu_input_0',\n",
       " 'layer1.2.relu_input_1',\n",
       " 'layer1.2.relu_input_2',\n",
       " 'layer2.0.relu_input_0',\n",
       " 'layer2.0.relu_input_1',\n",
       " 'layer2.0.relu_input_2',\n",
       " 'layer2.1.relu_input_0',\n",
       " 'layer2.1.relu_input_1',\n",
       " 'layer2.1.relu_input_2',\n",
       " 'layer2.2.relu_input_0',\n",
       " 'layer2.2.relu_input_1',\n",
       " 'layer2.2.relu_input_2',\n",
       " 'layer2.3.relu_input_0',\n",
       " 'layer2.3.relu_input_1',\n",
       " 'layer2.3.relu_input_2',\n",
       " 'layer3.0.relu_input_0',\n",
       " 'layer3.0.relu_input_1',\n",
       " 'layer3.0.relu_input_2',\n",
       " 'layer3.1.relu_input_0',\n",
       " 'layer3.1.relu_input_1',\n",
       " 'layer3.1.relu_input_2',\n",
       " 'layer3.2.relu_input_0',\n",
       " 'layer3.2.relu_input_1',\n",
       " 'layer3.2.relu_input_2',\n",
       " 'layer3.3.relu_input_0',\n",
       " 'layer3.3.relu_input_1',\n",
       " 'layer3.3.relu_input_2',\n",
       " 'layer3.4.relu_input_0',\n",
       " 'layer3.4.relu_input_1',\n",
       " 'layer3.4.relu_input_2',\n",
       " 'layer3.5.relu_input_0',\n",
       " 'layer3.5.relu_input_1',\n",
       " 'layer3.5.relu_input_2',\n",
       " 'layer4.0.relu_input_0',\n",
       " 'layer4.0.relu_input_1',\n",
       " 'layer4.0.relu_input_2',\n",
       " 'layer4.1.relu_input_0',\n",
       " 'layer4.1.relu_input_1',\n",
       " 'layer4.1.relu_input_2',\n",
       " 'layer4.2.relu_input_0',\n",
       " 'layer4.2.relu_input_1',\n",
       " 'layer4.2.relu_input_2',\n",
       " 'relu_input_0']"
      ]
     },
     "execution_count": 51,
     "metadata": {},
     "output_type": "execute_result"
    }
   ],
   "source": [
    "trial.tensor_names()"
   ]
  },
  {
   "cell_type": "code",
   "execution_count": 52,
   "metadata": {
    "tags": []
   },
   "outputs": [
    {
     "data": {
      "text/plain": [
       "5225"
      ]
     },
     "execution_count": 52,
     "metadata": {},
     "output_type": "execute_result"
    }
   ],
   "source": [
    "len(trial.tensor(\"CrossEntropyLoss_output_0\").steps(mode=ModeKeys.TRAIN))"
   ]
  },
  {
   "cell_type": "code",
   "execution_count": 53,
   "metadata": {
    "tags": []
   },
   "outputs": [
    {
     "data": {
      "text/plain": [
       "675"
      ]
     },
     "execution_count": 53,
     "metadata": {},
     "output_type": "execute_result"
    }
   ],
   "source": [
    "len(trial.tensor(\"CrossEntropyLoss_output_0\").steps(mode=ModeKeys.EVAL))"
   ]
  },
  {
   "cell_type": "code",
   "execution_count": 134,
   "metadata": {
    "tags": []
   },
   "outputs": [
    {
     "data": {
      "text/plain": [
       "<smdebug.core.tensor.Tensor at 0x7f7aad5b8fd0>"
      ]
     },
     "execution_count": 134,
     "metadata": {},
     "output_type": "execute_result"
    }
   ],
   "source": [
    "tensor = trial.tensor(\"CrossEntropyLoss_output_0\")\n",
    "tensor"
   ]
  },
  {
   "cell_type": "code",
   "execution_count": 144,
   "metadata": {
    "tags": []
   },
   "outputs": [],
   "source": [
    "steps_train = tensor.steps(mode=ModeKeys.TRAIN)\n",
    "#steps"
   ]
  },
  {
   "cell_type": "code",
   "execution_count": 161,
   "metadata": {
    "tags": []
   },
   "outputs": [],
   "source": [
    "steps_eval = tensor.steps(mode=ModeKeys.EVAL)\n",
    "#steps"
   ]
  },
  {
   "cell_type": "code",
   "execution_count": 145,
   "metadata": {
    "tags": []
   },
   "outputs": [],
   "source": [
    "vals_train = []"
   ]
  },
  {
   "cell_type": "code",
   "execution_count": 162,
   "metadata": {
    "tags": []
   },
   "outputs": [],
   "source": [
    "vals_eval = []\n"
   ]
  },
  {
   "cell_type": "code",
   "execution_count": 169,
   "metadata": {
    "tags": []
   },
   "outputs": [],
   "source": [
    "for s in range(0,len(steps_train),10):\n",
    "    vals_train.append(tensor.value(s, mode=ModeKeys.TRAIN))    \n",
    "    "
   ]
  },
  {
   "cell_type": "code",
   "execution_count": 170,
   "metadata": {
    "tags": []
   },
   "outputs": [],
   "source": [
    "for s in range(0,len(steps_eval),10):\n",
    "    vals_eval.append(tensor.value(s, mode=ModeKeys.EVAL))    \n",
    "    "
   ]
  },
  {
   "cell_type": "code",
   "execution_count": 171,
   "metadata": {
    "tags": []
   },
   "outputs": [
    {
     "data": {
      "text/plain": [
       "576"
      ]
     },
     "execution_count": 171,
     "metadata": {},
     "output_type": "execute_result"
    }
   ],
   "source": [
    "len(vals_train)"
   ]
  },
  {
   "cell_type": "code",
   "execution_count": 172,
   "metadata": {
    "tags": []
   },
   "outputs": [
    {
     "data": {
      "text/plain": [
       "75"
      ]
     },
     "execution_count": 172,
     "metadata": {},
     "output_type": "execute_result"
    }
   ],
   "source": [
    "len(vals_eval)"
   ]
  },
  {
   "cell_type": "code",
   "execution_count": 153,
   "metadata": {
    "tags": []
   },
   "outputs": [
    {
     "data": {
      "text/plain": [
       "[array(5.009566, dtype=float32),\n",
       " array(0.95725554, dtype=float32),\n",
       " array(0.9966016, dtype=float32),\n",
       " array(0.28850043, dtype=float32),\n",
       " array(1.6919382, dtype=float32),\n",
       " array(0.36859855, dtype=float32),\n",
       " array(1.8036529, dtype=float32),\n",
       " array(0.25985378, dtype=float32),\n",
       " array(0.11810166, dtype=float32),\n",
       " array(0.300251, dtype=float32),\n",
       " array(0.26349688, dtype=float32),\n",
       " array(0.03887677, dtype=float32),\n",
       " array(0.49853358, dtype=float32),\n",
       " array(0.5699969, dtype=float32),\n",
       " array(0.32607603, dtype=float32),\n",
       " array(0.26853138, dtype=float32),\n",
       " array(0.13847414, dtype=float32),\n",
       " array(0.16172914, dtype=float32),\n",
       " array(0.39200395, dtype=float32),\n",
       " array(0.24477185, dtype=float32),\n",
       " array(0.185363, dtype=float32),\n",
       " array(0.28303203, dtype=float32),\n",
       " array(0.3386295, dtype=float32),\n",
       " array(0.14932819, dtype=float32),\n",
       " array(0.20369571, dtype=float32),\n",
       " array(0.2099469, dtype=float32),\n",
       " array(0.36205637, dtype=float32),\n",
       " array(0.6411714, dtype=float32),\n",
       " array(0.17651889, dtype=float32),\n",
       " array(0.5853092, dtype=float32),\n",
       " array(0.22897916, dtype=float32),\n",
       " array(0.56058186, dtype=float32),\n",
       " array(0.61821127, dtype=float32),\n",
       " array(0.27248755, dtype=float32),\n",
       " array(0.439529, dtype=float32),\n",
       " array(0.02911965, dtype=float32),\n",
       " array(0.78751695, dtype=float32),\n",
       " array(0.34518299, dtype=float32),\n",
       " array(0.16101155, dtype=float32),\n",
       " array(0.0304989, dtype=float32),\n",
       " array(0.5447686, dtype=float32),\n",
       " array(0.5723983, dtype=float32),\n",
       " array(0.03223735, dtype=float32),\n",
       " array(0.03343222, dtype=float32),\n",
       " array(0.58103687, dtype=float32),\n",
       " array(0.12962504, dtype=float32),\n",
       " array(0.01195482, dtype=float32),\n",
       " array(0.03641, dtype=float32),\n",
       " array(0.27077278, dtype=float32),\n",
       " array(0.28185245, dtype=float32),\n",
       " array(0.06776767, dtype=float32),\n",
       " array(0.05772986, dtype=float32),\n",
       " array(0.32962683, dtype=float32)]"
      ]
     },
     "execution_count": 153,
     "metadata": {},
     "output_type": "execute_result"
    }
   ],
   "source": [
    "vals_train"
   ]
  },
  {
   "cell_type": "code",
   "execution_count": 165,
   "metadata": {
    "tags": []
   },
   "outputs": [
    {
     "data": {
      "text/plain": [
       "[array(1.3863211, dtype=float32),\n",
       " array(0.97049654, dtype=float32),\n",
       " array(0.53898865, dtype=float32),\n",
       " array(1.5165228, dtype=float32),\n",
       " array(1.3567877, dtype=float32),\n",
       " array(1.7638593, dtype=float32),\n",
       " array(1.4243252, dtype=float32)]"
      ]
     },
     "execution_count": 165,
     "metadata": {},
     "output_type": "execute_result"
    }
   ],
   "source": [
    "vals_eval"
   ]
  },
  {
   "cell_type": "code",
   "execution_count": 173,
   "metadata": {
    "tags": []
   },
   "outputs": [
    {
     "data": {
      "image/png": "[encoded data removed]",
      "text/plain": [
       "<Figure size 750x350 with 1 Axes>"
      ]
     },
     "metadata": {},
     "output_type": "display_data"
    }
   ],
   "source": [
    "import matplotlib.pyplot as plt\n",
    "plt.rcParams[\"figure.figsize\"] = [7.50, 3.50]\n",
    "plt.rcParams[\"figure.autolayout\"] = True\n",
    "plt.title(\"Training Cross Entropy Loss\")\n",
    "plt.plot(vals_train, color=\"red\")\n",
    "plt.show()"
   ]
  },
  {
   "cell_type": "code",
   "execution_count": 174,
   "metadata": {
    "tags": []
   },
   "outputs": [
    {
     "data": {
      "image/png": "[encoded data removed]",
      "text/plain": [
       "<Figure size 750x350 with 1 Axes>"
      ]
     },
     "metadata": {},
     "output_type": "display_data"
    }
   ],
   "source": [
    "import matplotlib.pyplot as plt2\n",
    "plt2.rcParams[\"figure.figsize\"] = [7.50, 3.50]\n",
    "plt2.rcParams[\"figure.autolayout\"] = True\n",
    "plt2.title(\"Validation Cross Entropy Loss\")\n",
    "plt2.plot(vals_eval, color=\"blue\")\n",
    "plt2.show()"
   ]
  },
  {
   "cell_type": "code",
   "execution_count": null,
   "metadata": {
    "tags": []
   },
   "outputs": [],
   "source": []
  },
  {
   "cell_type": "markdown",
   "metadata": {},
   "source": [
    "## Model Deploying"
   ]
  },
  {
   "cell_type": "code",
   "execution_count": null,
   "metadata": {
    "tags": []
   },
   "outputs": [],
   "source": []
  },
  {
   "cell_type": "code",
   "execution_count": 58,
   "metadata": {},
   "outputs": [
    {
     "name": "stderr",
     "output_type": "stream",
     "text": [
      "INFO:sagemaker:Creating model with name: pytorch-training-2023-03-20-09-00-55-267\n",
      "INFO:sagemaker:Creating endpoint-config with name pytorch-training-2023-03-20-09-00-55-267\n",
      "INFO:sagemaker:Creating endpoint with name pytorch-training-2023-03-20-09-00-55-267\n"
     ]
    },
    {
     "name": "stdout",
     "output_type": "stream",
     "text": [
      "-----------!"
     ]
    }
   ],
   "source": [
    "# TODO: Deploy your model to an endpoint\n",
    "\n",
    "#predictor=estimator.deploy() # TODO: Add your deployment configuration like instance type and number of instances\n",
    "#predictor = estimator.deploy(initial_instance_count=1, instance_type=\"ml.t2.medium\")\n",
    "predictor = estimator.deploy(initial_instance_count=1, instance_type=\"ml.p2.xlarge\")\n",
    "\n",
    "\n"
   ]
  },
  {
   "cell_type": "code",
   "execution_count": 59,
   "metadata": {
    "tags": []
   },
   "outputs": [],
   "source": [
    "endpoint_name = predictor.endpoint_name"
   ]
  },
  {
   "cell_type": "code",
   "execution_count": 60,
   "metadata": {
    "tags": []
   },
   "outputs": [
    {
     "data": {
      "text/plain": [
       "'pytorch-training-2023-03-20-09-00-55-267'"
      ]
     },
     "execution_count": 60,
     "metadata": {},
     "output_type": "execute_result"
    }
   ],
   "source": [
    "endpoint_name"
   ]
  },
  {
   "cell_type": "markdown",
   "metadata": {},
   "source": [
    "# Endpoint Name is:"
   ]
  },
  {
   "cell_type": "markdown",
   "metadata": {},
   "source": [
    "'pytorch-training-2023-03-20-09-00-55-267'"
   ]
  },
  {
   "cell_type": "markdown",
   "metadata": {
    "tags": []
   },
   "source": [
    "# To reload predictor using the endpoint name"
   ]
  },
  {
   "cell_type": "code",
   "execution_count": 61,
   "metadata": {
    "tags": []
   },
   "outputs": [],
   "source": [
    "predictor = sagemaker.pytorch.model.PyTorchPredictor(endpoint_name)"
   ]
  },
  {
   "cell_type": "markdown",
   "metadata": {},
   "source": [
    "# Prepare and Send a Test Image To Endpoint"
   ]
  },
  {
   "cell_type": "code",
   "execution_count": 62,
   "metadata": {
    "tags": []
   },
   "outputs": [
    {
     "name": "stderr",
     "output_type": "stream",
     "text": [
      "/opt/conda/lib/python3.7/site-packages/_distutils_hack/__init__.py:33: UserWarning: Setuptools is replacing distutils.\n",
      "  warnings.warn(\"Setuptools is replacing distutils.\")\n",
      "WARNING: pip is being invoked by an old script wrapper. This will fail in a future version of pip.\n",
      "Please see https://github.com/pypa/pip/issues/5599 for advice on fixing the underlying issue.\n",
      "To avoid this problem you can invoke Python with '-m pip' instead of running pip directly.\n"
     ]
    },
    {
     "data": {
      "text/html": [
       "<pre style=\"white-space:pre;overflow-x:auto;line-height:normal;font-family:Menlo,'DejaVu Sans Mono',consolas,'Courier New',monospace\"><span style=\"color: #808000; text-decoration-color: #808000\">WARNING: The directory '/root/.cache/pip' or its parent directory is not owned or is not writable by the current user. The cache has been disabled. Check the permissions and owner of that directory. If executing pip with sudo, you should use sudo's -H flag.\n",
       "</span></pre>\n"
      ],
      "text/plain": [
       "\u001b[33mWARNING: The directory '/root/.cache/pip' or its parent directory is not owned or is not writable by the current user. The cache has been disabled. Check the permissions and owner of that directory. If executing pip with sudo, you should use sudo's -H flag.\u001b[0m\u001b[33m\n",
       "\u001b[0m"
      ]
     },
     "metadata": {},
     "output_type": "display_data"
    },
    {
     "data": {
      "text/html": [
       "<pre style=\"white-space:pre;overflow-x:auto;line-height:normal;font-family:Menlo,'DejaVu Sans Mono',consolas,'Courier New',monospace\">Requirement already satisfied: smdebug in /opt/conda/lib/python3.7/site-packages (1.0.12)\n",
       "</pre>\n"
      ],
      "text/plain": [
       "Requirement already satisfied: smdebug in /opt/conda/lib/python3.7/site-packages (1.0.12)\n"
      ]
     },
     "metadata": {},
     "output_type": "display_data"
    },
    {
     "data": {
      "text/html": [
       "<pre style=\"white-space:pre;overflow-x:auto;line-height:normal;font-family:Menlo,'DejaVu Sans Mono',consolas,'Courier New',monospace\">Requirement already satisfied: boto3&gt;=1.10.32 in /opt/conda/lib/python3.7/site-packages (from smdebug) (1.26.91)\n",
       "</pre>\n"
      ],
      "text/plain": [
       "Requirement already satisfied: boto3>=1.10.32 in /opt/conda/lib/python3.7/site-packages (from smdebug) (1.26.91)\n"
      ]
     },
     "metadata": {},
     "output_type": "display_data"
    },
    {
     "data": {
      "text/html": [
       "<pre style=\"white-space:pre;overflow-x:auto;line-height:normal;font-family:Menlo,'DejaVu Sans Mono',consolas,'Courier New',monospace\">Requirement already satisfied: protobuf&gt;=3.6.0 in /opt/conda/lib/python3.7/site-packages (from smdebug) (3.20.3)\n",
       "</pre>\n"
      ],
      "text/plain": [
       "Requirement already satisfied: protobuf>=3.6.0 in /opt/conda/lib/python3.7/site-packages (from smdebug) (3.20.3)\n"
      ]
     },
     "metadata": {},
     "output_type": "display_data"
    },
    {
     "data": {
      "text/html": [
       "<pre style=\"white-space:pre;overflow-x:auto;line-height:normal;font-family:Menlo,'DejaVu Sans Mono',consolas,'Courier New',monospace\">Requirement already satisfied: pyinstrument==3.4.2 in /opt/conda/lib/python3.7/site-packages (from smdebug) (3.4.2)\n",
       "</pre>\n"
      ],
      "text/plain": [
       "Requirement already satisfied: pyinstrument==3.4.2 in /opt/conda/lib/python3.7/site-packages (from smdebug) (3.4.2)\n"
      ]
     },
     "metadata": {},
     "output_type": "display_data"
    },
    {
     "data": {
      "text/html": [
       "<pre style=\"white-space:pre;overflow-x:auto;line-height:normal;font-family:Menlo,'DejaVu Sans Mono',consolas,'Courier New',monospace\">Requirement already satisfied: packaging in /opt/conda/lib/python3.7/site-packages (from smdebug) (20.1)\n",
       "</pre>\n"
      ],
      "text/plain": [
       "Requirement already satisfied: packaging in /opt/conda/lib/python3.7/site-packages (from smdebug) (20.1)\n"
      ]
     },
     "metadata": {},
     "output_type": "display_data"
    },
    {
     "data": {
      "text/html": [
       "<pre style=\"white-space:pre;overflow-x:auto;line-height:normal;font-family:Menlo,'DejaVu Sans Mono',consolas,'Courier New',monospace\">Requirement already satisfied: numpy&gt;=1.16.0 in /opt/conda/lib/python3.7/site-packages (from smdebug) (1.21.6)\n",
       "</pre>\n"
      ],
      "text/plain": [
       "Requirement already satisfied: numpy>=1.16.0 in /opt/conda/lib/python3.7/site-packages (from smdebug) (1.21.6)\n"
      ]
     },
     "metadata": {},
     "output_type": "display_data"
    },
    {
     "data": {
      "text/html": [
       "<pre style=\"white-space:pre;overflow-x:auto;line-height:normal;font-family:Menlo,'DejaVu Sans Mono',consolas,'Courier New',monospace\">Requirement already satisfied: pyinstrument-cext&gt;=0.2.2 in /opt/conda/lib/python3.7/site-packages (from pyinstrument==3.4.2-&gt;smdebug) (0.2.4)\n",
       "</pre>\n"
      ],
      "text/plain": [
       "Requirement already satisfied: pyinstrument-cext>=0.2.2 in /opt/conda/lib/python3.7/site-packages (from pyinstrument==3.4.2->smdebug) (0.2.4)\n"
      ]
     },
     "metadata": {},
     "output_type": "display_data"
    },
    {
     "data": {
      "text/html": [
       "<pre style=\"white-space:pre;overflow-x:auto;line-height:normal;font-family:Menlo,'DejaVu Sans Mono',consolas,'Courier New',monospace\">Requirement already satisfied: botocore&lt;1.30.0,&gt;=1.29.91 in /opt/conda/lib/python3.7/site-packages (from boto3&gt;=1.10.32-&gt;smdebug) (1.29.91)\n",
       "</pre>\n"
      ],
      "text/plain": [
       "Requirement already satisfied: botocore<1.30.0,>=1.29.91 in /opt/conda/lib/python3.7/site-packages (from boto3>=1.10.32->smdebug) (1.29.91)\n"
      ]
     },
     "metadata": {},
     "output_type": "display_data"
    },
    {
     "data": {
      "text/html": [
       "<pre style=\"white-space:pre;overflow-x:auto;line-height:normal;font-family:Menlo,'DejaVu Sans Mono',consolas,'Courier New',monospace\">Requirement already satisfied: jmespath&lt;2.0.0,&gt;=0.7.1 in /opt/conda/lib/python3.7/site-packages (from boto3&gt;=1.10.32-&gt;smdebug) (1.0.1)\n",
       "</pre>\n"
      ],
      "text/plain": [
       "Requirement already satisfied: jmespath<2.0.0,>=0.7.1 in /opt/conda/lib/python3.7/site-packages (from boto3>=1.10.32->smdebug) (1.0.1)\n"
      ]
     },
     "metadata": {},
     "output_type": "display_data"
    },
    {
     "data": {
      "text/html": [
       "<pre style=\"white-space:pre;overflow-x:auto;line-height:normal;font-family:Menlo,'DejaVu Sans Mono',consolas,'Courier New',monospace\">Requirement already satisfied: s3transfer&lt;0.7.0,&gt;=0.6.0 in /opt/conda/lib/python3.7/site-packages (from boto3&gt;=1.10.32-&gt;smdebug) (0.6.0)\n",
       "</pre>\n"
      ],
      "text/plain": [
       "Requirement already satisfied: s3transfer<0.7.0,>=0.6.0 in /opt/conda/lib/python3.7/site-packages (from boto3>=1.10.32->smdebug) (0.6.0)\n"
      ]
     },
     "metadata": {},
     "output_type": "display_data"
    },
    {
     "data": {
      "text/html": [
       "<pre style=\"white-space:pre;overflow-x:auto;line-height:normal;font-family:Menlo,'DejaVu Sans Mono',consolas,'Courier New',monospace\">Requirement already satisfied: pyparsing&gt;=2.0.2 in /opt/conda/lib/python3.7/site-packages (from packaging-&gt;smdebug) (2.4.6)\n",
       "</pre>\n"
      ],
      "text/plain": [
       "Requirement already satisfied: pyparsing>=2.0.2 in /opt/conda/lib/python3.7/site-packages (from packaging->smdebug) (2.4.6)\n"
      ]
     },
     "metadata": {},
     "output_type": "display_data"
    },
    {
     "data": {
      "text/html": [
       "<pre style=\"white-space:pre;overflow-x:auto;line-height:normal;font-family:Menlo,'DejaVu Sans Mono',consolas,'Courier New',monospace\">Requirement already satisfied: six in /opt/conda/lib/python3.7/site-packages (from packaging-&gt;smdebug) (1.14.0)\n",
       "</pre>\n"
      ],
      "text/plain": [
       "Requirement already satisfied: six in /opt/conda/lib/python3.7/site-packages (from packaging->smdebug) (1.14.0)\n"
      ]
     },
     "metadata": {},
     "output_type": "display_data"
    },
    {
     "data": {
      "text/html": [
       "<pre style=\"white-space:pre;overflow-x:auto;line-height:normal;font-family:Menlo,'DejaVu Sans Mono',consolas,'Courier New',monospace\">Requirement already satisfied: python-dateutil&lt;3.0.0,&gt;=2.1 in /opt/conda/lib/python3.7/site-packages (from botocore&lt;1.30.0,&gt;=1.29.91-&gt;boto3&gt;=1.10.32-&gt;smdebug) (2.8.2)\n",
       "</pre>\n"
      ],
      "text/plain": [
       "Requirement already satisfied: python-dateutil<3.0.0,>=2.1 in /opt/conda/lib/python3.7/site-packages (from botocore<1.30.0,>=1.29.91->boto3>=1.10.32->smdebug) (2.8.2)\n"
      ]
     },
     "metadata": {},
     "output_type": "display_data"
    },
    {
     "data": {
      "text/html": [
       "<pre style=\"white-space:pre;overflow-x:auto;line-height:normal;font-family:Menlo,'DejaVu Sans Mono',consolas,'Courier New',monospace\">Requirement already satisfied: urllib3&lt;1.27,&gt;=1.25.4 in /opt/conda/lib/python3.7/site-packages (from botocore&lt;1.30.0,&gt;=1.29.91-&gt;boto3&gt;=1.10.32-&gt;smdebug) (1.26.15)\n",
       "</pre>\n"
      ],
      "text/plain": [
       "Requirement already satisfied: urllib3<1.27,>=1.25.4 in /opt/conda/lib/python3.7/site-packages (from botocore<1.30.0,>=1.29.91->boto3>=1.10.32->smdebug) (1.26.15)\n"
      ]
     },
     "metadata": {},
     "output_type": "display_data"
    },
    {
     "data": {
      "text/html": [
       "<pre style=\"white-space:pre;overflow-x:auto;line-height:normal;font-family:Menlo,'DejaVu Sans Mono',consolas,'Courier New',monospace\"><span style=\"color: #808000; text-decoration-color: #808000\">WARNING: Running pip as the 'root' user can result in broken permissions and conflicting behaviour with the system package manager. It is recommended to use a virtual environment instead: https://pip.pypa.io/warnings/venv\n",
       "</span></pre>\n"
      ],
      "text/plain": [
       "\u001b[33mWARNING: Running pip as the 'root' user can result in broken permissions and conflicting behaviour with the system package manager. It is recommended to use a virtual environment instead: https://pip.pypa.io/warnings/venv\u001b[0m\u001b[33m\n",
       "\u001b[0m"
      ]
     },
     "metadata": {},
     "output_type": "display_data"
    },
    {
     "name": "stdout",
     "output_type": "stream",
     "text": [
      "[2023-03-20 09:07:44.774 datascience-1-0-ml-t3-medium-fbbacbd136ea35c00e5ce9203df8:102 INFO profiler_config_parser.py:111] Unable to find config at /opt/ml/input/config/profilerconfig.json. Profiler is disabled.\n"
     ]
    }
   ],
   "source": [
    "from train_model import create_data_loaders"
   ]
  },
  {
   "cell_type": "code",
   "execution_count": 98,
   "metadata": {
    "tags": []
   },
   "outputs": [],
   "source": [
    "test_loader = create_data_loaders(\"./dogImages/test/\", 1)"
   ]
  },
  {
   "cell_type": "code",
   "execution_count": 117,
   "metadata": {
    "tags": []
   },
   "outputs": [],
   "source": [
    "for images, labels in test_loader:\n",
    "    break"
   ]
  },
  {
   "cell_type": "code",
   "execution_count": 118,
   "metadata": {
    "tags": []
   },
   "outputs": [
    {
     "data": {
      "text/plain": [
       "torch.Size([1, 3, 224, 224])"
      ]
     },
     "execution_count": 118,
     "metadata": {},
     "output_type": "execute_result"
    }
   ],
   "source": [
    "images.shape"
   ]
  },
  {
   "cell_type": "code",
   "execution_count": 119,
   "metadata": {
    "tags": []
   },
   "outputs": [
    {
     "data": {
      "text/plain": [
       "tensor([89])"
      ]
     },
     "execution_count": 119,
     "metadata": {},
     "output_type": "execute_result"
    }
   ],
   "source": [
    "labels"
   ]
  },
  {
   "cell_type": "code",
   "execution_count": 108,
   "metadata": {},
   "outputs": [],
   "source": [
    "# i sent the test image with label 89 to endpoint"
   ]
  },
  {
   "cell_type": "code",
   "execution_count": 120,
   "metadata": {},
   "outputs": [],
   "source": [
    "# TODO: Your code to load and preprocess image to send to endpoint for prediction\n",
    "response = predictor.predict(images)\n"
   ]
  },
  {
   "cell_type": "code",
   "execution_count": 121,
   "metadata": {
    "tags": []
   },
   "outputs": [
    {
     "data": {
      "text/plain": [
       "array([[-36.27040482, -38.31533051, -63.20485687, -51.42645264,\n",
       "        -48.33810043, -55.54640579, -30.12886047,  -3.47850919,\n",
       "        -60.53120422, -23.4191494 , -43.14960098, -43.8575592 ,\n",
       "        -68.04586029, -37.29469681, -39.09386063, -55.7818222 ,\n",
       "        -41.12189484, -26.95534706, -41.6945343 , -25.8725872 ,\n",
       "        -50.57231903, -60.69184113, -71.33926392, -48.1852684 ,\n",
       "        -54.10617828, -58.07958984, -67.05476379, -63.02248383,\n",
       "        -45.25099564, -48.40805435, -17.64297676, -28.69466591,\n",
       "        -50.90484238, -18.0474205 , -42.62445068, -59.00087738,\n",
       "        -71.05610657, -43.73062134, -14.27247715, -18.44313431,\n",
       "        -37.22671127, -40.02329254, -18.11982155, -33.00933456,\n",
       "        -27.73017693, -45.08397675, -39.87943268, -31.22255898,\n",
       "         -4.93486691, -34.08206558, -72.90209961, -53.27164841,\n",
       "        -35.11133957, -53.00069046, -21.98107147, -45.6791153 ,\n",
       "        -41.36084366, -67.41096497, -23.05523682, -36.50272369,\n",
       "        -56.60215759, -46.22170639, -34.58523178, -48.83491516,\n",
       "        -59.46539307, -55.88339996, -44.47171021, -34.77761841,\n",
       "        -47.13397217, -27.91367531, -55.59371567, -24.16309357,\n",
       "        -54.2575264 , -36.50144958, -30.84893799, -45.35269165,\n",
       "        -58.19514465,   2.32076907, -63.18370819, -34.6882515 ,\n",
       "         -4.75594425, -30.30893898,  -6.41953659, -57.52204895,\n",
       "        -65.24678802, -20.18583488, -26.61519814, -52.50722504,\n",
       "        -49.91868591,  10.85622883, -30.58980942, -83.90857697,\n",
       "        -19.11880302, -57.76763153, -25.15283585, -35.06122971,\n",
       "        -45.55286789, -82.26780701, -36.80683517, -25.38379478,\n",
       "        -37.39985657, -24.68268776, -33.28467941, -36.00629807,\n",
       "        -58.56198883, -40.61821365, -33.86786652, -27.55213928,\n",
       "        -66.27940369, -50.52903748, -47.83045197, -44.69934845,\n",
       "        -65.85277557, -67.63282776, -41.09487915, -20.8644104 ,\n",
       "        -41.44461823, -78.54224396, -51.07359695, -12.92901516,\n",
       "        -31.17035675, -26.59856033, -40.34389877, -27.91183281,\n",
       "        -34.7260704 , -54.49758911, -30.40390778, -14.13812637,\n",
       "        -68.49526978, -48.06031799, -54.6933403 , -19.30278015,\n",
       "        -47.79682922]])"
      ]
     },
     "execution_count": 121,
     "metadata": {},
     "output_type": "execute_result"
    }
   ],
   "source": [
    "response"
   ]
  },
  {
   "cell_type": "markdown",
   "metadata": {
    "tags": []
   },
   "source": []
  },
  {
   "cell_type": "code",
   "execution_count": 122,
   "metadata": {
    "tags": []
   },
   "outputs": [
    {
     "data": {
      "text/plain": [
       "89"
      ]
     },
     "execution_count": 122,
     "metadata": {},
     "output_type": "execute_result"
    }
   ],
   "source": [
    "best_breed_index = np.argmax(response)\n",
    "best_breed_index"
   ]
  },
  {
   "cell_type": "markdown",
   "metadata": {},
   "source": [
    "The endpoint predicted the class 89"
   ]
  },
  {
   "cell_type": "code",
   "execution_count": 123,
   "metadata": {
    "tags": []
   },
   "outputs": [],
   "source": [
    "from torchvision.datasets import ImageFolder\n",
    "from torchvision.transforms import ToTensor\n",
    "data = ImageFolder(root='./dogImages/train', transform=ToTensor())"
   ]
  },
  {
   "cell_type": "code",
   "execution_count": 124,
   "metadata": {
    "tags": []
   },
   "outputs": [
    {
     "name": "stdout",
     "output_type": "stream",
     "text": [
      "['001.Affenpinscher', '002.Afghan_hound', '003.Airedale_terrier', '004.Akita', '005.Alaskan_malamute', '006.American_eskimo_dog', '007.American_foxhound', '008.American_staffordshire_terrier', '009.American_water_spaniel', '010.Anatolian_shepherd_dog', '011.Australian_cattle_dog', '012.Australian_shepherd', '013.Australian_terrier', '014.Basenji', '015.Basset_hound', '016.Beagle', '017.Bearded_collie', '018.Beauceron', '019.Bedlington_terrier', '020.Belgian_malinois', '021.Belgian_sheepdog', '022.Belgian_tervuren', '023.Bernese_mountain_dog', '024.Bichon_frise', '025.Black_and_tan_coonhound', '026.Black_russian_terrier', '027.Bloodhound', '028.Bluetick_coonhound', '029.Border_collie', '030.Border_terrier', '031.Borzoi', '032.Boston_terrier', '033.Bouvier_des_flandres', '034.Boxer', '035.Boykin_spaniel', '036.Briard', '037.Brittany', '038.Brussels_griffon', '039.Bull_terrier', '040.Bulldog', '041.Bullmastiff', '042.Cairn_terrier', '043.Canaan_dog', '044.Cane_corso', '045.Cardigan_welsh_corgi', '046.Cavalier_king_charles_spaniel', '047.Chesapeake_bay_retriever', '048.Chihuahua', '049.Chinese_crested', '050.Chinese_shar-pei', '051.Chow_chow', '052.Clumber_spaniel', '053.Cocker_spaniel', '054.Collie', '055.Curly-coated_retriever', '056.Dachshund', '057.Dalmatian', '058.Dandie_dinmont_terrier', '059.Doberman_pinscher', '060.Dogue_de_bordeaux', '061.English_cocker_spaniel', '062.English_setter', '063.English_springer_spaniel', '064.English_toy_spaniel', '065.Entlebucher_mountain_dog', '066.Field_spaniel', '067.Finnish_spitz', '068.Flat-coated_retriever', '069.French_bulldog', '070.German_pinscher', '071.German_shepherd_dog', '072.German_shorthaired_pointer', '073.German_wirehaired_pointer', '074.Giant_schnauzer', '075.Glen_of_imaal_terrier', '076.Golden_retriever', '077.Gordon_setter', '078.Great_dane', '079.Great_pyrenees', '080.Greater_swiss_mountain_dog', '081.Greyhound', '082.Havanese', '083.Ibizan_hound', '084.Icelandic_sheepdog', '085.Irish_red_and_white_setter', '086.Irish_setter', '087.Irish_terrier', '088.Irish_water_spaniel', '089.Irish_wolfhound', '090.Italian_greyhound', '091.Japanese_chin', '092.Keeshond', '093.Kerry_blue_terrier', '094.Komondor', '095.Kuvasz', '096.Labrador_retriever', '097.Lakeland_terrier', '098.Leonberger', '099.Lhasa_apso', '100.Lowchen', '101.Maltese', '102.Manchester_terrier', '103.Mastiff', '104.Miniature_schnauzer', '105.Neapolitan_mastiff', '106.Newfoundland', '107.Norfolk_terrier', '108.Norwegian_buhund', '109.Norwegian_elkhound', '110.Norwegian_lundehund', '111.Norwich_terrier', '112.Nova_scotia_duck_tolling_retriever', '113.Old_english_sheepdog', '114.Otterhound', '115.Papillon', '116.Parson_russell_terrier', '117.Pekingese', '118.Pembroke_welsh_corgi', '119.Petit_basset_griffon_vendeen', '120.Pharaoh_hound', '121.Plott', '122.Pointer', '123.Pomeranian', '124.Poodle', '125.Portuguese_water_dog', '126.Saint_bernard', '127.Silky_terrier', '128.Smooth_fox_terrier', '129.Tibetan_mastiff', '130.Welsh_springer_spaniel', '131.Wirehaired_pointing_griffon', '132.Xoloitzcuintli', '133.Yorkshire_terrier']\n"
     ]
    }
   ],
   "source": [
    "print(data.classes) \n",
    "# to get the names of classes i.e. dog breeds"
   ]
  },
  {
   "cell_type": "code",
   "execution_count": 125,
   "metadata": {
    "tags": []
   },
   "outputs": [
    {
     "data": {
      "text/plain": [
       "'090.Italian_greyhound'"
      ]
     },
     "execution_count": 125,
     "metadata": {},
     "output_type": "execute_result"
    }
   ],
   "source": [
    "data.classes[best_breed_index]\n",
    "#to name the breed predicted by the endpoint"
   ]
  },
  {
   "cell_type": "markdown",
   "metadata": {},
   "source": [
    "The corresponding breed is 090.Italian_greyhound"
   ]
  },
  {
   "cell_type": "markdown",
   "metadata": {},
   "source": [
    "# Let's try another test image"
   ]
  },
  {
   "cell_type": "code",
   "execution_count": 126,
   "metadata": {
    "tags": []
   },
   "outputs": [],
   "source": [
    "for images2, labels2 in test_loader:\n",
    "    break"
   ]
  },
  {
   "cell_type": "code",
   "execution_count": 127,
   "metadata": {
    "tags": []
   },
   "outputs": [
    {
     "data": {
      "text/plain": [
       "tensor([12])"
      ]
     },
     "execution_count": 127,
     "metadata": {},
     "output_type": "execute_result"
    }
   ],
   "source": [
    "labels2"
   ]
  },
  {
   "cell_type": "code",
   "execution_count": 91,
   "metadata": {
    "tags": []
   },
   "outputs": [],
   "source": [
    "# the image i am sending for testing now has a label 12"
   ]
  },
  {
   "cell_type": "code",
   "execution_count": 128,
   "metadata": {
    "tags": []
   },
   "outputs": [],
   "source": [
    "response2 = predictor.predict(images2)"
   ]
  },
  {
   "cell_type": "code",
   "execution_count": 129,
   "metadata": {
    "tags": []
   },
   "outputs": [
    {
     "data": {
      "text/plain": [
       "12"
      ]
     },
     "execution_count": 129,
     "metadata": {},
     "output_type": "execute_result"
    }
   ],
   "source": [
    "best_breed_index2 = np.argmax(response2)\n",
    "best_breed_index2"
   ]
  },
  {
   "cell_type": "markdown",
   "metadata": {},
   "source": [
    "The response from the endpoint is also 12"
   ]
  },
  {
   "cell_type": "code",
   "execution_count": 130,
   "metadata": {
    "tags": []
   },
   "outputs": [
    {
     "data": {
      "text/plain": [
       "'013.Australian_terrier'"
      ]
     },
     "execution_count": 130,
     "metadata": {},
     "output_type": "execute_result"
    }
   ],
   "source": [
    "data.classes[best_breed_index2]"
   ]
  },
  {
   "cell_type": "markdown",
   "metadata": {},
   "source": [
    "The corresponding breed is 013.Australian_terrier"
   ]
  },
  {
   "cell_type": "markdown",
   "metadata": {
    "tags": []
   },
   "source": [
    "# Delete Endpoint"
   ]
  },
  {
   "cell_type": "code",
   "execution_count": 82,
   "metadata": {},
   "outputs": [
    {
     "data": {
      "text/html": [
       "<pre style=\"white-space:pre;overflow-x:auto;line-height:normal;font-family:Menlo,'DejaVu Sans Mono',consolas,'Courier New',monospace\">Deleting endpoint configuration with name: pytorch-training-2023-03-19-11-51-25-481\n",
       "</pre>\n"
      ],
      "text/plain": [
       "Deleting endpoint configuration with name: pytorch-training-2023-03-19-11-51-25-481\n"
      ]
     },
     "metadata": {},
     "output_type": "display_data"
    },
    {
     "data": {
      "text/html": [
       "<pre style=\"white-space:pre;overflow-x:auto;line-height:normal;font-family:Menlo,'DejaVu Sans Mono',consolas,'Courier New',monospace\">Deleting endpoint with name: pytorch-training-2023-03-19-11-51-25-481\n",
       "</pre>\n"
      ],
      "text/plain": [
       "Deleting endpoint with name: pytorch-training-2023-03-19-11-51-25-481\n"
      ]
     },
     "metadata": {},
     "output_type": "display_data"
    }
   ],
   "source": [
    "# TODO: Remember to shutdown/delete your endpoint once your work is done\n",
    "predictor.delete_endpoint()"
   ]
  },
  {
   "cell_type": "code",
   "execution_count": null,
   "metadata": {},
   "outputs": [],
   "source": []
  },
  {
   "cell_type": "code",
   "execution_count": null,
   "metadata": {
    "tags": []
   },
   "outputs": [],
   "source": []
  },
  {
   "cell_type": "code",
   "execution_count": null,
   "metadata": {},
   "outputs": [],
   "source": []
  }
 ],
 "metadata": {
  "availableInstances": [
   {
    "_defaultOrder": 0,
    "_isFastLaunch": true,
    "category": "General purpose",
    "gpuNum": 0,
    "memoryGiB": 4,
    "name": "ml.t3.medium",
    "vcpuNum": 2
   },
   {
    "_defaultOrder": 1,
    "_isFastLaunch": false,
    "category": "General purpose",
    "gpuNum": 0,
    "memoryGiB": 8,
    "name": "ml.t3.large",
    "vcpuNum": 2
   },
   {
    "_defaultOrder": 2,
    "_isFastLaunch": false,
    "category": "General purpose",
    "gpuNum": 0,
    "memoryGiB": 16,
    "name": "ml.t3.xlarge",
    "vcpuNum": 4
   },
   {
    "_defaultOrder": 3,
    "_isFastLaunch": false,
    "category": "General purpose",
    "gpuNum": 0,
    "memoryGiB": 32,
    "name": "ml.t3.2xlarge",
    "vcpuNum": 8
   },
   {
    "_defaultOrder": 4,
    "_isFastLaunch": true,
    "category": "General purpose",
    "gpuNum": 0,
    "memoryGiB": 8,
    "name": "ml.m5.large",
    "vcpuNum": 2
   },
   {
    "_defaultOrder": 5,
    "_isFastLaunch": false,
    "category": "General purpose",
    "gpuNum": 0,
    "memoryGiB": 16,
    "name": "ml.m5.xlarge",
    "vcpuNum": 4
   },
   {
    "_defaultOrder": 6,
    "_isFastLaunch": false,
    "category": "General purpose",
    "gpuNum": 0,
    "memoryGiB": 32,
    "name": "ml.m5.2xlarge",
    "vcpuNum": 8
   },
   {
    "_defaultOrder": 7,
    "_isFastLaunch": false,
    "category": "General purpose",
    "gpuNum": 0,
    "memoryGiB": 64,
    "name": "ml.m5.4xlarge",
    "vcpuNum": 16
   },
   {
    "_defaultOrder": 8,
    "_isFastLaunch": false,
    "category": "General purpose",
    "gpuNum": 0,
    "memoryGiB": 128,
    "name": "ml.m5.8xlarge",
    "vcpuNum": 32
   },
   {
    "_defaultOrder": 9,
    "_isFastLaunch": false,
    "category": "General purpose",
    "gpuNum": 0,
    "memoryGiB": 192,
    "name": "ml.m5.12xlarge",
    "vcpuNum": 48
   },
   {
    "_defaultOrder": 10,
    "_isFastLaunch": false,
    "category": "General purpose",
    "gpuNum": 0,
    "memoryGiB": 256,
    "name": "ml.m5.16xlarge",
    "vcpuNum": 64
   },
   {
    "_defaultOrder": 11,
    "_isFastLaunch": false,
    "category": "General purpose",
    "gpuNum": 0,
    "memoryGiB": 384,
    "name": "ml.m5.24xlarge",
    "vcpuNum": 96
   },
   {
    "_defaultOrder": 12,
    "_isFastLaunch": false,
    "category": "General purpose",
    "gpuNum": 0,
    "memoryGiB": 8,
    "name": "ml.m5d.large",
    "vcpuNum": 2
   },
   {
    "_defaultOrder": 13,
    "_isFastLaunch": false,
    "category": "General purpose",
    "gpuNum": 0,
    "memoryGiB": 16,
    "name": "ml.m5d.xlarge",
    "vcpuNum": 4
   },
   {
    "_defaultOrder": 14,
    "_isFastLaunch": false,
    "category": "General purpose",
    "gpuNum": 0,
    "memoryGiB": 32,
    "name": "ml.m5d.2xlarge",
    "vcpuNum": 8
   },
   {
    "_defaultOrder": 15,
    "_isFastLaunch": false,
    "category": "General purpose",
    "gpuNum": 0,
    "memoryGiB": 64,
    "name": "ml.m5d.4xlarge",
    "vcpuNum": 16
   },
   {
    "_defaultOrder": 16,
    "_isFastLaunch": false,
    "category": "General purpose",
    "gpuNum": 0,
    "memoryGiB": 128,
    "name": "ml.m5d.8xlarge",
    "vcpuNum": 32
   },
   {
    "_defaultOrder": 17,
    "_isFastLaunch": false,
    "category": "General purpose",
    "gpuNum": 0,
    "memoryGiB": 192,
    "name": "ml.m5d.12xlarge",
    "vcpuNum": 48
   },
   {
    "_defaultOrder": 18,
    "_isFastLaunch": false,
    "category": "General purpose",
    "gpuNum": 0,
    "memoryGiB": 256,
    "name": "ml.m5d.16xlarge",
    "vcpuNum": 64
   },
   {
    "_defaultOrder": 19,
    "_isFastLaunch": false,
    "category": "General purpose",
    "gpuNum": 0,
    "memoryGiB": 384,
    "name": "ml.m5d.24xlarge",
    "vcpuNum": 96
   },
   {
    "_defaultOrder": 20,
    "_isFastLaunch": true,
    "category": "Compute optimized",
    "gpuNum": 0,
    "memoryGiB": 4,
    "name": "ml.c5.large",
    "vcpuNum": 2
   },
   {
    "_defaultOrder": 21,
    "_isFastLaunch": false,
    "category": "Compute optimized",
    "gpuNum": 0,
    "memoryGiB": 8,
    "name": "ml.c5.xlarge",
    "vcpuNum": 4
   },
   {
    "_defaultOrder": 22,
    "_isFastLaunch": false,
    "category": "Compute optimized",
    "gpuNum": 0,
    "memoryGiB": 16,
    "name": "ml.c5.2xlarge",
    "vcpuNum": 8
   },
   {
    "_defaultOrder": 23,
    "_isFastLaunch": false,
    "category": "Compute optimized",
    "gpuNum": 0,
    "memoryGiB": 32,
    "name": "ml.c5.4xlarge",
    "vcpuNum": 16
   },
   {
    "_defaultOrder": 24,
    "_isFastLaunch": false,
    "category": "Compute optimized",
    "gpuNum": 0,
    "memoryGiB": 72,
    "name": "ml.c5.9xlarge",
    "vcpuNum": 36
   },
   {
    "_defaultOrder": 25,
    "_isFastLaunch": false,
    "category": "Compute optimized",
    "gpuNum": 0,
    "memoryGiB": 96,
    "name": "ml.c5.12xlarge",
    "vcpuNum": 48
   },
   {
    "_defaultOrder": 26,
    "_isFastLaunch": false,
    "category": "Compute optimized",
    "gpuNum": 0,
    "memoryGiB": 144,
    "name": "ml.c5.18xlarge",
    "vcpuNum": 72
   },
   {
    "_defaultOrder": 27,
    "_isFastLaunch": false,
    "category": "Compute optimized",
    "gpuNum": 0,
    "memoryGiB": 192,
    "name": "ml.c5.24xlarge",
    "vcpuNum": 96
   },
   {
    "_defaultOrder": 28,
    "_isFastLaunch": true,
    "category": "Accelerated computing",
    "gpuNum": 1,
    "memoryGiB": 16,
    "name": "ml.g4dn.xlarge",
    "vcpuNum": 4
   },
   {
    "_defaultOrder": 29,
    "_isFastLaunch": false,
    "category": "Accelerated computing",
    "gpuNum": 1,
    "memoryGiB": 32,
    "name": "ml.g4dn.2xlarge",
    "vcpuNum": 8
   },
   {
    "_defaultOrder": 30,
    "_isFastLaunch": false,
    "category": "Accelerated computing",
    "gpuNum": 1,
    "memoryGiB": 64,
    "name": "ml.g4dn.4xlarge",
    "vcpuNum": 16
   },
   {
    "_defaultOrder": 31,
    "_isFastLaunch": false,
    "category": "Accelerated computing",
    "gpuNum": 1,
    "memoryGiB": 128,
    "name": "ml.g4dn.8xlarge",
    "vcpuNum": 32
   },
   {
    "_defaultOrder": 32,
    "_isFastLaunch": false,
    "category": "Accelerated computing",
    "gpuNum": 4,
    "memoryGiB": 192,
    "name": "ml.g4dn.12xlarge",
    "vcpuNum": 48
   },
   {
    "_defaultOrder": 33,
    "_isFastLaunch": false,
    "category": "Accelerated computing",
    "gpuNum": 1,
    "memoryGiB": 256,
    "name": "ml.g4dn.16xlarge",
    "vcpuNum": 64
   },
   {
    "_defaultOrder": 34,
    "_isFastLaunch": false,
    "category": "Accelerated computing",
    "gpuNum": 1,
    "memoryGiB": 61,
    "name": "ml.p3.2xlarge",
    "vcpuNum": 8
   },
   {
    "_defaultOrder": 35,
    "_isFastLaunch": false,
    "category": "Accelerated computing",
    "gpuNum": 4,
    "memoryGiB": 244,
    "name": "ml.p3.8xlarge",
    "vcpuNum": 32
   },
   {
    "_defaultOrder": 36,
    "_isFastLaunch": false,
    "category": "Accelerated computing",
    "gpuNum": 8,
    "memoryGiB": 488,
    "name": "ml.p3.16xlarge",
    "vcpuNum": 64
   },
   {
    "_defaultOrder": 37,
    "_isFastLaunch": false,
    "category": "Accelerated computing",
    "gpuNum": 8,
    "memoryGiB": 768,
    "name": "ml.p3dn.24xlarge",
    "vcpuNum": 96
   },
   {
    "_defaultOrder": 38,
    "_isFastLaunch": false,
    "category": "Memory Optimized",
    "gpuNum": 0,
    "memoryGiB": 16,
    "name": "ml.r5.large",
    "vcpuNum": 2
   },
   {
    "_defaultOrder": 39,
    "_isFastLaunch": false,
    "category": "Memory Optimized",
    "gpuNum": 0,
    "memoryGiB": 32,
    "name": "ml.r5.xlarge",
    "vcpuNum": 4
   },
   {
    "_defaultOrder": 40,
    "_isFastLaunch": false,
    "category": "Memory Optimized",
    "gpuNum": 0,
    "memoryGiB": 64,
    "name": "ml.r5.2xlarge",
    "vcpuNum": 8
   },
   {
    "_defaultOrder": 41,
    "_isFastLaunch": false,
    "category": "Memory Optimized",
    "gpuNum": 0,
    "memoryGiB": 128,
    "name": "ml.r5.4xlarge",
    "vcpuNum": 16
   },
   {
    "_defaultOrder": 42,
    "_isFastLaunch": false,
    "category": "Memory Optimized",
    "gpuNum": 0,
    "memoryGiB": 256,
    "name": "ml.r5.8xlarge",
    "vcpuNum": 32
   },
   {
    "_defaultOrder": 43,
    "_isFastLaunch": false,
    "category": "Memory Optimized",
    "gpuNum": 0,
    "memoryGiB": 384,
    "name": "ml.r5.12xlarge",
    "vcpuNum": 48
   },
   {
    "_defaultOrder": 44,
    "_isFastLaunch": false,
    "category": "Memory Optimized",
    "gpuNum": 0,
    "memoryGiB": 512,
    "name": "ml.r5.16xlarge",
    "vcpuNum": 64
   },
   {
    "_defaultOrder": 45,
    "_isFastLaunch": false,
    "category": "Memory Optimized",
    "gpuNum": 0,
    "memoryGiB": 768,
    "name": "ml.r5.24xlarge",
    "vcpuNum": 96
   },
   {
    "_defaultOrder": 46,
    "_isFastLaunch": false,
    "category": "Accelerated computing",
    "gpuNum": 1,
    "memoryGiB": 16,
    "name": "ml.g5.xlarge",
    "vcpuNum": 4
   },
   {
    "_defaultOrder": 47,
    "_isFastLaunch": false,
    "category": "Accelerated computing",
    "gpuNum": 1,
    "memoryGiB": 32,
    "name": "ml.g5.2xlarge",
    "vcpuNum": 8
   },
   {
    "_defaultOrder": 48,
    "_isFastLaunch": false,
    "category": "Accelerated computing",
    "gpuNum": 1,
    "memoryGiB": 64,
    "name": "ml.g5.4xlarge",
    "vcpuNum": 16
   },
   {
    "_defaultOrder": 49,
    "_isFastLaunch": false,
    "category": "Accelerated computing",
    "gpuNum": 1,
    "memoryGiB": 128,
    "name": "ml.g5.8xlarge",
    "vcpuNum": 32
   },
   {
    "_defaultOrder": 50,
    "_isFastLaunch": false,
    "category": "Accelerated computing",
    "gpuNum": 1,
    "memoryGiB": 256,
    "name": "ml.g5.16xlarge",
    "vcpuNum": 64
   },
   {
    "_defaultOrder": 51,
    "_isFastLaunch": false,
    "category": "Accelerated computing",
    "gpuNum": 4,
    "memoryGiB": 192,
    "name": "ml.g5.12xlarge",
    "vcpuNum": 48
   },
   {
    "_defaultOrder": 52,
    "_isFastLaunch": false,
    "category": "Accelerated computing",
    "gpuNum": 4,
    "memoryGiB": 384,
    "name": "ml.g5.24xlarge",
    "vcpuNum": 96
   },
   {
    "_defaultOrder": 53,
    "_isFastLaunch": false,
    "category": "Accelerated computing",
    "gpuNum": 8,
    "memoryGiB": 768,
    "name": "ml.g5.48xlarge",
    "vcpuNum": 192
   }
  ],
  "instance_type": "ml.t3.medium",
  "kernelspec": {
   "display_name": "Python 3 (Data Science)",
   "language": "python",
   "name": "python3__SAGEMAKER_INTERNAL__arn:aws:sagemaker:us-west-2:236514542706:image/datascience-1.0"
  },
  "language_info": {
   "codemirror_mode": {
    "name": "ipython",
    "version": 3
   },
   "file_extension": ".py",
   "mimetype": "text/x-python",
   "name": "python",
   "nbconvert_exporter": "python",
   "pygments_lexer": "ipython3",
   "version": "3.7.10"
  }
 },
 "nbformat": 4,
 "nbformat_minor": 4
}
